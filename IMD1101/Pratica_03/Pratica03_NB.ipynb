{
  "nbformat": 4,
  "nbformat_minor": 0,
  "metadata": {
    "colab": {
      "provenance": [],
      "authorship_tag": "ABX9TyO5JMBGGT9A7+esqSDAo0ro",
      "include_colab_link": true
    },
    "kernelspec": {
      "name": "python3",
      "display_name": "Python 3"
    },
    "language_info": {
      "name": "python"
    }
  },
  "cells": [
    {
      "cell_type": "markdown",
      "metadata": {
        "id": "view-in-github",
        "colab_type": "text"
      },
      "source": [
        "<a href=\"https://colab.research.google.com/github/rikdantas/Aprendizagem-de-Maquinas/blob/main/IMD1101/Pratica_03/Pratica03_NB.ipynb\" target=\"_parent\"><img src=\"https://colab.research.google.com/assets/colab-badge.svg\" alt=\"Open In Colab\"/></a>"
      ]
    },
    {
      "cell_type": "markdown",
      "source": [
        "# Prática 03 - Técnica Supervisionada (NB)\n",
        "Nesse notebook será aplicado o método de Naive Bayes nas 6 melhores bases que eu tinha encontrado na prática 01 e também nas 6 bases que foram aplicados o PCA também na prática 01.\n",
        "\n",
        "Aluno: Paulo Ricardo Dantas"
      ],
      "metadata": {
        "id": "R8OzpZh4D2ca"
      }
    },
    {
      "cell_type": "code",
      "execution_count": 1,
      "metadata": {
        "id": "f6IddCwYDxOY"
      },
      "outputs": [],
      "source": [
        "# Importando as bibliotecas\n",
        "import numpy as np\n",
        "import pandas as pd\n",
        "import gdown\n",
        "from sklearn.model_selection import train_test_split\n",
        "from sklearn.naive_bayes import GaussianNB, MultinomialNB, ComplementNB\n",
        "from sklearn.metrics import accuracy_score\n",
        "from sklearn.model_selection import KFold"
      ]
    },
    {
      "cell_type": "markdown",
      "source": [
        "## Baixando os datasets"
      ],
      "metadata": {
        "id": "Jzs45cqxES8A"
      }
    },
    {
      "cell_type": "code",
      "source": [
        "# Criando função para baixar os datasets, assim deixando o código um pouco mais organizado\n",
        "def baixar_dataset(url, output):\n",
        "    gdown.download(url, output, quiet=True)"
      ],
      "metadata": {
        "id": "RC_j1NM7EcSD"
      },
      "execution_count": 2,
      "outputs": []
    },
    {
      "cell_type": "code",
      "source": [
        "# Baixando datasets do VGG16\n",
        "baixar_dataset('https://drive.google.com/uc?id=1Lig0-UqpGvMQCmV5r5U__yucoocrlbtf', 'VGG16_1.csv')\n",
        "baixar_dataset('https://drive.google.com/uc?id=1V7_N11eqBnTiM9iKY3vhMVrTzoERrijS', 'VGG16_2.csv')\n",
        "baixar_dataset('https://drive.google.com/uc?id=1d8spY-o4xBsozdeSbGGlweZrips1m0HC', 'VGG16_3.csv')\n",
        "\n",
        "# Baixando datasets do VGG19\n",
        "baixar_dataset('https://drive.google.com/uc?id=1yjuqQKxXtBqlMetGgD3fyFjDZ3zg3YDS', 'VGG19_1.csv')\n",
        "baixar_dataset('https://drive.google.com/uc?id=13nmb2kPrv6oVKlhodM-_ierzsMrvWL18', 'VGG19_2.csv')\n",
        "baixar_dataset('https://drive.google.com/uc?id=1qB2SQXLtgS01FqTrwGYLdOY1pwRqkuXu', 'VGG19_3.csv')\n",
        "\n",
        "# Baixando datasets do PCA\n",
        "baixar_dataset('https://drive.google.com/uc?id=14sGLGGak-1WZwnLrqEMEZbYWNZL1dIVn', 'PCA_1.csv')\n",
        "baixar_dataset('https://drive.google.com/uc?id=1DCXErsoiqwcM59QkIOdlZcIVGZDmWYTK', 'PCA_2.csv')\n",
        "baixar_dataset('https://drive.google.com/uc?id=15k9bMm1ZfliNeHQ6MX7SlEy49UQJrxtv', 'PCA_3.csv')\n",
        "baixar_dataset('https://drive.google.com/uc?id=17BJNdaH_8fCYTJn-l-QH7ayRaLuWYxQ6', 'PCA_4.csv')\n",
        "baixar_dataset('https://drive.google.com/uc?id=18_qRzZ4wA-laBL0bsCch6xTus7SYLjLf', 'PCA_5.csv')\n",
        "baixar_dataset('https://drive.google.com/uc?id=1mc9uT_EDkh9xC8rWnZTUZp6qX8Q7verz', 'PCA_6.csv')"
      ],
      "metadata": {
        "id": "Kl-EOeT0EdZU"
      },
      "execution_count": 3,
      "outputs": []
    },
    {
      "cell_type": "markdown",
      "source": [
        "## Importando os datasets\n",
        "Vamos usar o pandas para importar os datasets para DataFrames. Usaremos os mesmos nomes que foram baixados os arquivos dos datasets. Podemos relacionar os datasets com as configurações como visto na tabela a seguir:\n",
        "\n",
        "| Nome do dataset | Configuração            |\n",
        "|-----------------|-------------------------|\n",
        "| VGG16_1         | CNN_VGG16_128_avg       |\n",
        "| VGG16_2         | CNN_VGG16_128_max       |\n",
        "| VGG16_3         | CNN_VGG16_256_avg       |\n",
        "| VGG19_1         | CNN_VGG19_128_avg       |\n",
        "| VGG19_2         | CNN_VGG19_128_max       |\n",
        "| VGG19_3         | CNN_VGG19_256_avg       |\n",
        "| PCA_1           | PCA_CNN_VGG16_128_avg   |\n",
        "| PCA_2           | PCA_CNN_VGG16_128_max   |\n",
        "| PCA_3           | PCA_CNN_VGG16_256_avg   |\n",
        "| PCA_4           | PCA_CNN_VGG19_128_avg   |\n",
        "| PCA_5           | PCA_CNN_VGG19_128_max   |\n",
        "| PCA_6           | PCA_CNN_VGG19_256_avg   |\n"
      ],
      "metadata": {
        "id": "TTIWX6PSEq6S"
      }
    },
    {
      "cell_type": "code",
      "source": [
        "# Importando os datasets do VGG16\n",
        "vgg16_1 = pd.read_csv('VGG16_1.csv', encoding='utf-8')\n",
        "vgg16_2 = pd.read_csv('VGG16_2.csv', encoding='utf-8')\n",
        "vgg16_3 = pd.read_csv('VGG16_3.csv', encoding='utf-8')\n",
        "\n",
        "# Importando os datasets do VGG19\n",
        "vgg19_1 = pd.read_csv('VGG19_1.csv', encoding='utf-8')\n",
        "vgg19_2 = pd.read_csv('VGG19_2.csv', encoding='utf-8')\n",
        "vgg19_3 = pd.read_csv('VGG19_3.csv', encoding='utf-8')\n",
        "\n",
        "# Importando os datasets do PCA\n",
        "pca_1 = pd.read_csv('PCA_1.csv', encoding='utf-8')\n",
        "pca_2 = pd.read_csv('PCA_2.csv', encoding='utf-8')\n",
        "pca_3 = pd.read_csv('PCA_3.csv', encoding='utf-8')\n",
        "pca_4 = pd.read_csv('PCA_4.csv', encoding='utf-8')\n",
        "pca_5 = pd.read_csv('PCA_5.csv', encoding='utf-8')\n",
        "pca_6 = pd.read_csv('PCA_6.csv', encoding='utf-8')"
      ],
      "metadata": {
        "id": "D-VwpANkEx-C"
      },
      "execution_count": 4,
      "outputs": []
    },
    {
      "cell_type": "markdown",
      "source": [
        "## Aplicando o Naive Bayes\n"
      ],
      "metadata": {
        "id": "NYRN0H9uwiK1"
      }
    },
    {
      "cell_type": "markdown",
      "source": [
        "### Utilizando o holdout"
      ],
      "metadata": {
        "id": "eETMop73wmk9"
      }
    },
    {
      "cell_type": "code",
      "source": [
        "# Lista de datasets\n",
        "datasets = {\n",
        "    'vgg16_1': vgg16_1, 'vgg16_2': vgg16_2, 'vgg16_3': vgg16_3,\n",
        "    'vgg19_1': vgg19_1, 'vgg19_2': vgg19_2, 'vgg19_3': vgg19_3,\n",
        "    'pca_1': pca_1, 'pca_2': pca_2, 'pca_3': pca_3,\n",
        "    'pca_4': pca_4, 'pca_5': pca_5, 'pca_6': pca_6\n",
        "}\n",
        "\n",
        "# Modelos de Naive Bayes\n",
        "models = {\n",
        "    'GaussianNB': GaussianNB(),\n",
        "    'MultinomialNB': MultinomialNB(),\n",
        "    'ComplementNB': ComplementNB()\n",
        "}\n",
        "\n",
        "# Resultados\n",
        "results = []"
      ],
      "metadata": {
        "id": "SYPOIhalwpQe"
      },
      "execution_count": 5,
      "outputs": []
    },
    {
      "cell_type": "code",
      "source": [
        "for dataset_name, dataset in datasets.items():\n",
        "    X = dataset.iloc[:, :-1]  # Todas as colunas menos a última\n",
        "    y = dataset.iloc[:, -1]   # Última coluna (rótulo)\n",
        "\n",
        "    # Divisão holdout\n",
        "    X_train, X_test, y_train, y_test = train_test_split(X, y, test_size=0.3, random_state=1)\n",
        "\n",
        "    for model_name, model in models.items():\n",
        "        try:\n",
        "            # Treinar o modelo\n",
        "            model.fit(X_train, y_train)\n",
        "            # Predições\n",
        "            y_pred = model.predict(X_test)\n",
        "            # Calcular acurácia\n",
        "            accuracy = accuracy_score(y_test, y_pred)\n",
        "            # Armazenar o resultado\n",
        "            results.append({\n",
        "                'Dataset': dataset_name,\n",
        "                'Model': model_name,\n",
        "                'Accuracy': accuracy\n",
        "            })\n",
        "        except Exception as e:\n",
        "            results.append({\n",
        "                'Dataset': dataset_name,\n",
        "                'Model': model_name,\n",
        "                'Error': str(e)\n",
        "            })\n",
        "\n",
        "# Convertendo os resultados para dataframe\n",
        "results_df = pd.DataFrame(results)\n",
        "\n",
        "# Salvando os resultados em CSV\n",
        "results_df.to_csv('Resultados_Naive_Bayes_Holdout.csv', index=False)\n",
        "\n",
        "# Mostrando o resultado\n",
        "print(results_df)"
      ],
      "metadata": {
        "colab": {
          "base_uri": "https://localhost:8080/"
        },
        "id": "H763XAoAw4o_",
        "outputId": "d09ea31a-43da-4da1-9797-7be55c7b6cb9"
      },
      "execution_count": 6,
      "outputs": [
        {
          "output_type": "stream",
          "name": "stdout",
          "text": [
            "    Dataset          Model  Accuracy  \\\n",
            "0   vgg16_1     GaussianNB  0.475000   \n",
            "1   vgg16_1  MultinomialNB  0.483333   \n",
            "2   vgg16_1   ComplementNB  0.608333   \n",
            "3   vgg16_2     GaussianNB  0.479167   \n",
            "4   vgg16_2  MultinomialNB  0.658333   \n",
            "5   vgg16_2   ComplementNB  0.654167   \n",
            "6   vgg16_3     GaussianNB  0.600000   \n",
            "7   vgg16_3  MultinomialNB  0.479167   \n",
            "8   vgg16_3   ComplementNB  0.479167   \n",
            "9   vgg19_1     GaussianNB  0.475000   \n",
            "10  vgg19_1  MultinomialNB  0.479167   \n",
            "11  vgg19_1   ComplementNB  0.533333   \n",
            "12  vgg19_2     GaussianNB  0.475000   \n",
            "13  vgg19_2  MultinomialNB  0.612500   \n",
            "14  vgg19_2   ComplementNB  0.620833   \n",
            "15  vgg19_3     GaussianNB  0.575000   \n",
            "16  vgg19_3  MultinomialNB  0.479167   \n",
            "17  vgg19_3   ComplementNB  0.479167   \n",
            "18    pca_1     GaussianNB  0.633333   \n",
            "19    pca_1  MultinomialNB       NaN   \n",
            "20    pca_1   ComplementNB       NaN   \n",
            "21    pca_2     GaussianNB  0.620833   \n",
            "22    pca_2  MultinomialNB       NaN   \n",
            "23    pca_2   ComplementNB       NaN   \n",
            "24    pca_3     GaussianNB  0.620833   \n",
            "25    pca_3  MultinomialNB       NaN   \n",
            "26    pca_3   ComplementNB       NaN   \n",
            "27    pca_4     GaussianNB  0.720833   \n",
            "28    pca_4  MultinomialNB       NaN   \n",
            "29    pca_4   ComplementNB       NaN   \n",
            "30    pca_5     GaussianNB  0.683333   \n",
            "31    pca_5  MultinomialNB       NaN   \n",
            "32    pca_5   ComplementNB       NaN   \n",
            "33    pca_6     GaussianNB  0.641667   \n",
            "34    pca_6  MultinomialNB       NaN   \n",
            "35    pca_6   ComplementNB       NaN   \n",
            "\n",
            "                                                Error  \n",
            "0                                                 NaN  \n",
            "1                                                 NaN  \n",
            "2                                                 NaN  \n",
            "3                                                 NaN  \n",
            "4                                                 NaN  \n",
            "5                                                 NaN  \n",
            "6                                                 NaN  \n",
            "7                                                 NaN  \n",
            "8                                                 NaN  \n",
            "9                                                 NaN  \n",
            "10                                                NaN  \n",
            "11                                                NaN  \n",
            "12                                                NaN  \n",
            "13                                                NaN  \n",
            "14                                                NaN  \n",
            "15                                                NaN  \n",
            "16                                                NaN  \n",
            "17                                                NaN  \n",
            "18                                                NaN  \n",
            "19  Negative values in data passed to MultinomialN...  \n",
            "20  Negative values in data passed to ComplementNB...  \n",
            "21                                                NaN  \n",
            "22  Negative values in data passed to MultinomialN...  \n",
            "23  Negative values in data passed to ComplementNB...  \n",
            "24                                                NaN  \n",
            "25  Negative values in data passed to MultinomialN...  \n",
            "26  Negative values in data passed to ComplementNB...  \n",
            "27                                                NaN  \n",
            "28  Negative values in data passed to MultinomialN...  \n",
            "29  Negative values in data passed to ComplementNB...  \n",
            "30                                                NaN  \n",
            "31  Negative values in data passed to MultinomialN...  \n",
            "32  Negative values in data passed to ComplementNB...  \n",
            "33                                                NaN  \n",
            "34  Negative values in data passed to MultinomialN...  \n",
            "35  Negative values in data passed to ComplementNB...  \n"
          ]
        }
      ]
    },
    {
      "cell_type": "markdown",
      "source": [
        "### Utilizando K-Fold"
      ],
      "metadata": {
        "id": "BFjRGrMuyWtM"
      }
    },
    {
      "cell_type": "code",
      "source": [
        "# Modelos de Naive Bayes\n",
        "models = {\n",
        "    'GaussianNB': GaussianNB(),\n",
        "    'MultinomialNB': MultinomialNB(),\n",
        "    'ComplementNB': ComplementNB()\n",
        "}\n",
        "\n",
        "# Lista de datasets\n",
        "datasets = {\n",
        "    'vgg16_1': vgg16_1, 'vgg16_2': vgg16_2, 'vgg16_3': vgg16_3,\n",
        "    'vgg19_1': vgg19_1, 'vgg19_2': vgg19_2, 'vgg19_3': vgg19_3,\n",
        "    'pca_1': pca_1, 'pca_2': pca_2, 'pca_3': pca_3,\n",
        "    'pca_4': pca_4, 'pca_5': pca_5, 'pca_6': pca_6\n",
        "}\n",
        "\n",
        "# Resultados para k-fold\n",
        "results_kfold = []"
      ],
      "metadata": {
        "id": "77iXTSKG0I6i"
      },
      "execution_count": 7,
      "outputs": []
    },
    {
      "cell_type": "code",
      "source": [
        "kf = KFold(n_splits=10, shuffle=True, random_state=1)\n",
        "\n",
        "for dataset_name, dataset in datasets.items():\n",
        "    X = dataset.iloc[:, :-1]  # Todas as colunas menos a última\n",
        "    y = dataset.iloc[:, -1]   # Última coluna (rótulo)\n",
        "\n",
        "    for model_name, model in models.items():\n",
        "        fold_accuracies = []\n",
        "\n",
        "        for train_index, test_index in kf.split(X):\n",
        "            # Dividir os dados em treino e teste\n",
        "            X_train, X_test = X.iloc[train_index], X.iloc[test_index]\n",
        "            y_train, y_test = y.iloc[train_index], y.iloc[test_index]\n",
        "\n",
        "            try:\n",
        "                # Treinar o modelo\n",
        "                model.fit(X_train, y_train)\n",
        "                # Predições\n",
        "                y_pred = model.predict(X_test)\n",
        "                # Calcular acurácia\n",
        "                accuracy = accuracy_score(y_test, y_pred)\n",
        "                fold_accuracies.append(accuracy)\n",
        "            except Exception as e:\n",
        "                fold_accuracies.append(f\"Error: {str(e)}\")\n",
        "\n",
        "        # Calcular a média das acurácias das folds\n",
        "        if all(isinstance(acc, float) for acc in fold_accuracies):\n",
        "            mean_accuracy = sum(fold_accuracies) / len(fold_accuracies)\n",
        "            results_kfold.append({\n",
        "                'Dataset': dataset_name,\n",
        "                'Model': model_name,\n",
        "                'Mean Accuracy': mean_accuracy\n",
        "            })\n",
        "        else:\n",
        "            results_kfold.append({\n",
        "                'Dataset': dataset_name,\n",
        "                'Model': model_name,\n",
        "                'Error': fold_accuracies\n",
        "            })\n",
        "\n",
        "# Convertendo os resultados para dataframe\n",
        "results_kfold_df = pd.DataFrame(results_kfold)\n",
        "\n",
        "# Salvando os resultados em CSV\n",
        "results_kfold_df.to_csv('Resultados_Naive_Bayes_KFOLD.csv', index=False)\n",
        "\n",
        "# Mostrando o resultado\n",
        "print(results_kfold_df)"
      ],
      "metadata": {
        "colab": {
          "base_uri": "https://localhost:8080/"
        },
        "id": "70vUnWk_0b62",
        "outputId": "655bf42a-05cd-40ae-98fd-ce53d513ee89"
      },
      "execution_count": 8,
      "outputs": [
        {
          "output_type": "stream",
          "name": "stdout",
          "text": [
            "    Dataset          Model  Mean Accuracy  \\\n",
            "0   vgg16_1     GaussianNB        0.64875   \n",
            "1   vgg16_1  MultinomialNB        0.61125   \n",
            "2   vgg16_1   ComplementNB        0.65000   \n",
            "3   vgg16_2     GaussianNB        0.51750   \n",
            "4   vgg16_2  MultinomialNB        0.67750   \n",
            "5   vgg16_2   ComplementNB        0.68000   \n",
            "6   vgg16_3     GaussianNB        0.61500   \n",
            "7   vgg16_3  MultinomialNB        0.54000   \n",
            "8   vgg16_3   ComplementNB        0.58375   \n",
            "9   vgg19_1     GaussianNB        0.63875   \n",
            "10  vgg19_1  MultinomialNB        0.57625   \n",
            "11  vgg19_1   ComplementNB        0.60500   \n",
            "12  vgg19_2     GaussianNB        0.60125   \n",
            "13  vgg19_2  MultinomialNB        0.63750   \n",
            "14  vgg19_2   ComplementNB        0.63625   \n",
            "15  vgg19_3     GaussianNB        0.56000   \n",
            "16  vgg19_3  MultinomialNB        0.48875   \n",
            "17  vgg19_3   ComplementNB        0.50500   \n",
            "18    pca_1     GaussianNB        0.65750   \n",
            "19    pca_1  MultinomialNB            NaN   \n",
            "20    pca_1   ComplementNB            NaN   \n",
            "21    pca_2     GaussianNB        0.67125   \n",
            "22    pca_2  MultinomialNB            NaN   \n",
            "23    pca_2   ComplementNB            NaN   \n",
            "24    pca_3     GaussianNB        0.64000   \n",
            "25    pca_3  MultinomialNB            NaN   \n",
            "26    pca_3   ComplementNB            NaN   \n",
            "27    pca_4     GaussianNB        0.74250   \n",
            "28    pca_4  MultinomialNB            NaN   \n",
            "29    pca_4   ComplementNB            NaN   \n",
            "30    pca_5     GaussianNB        0.67750   \n",
            "31    pca_5  MultinomialNB            NaN   \n",
            "32    pca_5   ComplementNB            NaN   \n",
            "33    pca_6     GaussianNB        0.65125   \n",
            "34    pca_6  MultinomialNB            NaN   \n",
            "35    pca_6   ComplementNB            NaN   \n",
            "\n",
            "                                                Error  \n",
            "0                                                 NaN  \n",
            "1                                                 NaN  \n",
            "2                                                 NaN  \n",
            "3                                                 NaN  \n",
            "4                                                 NaN  \n",
            "5                                                 NaN  \n",
            "6                                                 NaN  \n",
            "7                                                 NaN  \n",
            "8                                                 NaN  \n",
            "9                                                 NaN  \n",
            "10                                                NaN  \n",
            "11                                                NaN  \n",
            "12                                                NaN  \n",
            "13                                                NaN  \n",
            "14                                                NaN  \n",
            "15                                                NaN  \n",
            "16                                                NaN  \n",
            "17                                                NaN  \n",
            "18                                                NaN  \n",
            "19  [Error: Negative values in data passed to Mult...  \n",
            "20  [Error: Negative values in data passed to Comp...  \n",
            "21                                                NaN  \n",
            "22  [Error: Negative values in data passed to Mult...  \n",
            "23  [Error: Negative values in data passed to Comp...  \n",
            "24                                                NaN  \n",
            "25  [Error: Negative values in data passed to Mult...  \n",
            "26  [Error: Negative values in data passed to Comp...  \n",
            "27                                                NaN  \n",
            "28  [Error: Negative values in data passed to Mult...  \n",
            "29  [Error: Negative values in data passed to Comp...  \n",
            "30                                                NaN  \n",
            "31  [Error: Negative values in data passed to Mult...  \n",
            "32  [Error: Negative values in data passed to Comp...  \n",
            "33                                                NaN  \n",
            "34  [Error: Negative values in data passed to Mult...  \n",
            "35  [Error: Negative values in data passed to Comp...  \n"
          ]
        }
      ]
    }
  ]
}