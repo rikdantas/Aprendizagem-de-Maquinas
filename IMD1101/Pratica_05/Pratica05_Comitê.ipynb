{
  "nbformat": 4,
  "nbformat_minor": 0,
  "metadata": {
    "colab": {
      "provenance": [],
      "gpuType": "T4",
      "toc_visible": true,
      "authorship_tag": "ABX9TyNAYENL8JoOAikJDT4Em7pu",
      "include_colab_link": true
    },
    "kernelspec": {
      "name": "python3",
      "display_name": "Python 3"
    },
    "language_info": {
      "name": "python"
    },
    "accelerator": "GPU"
  },
  "cells": [
    {
      "cell_type": "markdown",
      "metadata": {
        "id": "view-in-github",
        "colab_type": "text"
      },
      "source": [
        "<a href=\"https://colab.research.google.com/github/rikdantas/Aprendizagem-de-Maquinas/blob/main/IMD1101/Pratica_05/Pratica05_Comit%C3%AA.ipynb\" target=\"_parent\"><img src=\"https://colab.research.google.com/assets/colab-badge.svg\" alt=\"Open In Colab\"/></a>"
      ]
    },
    {
      "cell_type": "markdown",
      "source": [
        "# Prática 05 - Prática de Comitês de Classificadores\n",
        "Nesse notebook será desenvolvida a prática 05 que é relacionada com comitê de classificadores. A base que vai ser usada é a PCA_CNN_VGG19_128_avg que mostrou o melhor desempenho nas últimas duas práticas.\n",
        "\n",
        "Aluno: Paulo Ricardo Dantas"
      ],
      "metadata": {
        "id": "R8OzpZh4D2ca"
      }
    },
    {
      "cell_type": "code",
      "execution_count": 37,
      "metadata": {
        "id": "f6IddCwYDxOY"
      },
      "outputs": [],
      "source": [
        "# Importando as bibliotecas\n",
        "import numpy as np\n",
        "import pandas as pd\n",
        "import gdown\n",
        "from sklearn.ensemble import BaggingClassifier, AdaBoostClassifier, RandomForestClassifier\n",
        "from sklearn.tree import DecisionTreeClassifier\n",
        "from sklearn.neural_network import MLPClassifier\n",
        "from sklearn.neighbors import KNeighborsClassifier\n",
        "from sklearn.naive_bayes import GaussianNB\n",
        "from sklearn import metrics\n",
        "from sklearn.metrics import confusion_matrix\n",
        "from sklearn.model_selection import train_test_split"
      ]
    },
    {
      "cell_type": "markdown",
      "source": [
        "## Preparando o dataset para os testes"
      ],
      "metadata": {
        "id": "Jzs45cqxES8A"
      }
    },
    {
      "cell_type": "code",
      "source": [
        "# Baixando o dataset\n",
        "gdown.download('https://drive.google.com/uc?id=17BJNdaH_8fCYTJn-l-QH7ayRaLuWYxQ6', 'PCA_CNN_VGG19_128_avg.csv', quiet=True)\n",
        "\n",
        "# Importando o dataset\n",
        "dataset = pd.read_csv('PCA_CNN_VGG19_128_avg.csv', encoding='utf-8')\n",
        "\n",
        "# Separando os atributos e a classe\n",
        "x = dataset.drop(columns=['class'])  # Remove apenas a coluna 'class'\n",
        "y = dataset['class']  # Seleciona a coluna 'class' como a variável alvo\n",
        "\n",
        "# Dividindo o dataset em conjunto de treinamento e teste\n",
        "X_train, X_test, y_train, y_test = train_test_split(x, y, test_size=0.3, random_state=19)"
      ],
      "metadata": {
        "id": "yHPqFUsEw0SR"
      },
      "execution_count": 2,
      "outputs": []
    },
    {
      "cell_type": "markdown",
      "source": [
        "## Aplicando os Comitês"
      ],
      "metadata": {
        "id": "NYRN0H9uwiK1"
      }
    },
    {
      "cell_type": "markdown",
      "source": [
        "### Bagging padrão\n"
      ],
      "metadata": {
        "id": "7XdKxP6qymQ6"
      }
    },
    {
      "cell_type": "markdown",
      "source": [
        "#### Árvore de decisão"
      ],
      "metadata": {
        "id": "ktotWjHXyoLV"
      }
    },
    {
      "cell_type": "code",
      "source": [
        "# Instanciando bagging com DecisionTree\n",
        "bgclassifier = BaggingClassifier(estimator=DecisionTreeClassifier(criterion=\"entropy\", max_depth=6),\n",
        "                                    n_estimators=10, max_features=1.0, max_samples=1.0)\n",
        "bgclassifier.fit(X_train, y_train)\n",
        "y_pred = bgclassifier.predict(X_test)\n",
        "\n",
        "# Acurácia do modelo\n",
        "acuracia = metrics.accuracy_score(y_test, y_pred)\n",
        "print(\"Acurácia do modelo com 10 estimadores:\", acuracia)\n",
        "\n",
        "# Matriz de confusão para 10%\n",
        "cm = confusion_matrix(y_test, y_pred)\n",
        "print(\"Matriz de confusão para 10 estimadores:\")\n",
        "print(cm)"
      ],
      "metadata": {
        "colab": {
          "base_uri": "https://localhost:8080/"
        },
        "id": "v9RMVYx0zGr_",
        "outputId": "110be75f-e8f0-4474-88ba-4df02a427ace"
      },
      "execution_count": 3,
      "outputs": [
        {
          "output_type": "stream",
          "name": "stdout",
          "text": [
            "Acurácia do modelo com 10 estimadores: 0.6375\n",
            "Matriz de confusão para 10 estimadores:\n",
            "[[73 57]\n",
            " [30 80]]\n"
          ]
        }
      ]
    },
    {
      "cell_type": "code",
      "source": [
        "# Instanciando bagging com DecisionTree\n",
        "bgclassifier = BaggingClassifier(estimator=DecisionTreeClassifier(criterion=\"entropy\", max_depth=6),\n",
        "                                    n_estimators=20, max_features=1.0, max_samples=1.0)\n",
        "bgclassifier.fit(X_train, y_train)\n",
        "y_pred = bgclassifier.predict(X_test)\n",
        "\n",
        "# Acurácia do modelo\n",
        "acuracia = metrics.accuracy_score(y_test, y_pred)\n",
        "print(\"Acurácia do modelo com 20 estimadores:\", acuracia)\n",
        "\n",
        "# Matriz de confusão para 20%\n",
        "cm = confusion_matrix(y_test, y_pred)\n",
        "print(\"Matriz de confusão para 20 estimadores:\")\n",
        "print(cm)"
      ],
      "metadata": {
        "colab": {
          "base_uri": "https://localhost:8080/"
        },
        "id": "25k8OIWw4iqR",
        "outputId": "e365550c-df52-48df-d65b-132b7a6b61e0"
      },
      "execution_count": 4,
      "outputs": [
        {
          "output_type": "stream",
          "name": "stdout",
          "text": [
            "Acurácia do modelo com 20 estimadores: 0.6625\n",
            "Matriz de confusão para 20 estimadores:\n",
            "[[83 47]\n",
            " [34 76]]\n"
          ]
        }
      ]
    },
    {
      "cell_type": "code",
      "source": [
        "# Instanciando bagging com DecisionTree\n",
        "bgclassifier = BaggingClassifier(estimator=DecisionTreeClassifier(criterion=\"entropy\", max_depth=6),\n",
        "                                    n_estimators=30, max_features=1.0, max_samples=1.0)\n",
        "bgclassifier.fit(X_train, y_train)\n",
        "y_pred = bgclassifier.predict(X_test)\n",
        "\n",
        "# Acurácia do modelo\n",
        "acuracia = metrics.accuracy_score(y_test, y_pred)\n",
        "print(\"Acurácia do modelo com 30 estimadores:\", acuracia)\n",
        "\n",
        "# Matriz de confusão para 30%\n",
        "cm = confusion_matrix(y_test, y_pred)\n",
        "print(\"Matriz de confusão para 30 estimadores:\")\n",
        "print(cm)"
      ],
      "metadata": {
        "colab": {
          "base_uri": "https://localhost:8080/"
        },
        "id": "aQutMOCR4i97",
        "outputId": "e8f5b1c6-9cc9-4636-85fd-c757e45b19f6"
      },
      "execution_count": 5,
      "outputs": [
        {
          "output_type": "stream",
          "name": "stdout",
          "text": [
            "Acurácia do modelo com 30 estimadores: 0.65\n",
            "Matriz de confusão para 30 estimadores:\n",
            "[[77 53]\n",
            " [31 79]]\n"
          ]
        }
      ]
    },
    {
      "cell_type": "markdown",
      "source": [
        "#### k-NN"
      ],
      "metadata": {
        "id": "Pcd9zUIx5TFN"
      }
    },
    {
      "cell_type": "code",
      "source": [
        "# Instanciando bagging com k-NN\n",
        "bgclassifier = BaggingClassifier(estimator=KNeighborsClassifier(n_neighbors=3, metric='euclidean'),\n",
        "                                    n_estimators=10, max_features=1.0, max_samples=1.0)\n",
        "bgclassifier.fit(X_train, y_train)\n",
        "y_pred = bgclassifier.predict(X_test)\n",
        "\n",
        "# Acurácia do modelo\n",
        "acuracia = metrics.accuracy_score(y_test, y_pred)\n",
        "print(\"Acurácia do modelo com 10 estimadores:\", acuracia)\n",
        "\n",
        "# Matriz de confusão para 10%\n",
        "cm = confusion_matrix(y_test, y_pred)\n",
        "print(\"Matriz de confusão para 10 estimadores:\")\n",
        "print(cm)"
      ],
      "metadata": {
        "colab": {
          "base_uri": "https://localhost:8080/"
        },
        "id": "BzXFZMyS5bHq",
        "outputId": "fffcd5de-d23f-40fd-85e4-fa8da170a2c2"
      },
      "execution_count": 8,
      "outputs": [
        {
          "output_type": "stream",
          "name": "stdout",
          "text": [
            "Acurácia do modelo com 10 estimadores: 0.6\n",
            "Matriz de confusão para 10 estimadores:\n",
            "[[76 54]\n",
            " [42 68]]\n"
          ]
        }
      ]
    },
    {
      "cell_type": "code",
      "source": [
        "# Instanciando bagging com k-NN\n",
        "bgclassifier = BaggingClassifier(estimator=KNeighborsClassifier(n_neighbors=3, metric='euclidean'),\n",
        "                                    n_estimators=20, max_features=1.0, max_samples=1.0)\n",
        "bgclassifier.fit(X_train, y_train)\n",
        "y_pred = bgclassifier.predict(X_test)\n",
        "\n",
        "# Acurácia do modelo\n",
        "acuracia = metrics.accuracy_score(y_test, y_pred)\n",
        "print(\"Acurácia do modelo com 20 estimadores:\", acuracia)\n",
        "\n",
        "# Matriz de confusão para 20%\n",
        "cm = confusion_matrix(y_test, y_pred)\n",
        "print(\"Matriz de confusão para 20 estimadores:\")\n",
        "print(cm)"
      ],
      "metadata": {
        "colab": {
          "base_uri": "https://localhost:8080/"
        },
        "id": "ZA-PJN7S6AqD",
        "outputId": "258b8673-d78a-448c-91c9-e991cd222c45"
      },
      "execution_count": 9,
      "outputs": [
        {
          "output_type": "stream",
          "name": "stdout",
          "text": [
            "Acurácia do modelo com 20 estimadores: 0.5875\n",
            "Matriz de confusão para 20 estimadores:\n",
            "[[78 52]\n",
            " [47 63]]\n"
          ]
        }
      ]
    },
    {
      "cell_type": "code",
      "source": [
        "# Instanciando bagging com k-NN\n",
        "bgclassifier = BaggingClassifier(estimator=KNeighborsClassifier(n_neighbors=3, metric='euclidean'),\n",
        "                                    n_estimators=30, max_features=1.0, max_samples=1.0)\n",
        "bgclassifier.fit(X_train, y_train)\n",
        "y_pred = bgclassifier.predict(X_test)\n",
        "\n",
        "# Acurácia do modelo\n",
        "acuracia = metrics.accuracy_score(y_test, y_pred)\n",
        "print(\"Acurácia do modelo com 30 estimadores:\", acuracia)\n",
        "\n",
        "# Matriz de confusão para 30%\n",
        "cm = confusion_matrix(y_test, y_pred)\n",
        "print(\"Matriz de confusão para 30 estimadores:\")\n",
        "print(cm)"
      ],
      "metadata": {
        "colab": {
          "base_uri": "https://localhost:8080/"
        },
        "id": "TU3fv8oi6BC3",
        "outputId": "74002643-1ce8-411d-ef31-1c87363b2912"
      },
      "execution_count": 10,
      "outputs": [
        {
          "output_type": "stream",
          "name": "stdout",
          "text": [
            "Acurácia do modelo com 30 estimadores: 0.5708333333333333\n",
            "Matriz de confusão para 30 estimadores:\n",
            "[[71 59]\n",
            " [44 66]]\n"
          ]
        }
      ]
    },
    {
      "cell_type": "markdown",
      "source": [
        "#### Naive-Bayes"
      ],
      "metadata": {
        "id": "8uaw-p7g6f6p"
      }
    },
    {
      "cell_type": "code",
      "source": [
        "# Instanciando bagging com GaussianNB\n",
        "bgclassifier = BaggingClassifier(estimator=GaussianNB(priors=None, var_smoothing=1e-09),\n",
        "                                    n_estimators=10, max_features=1.0, max_samples=1.0)\n",
        "bgclassifier.fit(X_train, y_train)\n",
        "y_pred = bgclassifier.predict(X_test)\n",
        "\n",
        "# Acurácia do modelo\n",
        "acuracia = metrics.accuracy_score(y_test, y_pred)\n",
        "print(\"Acurácia do modelo com 10 estimadores:\", acuracia)\n",
        "\n",
        "# Matriz de confusão para 10%\n",
        "cm = confusion_matrix(y_test, y_pred)\n",
        "print(\"Matriz de confusão para 10 estimadores:\")\n",
        "print(cm)"
      ],
      "metadata": {
        "colab": {
          "base_uri": "https://localhost:8080/"
        },
        "id": "LhmHILO_6w1T",
        "outputId": "f1b93dac-0ce6-41ab-d954-c81cd01ef348"
      },
      "execution_count": 11,
      "outputs": [
        {
          "output_type": "stream",
          "name": "stdout",
          "text": [
            "Acurácia do modelo com 10 estimadores: 0.6708333333333333\n",
            "Matriz de confusão para 10 estimadores:\n",
            "[[78 52]\n",
            " [27 83]]\n"
          ]
        }
      ]
    },
    {
      "cell_type": "code",
      "source": [
        "# Instanciando bagging com GaussianNB\n",
        "bgclassifier = BaggingClassifier(estimator=GaussianNB(priors=None, var_smoothing=1e-09),\n",
        "                                    n_estimators=20, max_features=1.0, max_samples=1.0)\n",
        "bgclassifier.fit(X_train, y_train)\n",
        "y_pred = bgclassifier.predict(X_test)\n",
        "\n",
        "# Acurácia do modelo\n",
        "acuracia = metrics.accuracy_score(y_test, y_pred)\n",
        "print(\"Acurácia do modelo com 20 estimadores:\", acuracia)\n",
        "\n",
        "# Matriz de confusão para 20%\n",
        "cm = confusion_matrix(y_test, y_pred)\n",
        "print(\"Matriz de confusão para 20 estimadores:\")\n",
        "print(cm)"
      ],
      "metadata": {
        "colab": {
          "base_uri": "https://localhost:8080/"
        },
        "id": "fwZIQlQM7CxV",
        "outputId": "3e8ed241-e61f-42af-b4cb-fcf5eeb4b9f6"
      },
      "execution_count": 12,
      "outputs": [
        {
          "output_type": "stream",
          "name": "stdout",
          "text": [
            "Acurácia do modelo com 20 estimadores: 0.6791666666666667\n",
            "Matriz de confusão para 20 estimadores:\n",
            "[[78 52]\n",
            " [25 85]]\n"
          ]
        }
      ]
    },
    {
      "cell_type": "code",
      "source": [
        "# Instanciando bagging com GaussianNB\n",
        "bgclassifier = BaggingClassifier(estimator=GaussianNB(priors=None, var_smoothing=1e-09),\n",
        "                                    n_estimators=30, max_features=1.0, max_samples=1.0)\n",
        "bgclassifier.fit(X_train, y_train)\n",
        "y_pred = bgclassifier.predict(X_test)\n",
        "\n",
        "# Acurácia do modelo\n",
        "acuracia = metrics.accuracy_score(y_test, y_pred)\n",
        "print(\"Acurácia do modelo com 30 estimadores:\", acuracia)\n",
        "\n",
        "# Matriz de confusão para 30%\n",
        "cm = confusion_matrix(y_test, y_pred)\n",
        "print(\"Matriz de confusão para 30 estimadores:\")\n",
        "print(cm)"
      ],
      "metadata": {
        "colab": {
          "base_uri": "https://localhost:8080/"
        },
        "id": "MWw2n0Fu7DO2",
        "outputId": "0b06278b-2627-4ca8-d4f9-07f30ef8272e"
      },
      "execution_count": 13,
      "outputs": [
        {
          "output_type": "stream",
          "name": "stdout",
          "text": [
            "Acurácia do modelo com 30 estimadores: 0.6708333333333333\n",
            "Matriz de confusão para 30 estimadores:\n",
            "[[76 54]\n",
            " [25 85]]\n"
          ]
        }
      ]
    },
    {
      "cell_type": "markdown",
      "source": [
        "#### Multilayer Perceptron"
      ],
      "metadata": {
        "id": "nzJN3aDm7TDH"
      }
    },
    {
      "cell_type": "code",
      "source": [
        "# Instanciando bagging com MLPClassifier\n",
        "bgclassifier = BaggingClassifier(estimator=MLPClassifier(hidden_layer_sizes=100, activation='tanh', solver= 'sgd',\n",
        "                                                         max_iter=1500, learning_rate_init=0.001),\n",
        "                                                         n_estimators=10, max_features=1.0, max_samples=1.0)\n",
        "bgclassifier.fit(X_train, y_train)\n",
        "y_pred = bgclassifier.predict(X_test)\n",
        "\n",
        "# Acurácia do modelo\n",
        "acuracia = metrics.accuracy_score(y_test, y_pred)\n",
        "print(\"Acurácia do modelo com 10 estimadores:\", acuracia)\n",
        "\n",
        "# Matriz de confusão para 10%\n",
        "cm = confusion_matrix(y_test, y_pred)\n",
        "print(\"Matriz de confusão para 10 estimadores:\")\n",
        "print(cm)"
      ],
      "metadata": {
        "colab": {
          "base_uri": "https://localhost:8080/"
        },
        "id": "8Fb8QLI27e6u",
        "outputId": "269340bd-8c4e-423e-f5eb-68ab51476361"
      },
      "execution_count": 14,
      "outputs": [
        {
          "output_type": "stream",
          "name": "stdout",
          "text": [
            "Acurácia do modelo com 10 estimadores: 0.5291666666666667\n",
            "Matriz de confusão para 10 estimadores:\n",
            "[[43 87]\n",
            " [26 84]]\n"
          ]
        }
      ]
    },
    {
      "cell_type": "code",
      "source": [
        "# Instanciando bagging com MLPClassifier\n",
        "bgclassifier = BaggingClassifier(estimator=MLPClassifier(hidden_layer_sizes=100, activation='tanh', solver= 'sgd',\n",
        "                                                         max_iter=1500, learning_rate_init=0.001),\n",
        "                                                         n_estimators=20, max_features=1.0, max_samples=1.0)\n",
        "bgclassifier.fit(X_train, y_train)\n",
        "y_pred = bgclassifier.predict(X_test)\n",
        "\n",
        "# Acurácia do modelo\n",
        "acuracia = metrics.accuracy_score(y_test, y_pred)\n",
        "print(\"Acurácia do modelo com 20 estimadores:\", acuracia)\n",
        "\n",
        "# Matriz de confusão para 20%\n",
        "cm = confusion_matrix(y_test, y_pred)\n",
        "print(\"Matriz de confusão para 20 estimadores:\")\n",
        "print(cm)"
      ],
      "metadata": {
        "colab": {
          "base_uri": "https://localhost:8080/"
        },
        "id": "8Bjo6uiA7-gT",
        "outputId": "51b4c3e3-9e7b-4314-89f4-add71add78cc"
      },
      "execution_count": 15,
      "outputs": [
        {
          "output_type": "stream",
          "name": "stdout",
          "text": [
            "Acurácia do modelo com 20 estimadores: 0.5416666666666666\n",
            "Matriz de confusão para 20 estimadores:\n",
            "[[34 96]\n",
            " [14 96]]\n"
          ]
        }
      ]
    },
    {
      "cell_type": "code",
      "source": [
        "# Instanciando bagging com MLPClassifier\n",
        "bgclassifier = BaggingClassifier(estimator=MLPClassifier(hidden_layer_sizes=100, activation='tanh', solver= 'sgd',\n",
        "                                                         max_iter=1500, learning_rate_init=0.001),\n",
        "                                                         n_estimators=30, max_features=1.0, max_samples=1.0)\n",
        "bgclassifier.fit(X_train, y_train)\n",
        "y_pred = bgclassifier.predict(X_test)\n",
        "\n",
        "# Acurácia do modelo\n",
        "acuracia = metrics.accuracy_score(y_test, y_pred)\n",
        "print(\"Acurácia do modelo com 30 estimadores:\", acuracia)\n",
        "\n",
        "# Matriz de confusão para 30%\n",
        "cm = confusion_matrix(y_test, y_pred)\n",
        "print(\"Matriz de confusão para 30 estimadores:\")\n",
        "print(cm)"
      ],
      "metadata": {
        "colab": {
          "base_uri": "https://localhost:8080/"
        },
        "id": "tB_a4TH-8B9S",
        "outputId": "67f7f4c3-9048-4612-ffff-4d1a3df19260"
      },
      "execution_count": 16,
      "outputs": [
        {
          "output_type": "stream",
          "name": "stdout",
          "text": [
            "Acurácia do modelo com 30 estimadores: 0.5333333333333333\n",
            "Matriz de confusão para 30 estimadores:\n",
            "[[ 29 101]\n",
            " [ 11  99]]\n"
          ]
        }
      ]
    },
    {
      "cell_type": "markdown",
      "source": [
        "### Bagging feature selection\n"
      ],
      "metadata": {
        "id": "MztGWfyx8ce5"
      }
    },
    {
      "cell_type": "markdown",
      "source": [
        "#### Árvore de decisão"
      ],
      "metadata": {
        "id": "ITPUgKnx8ce6"
      }
    },
    {
      "cell_type": "code",
      "source": [
        "# Instanciando bagging com DecisionTree\n",
        "bgclassifier = BaggingClassifier(estimator=DecisionTreeClassifier(criterion=\"entropy\", max_depth=6),\n",
        "                                    n_estimators=10, max_features=0.5, max_samples=1.0)\n",
        "bgclassifier.fit(X_train, y_train)\n",
        "y_pred = bgclassifier.predict(X_test)\n",
        "\n",
        "# Acurácia do modelo\n",
        "acuracia = metrics.accuracy_score(y_test, y_pred)\n",
        "print(\"Acurácia do modelo com 10 estimadores:\", acuracia)\n",
        "\n",
        "# Matriz de confusão para 10%\n",
        "cm = confusion_matrix(y_test, y_pred)\n",
        "print(\"Matriz de confusão para 10 estimadores:\")\n",
        "print(cm)"
      ],
      "metadata": {
        "colab": {
          "base_uri": "https://localhost:8080/"
        },
        "outputId": "4cba03c3-8d1b-4091-834c-27a342f2ca62",
        "id": "DUlWbC908ce6"
      },
      "execution_count": 29,
      "outputs": [
        {
          "output_type": "stream",
          "name": "stdout",
          "text": [
            "Acurácia do modelo com 10 estimadores: 0.6583333333333333\n",
            "Matriz de confusão para 10 estimadores:\n",
            "[[80 50]\n",
            " [32 78]]\n"
          ]
        }
      ]
    },
    {
      "cell_type": "code",
      "source": [
        "# Instanciando bagging com DecisionTree\n",
        "bgclassifier = BaggingClassifier(estimator=DecisionTreeClassifier(criterion=\"entropy\", max_depth=6),\n",
        "                                    n_estimators=20, max_features=0.5, max_samples=1.0)\n",
        "bgclassifier.fit(X_train, y_train)\n",
        "y_pred = bgclassifier.predict(X_test)\n",
        "\n",
        "# Acurácia do modelo\n",
        "acuracia = metrics.accuracy_score(y_test, y_pred)\n",
        "print(\"Acurácia do modelo com 20 estimadores:\", acuracia)\n",
        "\n",
        "# Matriz de confusão para 20%\n",
        "cm = confusion_matrix(y_test, y_pred)\n",
        "print(\"Matriz de confusão para 20 estimadores:\")\n",
        "print(cm)"
      ],
      "metadata": {
        "colab": {
          "base_uri": "https://localhost:8080/"
        },
        "outputId": "5c4bac77-6bee-4e55-a335-6bd7d46fbd22",
        "id": "YIoJ0TRO8ce6"
      },
      "execution_count": 18,
      "outputs": [
        {
          "output_type": "stream",
          "name": "stdout",
          "text": [
            "Acurácia do modelo com 20 estimadores: 0.7\n",
            "Matriz de confusão para 20 estimadores:\n",
            "[[79 51]\n",
            " [21 89]]\n"
          ]
        }
      ]
    },
    {
      "cell_type": "code",
      "source": [
        "# Instanciando bagging com DecisionTree\n",
        "bgclassifier = BaggingClassifier(estimator=DecisionTreeClassifier(criterion=\"entropy\", max_depth=6),\n",
        "                                    n_estimators=30, max_features=0.5, max_samples=1.0)\n",
        "bgclassifier.fit(X_train, y_train)\n",
        "y_pred = bgclassifier.predict(X_test)\n",
        "\n",
        "# Acurácia do modelo\n",
        "acuracia = metrics.accuracy_score(y_test, y_pred)\n",
        "print(\"Acurácia do modelo com 30 estimadores:\", acuracia)\n",
        "\n",
        "# Matriz de confusão para 30%\n",
        "cm = confusion_matrix(y_test, y_pred)\n",
        "print(\"Matriz de confusão para 30 estimadores:\")\n",
        "print(cm)"
      ],
      "metadata": {
        "colab": {
          "base_uri": "https://localhost:8080/"
        },
        "outputId": "6ce1af9a-935a-4c2e-ddae-f7ca07554773",
        "id": "foF6S6p98ce6"
      },
      "execution_count": 19,
      "outputs": [
        {
          "output_type": "stream",
          "name": "stdout",
          "text": [
            "Acurácia do modelo com 30 estimadores: 0.6833333333333333\n",
            "Matriz de confusão para 30 estimadores:\n",
            "[[79 51]\n",
            " [25 85]]\n"
          ]
        }
      ]
    },
    {
      "cell_type": "markdown",
      "source": [
        "#### k-NN"
      ],
      "metadata": {
        "id": "Ru4ae5Or8ce6"
      }
    },
    {
      "cell_type": "code",
      "source": [
        "# Instanciando bagging com k-NN\n",
        "bgclassifier = BaggingClassifier(estimator=KNeighborsClassifier(n_neighbors=3, metric='euclidean'),\n",
        "                                    n_estimators=10, max_features=0.5, max_samples=1.0)\n",
        "bgclassifier.fit(X_train, y_train)\n",
        "y_pred = bgclassifier.predict(X_test)\n",
        "\n",
        "# Acurácia do modelo\n",
        "acuracia = metrics.accuracy_score(y_test, y_pred)\n",
        "print(\"Acurácia do modelo com 10 estimadores:\", acuracia)\n",
        "\n",
        "# Matriz de confusão para 10%\n",
        "cm = confusion_matrix(y_test, y_pred)\n",
        "print(\"Matriz de confusão para 10 estimadores:\")\n",
        "print(cm)"
      ],
      "metadata": {
        "colab": {
          "base_uri": "https://localhost:8080/"
        },
        "outputId": "ff132925-0706-44e3-b195-17999ebb52e9",
        "id": "KbUc_0iz8ce7"
      },
      "execution_count": 20,
      "outputs": [
        {
          "output_type": "stream",
          "name": "stdout",
          "text": [
            "Acurácia do modelo com 10 estimadores: 0.5875\n",
            "Matriz de confusão para 10 estimadores:\n",
            "[[72 58]\n",
            " [41 69]]\n"
          ]
        }
      ]
    },
    {
      "cell_type": "code",
      "source": [
        "# Instanciando bagging com k-NN\n",
        "bgclassifier = BaggingClassifier(estimator=KNeighborsClassifier(n_neighbors=3, metric='euclidean'),\n",
        "                                    n_estimators=20, max_features=0.5, max_samples=1.0)\n",
        "bgclassifier.fit(X_train, y_train)\n",
        "y_pred = bgclassifier.predict(X_test)\n",
        "\n",
        "# Acurácia do modelo\n",
        "acuracia = metrics.accuracy_score(y_test, y_pred)\n",
        "print(\"Acurácia do modelo com 20 estimadores:\", acuracia)\n",
        "\n",
        "# Matriz de confusão para 20%\n",
        "cm = confusion_matrix(y_test, y_pred)\n",
        "print(\"Matriz de confusão para 20 estimadores:\")\n",
        "print(cm)"
      ],
      "metadata": {
        "colab": {
          "base_uri": "https://localhost:8080/"
        },
        "outputId": "fe82e3bb-c92b-4392-a5cf-b7680517c837",
        "id": "XEw2imHE8ce7"
      },
      "execution_count": 21,
      "outputs": [
        {
          "output_type": "stream",
          "name": "stdout",
          "text": [
            "Acurácia do modelo com 20 estimadores: 0.6375\n",
            "Matriz de confusão para 20 estimadores:\n",
            "[[80 50]\n",
            " [37 73]]\n"
          ]
        }
      ]
    },
    {
      "cell_type": "code",
      "source": [
        "# Instanciando bagging com k-NN\n",
        "bgclassifier = BaggingClassifier(estimator=KNeighborsClassifier(n_neighbors=3, metric='euclidean'),\n",
        "                                    n_estimators=30, max_features=0.5, max_samples=1.0)\n",
        "bgclassifier.fit(X_train, y_train)\n",
        "y_pred = bgclassifier.predict(X_test)\n",
        "\n",
        "# Acurácia do modelo\n",
        "acuracia = metrics.accuracy_score(y_test, y_pred)\n",
        "print(\"Acurácia do modelo com 30 estimadores:\", acuracia)\n",
        "\n",
        "# Matriz de confusão para 30%\n",
        "cm = confusion_matrix(y_test, y_pred)\n",
        "print(\"Matriz de confusão para 30 estimadores:\")\n",
        "print(cm)"
      ],
      "metadata": {
        "colab": {
          "base_uri": "https://localhost:8080/"
        },
        "outputId": "1a64f2e6-8943-41f9-fa91-6124b6fd5225",
        "id": "0Rht6IBp8ce7"
      },
      "execution_count": 22,
      "outputs": [
        {
          "output_type": "stream",
          "name": "stdout",
          "text": [
            "Acurácia do modelo com 30 estimadores: 0.6083333333333333\n",
            "Matriz de confusão para 30 estimadores:\n",
            "[[74 56]\n",
            " [38 72]]\n"
          ]
        }
      ]
    },
    {
      "cell_type": "markdown",
      "source": [
        "#### Naive-Bayes"
      ],
      "metadata": {
        "id": "a3-52hao8ce7"
      }
    },
    {
      "cell_type": "code",
      "source": [
        "# Instanciando bagging com GaussianNB\n",
        "bgclassifier = BaggingClassifier(estimator=GaussianNB(priors=None, var_smoothing=1e-09),\n",
        "                                    n_estimators=10, max_features=0.5, max_samples=1.0)\n",
        "bgclassifier.fit(X_train, y_train)\n",
        "y_pred = bgclassifier.predict(X_test)\n",
        "\n",
        "# Acurácia do modelo\n",
        "acuracia = metrics.accuracy_score(y_test, y_pred)\n",
        "print(\"Acurácia do modelo com 10 estimadores:\", acuracia)\n",
        "\n",
        "# Matriz de confusão para 10%\n",
        "cm = confusion_matrix(y_test, y_pred)\n",
        "print(\"Matriz de confusão para 10 estimadores:\")\n",
        "print(cm)"
      ],
      "metadata": {
        "colab": {
          "base_uri": "https://localhost:8080/"
        },
        "outputId": "ba0ae539-1f5a-4097-f5bb-0ae7957ed915",
        "id": "NouEuloh8ce7"
      },
      "execution_count": 23,
      "outputs": [
        {
          "output_type": "stream",
          "name": "stdout",
          "text": [
            "Acurácia do modelo com 10 estimadores: 0.675\n",
            "Matriz de confusão para 10 estimadores:\n",
            "[[81 49]\n",
            " [29 81]]\n"
          ]
        }
      ]
    },
    {
      "cell_type": "code",
      "source": [
        "# Instanciando bagging com GaussianNB\n",
        "bgclassifier = BaggingClassifier(estimator=GaussianNB(priors=None, var_smoothing=1e-09),\n",
        "                                    n_estimators=20, max_features=0.5, max_samples=1.0)\n",
        "bgclassifier.fit(X_train, y_train)\n",
        "y_pred = bgclassifier.predict(X_test)\n",
        "\n",
        "# Acurácia do modelo\n",
        "acuracia = metrics.accuracy_score(y_test, y_pred)\n",
        "print(\"Acurácia do modelo com 20 estimadores:\", acuracia)\n",
        "\n",
        "# Matriz de confusão para 20%\n",
        "cm = confusion_matrix(y_test, y_pred)\n",
        "print(\"Matriz de confusão para 20 estimadores:\")\n",
        "print(cm)"
      ],
      "metadata": {
        "colab": {
          "base_uri": "https://localhost:8080/"
        },
        "outputId": "5aea46e5-1df1-418c-c442-bfa23e7d729d",
        "id": "tuwt9Dk78ce7"
      },
      "execution_count": 24,
      "outputs": [
        {
          "output_type": "stream",
          "name": "stdout",
          "text": [
            "Acurácia do modelo com 20 estimadores: 0.6541666666666667\n",
            "Matriz de confusão para 20 estimadores:\n",
            "[[73 57]\n",
            " [26 84]]\n"
          ]
        }
      ]
    },
    {
      "cell_type": "code",
      "source": [
        "# Instanciando bagging com GaussianNB\n",
        "bgclassifier = BaggingClassifier(estimator=GaussianNB(priors=None, var_smoothing=1e-09),\n",
        "                                    n_estimators=30, max_features=0.5, max_samples=1.0)\n",
        "bgclassifier.fit(X_train, y_train)\n",
        "y_pred = bgclassifier.predict(X_test)\n",
        "\n",
        "# Acurácia do modelo\n",
        "acuracia = metrics.accuracy_score(y_test, y_pred)\n",
        "print(\"Acurácia do modelo com 30 estimadores:\", acuracia)\n",
        "\n",
        "# Matriz de confusão para 30%\n",
        "cm = confusion_matrix(y_test, y_pred)\n",
        "print(\"Matriz de confusão para 30 estimadores:\")\n",
        "print(cm)"
      ],
      "metadata": {
        "colab": {
          "base_uri": "https://localhost:8080/"
        },
        "outputId": "75b86890-1b1d-4518-bf76-72350584220b",
        "id": "gcPEYJq48ce7"
      },
      "execution_count": 25,
      "outputs": [
        {
          "output_type": "stream",
          "name": "stdout",
          "text": [
            "Acurácia do modelo com 30 estimadores: 0.6708333333333333\n",
            "Matriz de confusão para 30 estimadores:\n",
            "[[73 57]\n",
            " [22 88]]\n"
          ]
        }
      ]
    },
    {
      "cell_type": "markdown",
      "source": [
        "#### Multilayer Perceptron"
      ],
      "metadata": {
        "id": "MhIG0Bqr8ce8"
      }
    },
    {
      "cell_type": "code",
      "source": [
        "# Instanciando bagging com MLPClassifier\n",
        "bgclassifier = BaggingClassifier(estimator=MLPClassifier(hidden_layer_sizes=100, activation='tanh', solver= 'sgd',\n",
        "                                                         max_iter=1500, learning_rate_init=0.001),\n",
        "                                                         n_estimators=10, max_features=0.5, max_samples=1.0)\n",
        "bgclassifier.fit(X_train, y_train)\n",
        "y_pred = bgclassifier.predict(X_test)\n",
        "\n",
        "# Acurácia do modelo\n",
        "acuracia = metrics.accuracy_score(y_test, y_pred)\n",
        "print(\"Acurácia do modelo com 10 estimadores:\", acuracia)\n",
        "\n",
        "# Matriz de confusão para 10%\n",
        "cm = confusion_matrix(y_test, y_pred)\n",
        "print(\"Matriz de confusão para 10 estimadores:\")\n",
        "print(cm)"
      ],
      "metadata": {
        "colab": {
          "base_uri": "https://localhost:8080/"
        },
        "outputId": "846dafcb-dbd1-4455-c2be-a377b83668ae",
        "id": "TQGsSTGb8ce8"
      },
      "execution_count": 26,
      "outputs": [
        {
          "output_type": "stream",
          "name": "stdout",
          "text": [
            "Acurácia do modelo com 10 estimadores: 0.5125\n",
            "Matriz de confusão para 10 estimadores:\n",
            "[[ 15 115]\n",
            " [  2 108]]\n"
          ]
        }
      ]
    },
    {
      "cell_type": "code",
      "source": [
        "# Instanciando bagging com MLPClassifier\n",
        "bgclassifier = BaggingClassifier(estimator=MLPClassifier(hidden_layer_sizes=100, activation='tanh', solver= 'sgd',\n",
        "                                                         max_iter=1500, learning_rate_init=0.001),\n",
        "                                                         n_estimators=20, max_features=0.5, max_samples=1.0)\n",
        "bgclassifier.fit(X_train, y_train)\n",
        "y_pred = bgclassifier.predict(X_test)\n",
        "\n",
        "# Acurácia do modelo\n",
        "acuracia = metrics.accuracy_score(y_test, y_pred)\n",
        "print(\"Acurácia do modelo com 20 estimadores:\", acuracia)\n",
        "\n",
        "# Matriz de confusão para 20%\n",
        "cm = confusion_matrix(y_test, y_pred)\n",
        "print(\"Matriz de confusão para 20 estimadores:\")\n",
        "print(cm)"
      ],
      "metadata": {
        "colab": {
          "base_uri": "https://localhost:8080/"
        },
        "outputId": "4008b5eb-045f-45ff-e6ea-060a192058c4",
        "id": "Sq9q-xGI8ce8"
      },
      "execution_count": 27,
      "outputs": [
        {
          "output_type": "stream",
          "name": "stdout",
          "text": [
            "Acurácia do modelo com 20 estimadores: 0.4791666666666667\n",
            "Matriz de confusão para 20 estimadores:\n",
            "[[  6 124]\n",
            " [  1 109]]\n"
          ]
        }
      ]
    },
    {
      "cell_type": "code",
      "source": [
        "# Instanciando bagging com MLPClassifier\n",
        "bgclassifier = BaggingClassifier(estimator=MLPClassifier(hidden_layer_sizes=100, activation='tanh', solver= 'sgd',\n",
        "                                                         max_iter=1500, learning_rate_init=0.001),\n",
        "                                                         n_estimators=30, max_features=0.5, max_samples=1.0)\n",
        "bgclassifier.fit(X_train, y_train)\n",
        "y_pred = bgclassifier.predict(X_test)\n",
        "\n",
        "# Acurácia do modelo\n",
        "acuracia = metrics.accuracy_score(y_test, y_pred)\n",
        "print(\"Acurácia do modelo com 30 estimadores:\", acuracia)\n",
        "\n",
        "# Matriz de confusão para 30%\n",
        "cm = confusion_matrix(y_test, y_pred)\n",
        "print(\"Matriz de confusão para 30 estimadores:\")\n",
        "print(cm)"
      ],
      "metadata": {
        "colab": {
          "base_uri": "https://localhost:8080/"
        },
        "outputId": "b2eac4bc-de92-47cf-d893-a5d9a15344b3",
        "id": "T7kl4QCx8ce8"
      },
      "execution_count": 28,
      "outputs": [
        {
          "output_type": "stream",
          "name": "stdout",
          "text": [
            "Acurácia do modelo com 30 estimadores: 0.4666666666666667\n",
            "Matriz de confusão para 30 estimadores:\n",
            "[[  3 127]\n",
            " [  1 109]]\n"
          ]
        }
      ]
    },
    {
      "cell_type": "markdown",
      "source": [
        "### Boosting"
      ],
      "metadata": {
        "id": "xr2dg78zD0vA"
      }
    },
    {
      "cell_type": "markdown",
      "source": [
        "#### Árvore de decisão"
      ],
      "metadata": {
        "id": "UspuE__kEmKv"
      }
    },
    {
      "cell_type": "code",
      "source": [
        "# Instanciando Boosting com DecisionTree\n",
        "adaclassifier = AdaBoostClassifier(estimator=DecisionTreeClassifier(criterion=\"entropy\", max_depth=6),\n",
        "                                  n_estimators=10, learning_rate=0.5, algorithm=\"SAMME\")\n",
        "adaclassifier.fit(X_train, y_train)\n",
        "y_pred = adaclassifier.predict(X_test)\n",
        "\n",
        "# Acurácia do modelo\n",
        "acuracia = metrics.accuracy_score(y_test, y_pred)\n",
        "print(\"Acurácia do modelo com 10 estimadores:\", acuracia)\n",
        "\n",
        "# Matriz de confusão para 10%\n",
        "cm = confusion_matrix(y_test, y_pred)\n",
        "print(\"Matriz de confusão para 10 estimadores:\")\n",
        "print(cm)"
      ],
      "metadata": {
        "colab": {
          "base_uri": "https://localhost:8080/"
        },
        "id": "4_QriH8oESfu",
        "outputId": "9724d43b-4748-4a42-a4f8-89dae8e3b19f"
      },
      "execution_count": 31,
      "outputs": [
        {
          "output_type": "stream",
          "name": "stdout",
          "text": [
            "Acurácia do modelo com 10 estimadores: 0.675\n",
            "Matriz de confusão para 10 estimadores:\n",
            "[[81 49]\n",
            " [29 81]]\n"
          ]
        },
        {
          "output_type": "stream",
          "name": "stderr",
          "text": [
            "/usr/local/lib/python3.10/dist-packages/sklearn/ensemble/_weight_boosting.py:514: FutureWarning: The parameter 'algorithm' is deprecated in 1.6 and has no effect. It will be removed in version 1.8.\n",
            "  warnings.warn(\n"
          ]
        }
      ]
    },
    {
      "cell_type": "code",
      "source": [
        "# Instanciando Boosting com DecisionTree\n",
        "adaclassifier = AdaBoostClassifier(estimator=DecisionTreeClassifier(criterion=\"entropy\", max_depth=6),\n",
        "                                  n_estimators=20, learning_rate=0.5, algorithm=\"SAMME\")\n",
        "adaclassifier.fit(X_train, y_train)\n",
        "y_pred = adaclassifier.predict(X_test)\n",
        "\n",
        "# Acurácia do modelo\n",
        "acuracia = metrics.accuracy_score(y_test, y_pred)\n",
        "print(\"Acurácia do modelo com 20 estimadores:\", acuracia)\n",
        "\n",
        "# Matriz de confusão para 20%\n",
        "cm = confusion_matrix(y_test, y_pred)\n",
        "print(\"Matriz de confusão para 20 estimadores:\")\n",
        "print(cm)"
      ],
      "metadata": {
        "colab": {
          "base_uri": "https://localhost:8080/"
        },
        "id": "oh9M_bnhErwu",
        "outputId": "a1712adc-0b1d-4d5b-b0df-ee00eff9859e"
      },
      "execution_count": 32,
      "outputs": [
        {
          "output_type": "stream",
          "name": "stdout",
          "text": [
            "Acurácia do modelo com 20 estimadores: 0.7166666666666667\n",
            "Matriz de confusão para 20 estimadores:\n",
            "[[86 44]\n",
            " [24 86]]\n"
          ]
        },
        {
          "output_type": "stream",
          "name": "stderr",
          "text": [
            "/usr/local/lib/python3.10/dist-packages/sklearn/ensemble/_weight_boosting.py:514: FutureWarning: The parameter 'algorithm' is deprecated in 1.6 and has no effect. It will be removed in version 1.8.\n",
            "  warnings.warn(\n"
          ]
        }
      ]
    },
    {
      "cell_type": "code",
      "source": [
        "# Instanciando Boosting com DecisionTree\n",
        "adaclassifier = AdaBoostClassifier(estimator=DecisionTreeClassifier(criterion=\"entropy\", max_depth=6),\n",
        "                                  n_estimators=30, learning_rate=0.5, algorithm=\"SAMME\")\n",
        "adaclassifier.fit(X_train, y_train)\n",
        "y_pred = adaclassifier.predict(X_test)\n",
        "\n",
        "# Acurácia do modelo\n",
        "acuracia = metrics.accuracy_score(y_test, y_pred)\n",
        "print(\"Acurácia do modelo com 30 estimadores:\", acuracia)\n",
        "\n",
        "# Matriz de confusão para 30%\n",
        "cm = confusion_matrix(y_test, y_pred)\n",
        "print(\"Matriz de confusão para 30 estimadores:\")\n",
        "print(cm)"
      ],
      "metadata": {
        "colab": {
          "base_uri": "https://localhost:8080/"
        },
        "id": "uHdla3K3EuKu",
        "outputId": "cf0cc563-adf1-49d1-b74f-f0afd061ada9"
      },
      "execution_count": 33,
      "outputs": [
        {
          "output_type": "stream",
          "name": "stderr",
          "text": [
            "/usr/local/lib/python3.10/dist-packages/sklearn/ensemble/_weight_boosting.py:514: FutureWarning: The parameter 'algorithm' is deprecated in 1.6 and has no effect. It will be removed in version 1.8.\n",
            "  warnings.warn(\n"
          ]
        },
        {
          "output_type": "stream",
          "name": "stdout",
          "text": [
            "Acurácia do modelo com 30 estimadores: 0.7166666666666667\n",
            "Matriz de confusão para 30 estimadores:\n",
            "[[87 43]\n",
            " [25 85]]\n"
          ]
        }
      ]
    },
    {
      "cell_type": "markdown",
      "source": [
        "#### Naive Bayes"
      ],
      "metadata": {
        "id": "MaE1QZPBE1MB"
      }
    },
    {
      "cell_type": "code",
      "source": [
        "# Instanciando Boosting com GaussianNB\n",
        "adaclassifier = AdaBoostClassifier(estimator=GaussianNB(priors=None, var_smoothing=1e-09),\n",
        "                                   n_estimators=10, learning_rate=0.5, algorithm=\"SAMME\")\n",
        "adaclassifier.fit(X_train, y_train)\n",
        "y_pred = adaclassifier.predict(X_test)\n",
        "\n",
        "# Acurácia do modelo\n",
        "acuracia = metrics.accuracy_score(y_test, y_pred)\n",
        "print(\"Acurácia do modelo com 10 estimadores:\", acuracia)\n",
        "\n",
        "# Matriz de confusão para 10%\n",
        "cm = confusion_matrix(y_test, y_pred)\n",
        "print(\"Matriz de confusão para 10 estimadores:\")\n",
        "print(cm)"
      ],
      "metadata": {
        "colab": {
          "base_uri": "https://localhost:8080/"
        },
        "id": "P4eZAN9AE96Z",
        "outputId": "6eae8550-7688-47e1-9953-c168f766e6b8"
      },
      "execution_count": 34,
      "outputs": [
        {
          "output_type": "stream",
          "name": "stdout",
          "text": [
            "Acurácia do modelo com 10 estimadores: 0.7208333333333333\n",
            "Matriz de confusão para 10 estimadores:\n",
            "[[94 36]\n",
            " [31 79]]\n"
          ]
        },
        {
          "output_type": "stream",
          "name": "stderr",
          "text": [
            "/usr/local/lib/python3.10/dist-packages/sklearn/ensemble/_weight_boosting.py:514: FutureWarning: The parameter 'algorithm' is deprecated in 1.6 and has no effect. It will be removed in version 1.8.\n",
            "  warnings.warn(\n"
          ]
        }
      ]
    },
    {
      "cell_type": "code",
      "source": [
        "# Instanciando Boosting com GaussianNB\n",
        "adaclassifier = AdaBoostClassifier(estimator=GaussianNB(priors=None, var_smoothing=1e-09),\n",
        "                                   n_estimators=20, learning_rate=0.5, algorithm=\"SAMME\")\n",
        "adaclassifier.fit(X_train, y_train)\n",
        "y_pred = adaclassifier.predict(X_test)\n",
        "\n",
        "# Acurácia do modelo\n",
        "acuracia = metrics.accuracy_score(y_test, y_pred)\n",
        "print(\"Acurácia do modelo com 20 estimadores:\", acuracia)\n",
        "\n",
        "# Matriz de confusão para 20%\n",
        "cm = confusion_matrix(y_test, y_pred)\n",
        "print(\"Matriz de confusão para 20 estimadores:\")\n",
        "print(cm)"
      ],
      "metadata": {
        "colab": {
          "base_uri": "https://localhost:8080/"
        },
        "id": "1I-V-YRRFPRa",
        "outputId": "16b8eda4-3a5c-4934-a5c5-4f0b0b15dc87"
      },
      "execution_count": 35,
      "outputs": [
        {
          "output_type": "stream",
          "name": "stdout",
          "text": [
            "Acurácia do modelo com 20 estimadores: 0.7208333333333333\n",
            "Matriz de confusão para 20 estimadores:\n",
            "[[94 36]\n",
            " [31 79]]\n"
          ]
        },
        {
          "output_type": "stream",
          "name": "stderr",
          "text": [
            "/usr/local/lib/python3.10/dist-packages/sklearn/ensemble/_weight_boosting.py:514: FutureWarning: The parameter 'algorithm' is deprecated in 1.6 and has no effect. It will be removed in version 1.8.\n",
            "  warnings.warn(\n"
          ]
        }
      ]
    },
    {
      "cell_type": "code",
      "source": [
        "# Instanciando Boosting com GaussianNB\n",
        "adaclassifier = AdaBoostClassifier(estimator=GaussianNB(priors=None, var_smoothing=1e-09),\n",
        "                                   n_estimators=30, learning_rate=0.5, algorithm=\"SAMME\")\n",
        "adaclassifier.fit(X_train, y_train)\n",
        "y_pred = adaclassifier.predict(X_test)\n",
        "\n",
        "# Acurácia do modelo\n",
        "acuracia = metrics.accuracy_score(y_test, y_pred)\n",
        "print(\"Acurácia do modelo com 30 estimadores:\", acuracia)\n",
        "\n",
        "# Matriz de confusão para 30%\n",
        "cm = confusion_matrix(y_test, y_pred)\n",
        "print(\"Matriz de confusão para 30 estimadores:\")\n",
        "print(cm)"
      ],
      "metadata": {
        "colab": {
          "base_uri": "https://localhost:8080/"
        },
        "id": "_buKAQkyFQm4",
        "outputId": "ad5e7caa-0f84-4504-ca61-02d342910e2d"
      },
      "execution_count": 36,
      "outputs": [
        {
          "output_type": "stream",
          "name": "stdout",
          "text": [
            "Acurácia do modelo com 30 estimadores: 0.7208333333333333\n",
            "Matriz de confusão para 30 estimadores:\n",
            "[[94 36]\n",
            " [31 79]]\n"
          ]
        },
        {
          "output_type": "stream",
          "name": "stderr",
          "text": [
            "/usr/local/lib/python3.10/dist-packages/sklearn/ensemble/_weight_boosting.py:514: FutureWarning: The parameter 'algorithm' is deprecated in 1.6 and has no effect. It will be removed in version 1.8.\n",
            "  warnings.warn(\n"
          ]
        }
      ]
    },
    {
      "cell_type": "markdown",
      "source": [
        "### Random Forest"
      ],
      "metadata": {
        "id": "LnF6IRy0HHkp"
      }
    },
    {
      "cell_type": "markdown",
      "source": [
        "#### Gini"
      ],
      "metadata": {
        "id": "EfWX5j9pHMm9"
      }
    },
    {
      "cell_type": "code",
      "source": [
        "# Instanciando Random Forest\n",
        "rf = RandomForestClassifier(n_estimators=10, criterion=\"gini\", max_depth=None)\n",
        "rf.fit(X_train, y_train)\n",
        "y_pred = rf.predict(X_test)\n",
        "\n",
        "# Acurácia do modelo\n",
        "acuracia = metrics.accuracy_score(y_test, y_pred)\n",
        "print(\"Acurácia do modelo com 10 estimadores:\", acuracia)\n",
        "\n",
        "# Matriz de confusão para 10%\n",
        "cm = confusion_matrix(y_test, y_pred)\n",
        "print(\"Matriz de confusão para 10 estimadores:\")\n",
        "print(cm)"
      ],
      "metadata": {
        "colab": {
          "base_uri": "https://localhost:8080/"
        },
        "id": "wYJxm99nHK7P",
        "outputId": "0581a03a-ed36-47c5-ae86-fc243474dfde"
      },
      "execution_count": 47,
      "outputs": [
        {
          "output_type": "stream",
          "name": "stdout",
          "text": [
            "Acurácia do modelo com 10 estimadores: 0.7083333333333334\n",
            "Matriz de confusão para 10 estimadores:\n",
            "[[94 36]\n",
            " [34 76]]\n"
          ]
        }
      ]
    },
    {
      "cell_type": "code",
      "source": [
        "# Instanciando Random Forest\n",
        "rf = RandomForestClassifier(n_estimators=20, criterion=\"gini\", max_depth=None)\n",
        "rf.fit(X_train, y_train)\n",
        "y_pred = rf.predict(X_test)\n",
        "\n",
        "# Acurácia do modelo\n",
        "acuracia = metrics.accuracy_score(y_test, y_pred)\n",
        "print(\"Acurácia do modelo com 20 estimadores:\", acuracia)\n",
        "\n",
        "# Matriz de confusão para 20%\n",
        "cm = confusion_matrix(y_test, y_pred)\n",
        "print(\"Matriz de confusão para 20 estimadores:\")\n",
        "print(cm)"
      ],
      "metadata": {
        "colab": {
          "base_uri": "https://localhost:8080/"
        },
        "id": "OR06_seOHzk-",
        "outputId": "17bfa64b-a228-4476-c441-e2bb3e5bec6a"
      },
      "execution_count": 48,
      "outputs": [
        {
          "output_type": "stream",
          "name": "stdout",
          "text": [
            "Acurácia do modelo com 20 estimadores: 0.7\n",
            "Matriz de confusão para 20 estimadores:\n",
            "[[89 41]\n",
            " [31 79]]\n"
          ]
        }
      ]
    },
    {
      "cell_type": "code",
      "source": [
        "# Instanciando Random Forest\n",
        "rf = RandomForestClassifier(n_estimators=30, criterion=\"gini\", max_depth=None)\n",
        "rf.fit(X_train, y_train)\n",
        "y_pred = rf.predict(X_test)\n",
        "\n",
        "# Acurácia do modelo\n",
        "acuracia = metrics.accuracy_score(y_test, y_pred)\n",
        "print(\"Acurácia do modelo com 30 estimadores:\", acuracia)\n",
        "\n",
        "# Matriz de confusão para 30%\n",
        "cm = confusion_matrix(y_test, y_pred)\n",
        "print(\"Matriz de confusão para 30 estimadores:\")\n",
        "print(cm)"
      ],
      "metadata": {
        "colab": {
          "base_uri": "https://localhost:8080/"
        },
        "id": "ujy8imqPH029",
        "outputId": "b59a6c29-72e6-4b48-eb21-a3e0d8224a68"
      },
      "execution_count": 49,
      "outputs": [
        {
          "output_type": "stream",
          "name": "stdout",
          "text": [
            "Acurácia do modelo com 30 estimadores: 0.7083333333333334\n",
            "Matriz de confusão para 30 estimadores:\n",
            "[[92 38]\n",
            " [32 78]]\n"
          ]
        }
      ]
    },
    {
      "cell_type": "code",
      "source": [
        "# Instanciando Random Forest\n",
        "rf = RandomForestClassifier(n_estimators=100, criterion=\"gini\", max_depth=None)\n",
        "rf.fit(X_train, y_train)\n",
        "y_pred = rf.predict(X_test)\n",
        "\n",
        "# Acurácia do modelo\n",
        "acuracia = metrics.accuracy_score(y_test, y_pred)\n",
        "print(\"Acurácia do modelo com 100 estimadores:\", acuracia)\n",
        "\n",
        "# Matriz de confusão para 100%\n",
        "cm = confusion_matrix(y_test, y_pred)\n",
        "print(\"Matriz de confusão para 100 estimadores:\")\n",
        "print(cm)"
      ],
      "metadata": {
        "colab": {
          "base_uri": "https://localhost:8080/"
        },
        "id": "6PFow6CSH2Ok",
        "outputId": "266e0d67-c2de-4671-8905-9de61503d8bb"
      },
      "execution_count": 50,
      "outputs": [
        {
          "output_type": "stream",
          "name": "stdout",
          "text": [
            "Acurácia do modelo com 100 estimadores: 0.7083333333333334\n",
            "Matriz de confusão para 100 estimadores:\n",
            "[[91 39]\n",
            " [31 79]]\n"
          ]
        }
      ]
    },
    {
      "cell_type": "markdown",
      "source": [
        "#### Entropy"
      ],
      "metadata": {
        "id": "AWC9b9r8IJmE"
      }
    },
    {
      "cell_type": "code",
      "source": [
        "# Instanciando Random Forest\n",
        "rf = RandomForestClassifier(n_estimators=10, criterion=\"entropy\", max_depth=None)\n",
        "rf.fit(X_train, y_train)\n",
        "y_pred = rf.predict(X_test)\n",
        "\n",
        "# Acurácia do modelo\n",
        "acuracia = metrics.accuracy_score(y_test, y_pred)\n",
        "print(\"Acurácia do modelo com 10 estimadores:\", acuracia)\n",
        "\n",
        "# Matriz de confusão para 10%\n",
        "cm = confusion_matrix(y_test, y_pred)\n",
        "print(\"Matriz de confusão para 10 estimadores:\")\n",
        "print(cm)"
      ],
      "metadata": {
        "colab": {
          "base_uri": "https://localhost:8080/"
        },
        "id": "a-m3j8XHIMti",
        "outputId": "81e31c22-ada7-4e45-a32a-351481defa5a"
      },
      "execution_count": 51,
      "outputs": [
        {
          "output_type": "stream",
          "name": "stdout",
          "text": [
            "Acurácia do modelo com 10 estimadores: 0.7041666666666667\n",
            "Matriz de confusão para 10 estimadores:\n",
            "[[94 36]\n",
            " [35 75]]\n"
          ]
        }
      ]
    },
    {
      "cell_type": "code",
      "source": [
        "# Instanciando Random Forest\n",
        "rf = RandomForestClassifier(n_estimators=20, criterion=\"entropy\", max_depth=None)\n",
        "rf.fit(X_train, y_train)\n",
        "y_pred = rf.predict(X_test)\n",
        "\n",
        "# Acurácia do modelo\n",
        "acuracia = metrics.accuracy_score(y_test, y_pred)\n",
        "print(\"Acurácia do modelo com 20 estimadores:\", acuracia)\n",
        "\n",
        "# Matriz de confusão para 20%\n",
        "cm = confusion_matrix(y_test, y_pred)\n",
        "print(\"Matriz de confusão para 20 estimadores:\")\n",
        "print(cm)"
      ],
      "metadata": {
        "colab": {
          "base_uri": "https://localhost:8080/"
        },
        "id": "gquF8h4-IM6C",
        "outputId": "22dcf4d4-44f2-4004-cfc3-4c6e154e1021"
      },
      "execution_count": 52,
      "outputs": [
        {
          "output_type": "stream",
          "name": "stdout",
          "text": [
            "Acurácia do modelo com 20 estimadores: 0.65\n",
            "Matriz de confusão para 20 estimadores:\n",
            "[[82 48]\n",
            " [36 74]]\n"
          ]
        }
      ]
    },
    {
      "cell_type": "code",
      "source": [
        "# Instanciando Random Forest\n",
        "rf = RandomForestClassifier(n_estimators=30, criterion=\"entropy\", max_depth=None)\n",
        "rf.fit(X_train, y_train)\n",
        "y_pred = rf.predict(X_test)\n",
        "\n",
        "# Acurácia do modelo\n",
        "acuracia = metrics.accuracy_score(y_test, y_pred)\n",
        "print(\"Acurácia do modelo com 30 estimadores:\", acuracia)\n",
        "\n",
        "# Matriz de confusão para 30%\n",
        "cm = confusion_matrix(y_test, y_pred)\n",
        "print(\"Matriz de confusão para 30 estimadores:\")\n",
        "print(cm)"
      ],
      "metadata": {
        "colab": {
          "base_uri": "https://localhost:8080/"
        },
        "id": "ZUVwIxx7INFz",
        "outputId": "3e6e6923-feb4-44f5-8546-affc5d2a5bc5"
      },
      "execution_count": 53,
      "outputs": [
        {
          "output_type": "stream",
          "name": "stdout",
          "text": [
            "Acurácia do modelo com 30 estimadores: 0.6791666666666667\n",
            "Matriz de confusão para 30 estimadores:\n",
            "[[86 44]\n",
            " [33 77]]\n"
          ]
        }
      ]
    },
    {
      "cell_type": "code",
      "source": [
        "# Instanciando Random Forest\n",
        "rf = RandomForestClassifier(n_estimators=100, criterion=\"entropy\", max_depth=None)\n",
        "rf.fit(X_train, y_train)\n",
        "y_pred = rf.predict(X_test)\n",
        "\n",
        "# Acurácia do modelo\n",
        "acuracia = metrics.accuracy_score(y_test, y_pred)\n",
        "print(\"Acurácia do modelo com 100 estimadores:\", acuracia)\n",
        "\n",
        "# Matriz de confusão para 100%\n",
        "cm = confusion_matrix(y_test, y_pred)\n",
        "print(\"Matriz de confusão para 100 estimadores:\")\n",
        "print(cm)"
      ],
      "metadata": {
        "colab": {
          "base_uri": "https://localhost:8080/"
        },
        "id": "Rtq9pF3aINUu",
        "outputId": "8a62dfa1-593b-4d8e-d69d-773822b1acb1"
      },
      "execution_count": 54,
      "outputs": [
        {
          "output_type": "stream",
          "name": "stdout",
          "text": [
            "Acurácia do modelo com 100 estimadores: 0.6791666666666667\n",
            "Matriz de confusão para 100 estimadores:\n",
            "[[86 44]\n",
            " [33 77]]\n"
          ]
        }
      ]
    },
    {
      "cell_type": "markdown",
      "source": [
        "#### Log_loss"
      ],
      "metadata": {
        "id": "U9M9JWlNIooB"
      }
    },
    {
      "cell_type": "code",
      "source": [
        "# Instanciando Random Forest\n",
        "rf = RandomForestClassifier(n_estimators=10, criterion=\"log_loss\", max_depth=None)\n",
        "rf.fit(X_train, y_train)\n",
        "y_pred = rf.predict(X_test)\n",
        "\n",
        "# Acurácia do modelo\n",
        "acuracia = metrics.accuracy_score(y_test, y_pred)\n",
        "print(\"Acurácia do modelo com 10 estimadores:\", acuracia)\n",
        "\n",
        "# Matriz de confusão para 10%\n",
        "cm = confusion_matrix(y_test, y_pred)\n",
        "print(\"Matriz de confusão para 10 estimadores:\")\n",
        "print(cm)"
      ],
      "metadata": {
        "colab": {
          "base_uri": "https://localhost:8080/"
        },
        "id": "NLxu-UnDIsU_",
        "outputId": "499e226a-2ac5-443a-b2d6-dbff92651464"
      },
      "execution_count": 55,
      "outputs": [
        {
          "output_type": "stream",
          "name": "stdout",
          "text": [
            "Acurácia do modelo com 10 estimadores: 0.675\n",
            "Matriz de confusão para 10 estimadores:\n",
            "[[85 45]\n",
            " [33 77]]\n"
          ]
        }
      ]
    },
    {
      "cell_type": "code",
      "source": [
        "# Instanciando Random Forest\n",
        "rf = RandomForestClassifier(n_estimators=20, criterion=\"log_loss\", max_depth=None)\n",
        "rf.fit(X_train, y_train)\n",
        "y_pred = rf.predict(X_test)\n",
        "\n",
        "# Acurácia do modelo\n",
        "acuracia = metrics.accuracy_score(y_test, y_pred)\n",
        "print(\"Acurácia do modelo com 20 estimadores:\", acuracia)\n",
        "\n",
        "# Matriz de confusão para 20%\n",
        "cm = confusion_matrix(y_test, y_pred)\n",
        "print(\"Matriz de confusão para 20 estimadores:\")\n",
        "print(cm)"
      ],
      "metadata": {
        "colab": {
          "base_uri": "https://localhost:8080/"
        },
        "id": "lba9B_g5IvOj",
        "outputId": "5bcfece6-61ab-4777-f965-0c29319fd7e2"
      },
      "execution_count": 56,
      "outputs": [
        {
          "output_type": "stream",
          "name": "stdout",
          "text": [
            "Acurácia do modelo com 20 estimadores: 0.6916666666666667\n",
            "Matriz de confusão para 20 estimadores:\n",
            "[[91 39]\n",
            " [35 75]]\n"
          ]
        }
      ]
    },
    {
      "cell_type": "code",
      "source": [
        "# Instanciando Random Forest\n",
        "rf = RandomForestClassifier(n_estimators=30, criterion=\"log_loss\", max_depth=None)\n",
        "rf.fit(X_train, y_train)\n",
        "y_pred = rf.predict(X_test)\n",
        "\n",
        "# Acurácia do modelo\n",
        "acuracia = metrics.accuracy_score(y_test, y_pred)\n",
        "print(\"Acurácia do modelo com 30 estimadores:\", acuracia)\n",
        "\n",
        "# Matriz de confusão para 30%\n",
        "cm = confusion_matrix(y_test, y_pred)\n",
        "print(\"Matriz de confusão para 30 estimadores:\")\n",
        "print(cm)"
      ],
      "metadata": {
        "colab": {
          "base_uri": "https://localhost:8080/"
        },
        "id": "aS7LBnuFIvpS",
        "outputId": "6f171a07-2e02-4f66-898f-02c72e92fa39"
      },
      "execution_count": 57,
      "outputs": [
        {
          "output_type": "stream",
          "name": "stdout",
          "text": [
            "Acurácia do modelo com 30 estimadores: 0.6833333333333333\n",
            "Matriz de confusão para 30 estimadores:\n",
            "[[88 42]\n",
            " [34 76]]\n"
          ]
        }
      ]
    },
    {
      "cell_type": "code",
      "source": [
        "# Instanciando Random Forest\n",
        "rf = RandomForestClassifier(n_estimators=100, criterion=\"log_loss\", max_depth=None)\n",
        "rf.fit(X_train, y_train)\n",
        "y_pred = rf.predict(X_test)\n",
        "\n",
        "# Acurácia do modelo\n",
        "acuracia = metrics.accuracy_score(y_test, y_pred)\n",
        "print(\"Acurácia do modelo com 100 estimadores:\", acuracia)\n",
        "\n",
        "# Matriz de confusão para 100%\n",
        "cm = confusion_matrix(y_test, y_pred)\n",
        "print(\"Matriz de confusão para 100 estimadores:\")\n",
        "print(cm)"
      ],
      "metadata": {
        "colab": {
          "base_uri": "https://localhost:8080/"
        },
        "id": "JX7opaTqIwI9",
        "outputId": "350bcef3-dffa-4c69-889a-83bc192c2260"
      },
      "execution_count": 58,
      "outputs": [
        {
          "output_type": "stream",
          "name": "stdout",
          "text": [
            "Acurácia do modelo com 100 estimadores: 0.6916666666666667\n",
            "Matriz de confusão para 100 estimadores:\n",
            "[[89 41]\n",
            " [33 77]]\n"
          ]
        }
      ]
    }
  ]
}