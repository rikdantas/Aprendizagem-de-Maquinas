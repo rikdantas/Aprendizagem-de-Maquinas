{
  "nbformat": 4,
  "nbformat_minor": 0,
  "metadata": {
    "colab": {
      "provenance": [],
      "toc_visible": true,
      "authorship_tag": "ABX9TyPI+R/+Lg217FEEq/Kgb1Gc",
      "include_colab_link": true
    },
    "kernelspec": {
      "name": "python3",
      "display_name": "Python 3"
    },
    "language_info": {
      "name": "python"
    }
  },
  "cells": [
    {
      "cell_type": "markdown",
      "metadata": {
        "id": "view-in-github",
        "colab_type": "text"
      },
      "source": [
        "<a href=\"https://colab.research.google.com/github/rikdantas/Aprendizagem-de-Maquinas/blob/main/IMD1101/Pratica_01/Pratica01_PCA.ipynb\" target=\"_parent\"><img src=\"https://colab.research.google.com/assets/colab-badge.svg\" alt=\"Open In Colab\"/></a>"
      ]
    },
    {
      "cell_type": "markdown",
      "source": [
        "# Prática 01 - Utilização de extrator para imagens e uso do k-NN\n",
        "Nesse notebook será aplicado o método do PCA nas 6 melhores bases, resultando assim em 6 novas bases.\n",
        "\n",
        "Aluno: Paulo Ricardo Dantas"
      ],
      "metadata": {
        "id": "R8OzpZh4D2ca"
      }
    },
    {
      "cell_type": "code",
      "execution_count": 15,
      "metadata": {
        "id": "f6IddCwYDxOY"
      },
      "outputs": [],
      "source": [
        "# Importando as bibliotecas\n",
        "import numpy as np\n",
        "import pandas as pd\n",
        "import gdown\n",
        "from sklearn.decomposition import PCA\n",
        "from sklearn.model_selection import train_test_split\n",
        "from sklearn.neighbors import KNeighborsClassifier\n",
        "from sklearn.metrics import accuracy_score\n",
        "from sklearn.model_selection import cross_val_score"
      ]
    },
    {
      "cell_type": "markdown",
      "source": [
        "## Baixando os datasets"
      ],
      "metadata": {
        "id": "Jzs45cqxES8A"
      }
    },
    {
      "cell_type": "code",
      "source": [
        "# Criando função para baixar os datasets, assim deixando o código um pouco mais organizado\n",
        "def baixar_dataset(url, output):\n",
        "    gdown.download(url, output, quiet=True)"
      ],
      "metadata": {
        "id": "RC_j1NM7EcSD"
      },
      "execution_count": 2,
      "outputs": []
    },
    {
      "cell_type": "code",
      "source": [
        "# Baixando datasets do VGG16\n",
        "baixar_dataset('https://drive.google.com/uc?id=1Lig0-UqpGvMQCmV5r5U__yucoocrlbtf', 'VGG16_1.csv')\n",
        "baixar_dataset('https://drive.google.com/uc?id=1V7_N11eqBnTiM9iKY3vhMVrTzoERrijS', 'VGG16_2.csv')\n",
        "baixar_dataset('https://drive.google.com/uc?id=1d8spY-o4xBsozdeSbGGlweZrips1m0HC', 'VGG16_3.csv')\n",
        "\n",
        "# Baixando datasets do VGG19\n",
        "baixar_dataset('https://drive.google.com/uc?id=1yjuqQKxXtBqlMetGgD3fyFjDZ3zg3YDS', 'VGG19_1.csv')\n",
        "baixar_dataset('https://drive.google.com/uc?id=13nmb2kPrv6oVKlhodM-_ierzsMrvWL18', 'VGG19_2.csv')\n",
        "baixar_dataset('https://drive.google.com/uc?id=1qB2SQXLtgS01FqTrwGYLdOY1pwRqkuXu', 'VGG19_3.csv')"
      ],
      "metadata": {
        "id": "Kl-EOeT0EdZU"
      },
      "execution_count": 3,
      "outputs": []
    },
    {
      "cell_type": "markdown",
      "source": [
        "## Importando os datasets\n",
        "Vamos usar o pandas para importar os datasets para DataFrames. Usaremos os mesmos nomes que foram baixados os arquivos dos datasets. Podemos relacionar os datasets com as configurações como visto na tabela a seguir:\n",
        "\n",
        "| Nome do dataset | Configuração         |\n",
        "|------------------|----------------------|\n",
        "| VGG16_1         | CNN_VGG16_128_avg   |\n",
        "| VGG16_2         | CNN_VGG16_128_max   |\n",
        "| VGG16_3         | CNN_VGG16_256_avg   |\n",
        "| VGG19_1         | CNN_VGG19_128_avg   |\n",
        "| VGG19_2         | CNN_VGG19_128_max   |\n",
        "| VGG19_3         | CNN_VGG19_256_avg   |"
      ],
      "metadata": {
        "id": "TTIWX6PSEq6S"
      }
    },
    {
      "cell_type": "code",
      "source": [
        "# Importando os datasets do VGG16\n",
        "vgg16_1 = pd.read_csv('VGG16_1.csv', encoding='utf-8')\n",
        "vgg16_2 = pd.read_csv('VGG16_2.csv', encoding='utf-8')\n",
        "vgg16_3 = pd.read_csv('VGG16_3.csv', encoding='utf-8')\n",
        "\n",
        "# Importando os datasets do VGG19\n",
        "vgg19_1 = pd.read_csv('VGG19_1.csv', encoding='utf-8')\n",
        "vgg19_2 = pd.read_csv('VGG19_2.csv', encoding='utf-8')\n",
        "vgg19_3 = pd.read_csv('VGG19_3.csv', encoding='utf-8')"
      ],
      "metadata": {
        "id": "D-VwpANkEx-C"
      },
      "execution_count": 4,
      "outputs": []
    },
    {
      "cell_type": "markdown",
      "source": [
        "## Aplicando o PCA"
      ],
      "metadata": {
        "id": "ink-LZiIGbOZ"
      }
    },
    {
      "cell_type": "code",
      "source": [
        "# Lista com os datasets já carregados e suas configurações\n",
        "datasets = {\n",
        "    \"vgg16_1\": (\"CNN_VGG16_128_avg\", vgg16_1),\n",
        "    \"vgg16_2\": (\"CNN_VGG16_128_max\", vgg16_2),\n",
        "    \"vgg16_3\": (\"CNN_VGG16_256_avg\", vgg16_3),\n",
        "    \"vgg19_1\": (\"CNN_VGG19_128_avg\", vgg19_1),\n",
        "    \"vgg19_2\": (\"CNN_VGG19_128_max\", vgg19_2),\n",
        "    \"vgg19_3\": (\"CNN_VGG19_256_avg\", vgg19_3),\n",
        "}\n",
        "\n",
        "# Dicionário para armazenar os resultados do PCA\n",
        "pca_results = {}\n"
      ],
      "metadata": {
        "id": "JjEvC_I0GfIr"
      },
      "execution_count": 10,
      "outputs": []
    },
    {
      "cell_type": "code",
      "source": [
        "for dataset_name, (config, data) in datasets.items():\n",
        "    # Separar as features e a coluna 'class'\n",
        "    X = data.iloc[:, :-1]  # Todas as colunas exceto a última\n",
        "    y = data[\"class\"]      # Última coluna\n",
        "\n",
        "    # Aplicar o PCA com 10 componentes\n",
        "    pca = PCA(n_components=10)\n",
        "    X_pca = pca.fit_transform(X)\n",
        "\n",
        "    # Combinar os dados reduzidos com a coluna 'class'\n",
        "    pca_data = pd.DataFrame(X_pca, columns=[f\"PC{i+1}\" for i in range(10)])\n",
        "    pca_data[\"class\"] = y\n",
        "\n",
        "    # Nomear a base resultante\n",
        "    pca_name = f\"PCA_{config}\"\n",
        "    pca_results[pca_name] = pca_data\n",
        "\n",
        "    # Salvar em CSV\n",
        "    pca_data.to_csv(f\"{pca_name}.csv\", index=False, encoding=\"utf-8\")"
      ],
      "metadata": {
        "id": "7L_jVY05Ggb8"
      },
      "execution_count": 11,
      "outputs": []
    },
    {
      "cell_type": "markdown",
      "source": [
        "## Aplicando o kNN nas novas bases"
      ],
      "metadata": {
        "id": "my8ZBAkKINam"
      }
    },
    {
      "cell_type": "markdown",
      "source": [
        "### Importando os datasets como dataframes"
      ],
      "metadata": {
        "id": "tYYmLEQYJFfg"
      }
    },
    {
      "cell_type": "code",
      "source": [
        "# Importando os novos datasets resultantes do PCA\n",
        "pca_vgg16_1 = pd.read_csv('PCA_CNN_VGG16_128_avg.csv', encoding='utf-8')\n",
        "pca_vgg16_2 = pd.read_csv('PCA_CNN_VGG16_128_max.csv', encoding='utf-8')\n",
        "pca_vgg16_3 = pd.read_csv('PCA_CNN_VGG16_256_avg.csv', encoding='utf-8')\n",
        "pca_vgg19_1 = pd.read_csv('PCA_CNN_VGG19_128_avg.csv', encoding='utf-8')\n",
        "pcar_vgg19_2 = pd.read_csv('PCA_CNN_VGG19_128_max.csv', encoding='utf-8')\n",
        "pca_vgg19_3 = pd.read_csv('PCA_CNN_VGG19_256_avg.csv', encoding='utf-8')"
      ],
      "metadata": {
        "id": "EkfeOePIJKo1"
      },
      "execution_count": 13,
      "outputs": []
    },
    {
      "cell_type": "markdown",
      "source": [
        "### Utilizando holdout\n"
      ],
      "metadata": {
        "id": "6fGBZWppIRog"
      }
    },
    {
      "cell_type": "code",
      "source": [
        "# Lista de DataFrames\n",
        "dataframes = {\n",
        "     \"pca_vgg16_1\": pca_vgg16_1,\n",
        "     \"pca_vgg16_2\": pca_vgg16_2,\n",
        "     \"pca_vgg16_3\": pca_vgg16_3,\n",
        "     \"pca_vgg19_1\": pca_vgg19_1,\n",
        "     \"pca_vgg19_2\": pcar_vgg19_2,\n",
        "     \"pca_vgg19_3\": pca_vgg19_3\n",
        "}\n",
        "\n",
        "# Configurações\n",
        "results = {}\n",
        "random_state = 1"
      ],
      "metadata": {
        "id": "AbbWIWXSJbtf"
      },
      "execution_count": 14,
      "outputs": []
    },
    {
      "cell_type": "code",
      "source": [
        "# Loop para aplicar k-NN\n",
        "for name, df in dataframes.items():\n",
        "    # A última coluna é o rótulo (classe)\n",
        "    X = df.iloc[:, :-1]\n",
        "    y = df.iloc[:, -1]\n",
        "\n",
        "    # Holdout (70/30)\n",
        "    X_train, X_test, y_train, y_test = train_test_split(X, y, test_size=0.3, random_state=random_state)\n",
        "\n",
        "    # Testar K de 1 a 10\n",
        "    accuracies = []\n",
        "    for k in range(1, 11):\n",
        "        knn = KNeighborsClassifier(n_neighbors=k)\n",
        "        knn.fit(X_train, y_train)\n",
        "        y_pred = knn.predict(X_test)\n",
        "        acc = accuracy_score(y_test, y_pred)\n",
        "        accuracies.append(acc)\n",
        "\n",
        "    # Armazenar resultados\n",
        "    results[name] = accuracies\n",
        "\n",
        "# Exibir resultados\n",
        "results_df = pd.DataFrame(results, index=[f\"K={k}\" for k in range(1, 11)])\n",
        "print(results_df)"
      ],
      "metadata": {
        "colab": {
          "base_uri": "https://localhost:8080/"
        },
        "id": "hjkCRG1mJ0yx",
        "outputId": "1a017c80-85c4-4f70-fc41-31395939e7e2"
      },
      "execution_count": 16,
      "outputs": [
        {
          "output_type": "stream",
          "name": "stdout",
          "text": [
            "      pca_vgg16_1  pca_vgg16_2  pca_vgg16_3  pca_vgg19_1  pca_vgg19_2  \\\n",
            "K=1      0.566667     0.595833     0.666667     0.541667     0.562500   \n",
            "K=2      0.579167     0.566667     0.654167     0.570833     0.533333   \n",
            "K=3      0.608333     0.595833     0.675000     0.625000     0.612500   \n",
            "K=4      0.575000     0.583333     0.658333     0.637500     0.608333   \n",
            "K=5      0.612500     0.616667     0.675000     0.645833     0.650000   \n",
            "K=6      0.591667     0.616667     0.679167     0.629167     0.604167   \n",
            "K=7      0.591667     0.633333     0.662500     0.641667     0.625000   \n",
            "K=8      0.612500     0.633333     0.662500     0.629167     0.633333   \n",
            "K=9      0.620833     0.637500     0.670833     0.629167     0.620833   \n",
            "K=10     0.645833     0.641667     0.675000     0.629167     0.616667   \n",
            "\n",
            "      pca_vgg19_3  \n",
            "K=1      0.579167  \n",
            "K=2      0.604167  \n",
            "K=3      0.608333  \n",
            "K=4      0.591667  \n",
            "K=5      0.629167  \n",
            "K=6      0.629167  \n",
            "K=7      0.637500  \n",
            "K=8      0.612500  \n",
            "K=9      0.625000  \n",
            "K=10     0.629167  \n"
          ]
        }
      ]
    },
    {
      "cell_type": "markdown",
      "source": [
        "### Utilizando K-fold\n"
      ],
      "metadata": {
        "id": "yql3oPJtKBuf"
      }
    },
    {
      "cell_type": "code",
      "source": [
        "# Lista de DataFrames\n",
        "dataframes = {\n",
        "     \"pca_vgg16_1\": pca_vgg16_1,\n",
        "     \"pca_vgg16_2\": pca_vgg16_2,\n",
        "     \"pca_vgg16_3\": pca_vgg16_3,\n",
        "     \"pca_vgg19_1\": pca_vgg19_1,\n",
        "     \"pca_vgg19_2\": pcar_vgg19_2,\n",
        "     \"pca_vgg19_3\": pca_vgg19_3\n",
        "}\n",
        "\n",
        "# Configurações\n",
        "results = {}"
      ],
      "metadata": {
        "id": "IOgZy8x3KKi1"
      },
      "execution_count": 17,
      "outputs": []
    },
    {
      "cell_type": "code",
      "source": [
        "# Loop para aplicar k-NN\n",
        "for name, df in dataframes.items():\n",
        "    # A última coluna seja é o rótulo (classe)\n",
        "    X = df.iloc[:, :-1]\n",
        "    y = df.iloc[:, -1]\n",
        "\n",
        "    # Testar K de 1 a 10\n",
        "    accuracies = []\n",
        "    for k in range(1, 11):\n",
        "        knn = KNeighborsClassifier(n_neighbors=k)\n",
        "        # 10-fold CV\n",
        "        scores = cross_val_score(knn, X, y, cv=10, scoring='accuracy')\n",
        "        accuracies.append(np.mean(scores))\n",
        "\n",
        "    # Armazenar resultados\n",
        "    results[name] = accuracies\n",
        "\n",
        "# Exibir resultados\n",
        "results_df = pd.DataFrame(results, index=[f\"K={k}\" for k in range(1, 11)])\n",
        "print(results_df)"
      ],
      "metadata": {
        "colab": {
          "base_uri": "https://localhost:8080/"
        },
        "id": "VyFfU2JaKN-L",
        "outputId": "d33a2b3a-1eb3-4d54-c7e9-e98c7cd56563"
      },
      "execution_count": 18,
      "outputs": [
        {
          "output_type": "stream",
          "name": "stdout",
          "text": [
            "      pca_vgg16_1  pca_vgg16_2  pca_vgg16_3  pca_vgg19_1  pca_vgg19_2  \\\n",
            "K=1       0.57625      0.62250      0.65125      0.59750      0.60375   \n",
            "K=2       0.57375      0.60125      0.65375      0.60625      0.60625   \n",
            "K=3       0.61875      0.65000      0.67750      0.62500      0.63875   \n",
            "K=4       0.62375      0.62875      0.67375      0.63375      0.63625   \n",
            "K=5       0.65625      0.65625      0.69375      0.64000      0.66625   \n",
            "K=6       0.63125      0.64750      0.68375      0.64875      0.65375   \n",
            "K=7       0.64375      0.66625      0.69500      0.63250      0.67250   \n",
            "K=8       0.64625      0.66000      0.68500      0.65125      0.67500   \n",
            "K=9       0.67000      0.68125      0.69625      0.65375      0.67500   \n",
            "K=10      0.66250      0.67750      0.68875      0.64625      0.67375   \n",
            "\n",
            "      pca_vgg19_3  \n",
            "K=1       0.63250  \n",
            "K=2       0.63250  \n",
            "K=3       0.67250  \n",
            "K=4       0.65625  \n",
            "K=5       0.67375  \n",
            "K=6       0.67500  \n",
            "K=7       0.67000  \n",
            "K=8       0.69000  \n",
            "K=9       0.67875  \n",
            "K=10      0.68625  \n"
          ]
        }
      ]
    }
  ]
}