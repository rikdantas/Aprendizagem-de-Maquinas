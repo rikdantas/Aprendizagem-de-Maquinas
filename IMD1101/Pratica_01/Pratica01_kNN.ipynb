{
  "nbformat": 4,
  "nbformat_minor": 0,
  "metadata": {
    "colab": {
      "provenance": [],
      "authorship_tag": "ABX9TyNniK+sqm0iqxfmEC4wG+zX",
      "include_colab_link": true
    },
    "kernelspec": {
      "name": "python3",
      "display_name": "Python 3"
    },
    "language_info": {
      "name": "python"
    }
  },
  "cells": [
    {
      "cell_type": "markdown",
      "metadata": {
        "id": "view-in-github",
        "colab_type": "text"
      },
      "source": [
        "<a href=\"https://colab.research.google.com/github/rikdantas/Aprendizagem-de-Maquinas/blob/main/IMD1101/Pratica_01/Pratica01_kNN.ipynb\" target=\"_parent\"><img src=\"https://colab.research.google.com/assets/colab-badge.svg\" alt=\"Open In Colab\"/></a>"
      ]
    },
    {
      "cell_type": "markdown",
      "source": [
        "# Prática 01 - Utilização de extrator para imagens e uso do k-NN\n",
        "Nesse notebook serão desenvolvidos os códigos para aplicar o k-NN nas 12 bases geradas pelo HOG e CNN.\n",
        "\n",
        "Aluno: Paulo Ricardo Dantas"
      ],
      "metadata": {
        "id": "9ucUKy_u0lcw"
      }
    },
    {
      "cell_type": "code",
      "execution_count": 8,
      "metadata": {
        "id": "03kaVsFhqTov"
      },
      "outputs": [],
      "source": [
        "# Importando as bibliotecas\n",
        "import pandas as pd\n",
        "import gdown\n",
        "from sklearn.model_selection import train_test_split\n",
        "from sklearn.neighbors import KNeighborsClassifier\n",
        "from sklearn.metrics import accuracy_score"
      ]
    },
    {
      "cell_type": "markdown",
      "source": [
        "## Baixando os datasets\n",
        "Como estou separando os notebooks por partes, iremos baixar os datasets resultantes que estão hospedados no Google Drive."
      ],
      "metadata": {
        "id": "GU2W3jKm2S5P"
      }
    },
    {
      "cell_type": "code",
      "source": [
        "# Criando função para baixar os datasets, assim deixando o código um pouco mais organizado\n",
        "def baixar_dataset(url, output):\n",
        "    gdown.download(url, output, quiet=True)"
      ],
      "metadata": {
        "id": "LWksJjwd2l9T"
      },
      "execution_count": 4,
      "outputs": []
    },
    {
      "cell_type": "code",
      "source": [
        "# Baixando datasets do HOG\n",
        "baixar_dataset('https://drive.google.com/uc?id=1dULiu_42C2HxXn0RrryKOWs0zn9rylug', 'HOG_1.csv')\n",
        "baixar_dataset('https://drive.google.com/uc?id=1byMlvmIqAtH5r0avtSxoqbEzjKeO1gAm', 'HOG_2.csv')\n",
        "baixar_dataset('https://drive.google.com/uc?id=1bea8ef7uSiDRknjOxyej6csxdc21MOeh', 'HOG_3.csv')\n",
        "baixar_dataset('https://drive.google.com/uc?id=1VhY6sc9dj3DyLEI_6DbCwrrke7y2FS9C', 'HOG_4.csv')\n",
        "\n",
        "# Baixando datasets do VGG16\n",
        "baixar_dataset('https://drive.google.com/uc?id=1Lig0-UqpGvMQCmV5r5U__yucoocrlbtf', 'VGG16_1.csv')\n",
        "baixar_dataset('https://drive.google.com/uc?id=1V7_N11eqBnTiM9iKY3vhMVrTzoERrijS', 'VGG16_2.csv')\n",
        "baixar_dataset('https://drive.google.com/uc?id=1d8spY-o4xBsozdeSbGGlweZrips1m0HC', 'VGG16_3.csv')\n",
        "baixar_dataset('https://drive.google.com/uc?id=1gaXm38L39O1RRQlUWBX1EIuNb1uz9c7K', 'VGG16_4.csv')\n",
        "\n",
        "# Baixando datasets do VGG19\n",
        "baixar_dataset('https://drive.google.com/uc?id=1yjuqQKxXtBqlMetGgD3fyFjDZ3zg3YDS', 'VGG19_1.csv')\n",
        "baixar_dataset('https://drive.google.com/uc?id=13nmb2kPrv6oVKlhodM-_ierzsMrvWL18', 'VGG19_2.csv')\n",
        "baixar_dataset('https://drive.google.com/uc?id=1qB2SQXLtgS01FqTrwGYLdOY1pwRqkuXu', 'VGG19_3.csv')\n",
        "baixar_dataset('https://drive.google.com/uc?id=1sgLqrJdFWQuBtHjmBdUCEYwp-7GEOrDY', 'VGG19_4.csv')"
      ],
      "metadata": {
        "id": "3RlBL0qj2_4s"
      },
      "execution_count": 6,
      "outputs": []
    },
    {
      "cell_type": "markdown",
      "source": [
        "## Importando os datasets\n",
        "Vamos usar o pandas para importar os datasets para DataFrames. Usaremos os mesmos nomes que foram baixados os arquivos dos datasets. Podemos relacionar os datasets com as configurações como visto na tabela a seguir:\n",
        "\n",
        "| Nome do dataset | Configuração         |\n",
        "|------------------|----------------------|\n",
        "| HOG_1           | HOG_128_16x16       |\n",
        "| HOG_2           | HOG_128_20x20       |\n",
        "| HOG_3           | HOG_256_16x16       |\n",
        "| HOG_4           | HOG_256_20x20       |\n",
        "| VGG16_1         | CNN_VGG16_128_avg   |\n",
        "| VGG16_2         | CNN_VGG16_128_max   |\n",
        "| VGG16_3         | CNN_VGG16_256_avg   |\n",
        "| VGG16_4         | CNN_VGG16_256_max   |\n",
        "| VGG19_1         | CNN_VGG19_128_avg   |\n",
        "| VGG19_2         | CNN_VGG19_128_max   |\n",
        "| VGG19_3         | CNN_VGG19_256_avg   |\n",
        "| VGG19_4         | CNN_VGG19_256_max   |\n"
      ],
      "metadata": {
        "id": "qWOwRDeF5LVe"
      }
    },
    {
      "cell_type": "code",
      "source": [
        "# Importando os datasets do HOG\n",
        "hog_1 = pd.read_csv('HOG_1.csv', encoding='utf-8')\n",
        "hog_2 = pd.read_csv('HOG_2.csv', encoding='utf-8')\n",
        "hog_3 = pd.read_csv('HOG_3.csv', encoding='utf-8')\n",
        "hog_4 = pd.read_csv('HOG_4.csv', encoding='utf-8')\n",
        "\n",
        "# Importando os datasets do VGG16\n",
        "vgg16_1 = pd.read_csv('VGG16_1.csv', encoding='utf-8')\n",
        "vgg16_2 = pd.read_csv('VGG16_2.csv', encoding='utf-8')\n",
        "vgg16_3 = pd.read_csv('VGG16_3.csv', encoding='utf-8')\n",
        "vgg16_4 = pd.read_csv('VGG16_4.csv', encoding='utf-8')\n",
        "\n",
        "# Importando os datasets do VGG19\n",
        "vgg19_1 = pd.read_csv('VGG19_1.csv', encoding='utf-8')\n",
        "vgg19_2 = pd.read_csv('VGG19_2.csv', encoding='utf-8')\n",
        "vgg19_3 = pd.read_csv('VGG19_3.csv', encoding='utf-8')\n",
        "vgg19_4 = pd.read_csv('VGG19_4.csv', encoding='utf-8')"
      ],
      "metadata": {
        "id": "c0QGIDup6uWa"
      },
      "execution_count": 7,
      "outputs": []
    },
    {
      "cell_type": "markdown",
      "source": [
        "## Aplicando o k-NN"
      ],
      "metadata": {
        "id": "IY-pj_36-MtE"
      }
    },
    {
      "cell_type": "markdown",
      "source": [
        "### Utilizando holdout\n",
        "Nessa parte iremos dividir o dataset em um conjunto de 70% para treino e 30% para teste"
      ],
      "metadata": {
        "id": "sQbrEgt8AtG7"
      }
    },
    {
      "cell_type": "markdown",
      "source": [
        "#### Listando os dataframes para fazer tudo com um loop"
      ],
      "metadata": {
        "id": "Q0NSu56e-Vmu"
      }
    },
    {
      "cell_type": "code",
      "source": [
        "# Lista de DataFrames\n",
        "dataframes = {\n",
        "    \"hog_1\": hog_1, \"hog_2\": hog_2, \"hog_3\": hog_3, \"hog_4\": hog_4,\n",
        "    \"vgg16_1\": vgg16_1, \"vgg16_2\": vgg16_2, \"vgg16_3\": vgg16_3, \"vgg16_4\": vgg16_4,\n",
        "    \"vgg19_1\": vgg19_1, \"vgg19_2\": vgg19_2, \"vgg19_3\": vgg19_3, \"vgg19_4\": vgg19_4,\n",
        "}\n",
        "\n",
        "# Configurações\n",
        "results = {}\n",
        "random_state = 1"
      ],
      "metadata": {
        "id": "bcoS9E1w-Zy2"
      },
      "execution_count": 10,
      "outputs": []
    },
    {
      "cell_type": "code",
      "source": [
        "# Loop para aplicar k-NN\n",
        "for name, df in dataframes.items():\n",
        "    # A última coluna é o rótulo (classe)\n",
        "    X = df.iloc[:, :-1]\n",
        "    y = df.iloc[:, -1]\n",
        "\n",
        "    # Holdout (70/30)\n",
        "    X_train, X_test, y_train, y_test = train_test_split(X, y, test_size=0.3, random_state=random_state)\n",
        "\n",
        "    # Testar K de 1 a 10\n",
        "    accuracies = []\n",
        "    for k in range(1, 11):\n",
        "        knn = KNeighborsClassifier(n_neighbors=k)\n",
        "        knn.fit(X_train, y_train)\n",
        "        y_pred = knn.predict(X_test)\n",
        "        acc = accuracy_score(y_test, y_pred)\n",
        "        accuracies.append(acc)\n",
        "\n",
        "    # Armazenar resultados\n",
        "    results[name] = accuracies\n",
        "\n",
        "# Exibir resultados\n",
        "results_df = pd.DataFrame(results, index=[f\"K={k}\" for k in range(1, 11)])\n",
        "print(results_df)"
      ],
      "metadata": {
        "colab": {
          "base_uri": "https://localhost:8080/"
        },
        "id": "Vy7_8_ds-Pe1",
        "outputId": "7311b97b-7542-46e0-fea3-c86724dc8fb3"
      },
      "execution_count": 11,
      "outputs": [
        {
          "output_type": "stream",
          "name": "stdout",
          "text": [
            "         hog_1     hog_2     hog_3     hog_4   vgg16_1   vgg16_2   vgg16_3  \\\n",
            "K=1   0.541667  0.595833  0.525000  0.541667  0.550000  0.575000  0.662500   \n",
            "K=2   0.529167  0.579167  0.487500  0.491667  0.600000  0.566667  0.654167   \n",
            "K=3   0.541667  0.558333  0.495833  0.495833  0.595833  0.620833  0.695833   \n",
            "K=4   0.525000  0.562500  0.504167  0.500000  0.566667  0.608333  0.666667   \n",
            "K=5   0.520833  0.583333  0.508333  0.491667  0.608333  0.658333  0.654167   \n",
            "K=6   0.533333  0.570833  0.520833  0.487500  0.587500  0.641667  0.654167   \n",
            "K=7   0.554167  0.587500  0.516667  0.475000  0.612500  0.654167  0.666667   \n",
            "K=8   0.541667  0.575000  0.516667  0.504167  0.629167  0.629167  0.654167   \n",
            "K=9   0.562500  0.587500  0.516667  0.504167  0.625000  0.637500  0.691667   \n",
            "K=10  0.545833  0.566667  0.516667  0.520833  0.645833  0.650000  0.670833   \n",
            "\n",
            "       vgg16_4   vgg19_1   vgg19_2   vgg19_3   vgg19_4  \n",
            "K=1   0.525000  0.583333  0.591667  0.629167  0.541667  \n",
            "K=2   0.537500  0.583333  0.566667  0.595833  0.566667  \n",
            "K=3   0.591667  0.608333  0.604167  0.591667  0.558333  \n",
            "K=4   0.583333  0.608333  0.604167  0.620833  0.570833  \n",
            "K=5   0.645833  0.608333  0.641667  0.608333  0.604167  \n",
            "K=6   0.633333  0.608333  0.662500  0.612500  0.583333  \n",
            "K=7   0.637500  0.625000  0.691667  0.633333  0.604167  \n",
            "K=8   0.641667  0.650000  0.691667  0.612500  0.579167  \n",
            "K=9   0.629167  0.654167  0.700000  0.637500  0.583333  \n",
            "K=10  0.629167  0.625000  0.679167  0.654167  0.587500  \n"
          ]
        }
      ]
    }
  ]
}