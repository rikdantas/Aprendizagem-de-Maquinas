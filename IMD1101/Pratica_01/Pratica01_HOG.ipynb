{
  "nbformat": 4,
  "nbformat_minor": 0,
  "metadata": {
    "colab": {
      "provenance": [],
      "authorship_tag": "ABX9TyOoujSEQJGjbEqXReebJvi4",
      "include_colab_link": true
    },
    "kernelspec": {
      "name": "python3",
      "display_name": "Python 3"
    },
    "language_info": {
      "name": "python"
    }
  },
  "cells": [
    {
      "cell_type": "markdown",
      "metadata": {
        "id": "view-in-github",
        "colab_type": "text"
      },
      "source": [
        "<a href=\"https://colab.research.google.com/github/rikdantas/Aprendizagem-de-Maquinas/blob/main/IMD1101/Pratica_01/Pratica01_HOG.ipynb\" target=\"_parent\"><img src=\"https://colab.research.google.com/assets/colab-badge.svg\" alt=\"Open In Colab\"/></a>"
      ]
    },
    {
      "cell_type": "markdown",
      "source": [
        "# Prática 01 - Utilização de extrator para imagens e uso do k-NN\n",
        "Nesse notebook serão desenvolvidos os códigos para preparar os CSVs usando o HOG assim como solicitado na prática 01.\n",
        "\n",
        "Aluno: Paulo Ricardo Dantas"
      ],
      "metadata": {
        "id": "8fWNk1MuZKdn"
      }
    },
    {
      "cell_type": "markdown",
      "source": [
        "## Importando bibliotecas"
      ],
      "metadata": {
        "id": "ASz7eedpa20g"
      }
    },
    {
      "cell_type": "code",
      "execution_count": 2,
      "metadata": {
        "id": "qGTSanzzZEAR"
      },
      "outputs": [],
      "source": [
        "# Importando bibliotecas\n",
        "import os\n",
        "import zipfile\n",
        "from skimage.io import imread\n",
        "from skimage.transform import resize\n",
        "from skimage.feature import hog\n",
        "import pandas as pd\n",
        "import gdown"
      ]
    },
    {
      "cell_type": "markdown",
      "source": [
        "## Importando as imagens\n",
        "Antes de realizar esse passo, eu já fiz o download do dataset que continham todas as fotos e separei apenas as imagens das raças que foram disponibilizados para mim de acordo com o sorteio. Apenas para relembrar, as raças sorteadas para mim foram: japanese_chin, miniature_pinscher, Ragdoll e Birman."
      ],
      "metadata": {
        "id": "x-Ev7xcrbF_y"
      }
    },
    {
      "cell_type": "code",
      "source": [
        "# Baixando as imagens\n",
        "url = 'https://drive.google.com/uc?id=1EeKN5HVD_bk2XjfzbAGjQ6tZDIMNC5FY'\n",
        "output = 'images.zip'\n",
        "gdown.download(url, output, quiet=True)\n",
        "\n",
        "# Descompacta o arquivo zip\n",
        "zip_file_path = \"images.zip\"\n",
        "output_dir = \"images\"\n",
        "\n",
        "with zipfile.ZipFile(zip_file_path, 'r') as zip_ref:\n",
        "    zip_ref.extractall(output_dir)\n",
        "\n",
        "# Como eu vou ficar com uma pasta images dentro da pasta images, eu preciso atualizar o caminho\n",
        "output_dir = \"images/images\""
      ],
      "metadata": {
        "id": "QZdD7LVQbIJt"
      },
      "execution_count": 3,
      "outputs": []
    },
    {
      "cell_type": "markdown",
      "source": [
        "## Função para criar rótulos\n",
        "Como uma parte que acho importante é criar uma função que vai rotular as imagens com base no nome do arquivo para adicioná-las ao CSV final."
      ],
      "metadata": {
        "id": "RHv8FA_gckY0"
      }
    },
    {
      "cell_type": "code",
      "source": [
        "# Define classes de acordo com o nome do arquivo\n",
        "def get_class_from_filename(filename):\n",
        "    if \"Birman\" in filename or \"Ragdoll\" in filename:\n",
        "        return \"gato\"\n",
        "    elif \"japanese_chin\" in filename or \"miniature_pinscher\" in filename:\n",
        "        return \"cachorro\"\n",
        "    else:\n",
        "        return None"
      ],
      "metadata": {
        "id": "EDWWg-vjcxie"
      },
      "execution_count": 4,
      "outputs": []
    },
    {
      "cell_type": "markdown",
      "source": [
        "## Aplicando o HOG em diferentes configurações"
      ],
      "metadata": {
        "id": "-V4hrj6Pt20n"
      }
    },
    {
      "cell_type": "markdown",
      "source": [
        "### HOG_128_16x16"
      ],
      "metadata": {
        "id": "JH5La49Vnn7V"
      }
    },
    {
      "cell_type": "code",
      "source": [
        "# Lista para armazenar as características HOG e as classes\n",
        "hog_features = []\n",
        "\n",
        "# Processa as imagens e extrai as características HOG com a primeira configuração\n",
        "for filename in os.listdir(output_dir):\n",
        "    if filename.endswith(\".jpg\"):\n",
        "        image_path = os.path.join(output_dir, filename)\n",
        "        animal_class = get_class_from_filename(filename)\n",
        "\n",
        "        if animal_class:\n",
        "            try:\n",
        "                # Carrega a imagem e redimensiona para 128x128\n",
        "                image = imread(image_path)\n",
        "                image_resized = resize(image, (128, 128))\n",
        "\n",
        "                # Extrai as características HOG com a primeira configuração\n",
        "                fd, hog_image = hog(image_resized,\n",
        "                                    orientations=9,\n",
        "                                    pixels_per_cell=(16, 16),\n",
        "                                    cells_per_block=(2, 2),\n",
        "                                    visualize=True,\n",
        "                                    channel_axis=-1)\n",
        "\n",
        "                # Adiciona as características HOG e a classe à lista\n",
        "                hog_features.append(fd.tolist() + [animal_class])\n",
        "            except ValueError as e:\n",
        "                print(f\"Erro ao processar {filename}: {e}\")\n",
        "\n",
        "# Salva as características em um arquivo CSV\n",
        "columns = [f\"feature_{i}\" for i in range(len(hog_features[0]) - 1)] + [\"class\"]\n",
        "df = pd.DataFrame(hog_features, columns=columns)\n",
        "df.to_csv(\"HOG_128_16x16.csv\", index=False)"
      ],
      "metadata": {
        "id": "mUIKeGiXqVIO"
      },
      "execution_count": 5,
      "outputs": []
    },
    {
      "cell_type": "markdown",
      "source": [
        "### HOG_128_20x20"
      ],
      "metadata": {
        "id": "DMpWZBR4uAGv"
      }
    },
    {
      "cell_type": "code",
      "source": [
        "# Lista para armazenar as características HOG e as classes\n",
        "hog_features = []\n",
        "\n",
        "# Processa as imagens e extrai as características HOG com a primeira configuração\n",
        "for filename in os.listdir(output_dir):\n",
        "    if filename.endswith(\".jpg\"):\n",
        "        image_path = os.path.join(output_dir, filename)\n",
        "        animal_class = get_class_from_filename(filename)\n",
        "\n",
        "        if animal_class:\n",
        "            try:\n",
        "                # Carrega a imagem e redimensiona para 128x128\n",
        "                image = imread(image_path)\n",
        "                image_resized = resize(image, (128, 128))\n",
        "\n",
        "                # Extrai as características HOG com a primeira configuração\n",
        "                fd, hog_image = hog(image_resized,\n",
        "                                    orientations=9,\n",
        "                                    pixels_per_cell=(20, 20),\n",
        "                                    cells_per_block=(2, 2),\n",
        "                                    visualize=True,\n",
        "                                    channel_axis=-1)\n",
        "\n",
        "                # Adiciona as características HOG e a classe à lista\n",
        "                hog_features.append(fd.tolist() + [animal_class])\n",
        "            except ValueError as e:\n",
        "                print(f\"Erro ao processar {filename}: {e}\")\n",
        "\n",
        "# Salva as características em um arquivo CSV\n",
        "columns = [f\"feature_{i}\" for i in range(len(hog_features[0]) - 1)] + [\"class\"]\n",
        "df = pd.DataFrame(hog_features, columns=columns)\n",
        "df.to_csv(\"HOG_128_20x20.csv\", index=False)"
      ],
      "metadata": {
        "id": "Cf8PbOXtuHgF"
      },
      "execution_count": 6,
      "outputs": []
    },
    {
      "cell_type": "markdown",
      "source": [
        "### HOG_256_16x16"
      ],
      "metadata": {
        "id": "1A8Ge8TlucPH"
      }
    },
    {
      "cell_type": "code",
      "source": [
        "# Lista para armazenar as características HOG e as classes\n",
        "hog_features = []\n",
        "\n",
        "# Processa as imagens e extrai as características HOG com a primeira configuração\n",
        "for filename in os.listdir(output_dir):\n",
        "    if filename.endswith(\".jpg\"):\n",
        "        image_path = os.path.join(output_dir, filename)\n",
        "        animal_class = get_class_from_filename(filename)\n",
        "\n",
        "        if animal_class:\n",
        "            try:\n",
        "                # Carrega a imagem e redimensiona para 256x256\n",
        "                image = imread(image_path)\n",
        "                image_resized = resize(image, (256, 256))\n",
        "\n",
        "                # Extrai as características HOG com a primeira configuração\n",
        "                fd, hog_image = hog(image_resized,\n",
        "                                    orientations=9,\n",
        "                                    pixels_per_cell=(16, 16),\n",
        "                                    cells_per_block=(2, 2),\n",
        "                                    visualize=True,\n",
        "                                    channel_axis=-1)\n",
        "\n",
        "                # Adiciona as características HOG e a classe à lista\n",
        "                hog_features.append(fd.tolist() + [animal_class])\n",
        "            except ValueError as e:\n",
        "                print(f\"Erro ao processar {filename}: {e}\")\n",
        "\n",
        "# Salva as características em um arquivo CSV\n",
        "columns = [f\"feature_{i}\" for i in range(len(hog_features[0]) - 1)] + [\"class\"]\n",
        "df = pd.DataFrame(hog_features, columns=columns)\n",
        "df.to_csv(\"HOG_256_16x16.csv\", index=False)"
      ],
      "metadata": {
        "id": "IlKjX7I_ujqU"
      },
      "execution_count": 8,
      "outputs": []
    },
    {
      "cell_type": "markdown",
      "source": [
        "### HOG_256_20x20"
      ],
      "metadata": {
        "id": "d0NvZZlQuvgW"
      }
    },
    {
      "cell_type": "code",
      "source": [
        "# Lista para armazenar as características HOG e as classes\n",
        "hog_features = []\n",
        "\n",
        "# Processa as imagens e extrai as características HOG com a primeira configuração\n",
        "for filename in os.listdir(output_dir):\n",
        "    if filename.endswith(\".jpg\"):\n",
        "        image_path = os.path.join(output_dir, filename)\n",
        "        animal_class = get_class_from_filename(filename)\n",
        "\n",
        "        if animal_class:\n",
        "            try:\n",
        "                # Carrega a imagem e redimensiona para 256x256\n",
        "                image = imread(image_path)\n",
        "                image_resized = resize(image, (256, 256))\n",
        "\n",
        "                # Extrai as características HOG com a primeira configuração\n",
        "                fd, hog_image = hog(image_resized,\n",
        "                                    orientations=9,\n",
        "                                    pixels_per_cell=(20, 20),\n",
        "                                    cells_per_block=(2, 2),\n",
        "                                    visualize=True,\n",
        "                                    channel_axis=-1)\n",
        "\n",
        "                # Adiciona as características HOG e a classe à lista\n",
        "                hog_features.append(fd.tolist() + [animal_class])\n",
        "            except ValueError as e:\n",
        "                print(f\"Erro ao processar {filename}: {e}\")\n",
        "\n",
        "# Salva as características em um arquivo CSV\n",
        "columns = [f\"feature_{i}\" for i in range(len(hog_features[0]) - 1)] + [\"class\"]\n",
        "df = pd.DataFrame(hog_features, columns=columns)\n",
        "df.to_csv(\"HOG_256_20x20.csv\", index=False)"
      ],
      "metadata": {
        "id": "DRe1lUL_uyUZ"
      },
      "execution_count": 9,
      "outputs": []
    }
  ]
}