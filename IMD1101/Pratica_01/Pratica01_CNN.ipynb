{
  "nbformat": 4,
  "nbformat_minor": 0,
  "metadata": {
    "colab": {
      "provenance": [],
      "gpuType": "T4",
      "authorship_tag": "ABX9TyPulQ5XG03g/zS8zqo3/rCr",
      "include_colab_link": true
    },
    "kernelspec": {
      "name": "python3",
      "display_name": "Python 3"
    },
    "language_info": {
      "name": "python"
    },
    "accelerator": "GPU"
  },
  "cells": [
    {
      "cell_type": "markdown",
      "metadata": {
        "id": "view-in-github",
        "colab_type": "text"
      },
      "source": [
        "<a href=\"https://colab.research.google.com/github/rikdantas/Aprendizagem-de-Maquinas/blob/main/IMD1101/Pratica_01/Pratica01_CNN.ipynb\" target=\"_parent\"><img src=\"https://colab.research.google.com/assets/colab-badge.svg\" alt=\"Open In Colab\"/></a>"
      ]
    },
    {
      "cell_type": "markdown",
      "source": [
        "# Prática 01 - Utilização de extrator para imagens e uso do k-NN\n",
        "Nesse notebook serão desenvolvidos os códigos para preparar os CSVs usando o CNN assim como solicitado na prática 01.\n",
        "\n",
        "Aluno: Paulo Ricardo Dantas"
      ],
      "metadata": {
        "id": "8fWNk1MuZKdn"
      }
    },
    {
      "cell_type": "markdown",
      "source": [
        "## Importando bibliotecas"
      ],
      "metadata": {
        "id": "ASz7eedpa20g"
      }
    },
    {
      "cell_type": "code",
      "execution_count": null,
      "metadata": {
        "id": "qGTSanzzZEAR"
      },
      "outputs": [],
      "source": [
        "# Importando bibliotecas\n",
        "import os\n",
        "import zipfile\n",
        "from skimage.io import imread\n",
        "from skimage.transform import resize\n",
        "from keras.preprocessing import image\n",
        "from keras.applications.vgg16 import VGG16, preprocess_input\n",
        "from keras.applications.vgg19 import VGG19, preprocess_input\n",
        "import numpy as np\n",
        "import pandas as pd\n",
        "import gdown"
      ]
    },
    {
      "cell_type": "markdown",
      "source": [
        "## Importando as imagens\n",
        "Antes de realizar esse passo, eu já fiz o download do dataset que continham todas as fotos e separei apenas as imagens das raças que foram disponibilizados para mim de acordo com o sorteio. Apenas para relembrar, as raças sorteadas para mim foram: japanese_chin, miniature_pinscher, Ragdoll e Birman."
      ],
      "metadata": {
        "id": "x-Ev7xcrbF_y"
      }
    },
    {
      "cell_type": "code",
      "source": [
        "# Baixando as imagens\n",
        "url = 'https://drive.google.com/uc?id=1EeKN5HVD_bk2XjfzbAGjQ6tZDIMNC5FY'\n",
        "output = 'images.zip'\n",
        "gdown.download(url, output, quiet=True)\n",
        "\n",
        "# Descompacta o arquivo zip\n",
        "zip_file_path = \"images.zip\"\n",
        "output_dir = \"images\"\n",
        "\n",
        "with zipfile.ZipFile(zip_file_path, 'r') as zip_ref:\n",
        "    zip_ref.extractall(output_dir)\n",
        "\n",
        "# Como eu vou ficar com uma pasta images dentro da pasta images, eu preciso atualizar o caminho\n",
        "output_dir = \"images/images\""
      ],
      "metadata": {
        "id": "QZdD7LVQbIJt"
      },
      "execution_count": null,
      "outputs": []
    },
    {
      "cell_type": "markdown",
      "source": [
        "## Função para criar rótulos\n",
        "Como uma parte que acho importante é criar uma função que vai rotular as imagens com base no nome do arquivo para adicioná-las ao CSV final."
      ],
      "metadata": {
        "id": "RHv8FA_gckY0"
      }
    },
    {
      "cell_type": "code",
      "source": [
        "# Define classes de acordo com o nome do arquivo\n",
        "def get_class_from_filename(filename):\n",
        "    if \"Birman\" in filename or \"Ragdoll\" in filename:\n",
        "        return \"gato\"\n",
        "    elif \"japanese_chin\" in filename or \"miniature_pinscher\" in filename:\n",
        "        return \"cachorro\"\n",
        "    else:\n",
        "        return None"
      ],
      "metadata": {
        "id": "EDWWg-vjcxie"
      },
      "execution_count": null,
      "outputs": []
    },
    {
      "cell_type": "markdown",
      "source": [
        "## Aplicando o VGG16 em diferentes configurações"
      ],
      "metadata": {
        "id": "-V4hrj6Pt20n"
      }
    },
    {
      "cell_type": "markdown",
      "source": [
        "### CNN_VGG16_128_avg"
      ],
      "metadata": {
        "id": "JH5La49Vnn7V"
      }
    },
    {
      "cell_type": "code",
      "source": [
        "# Carrega o modelo VGG16 pré-treinado\n",
        "model_16 = VGG16(weights='imagenet', include_top=False, pooling='avg')\n",
        "\n",
        "# Lista para armazenar as características da CNN e as classes\n",
        "cnn_features = []"
      ],
      "metadata": {
        "colab": {
          "base_uri": "https://localhost:8080/"
        },
        "id": "IbZ8XH-vCQqT",
        "outputId": "07d2caf1-c18c-4427-996b-1f9bd659241b"
      },
      "execution_count": null,
      "outputs": [
        {
          "output_type": "stream",
          "name": "stdout",
          "text": [
            "Downloading data from https://storage.googleapis.com/tensorflow/keras-applications/vgg16/vgg16_weights_tf_dim_ordering_tf_kernels_notop.h5\n",
            "\u001b[1m58889256/58889256\u001b[0m \u001b[32m━━━━━━━━━━━━━━━━━━━━\u001b[0m\u001b[37m\u001b[0m \u001b[1m0s\u001b[0m 0us/step\n"
          ]
        }
      ]
    },
    {
      "cell_type": "code",
      "source": [
        "# Processa as imagens e extrai as características da CNN (VGG16)\n",
        "for filename in os.listdir(output_dir):\n",
        "    if filename.endswith(\".jpg\"):\n",
        "        image_path = os.path.join(output_dir, filename)\n",
        "        animal_class = get_class_from_filename(filename)\n",
        "\n",
        "        if animal_class:\n",
        "            try:\n",
        "                # Carrega a imagem e redimensiona para 128x128\n",
        "                img = imread(image_path)\n",
        "                img_resized = resize(img, (128, 128))\n",
        "                x = image.img_to_array(img_resized)\n",
        "                x = np.expand_dims(x, axis=0)\n",
        "                x = preprocess_input(x)\n",
        "\n",
        "                # Extrai as características da CNN (VGG16)\n",
        "                features = model_16.predict(x)\n",
        "                features_flatten_vgg16 = features.flatten()\n",
        "\n",
        "                # Adiciona as características CNN e a classe à lista\n",
        "                cnn_features.append(features_flatten_vgg16.tolist() + [animal_class])\n",
        "            except Exception as e:\n",
        "                print(f\"Erro ao processar {filename}: {e}\")\n",
        "\n",
        "# Salva as características em um arquivo CSV\n",
        "columns = [f\"feature_{i}\" for i in range(len(cnn_features[0]) - 1)] + [\"class\"]\n",
        "df = pd.DataFrame(cnn_features, columns=columns)\n",
        "df.to_csv(\"CNN_VGG16_128_avg.csv\", index=False)"
      ],
      "metadata": {
        "id": "mUIKeGiXqVIO",
        "collapsed": true
      },
      "execution_count": null,
      "outputs": []
    },
    {
      "cell_type": "markdown",
      "source": [
        "### CNN_VGG16_128_max"
      ],
      "metadata": {
        "id": "DMpWZBR4uAGv"
      }
    },
    {
      "cell_type": "code",
      "source": [
        "# Carrega o modelo VGG16 pré-treinado\n",
        "model_16 = VGG16(weights='imagenet', include_top=False, pooling='max')\n",
        "\n",
        "# Lista para armazenar as características da CNN e as classes\n",
        "cnn_features = []"
      ],
      "metadata": {
        "id": "TO-0OQL8E-6N"
      },
      "execution_count": null,
      "outputs": []
    },
    {
      "cell_type": "code",
      "source": [
        "# Processa as imagens e extrai as características da CNN (VGG16)\n",
        "for filename in os.listdir(output_dir):\n",
        "    if filename.endswith(\".jpg\"):\n",
        "        image_path = os.path.join(output_dir, filename)\n",
        "        animal_class = get_class_from_filename(filename)\n",
        "\n",
        "        if animal_class:\n",
        "            try:\n",
        "                # Carrega a imagem e redimensiona para 128x128\n",
        "                img = imread(image_path)\n",
        "                img_resized = resize(img, (128, 128))\n",
        "                x = image.img_to_array(img_resized)\n",
        "                x = np.expand_dims(x, axis=0)\n",
        "                x = preprocess_input(x)\n",
        "\n",
        "                # Extrai as características da CNN (VGG16)\n",
        "                features = model_16.predict(x)\n",
        "                features_flatten_vgg16 = features.flatten()\n",
        "\n",
        "                # Adiciona as características CNN e a classe à lista\n",
        "                cnn_features.append(features_flatten_vgg16.tolist() + [animal_class])\n",
        "            except Exception as e:\n",
        "                print(f\"Erro ao processar {filename}: {e}\")\n",
        "\n",
        "# Salva as características em um arquivo CSV\n",
        "columns = [f\"feature_{i}\" for i in range(len(cnn_features[0]) - 1)] + [\"class\"]\n",
        "df = pd.DataFrame(cnn_features, columns=columns)\n",
        "df.to_csv(\"CNN_VGG16_128_max.csv\", index=False)"
      ],
      "metadata": {
        "id": "Cf8PbOXtuHgF",
        "collapsed": true
      },
      "execution_count": null,
      "outputs": []
    },
    {
      "cell_type": "markdown",
      "source": [
        "### CNN_VGG16_256_avg"
      ],
      "metadata": {
        "id": "1A8Ge8TlucPH"
      }
    },
    {
      "cell_type": "code",
      "source": [
        "# Carrega o modelo VGG16 pré-treinado\n",
        "model_16 = VGG16(weights='imagenet', include_top=False, pooling='avg')\n",
        "\n",
        "# Lista para armazenar as características da CNN e as classes\n",
        "cnn_features = []"
      ],
      "metadata": {
        "id": "nkxIp7M9FPNv"
      },
      "execution_count": null,
      "outputs": []
    },
    {
      "cell_type": "code",
      "source": [
        "# Processa as imagens e extrai as características da CNN (VGG16)\n",
        "for filename in os.listdir(output_dir):\n",
        "    if filename.endswith(\".jpg\"):\n",
        "        image_path = os.path.join(output_dir, filename)\n",
        "        animal_class = get_class_from_filename(filename)\n",
        "\n",
        "        if animal_class:\n",
        "            try:\n",
        "                # Carrega a imagem e redimensiona para 256x256\n",
        "                img = imread(image_path)\n",
        "                img_resized = resize(img, (256, 256))\n",
        "                x = image.img_to_array(img_resized)\n",
        "                x = np.expand_dims(x, axis=0)\n",
        "                x = preprocess_input(x)\n",
        "\n",
        "                # Extrai as características da CNN (VGG16)\n",
        "                features = model_16.predict(x)\n",
        "                features_flatten_vgg16 = features.flatten()\n",
        "\n",
        "                # Adiciona as características CNN e a classe à lista\n",
        "                cnn_features.append(features_flatten_vgg16.tolist() + [animal_class])\n",
        "            except Exception as e:\n",
        "                print(f\"Erro ao processar {filename}: {e}\")\n",
        "\n",
        "# Salva as características em um arquivo CSV\n",
        "columns = [f\"feature_{i}\" for i in range(len(cnn_features[0]) - 1)] + [\"class\"]\n",
        "df = pd.DataFrame(cnn_features, columns=columns)\n",
        "df.to_csv(\"CNN_VGG16_256_avg.csv\", index=False)"
      ],
      "metadata": {
        "id": "IlKjX7I_ujqU",
        "collapsed": true
      },
      "execution_count": null,
      "outputs": []
    },
    {
      "cell_type": "markdown",
      "source": [
        "### CNN_VGG16_256_max"
      ],
      "metadata": {
        "id": "d0NvZZlQuvgW"
      }
    },
    {
      "cell_type": "code",
      "source": [
        "# Carrega o modelo VGG16 pré-treinado\n",
        "model_16 = VGG16(weights='imagenet', include_top=False, pooling='max')\n",
        "\n",
        "# Lista para armazenar as características da CNN e as classes\n",
        "cnn_features = []"
      ],
      "metadata": {
        "id": "TLj5j0vwFrm3"
      },
      "execution_count": null,
      "outputs": []
    },
    {
      "cell_type": "code",
      "source": [
        "# Processa as imagens e extrai as características da CNN (VGG16)\n",
        "for filename in os.listdir(output_dir):\n",
        "    if filename.endswith(\".jpg\"):\n",
        "        image_path = os.path.join(output_dir, filename)\n",
        "        animal_class = get_class_from_filename(filename)\n",
        "\n",
        "        if animal_class:\n",
        "            try:\n",
        "                # Carrega a imagem e redimensiona para 256x256\n",
        "                img = imread(image_path)\n",
        "                img_resized = resize(img, (256, 256))\n",
        "                x = image.img_to_array(img_resized)\n",
        "                x = np.expand_dims(x, axis=0)\n",
        "                x = preprocess_input(x)\n",
        "\n",
        "                # Extrai as características da CNN (VGG16)\n",
        "                features = model_16.predict(x)\n",
        "                features_flatten_vgg16 = features.flatten()\n",
        "\n",
        "                # Adiciona as características CNN e a classe à lista\n",
        "                cnn_features.append(features_flatten_vgg16.tolist() + [animal_class])\n",
        "            except Exception as e:\n",
        "                print(f\"Erro ao processar {filename}: {e}\")\n",
        "\n",
        "# Salva as características em um arquivo CSV\n",
        "columns = [f\"feature_{i}\" for i in range(len(cnn_features[0]) - 1)] + [\"class\"]\n",
        "df = pd.DataFrame(cnn_features, columns=columns)\n",
        "df.to_csv(\"CNN_VGG16_256_max.csv\", index=False)"
      ],
      "metadata": {
        "id": "DRe1lUL_uyUZ",
        "collapsed": true
      },
      "execution_count": null,
      "outputs": []
    },
    {
      "cell_type": "markdown",
      "source": [
        "## Aplicando o VGG16 em diferentes configurações"
      ],
      "metadata": {
        "id": "p9-k4WKcqBiG"
      }
    },
    {
      "cell_type": "markdown",
      "source": [
        "### CNN_VGG19_128_avg"
      ],
      "metadata": {
        "id": "eE8YTUA0qD1U"
      }
    },
    {
      "cell_type": "code",
      "source": [
        "# Carrega o modelo VGG19 pré-treinado\n",
        "model_19 = VGG19(weights='imagenet', include_top=False, pooling='avg')\n",
        "\n",
        "# Lista para armazenar as características da CNN e as classes\n",
        "cnn_features = []"
      ],
      "metadata": {
        "id": "C82wlE1Jqbd2"
      },
      "execution_count": null,
      "outputs": []
    },
    {
      "cell_type": "code",
      "source": [
        "# Processa as imagens e extrai as características da CNN (VGG19)\n",
        "for filename in os.listdir(output_dir):\n",
        "    if filename.endswith(\".jpg\"):\n",
        "        image_path = os.path.join(output_dir, filename)\n",
        "        animal_class = get_class_from_filename(filename)\n",
        "\n",
        "        if animal_class:\n",
        "            try:\n",
        "                # Carrega a imagem e redimensiona para 128x128\n",
        "                img = imread(image_path)\n",
        "                img_resized = resize(img, (128, 128))\n",
        "                x = image.img_to_array(img_resized)\n",
        "                x = np.expand_dims(x, axis=0)\n",
        "                x = preprocess_input(x)\n",
        "\n",
        "                # Extrai as características da CNN (VGG19)\n",
        "                features = model_19.predict(x)\n",
        "                features_flatten_vgg19 = features.flatten()\n",
        "\n",
        "                # Adiciona as características CNN e a classe à lista\n",
        "                cnn_features.append(features_flatten_vgg19.tolist() + [animal_class])\n",
        "            except Exception as e:\n",
        "                print(f\"Erro ao processar {filename}: {e}\")\n",
        "\n",
        "# Salva as características em um arquivo CSV\n",
        "columns = [f\"feature_{i}\" for i in range(len(cnn_features[0]) - 1)] + [\"class\"]\n",
        "df = pd.DataFrame(cnn_features, columns=columns)\n",
        "df.to_csv(\"CNN_VGG19_128_avg.csv\", index=False)"
      ],
      "metadata": {
        "id": "iFkYEUXAqdLf"
      },
      "execution_count": null,
      "outputs": []
    },
    {
      "cell_type": "markdown",
      "source": [
        "### CNN_VGG19_128_max"
      ],
      "metadata": {
        "id": "p3tTIvNlqFqE"
      }
    },
    {
      "cell_type": "code",
      "source": [
        "# Carrega o modelo VGG19 pré-treinado\n",
        "model_19 = VGG19(weights='imagenet', include_top=False, pooling='max')\n",
        "\n",
        "# Lista para armazenar as características da CNN e as classes\n",
        "cnn_features = []"
      ],
      "metadata": {
        "id": "L6pFVgF4qrCg"
      },
      "execution_count": null,
      "outputs": []
    },
    {
      "cell_type": "code",
      "source": [
        "# Processa as imagens e extrai as características da CNN (VGG19)\n",
        "for filename in os.listdir(output_dir):\n",
        "    if filename.endswith(\".jpg\"):\n",
        "        image_path = os.path.join(output_dir, filename)\n",
        "        animal_class = get_class_from_filename(filename)\n",
        "\n",
        "        if animal_class:\n",
        "            try:\n",
        "                # Carrega a imagem e redimensiona para 128x128\n",
        "                img = imread(image_path)\n",
        "                img_resized = resize(img, (128, 128))\n",
        "                x = image.img_to_array(img_resized)\n",
        "                x = np.expand_dims(x, axis=0)\n",
        "                x = preprocess_input(x)\n",
        "\n",
        "                # Extrai as características da CNN (VGG19)\n",
        "                features = model_19.predict(x)\n",
        "                features_flatten_vgg19 = features.flatten()\n",
        "\n",
        "                # Adiciona as características CNN e a classe à lista\n",
        "                cnn_features.append(features_flatten_vgg19.tolist() + [animal_class])\n",
        "            except Exception as e:\n",
        "                print(f\"Erro ao processar {filename}: {e}\")\n",
        "\n",
        "# Salva as características em um arquivo CSV\n",
        "columns = [f\"feature_{i}\" for i in range(len(cnn_features[0]) - 1)] + [\"class\"]\n",
        "df = pd.DataFrame(cnn_features, columns=columns)\n",
        "df.to_csv(\"CNN_VGG19_128_max.csv\", index=False)"
      ],
      "metadata": {
        "id": "I-1PRMUuqrQ_"
      },
      "execution_count": null,
      "outputs": []
    },
    {
      "cell_type": "markdown",
      "source": [
        "### CNN_VGG19_256_avg"
      ],
      "metadata": {
        "id": "FD00yuJsqG41"
      }
    },
    {
      "cell_type": "code",
      "source": [
        "# Carrega o modelo VGG19 pré-treinado\n",
        "model_19 = VGG19(weights='imagenet', include_top=False, pooling='avg')\n",
        "\n",
        "# Lista para armazenar as características da CNN e as classes\n",
        "cnn_features = []"
      ],
      "metadata": {
        "id": "lqc_vTEoqvR6"
      },
      "execution_count": null,
      "outputs": []
    },
    {
      "cell_type": "code",
      "source": [
        "# Processa as imagens e extrai as características da CNN (VGG19)\n",
        "for filename in os.listdir(output_dir):\n",
        "    if filename.endswith(\".jpg\"):\n",
        "        image_path = os.path.join(output_dir, filename)\n",
        "        animal_class = get_class_from_filename(filename)\n",
        "\n",
        "        if animal_class:\n",
        "            try:\n",
        "                # Carrega a imagem e redimensiona para 256x256\n",
        "                img = imread(image_path)\n",
        "                img_resized = resize(img, (256, 256))\n",
        "                x = image.img_to_array(img_resized)\n",
        "                x = np.expand_dims(x, axis=0)\n",
        "                x = preprocess_input(x)\n",
        "\n",
        "                # Extrai as características da CNN (VGG19)\n",
        "                features = model_19.predict(x)\n",
        "                features_flatten_vgg19 = features.flatten()\n",
        "\n",
        "                # Adiciona as características CNN e a classe à lista\n",
        "                cnn_features.append(features_flatten_vgg19.tolist() + [animal_class])\n",
        "            except Exception as e:\n",
        "                print(f\"Erro ao processar {filename}: {e}\")\n",
        "\n",
        "# Salva as características em um arquivo CSV\n",
        "columns = [f\"feature_{i}\" for i in range(len(cnn_features[0]) - 1)] + [\"class\"]\n",
        "df = pd.DataFrame(cnn_features, columns=columns)\n",
        "df.to_csv(\"CNN_VGG19_256_avg.csv\", index=False)"
      ],
      "metadata": {
        "id": "Q_qyxRysqvgg"
      },
      "execution_count": null,
      "outputs": []
    },
    {
      "cell_type": "markdown",
      "source": [
        "### CNN_VGG19_256_max"
      ],
      "metadata": {
        "id": "1R9_Dy-mqIRk"
      }
    },
    {
      "cell_type": "code",
      "source": [
        "# Carrega o modelo VGG19 pré-treinado\n",
        "model_19 = VGG19(weights='imagenet', include_top=False, pooling='max')\n",
        "\n",
        "# Lista para armazenar as características da CNN e as classes\n",
        "cnn_features = []"
      ],
      "metadata": {
        "id": "c9D6PGCmq0_a"
      },
      "execution_count": null,
      "outputs": []
    },
    {
      "cell_type": "code",
      "source": [
        "# Processa as imagens e extrai as características da CNN (VGG19)\n",
        "for filename in os.listdir(output_dir):\n",
        "    if filename.endswith(\".jpg\"):\n",
        "        image_path = os.path.join(output_dir, filename)\n",
        "        animal_class = get_class_from_filename(filename)\n",
        "\n",
        "        if animal_class:\n",
        "            try:\n",
        "                # Carrega a imagem e redimensiona para 256x256\n",
        "                img = imread(image_path)\n",
        "                img_resized = resize(img, (256, 256))\n",
        "                x = image.img_to_array(img_resized)\n",
        "                x = np.expand_dims(x, axis=0)\n",
        "                x = preprocess_input(x)\n",
        "\n",
        "                # Extrai as características da CNN (VGG19)\n",
        "                features = model_19.predict(x)\n",
        "                features_flatten_vgg19 = features.flatten()\n",
        "\n",
        "                # Adiciona as características CNN e a classe à lista\n",
        "                cnn_features.append(features_flatten_vgg19.tolist() + [animal_class])\n",
        "            except Exception as e:\n",
        "                print(f\"Erro ao processar {filename}: {e}\")\n",
        "\n",
        "# Salva as características em um arquivo CSV\n",
        "columns = [f\"feature_{i}\" for i in range(len(cnn_features[0]) - 1)] + [\"class\"]\n",
        "df = pd.DataFrame(cnn_features, columns=columns)\n",
        "df.to_csv(\"CNN_VGG19_256_max.csv\", index=False)"
      ],
      "metadata": {
        "id": "vHmr7Kycq1M3"
      },
      "execution_count": null,
      "outputs": []
    }
  ]
}