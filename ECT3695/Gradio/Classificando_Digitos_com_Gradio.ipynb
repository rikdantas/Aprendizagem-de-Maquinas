{
  "nbformat": 4,
  "nbformat_minor": 0,
  "metadata": {
    "colab": {
      "provenance": [],
      "toc_visible": true,
      "authorship_tag": "ABX9TyMJ8MjuW+V5tVyVgd3r/qGw",
      "include_colab_link": true
    },
    "kernelspec": {
      "name": "python3",
      "display_name": "Python 3"
    },
    "language_info": {
      "name": "python"
    }
  },
  "cells": [
    {
      "cell_type": "markdown",
      "metadata": {
        "id": "view-in-github",
        "colab_type": "text"
      },
      "source": [
        "<a href=\"https://colab.research.google.com/github/rikdantas/Aprendizagem-de-Maquinas/blob/main/ECT3695/Gradio/Classificando_Digitos_com_Gradio.ipynb\" target=\"_parent\"><img src=\"https://colab.research.google.com/assets/colab-badge.svg\" alt=\"Open In Colab\"/></a>"
      ]
    },
    {
      "cell_type": "markdown",
      "source": [
        "# Classificando digitos com Gradio\n",
        "Nesse notebook, irei desenvolver uma aplicação que vai receber uma imagem de um dígito (entre 0 e 9) e um modelo irá classificar esse número. Para isso irei usar um modelo já treinado com o dataset de imagens MNIST e também irei utilizar o Gradio para criar uma interface."
      ],
      "metadata": {
        "id": "pbLkNWdJBtuk"
      }
    },
    {
      "cell_type": "markdown",
      "source": [
        "## Instalando o Gradio e importando as bibliotecas"
      ],
      "metadata": {
        "id": "Zv6Pk2QHDhYo"
      }
    },
    {
      "cell_type": "code",
      "execution_count": 1,
      "metadata": {
        "colab": {
          "base_uri": "https://localhost:8080/"
        },
        "id": "dztjksf_BmsW",
        "outputId": "f6f8d9ba-98e7-4c2d-a205-db1673cdd2c7"
      },
      "outputs": [
        {
          "output_type": "stream",
          "name": "stdout",
          "text": [
            "\u001b[2K   \u001b[90m━━━━━━━━━━━━━━━━━━━━━━━━━━━━━━━━━━━━━━━━\u001b[0m \u001b[32m56.7/56.7 MB\u001b[0m \u001b[31m13.9 MB/s\u001b[0m eta \u001b[36m0:00:00\u001b[0m\n",
            "\u001b[2K   \u001b[90m━━━━━━━━━━━━━━━━━━━━━━━━━━━━━━━━━━━━━━━━\u001b[0m \u001b[32m319.8/319.8 kB\u001b[0m \u001b[31m14.1 MB/s\u001b[0m eta \u001b[36m0:00:00\u001b[0m\n",
            "\u001b[2K   \u001b[90m━━━━━━━━━━━━━━━━━━━━━━━━━━━━━━━━━━━━━━━━\u001b[0m \u001b[32m94.7/94.7 kB\u001b[0m \u001b[31m6.9 MB/s\u001b[0m eta \u001b[36m0:00:00\u001b[0m\n",
            "\u001b[2K   \u001b[90m━━━━━━━━━━━━━━━━━━━━━━━━━━━━━━━━━━━━━━━━\u001b[0m \u001b[32m447.5/447.5 kB\u001b[0m \u001b[31m26.7 MB/s\u001b[0m eta \u001b[36m0:00:00\u001b[0m\n",
            "\u001b[2K   \u001b[90m━━━━━━━━━━━━━━━━━━━━━━━━━━━━━━━━━━━━━━━━\u001b[0m \u001b[32m11.0/11.0 MB\u001b[0m \u001b[31m53.4 MB/s\u001b[0m eta \u001b[36m0:00:00\u001b[0m\n",
            "\u001b[2K   \u001b[90m━━━━━━━━━━━━━━━━━━━━━━━━━━━━━━━━━━━━━━━━\u001b[0m \u001b[32m73.3/73.3 kB\u001b[0m \u001b[31m5.4 MB/s\u001b[0m eta \u001b[36m0:00:00\u001b[0m\n",
            "\u001b[2K   \u001b[90m━━━━━━━━━━━━━━━━━━━━━━━━━━━━━━━━━━━━━━━━\u001b[0m \u001b[32m63.7/63.7 kB\u001b[0m \u001b[31m3.8 MB/s\u001b[0m eta \u001b[36m0:00:00\u001b[0m\n",
            "\u001b[2K   \u001b[90m━━━━━━━━━━━━━━━━━━━━━━━━━━━━━━━━━━━━━━━━\u001b[0m \u001b[32m130.2/130.2 kB\u001b[0m \u001b[31m6.8 MB/s\u001b[0m eta \u001b[36m0:00:00\u001b[0m\n",
            "\u001b[?25h"
          ]
        }
      ],
      "source": [
        "# Instalando o gradio\n",
        "!pip install -q gradio"
      ]
    },
    {
      "cell_type": "code",
      "source": [
        "# Importando as bibliotecas\n",
        "import numpy as np\n",
        "import tensorflow as tf\n",
        "import gradio as gr\n",
        "import matplotlib.pyplot as plt\n",
        "from tensorflow.keras.models import load_model\n",
        "import gdown\n",
        "import cv2"
      ],
      "metadata": {
        "id": "ZUbrOx7vDoHz"
      },
      "execution_count": 31,
      "outputs": []
    },
    {
      "cell_type": "markdown",
      "source": [
        "## Importando o modelo"
      ],
      "metadata": {
        "id": "WSVSi1I2sJRN"
      }
    },
    {
      "cell_type": "code",
      "source": [
        "# Baixando o modelo\n",
        "url = 'https://drive.google.com/uc?id=1UI599OPzFXMMiqo-CijF7VGyWua8K5o8'\n",
        "output = 'mlp_mnist_model.h5'\n",
        "gdown.download(url, output, quiet=False)"
      ],
      "metadata": {
        "colab": {
          "base_uri": "https://localhost:8080/",
          "height": 105
        },
        "id": "0MznUPuysL98",
        "outputId": "aeb605a5-a56e-43b0-ceae-9fd68f364310"
      },
      "execution_count": 3,
      "outputs": [
        {
          "output_type": "stream",
          "name": "stderr",
          "text": [
            "Downloading...\n",
            "From: https://drive.google.com/uc?id=1UI599OPzFXMMiqo-CijF7VGyWua8K5o8\n",
            "To: /content/mlp_mnist_model.h5\n",
            "100%|██████████| 1.34M/1.34M [00:00<00:00, 14.7MB/s]\n"
          ]
        },
        {
          "output_type": "execute_result",
          "data": {
            "text/plain": [
              "'mlp_mnist_model.h5'"
            ],
            "application/vnd.google.colaboratory.intrinsic+json": {
              "type": "string"
            }
          },
          "metadata": {},
          "execution_count": 3
        }
      ]
    },
    {
      "cell_type": "code",
      "source": [
        "# Carregando o modelo\n",
        "model = load_model('mlp_mnist_model.h5')"
      ],
      "metadata": {
        "id": "xqhtZqXSsrKv",
        "outputId": "623bf082-c1cc-4825-9cdb-1aa5d63cd9cc",
        "colab": {
          "base_uri": "https://localhost:8080/"
        }
      },
      "execution_count": 34,
      "outputs": [
        {
          "output_type": "stream",
          "name": "stderr",
          "text": [
            "WARNING:absl:Compiled the loaded model, but the compiled metrics have yet to be built. `model.compile_metrics` will be empty until you train or evaluate the model.\n"
          ]
        }
      ]
    },
    {
      "cell_type": "markdown",
      "source": [
        "## Criando a interface com Gradio\n",
        "Irei utilizar a biblioteca Gradio para criar uma interface onde o usuário vai desenhar um dígito. Depois iremos fazer um pré-processamento na imagem para ela ficar semelhante as que foram utilizadas para treinar o modelo. Como saída da interface iremos ter a imagem pré-processada e o rótulo previsto pelo modelo."
      ],
      "metadata": {
        "id": "8k9i01_CK66m"
      }
    },
    {
      "cell_type": "code",
      "source": [
        "# Função para pré-processar a imagem e fazer a predição\n",
        "def preprocess_and_predict(data):\n",
        "    # Acessa a camada 'composite' do dicionário retornado pelo Sketchpad\n",
        "    image = data.get(\"composite\", None)\n",
        "    if image is None:\n",
        "        return \"Erro: Imagem 'composite' não encontrada.\", None\n",
        "\n",
        "    # Converte a imagem de RGBA para RGB\n",
        "    image_rgb = cv2.cvtColor(image, cv2.COLOR_RGBA2RGB)\n",
        "\n",
        "    # Cria uma máscara para as áreas transparentes e preenche com branco\n",
        "    alpha_channel = image[:, :, 3]  # Extrai o canal alfa\n",
        "    _, mask = cv2.threshold(alpha_channel, 0, 255, cv2.THRESH_BINARY)\n",
        "    white_background = np.ones_like(image_rgb, dtype=np.uint8) * 255\n",
        "    image_rgb = np.where(mask[:, :, None] == 255, image_rgb, white_background)\n",
        "\n",
        "    # Converte para escala de cinza\n",
        "    gray_image = cv2.cvtColor(image_rgb, cv2.COLOR_RGB2GRAY)\n",
        "\n",
        "    # Inverte as cores para que o traço fique branco e o fundo preto\n",
        "    inverted_image = cv2.bitwise_not(gray_image)\n",
        "\n",
        "    # Redimensiona para 28x28\n",
        "    resized_image = cv2.resize(inverted_image, (28, 28), interpolation=cv2.INTER_AREA)\n",
        "\n",
        "    # Normaliza a imagem para o modelo (caso necessário)\n",
        "    normalized_image = resized_image / 255.0  # Normaliza os valores para [0, 1]\n",
        "    input_image = normalized_image.reshape(1, 28, 28, 1)  # Adiciona dimensões para o modelo\n",
        "\n",
        "    # Faz a predição\n",
        "    prediction = model.predict(input_image)\n",
        "    label = np.argmax(prediction)  # Obtém o rótulo previsto\n",
        "\n",
        "    return resized_image, str(label)  # Converte label para string\n",
        "\n",
        "# Interface Gradio\n",
        "iface = gr.Interface(\n",
        "    fn=preprocess_and_predict,\n",
        "    inputs=gr.Sketchpad(label=\"Desenhe um número\", height=200, width=200),\n",
        "    outputs=[\n",
        "        gr.Image(label=\"Imagem Pré-processada (28x28)\"),\n",
        "        gr.Label(label=\"Dígito Previsto\")\n",
        "    ],\n",
        "    title=\"Reconhecimento de Dígitos com Pré-processamento de Imagem\",\n",
        "    description=\"Desenhe um número e veja a imagem pré-processada junto com o rótulo previsto.\"\n",
        ")\n",
        "\n",
        "# Executa a interface\n",
        "iface.launch()\n"
      ],
      "metadata": {
        "colab": {
          "base_uri": "https://localhost:8080/",
          "height": 646
        },
        "id": "3b9tYCIGYEiq",
        "outputId": "f7e3d1e6-d13e-4a21-b85d-344f72aa1af4"
      },
      "execution_count": 32,
      "outputs": [
        {
          "output_type": "stream",
          "name": "stdout",
          "text": [
            "Running Gradio in a Colab notebook requires sharing enabled. Automatically setting `share=True` (you can turn this off by setting `share=False` in `launch()` explicitly).\n",
            "\n",
            "Colab notebook detected. To show errors in colab notebook, set debug=True in launch()\n",
            "* Running on public URL: https://a00f98d232ab99755b.gradio.live\n",
            "\n",
            "This share link expires in 72 hours. For free permanent hosting and GPU upgrades, run `gradio deploy` from the terminal in the working directory to deploy to Hugging Face Spaces (https://huggingface.co/spaces)\n"
          ]
        },
        {
          "output_type": "display_data",
          "data": {
            "text/plain": [
              "<IPython.core.display.HTML object>"
            ],
            "text/html": [
              "<div><iframe src=\"https://a00f98d232ab99755b.gradio.live\" width=\"100%\" height=\"500\" allow=\"autoplay; camera; microphone; clipboard-read; clipboard-write;\" frameborder=\"0\" allowfullscreen></iframe></div>"
            ]
          },
          "metadata": {}
        },
        {
          "output_type": "execute_result",
          "data": {
            "text/plain": []
          },
          "metadata": {},
          "execution_count": 32
        }
      ]
    },
    {
      "cell_type": "markdown",
      "source": [
        "O resultado da previsão do modelo não mostrou uma acurácia muito grande, mas foi uma boa maneira para começar a usar a biblioteca Gradio."
      ],
      "metadata": {
        "id": "jvgk4OVaj2SS"
      }
    }
  ]
}