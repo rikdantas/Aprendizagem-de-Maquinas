{
  "nbformat": 4,
  "nbformat_minor": 0,
  "metadata": {
    "colab": {
      "provenance": []
    },
    "kernelspec": {
      "name": "python3",
      "display_name": "Python 3"
    },
    "language_info": {
      "name": "python"
    }
  },
  "cells": [
    {
      "cell_type": "markdown",
      "source": [
        "# Limpeza de Dados"
      ],
      "metadata": {
        "id": "RjSv3pRiHJ2i"
      }
    },
    {
      "cell_type": "markdown",
      "source": [
        "## Remoção de Dados Ausentes (Missing Data)"
      ],
      "metadata": {
        "id": "hrR06DQuHMYG"
      }
    },
    {
      "cell_type": "code",
      "execution_count": null,
      "metadata": {
        "colab": {
          "base_uri": "https://localhost:8080/"
        },
        "id": "74cTHvTCHCoa",
        "outputId": "861ee6ab-1b6a-4257-d9cc-ec6159e89fa7"
      },
      "outputs": [
        {
          "output_type": "stream",
          "name": "stdout",
          "text": [
            "Dados originais:\n",
            "       Nome  Idade  Peso\n",
            "0      Ana   25.0    70\n",
            "1    Bruno    NaN    82\n",
            "2   Carlos   30.0    65\n",
            "3  Daniela    NaN    55\n",
            "\n",
            "Após substituição da média (com 2 casas decimais) na coluna Idade:\n",
            "       Nome  Idade  Peso\n",
            "0      Ana   25.0    70\n",
            "1    Bruno   27.5    82\n",
            "2   Carlos   30.0    65\n",
            "3  Daniela   27.5    55\n"
          ]
        }
      ],
      "source": [
        "import pandas as pd\n",
        "import numpy as np\n",
        "\n",
        "# Criando um DataFrame de exemplo\n",
        "data = {'Nome': ['Ana', 'Bruno', 'Carlos', 'Daniela'],\n",
        "        'Idade': [25, np.nan, 30, np.nan],\n",
        "        'Peso': [70, 82, 65, 55]}\n",
        "\n",
        "df = pd.DataFrame(data)\n",
        "print(\"Dados originais:\\n\", df)\n",
        "\n",
        "# Substituição de valores ausentes pela média\n",
        "df.fillna(df['Idade'].mean(), inplace=True)\n",
        "\n",
        "# Arredondando a coluna Idade para duas casas decimais\n",
        "df['Idade'] = df['Idade'].round(2)\n",
        "print(\"\\nApós substituição da média (com 2 casas decimais) na coluna Idade:\\n\", df)\n"
      ]
    },
    {
      "cell_type": "markdown",
      "source": [
        "## Tratamento de Dados Duplicados"
      ],
      "metadata": {
        "id": "PCN6OJdrI2qm"
      }
    },
    {
      "cell_type": "code",
      "source": [
        "# Criando um DataFrame com valores duplicados\n",
        "data_dup = {'Nome': ['Ana', 'Bruno', 'Carlos', 'Bruno'],\n",
        "            'Idade': [25, 22, 30, 22],\n",
        "            'Peso': [70, 82, 65, 82]}\n",
        "\n",
        "df_dup = pd.DataFrame(data_dup)\n",
        "print(\"\\nDados com duplicatas:\\n\", df_dup)\n",
        "\n",
        "# Removendo duplicados\n",
        "df_clean = df_dup.drop_duplicates()\n",
        "print(\"\\nApós remoção de duplicatas:\\n\", df_clean)"
      ],
      "metadata": {
        "colab": {
          "base_uri": "https://localhost:8080/"
        },
        "id": "ifeeOYZmI7RE",
        "outputId": "f955a6fa-57af-4530-87ba-d6cf050115ff"
      },
      "execution_count": null,
      "outputs": [
        {
          "output_type": "stream",
          "name": "stdout",
          "text": [
            "\n",
            "Dados com duplicatas:\n",
            "      Nome  Idade  Peso\n",
            "0     Ana     25    70\n",
            "1   Bruno     22    82\n",
            "2  Carlos     30    65\n",
            "3   Bruno     22    82\n",
            "\n",
            "Após remoção de duplicatas:\n",
            "      Nome  Idade  Peso\n",
            "0     Ana     25    70\n",
            "1   Bruno     22    82\n",
            "2  Carlos     30    65\n"
          ]
        }
      ]
    },
    {
      "cell_type": "markdown",
      "source": [
        "## Correção de Erros\n",
        "\n"
      ],
      "metadata": {
        "id": "0MDNrfCDJUIq"
      }
    },
    {
      "cell_type": "code",
      "source": [
        "# Criando um DataFrame com possíveis erros\n",
        "data_err = {'Nome': ['Ana', 'Bruno', 'Carlos', 'Daniela'],\n",
        "            'Idade': [25, 22, 150, -5],\n",
        "            'Peso': [70, 82, 65, 55]}\n",
        "\n",
        "df_err = pd.DataFrame(data_err)\n",
        "print(\"\\nDados com possíveis erros:\\n\", df_err)\n",
        "\n",
        "# Corrigindo valores fora do intervalo esperado\n",
        "df_err.loc[df_err['Idade'] > 120, 'Idade'] = np.nan  # Substituindo por NaN idades > 120\n",
        "df_err.loc[df_err['Idade'] < 0, 'Idade'] = np.nan    # Substituindo por NaN idades < 0\n",
        "print(\"\\nApós correção de erros na coluna Idade:\\n\", df_err)"
      ],
      "metadata": {
        "colab": {
          "base_uri": "https://localhost:8080/"
        },
        "id": "O6entGUyJWvM",
        "outputId": "20b20424-2b47-4768-d167-ec961c8e46f9"
      },
      "execution_count": null,
      "outputs": [
        {
          "output_type": "stream",
          "name": "stdout",
          "text": [
            "\n",
            "Dados com possíveis erros:\n",
            "       Nome  Idade  Peso\n",
            "0      Ana     25    70\n",
            "1    Bruno     22    82\n",
            "2   Carlos    150    65\n",
            "3  Daniela     -5    55\n",
            "\n",
            "Após correção de erros na coluna Idade:\n",
            "       Nome  Idade  Peso\n",
            "0      Ana   25.0    70\n",
            "1    Bruno   22.0    82\n",
            "2   Carlos    NaN    65\n",
            "3  Daniela    NaN    55\n"
          ]
        }
      ]
    },
    {
      "cell_type": "markdown",
      "source": [
        "# Normalização e Padronização"
      ],
      "metadata": {
        "id": "FVS9zVF2K9Rc"
      }
    },
    {
      "cell_type": "markdown",
      "source": [
        "## Min-Max Scaling"
      ],
      "metadata": {
        "id": "4zlKoALpK_9l"
      }
    },
    {
      "cell_type": "code",
      "source": [
        "from sklearn.preprocessing import MinMaxScaler\n",
        "import pandas as pd\n",
        "\n",
        "data = {'Salario': [50000, 62000, 70000, 56000, 10000, 25000, 16000, 18000, 90000, 45000]}\n",
        "df = pd.DataFrame(data)\n",
        "\n",
        "scaler = MinMaxScaler()\n",
        "df['Salario_normalizado'] = scaler.fit_transform(df[['Salario']])\n",
        "print(df)"
      ],
      "metadata": {
        "colab": {
          "base_uri": "https://localhost:8080/"
        },
        "id": "n4zm1Ry5K-5b",
        "outputId": "936d69a7-e88e-49d7-8584-04a6d88f29f3"
      },
      "execution_count": null,
      "outputs": [
        {
          "output_type": "stream",
          "name": "stdout",
          "text": [
            "   Salario  Salario_normalizado\n",
            "0    50000               0.5000\n",
            "1    62000               0.6500\n",
            "2    70000               0.7500\n",
            "3    56000               0.5750\n",
            "4    10000               0.0000\n",
            "5    25000               0.1875\n",
            "6    16000               0.0750\n",
            "7    18000               0.1000\n",
            "8    90000               1.0000\n",
            "9    45000               0.4375\n"
          ]
        }
      ]
    },
    {
      "cell_type": "markdown",
      "source": [
        "## Z-score Normalization (Padronização)"
      ],
      "metadata": {
        "id": "jGYy9FlDMEbD"
      }
    },
    {
      "cell_type": "code",
      "source": [
        "from sklearn.preprocessing import StandardScaler\n",
        "\n",
        "scaler = StandardScaler()\n",
        "df['Salario_padronizado'] = scaler.fit_transform(df[['Salario']])\n",
        "print(df)"
      ],
      "metadata": {
        "colab": {
          "base_uri": "https://localhost:8080/"
        },
        "id": "7r4g_QMLMJU2",
        "outputId": "56562a14-5fe9-4fb3-afb1-e61977b11aeb"
      },
      "execution_count": null,
      "outputs": [
        {
          "output_type": "stream",
          "name": "stdout",
          "text": [
            "   Salario  Salario_normalizado  Salario_padronizado\n",
            "0    50000               0.5000             0.231563\n",
            "1    62000               0.6500             0.710660\n",
            "2    70000               0.7500             1.030057\n",
            "3    56000               0.5750             0.471111\n",
            "4    10000               0.0000            -1.365425\n",
            "5    25000               0.1875            -0.766554\n",
            "6    16000               0.0750            -1.125876\n",
            "7    18000               0.1000            -1.046027\n",
            "8    90000               1.0000             1.828551\n",
            "9    45000               0.4375             0.031940\n"
          ]
        }
      ]
    },
    {
      "cell_type": "markdown",
      "source": [
        "# Tratamentode outliers"
      ],
      "metadata": {
        "id": "RyVUSEKgOiOO"
      }
    },
    {
      "cell_type": "code",
      "source": [
        "import pandas as pd\n",
        "import numpy as np\n",
        "from scipy import stats\n",
        "\n",
        "# Criando um DataFrame de exemplo\n",
        "data_outliers = {'Nome': ['Ana', 'Bruno', 'Carlos', 'Daniela', 'Eduardo'],\n",
        "                 'Idade': [25, 22, 30, 27, 100],\n",
        "                 'Peso': [70, 82, 65, 55, 85]}\n",
        "\n",
        "df_outliers = pd.DataFrame(data_outliers)\n",
        "\n",
        "# Calculando o Z-score para a coluna 'Idade'\n",
        "df_outliers['Z_score_Idade'] = stats.zscore(df_outliers['Idade'])\n",
        "\n",
        "print(\"Dados originais com Z-Score\")\n",
        "print(df_outliers)\n",
        "\n",
        "# Filtrando os outliers com base no Z-score (> 1.5 ou < -1.5)\n",
        "outliers = df_outliers[(df_outliers['Z_score_Idade'] > 1.5) | (df_outliers['Z_score_Idade'] < -1.5)]\n",
        "print(\"\\nOutliers detectados\\n\", outliers)"
      ],
      "metadata": {
        "colab": {
          "base_uri": "https://localhost:8080/"
        },
        "id": "qEBuHFSyOluA",
        "outputId": "23835822-71f3-49a5-cff9-263b321554c4"
      },
      "execution_count": null,
      "outputs": [
        {
          "output_type": "stream",
          "name": "stdout",
          "text": [
            "Dados originais com Z-Score\n",
            "      Nome  Idade  Peso  Z_score_Idade\n",
            "0      Ana     25    70      -0.531724\n",
            "1    Bruno     22    82      -0.632685\n",
            "2   Carlos     30    65      -0.363457\n",
            "3  Daniela     27    55      -0.464417\n",
            "4  Eduardo    100    85       1.992284\n",
            "\n",
            "Outliers detectados\n",
            "       Nome  Idade  Peso  Z_score_Idade\n",
            "4  Eduardo    100    85       1.992284\n"
          ]
        }
      ]
    },
    {
      "cell_type": "markdown",
      "source": [
        "# Exercício: Limpeza de Dados"
      ],
      "metadata": {
        "id": "XQ1n7DxNOoeQ"
      }
    },
    {
      "cell_type": "code",
      "source": [
        "import pandas as pd\n",
        "import numpy as np\n",
        "\n",
        "# Dados de exemplo com problemas\n",
        "data = {\n",
        "    'Nome': ['Alice', 'Bruno', 'Carlos', 'Daniela', 'Eduardo', 'Fernanda', 'Bruno', 'Gustavo', 'Heloisa', 'Igor',\n",
        "             'Joana', 'Karina', 'Laura', 'Marcelo', 'Nina', 'Bruno', 'Otavio', 'Paula', 'Quintino', 'Rafaela'],\n",
        "    'Idade': [25, np.nan, 45, -2, 30, 31, 45, 28, np.nan, 26, 40, -1, 23, 36, np.nan, 33, 50, 29, 24, 32],\n",
        "    'Salario': [50000, 62000, 70000, np.nan, 52000, 51000, 62000, 45000, 48000, np.nan, 55000, 57000, 49000,\n",
        "                60000, np.nan, 62000, 73000, 51000, np.nan, 61000],\n",
        "    'Cidade': ['São Paulo', 'Rio de Janeiro', 'São Paulo', 'Rio de Janeiro', 'São Paulo', 'São Paulo',\n",
        "               'Rio de Janeiro', 'Brasília', 'São Paulo', 'São Paulo', 'Rio de Janeiro', 'São Paulo',\n",
        "               'São Paulo', 'Brasília', 'Rio de Janeiro', 'Rio de Janeiro', 'Brasília', 'São Paulo',\n",
        "               'São Paulo', 'Rio de Janeiro']\n",
        "}\n",
        "\n",
        "df = pd.DataFrame(data)\n",
        "print(\"Dados originais:\")\n",
        "print(df)\n"
      ],
      "metadata": {
        "colab": {
          "base_uri": "https://localhost:8080/"
        },
        "id": "ejvW9pBkOnVQ",
        "outputId": "70c9bfbd-28d8-4eb5-9f18-8f1a94c02298"
      },
      "execution_count": null,
      "outputs": [
        {
          "output_type": "stream",
          "name": "stdout",
          "text": [
            "Dados originais:\n",
            "        Nome  Idade  Salario          Cidade\n",
            "0      Alice   25.0  50000.0       São Paulo\n",
            "1      Bruno    NaN  62000.0  Rio de Janeiro\n",
            "2     Carlos   45.0  70000.0       São Paulo\n",
            "3    Daniela   -2.0      NaN  Rio de Janeiro\n",
            "4    Eduardo   30.0  52000.0       São Paulo\n",
            "5   Fernanda   31.0  51000.0       São Paulo\n",
            "6      Bruno   45.0  62000.0  Rio de Janeiro\n",
            "7    Gustavo   28.0  45000.0        Brasília\n",
            "8    Heloisa    NaN  48000.0       São Paulo\n",
            "9       Igor   26.0      NaN       São Paulo\n",
            "10     Joana   40.0  55000.0  Rio de Janeiro\n",
            "11    Karina   -1.0  57000.0       São Paulo\n",
            "12     Laura   23.0  49000.0       São Paulo\n",
            "13   Marcelo   36.0  60000.0        Brasília\n",
            "14      Nina    NaN      NaN  Rio de Janeiro\n",
            "15     Bruno   33.0  62000.0  Rio de Janeiro\n",
            "16    Otavio   50.0  73000.0        Brasília\n",
            "17     Paula   29.0  51000.0       São Paulo\n",
            "18  Quintino   24.0      NaN       São Paulo\n",
            "19   Rafaela   32.0  61000.0  Rio de Janeiro\n"
          ]
        }
      ]
    },
    {
      "cell_type": "markdown",
      "source": [
        "## Tratar valores ausentes\n",
        "\n",
        "\n",
        "*  Substituir os valores ausentes na coluna Idade pela média das idades válidas.\n",
        "\n",
        "* Substituir os valores ausentes na coluna Salario pela mediana dos salários.\n",
        "\n"
      ],
      "metadata": {
        "id": "wZ5yrV5-O69L"
      }
    },
    {
      "cell_type": "code",
      "source": [
        "# Criando um df separado para não alterar o original\n",
        "df_tratado = df.copy()\n",
        "\n",
        "# A PARTE ABAIXO FOI COMENTADA POIS INTERFERE NA MÉDIA QUE É NECESSÁRIA NO FINAL\n",
        "# Substituir os valores ausentes na coluna Idade pela média das idades válidas.\n",
        "#df_tratado['Idade'] = df_tratado['Idade'].fillna(df_tratado['Idade'].mean())\n",
        "# Arredondando a coluna Idade para duas casas decimais\n",
        "#df_tratado['Idade'] = df_tratado['Idade'].round(2)\n",
        "\n",
        "# Substituir os valores ausentes na coluna Salario pela mediana dos salários.\n",
        "df_tratado['Salario'] = df_tratado['Salario'].fillna(df_tratado['Salario'].median())\n",
        "\n",
        "# Arredondando a coluna Salario para duas casas decimais\n",
        "df_tratado['Salario'] = df_tratado['Salario'].round(2)"
      ],
      "metadata": {
        "id": "GI8GfDOeO0Rx"
      },
      "execution_count": null,
      "outputs": []
    },
    {
      "cell_type": "markdown",
      "source": [
        "## Corrigir valores incorretos\n",
        "* A coluna Idade contém valores negativos, o que é incorreto. Substitua esses valores pela média das idades válidas."
      ],
      "metadata": {
        "id": "c2OJJmSJRzPX"
      }
    },
    {
      "cell_type": "code",
      "source": [
        "# Iremos considerar a idade os valores entre 0 e 100\n",
        "df_tratado.loc[df_tratado['Idade'] > 100, 'Idade'] = np.nan  # Substituindo por NaN idades > 100\n",
        "df_tratado.loc[df_tratado['Idade'] < 0, 'Idade'] = np.nan  # Substituindo por NaN idades < 0\n",
        "\n",
        "# Calculando a média das idades válidas\n",
        "\n",
        "# Agora iremos refazer a parte de substituir valores ausentes da Idade\n",
        "# Substituir os valores ausentes na coluna Idade pela média das idades válidas.\n",
        "df_tratado['Idade'] = df_tratado['Idade'].fillna(df_tratado['Idade'].mean())\n",
        "\n",
        "# Arredondando a coluna Idade para duas casas decimais\n",
        "df_tratado['Idade'] = df_tratado['Idade'].round(1)"
      ],
      "metadata": {
        "colab": {
          "base_uri": "https://localhost:8080/"
        },
        "id": "jTT1YlsmSD0V",
        "outputId": "51f4e87a-5a4e-44c3-d5e9-c63e47cef4bf"
      },
      "execution_count": null,
      "outputs": [
        {
          "output_type": "stream",
          "name": "stdout",
          "text": [
            "\n",
            "Dados tratados:\n",
            "        Nome  Idade  Salario          Cidade\n",
            "0      Alice   25.0  50000.0       São Paulo\n",
            "1      Bruno   33.1  62000.0  Rio de Janeiro\n",
            "2     Carlos   45.0  70000.0       São Paulo\n",
            "3    Daniela   33.1  56000.0  Rio de Janeiro\n",
            "4    Eduardo   30.0  52000.0       São Paulo\n",
            "5   Fernanda   31.0  51000.0       São Paulo\n",
            "6      Bruno   45.0  62000.0  Rio de Janeiro\n",
            "7    Gustavo   28.0  45000.0        Brasília\n",
            "8    Heloisa   33.1  48000.0       São Paulo\n",
            "9       Igor   26.0  56000.0       São Paulo\n",
            "10     Joana   40.0  55000.0  Rio de Janeiro\n",
            "11    Karina   33.1  57000.0       São Paulo\n",
            "12     Laura   23.0  49000.0       São Paulo\n",
            "13   Marcelo   36.0  60000.0        Brasília\n",
            "14      Nina   33.1  56000.0  Rio de Janeiro\n",
            "15     Bruno   33.0  62000.0  Rio de Janeiro\n",
            "16    Otavio   50.0  73000.0        Brasília\n",
            "17     Paula   29.0  51000.0       São Paulo\n",
            "18  Quintino   24.0  56000.0       São Paulo\n",
            "19   Rafaela   32.0  61000.0  Rio de Janeiro\n"
          ]
        }
      ]
    },
    {
      "cell_type": "markdown",
      "source": [
        "## Remover duplicatas\n",
        "* Verifique se há funcionários duplicados com base no nome e remova os registros duplicados, mantendo apenas o primeiro."
      ],
      "metadata": {
        "id": "kVetpcw6HCGc"
      }
    },
    {
      "cell_type": "code",
      "source": [
        "# Removendo as duplicadas com base apenas na coluna Nome\n",
        "df_tratado = df_tratado.drop_duplicates(subset=['Nome'])"
      ],
      "metadata": {
        "colab": {
          "base_uri": "https://localhost:8080/"
        },
        "id": "pg2T-xNHHBxH",
        "outputId": "0a77b1db-2641-437d-add3-208f34b18ff6"
      },
      "execution_count": null,
      "outputs": [
        {
          "output_type": "stream",
          "name": "stdout",
          "text": [
            "\n",
            "Dados tratados:\n",
            "        Nome  Idade  Salario          Cidade\n",
            "0      Alice   25.0  50000.0       São Paulo\n",
            "1      Bruno   33.1  62000.0  Rio de Janeiro\n",
            "2     Carlos   45.0  70000.0       São Paulo\n",
            "3    Daniela   33.1  56000.0  Rio de Janeiro\n",
            "4    Eduardo   30.0  52000.0       São Paulo\n",
            "5   Fernanda   31.0  51000.0       São Paulo\n",
            "7    Gustavo   28.0  45000.0        Brasília\n",
            "8    Heloisa   33.1  48000.0       São Paulo\n",
            "9       Igor   26.0  56000.0       São Paulo\n",
            "10     Joana   40.0  55000.0  Rio de Janeiro\n",
            "11    Karina   33.1  57000.0       São Paulo\n",
            "12     Laura   23.0  49000.0       São Paulo\n",
            "13   Marcelo   36.0  60000.0        Brasília\n",
            "14      Nina   33.1  56000.0  Rio de Janeiro\n",
            "16    Otavio   50.0  73000.0        Brasília\n",
            "17     Paula   29.0  51000.0       São Paulo\n",
            "18  Quintino   24.0  56000.0       São Paulo\n",
            "19   Rafaela   32.0  61000.0  Rio de Janeiro\n"
          ]
        }
      ]
    },
    {
      "cell_type": "markdown",
      "source": [
        "## Comparando os dados"
      ],
      "metadata": {
        "id": "KsskYshqHtCS"
      }
    },
    {
      "cell_type": "code",
      "source": [
        "print(\"Dados originais:\\n\", df)\n",
        "print(\"\\nDados tratados:\\n\", df_tratado)"
      ],
      "metadata": {
        "colab": {
          "base_uri": "https://localhost:8080/"
        },
        "id": "DZNqPuHyHu_Q",
        "outputId": "63baa178-96b2-47d6-a0cb-e0910e937ecb"
      },
      "execution_count": null,
      "outputs": [
        {
          "output_type": "stream",
          "name": "stdout",
          "text": [
            "Dados originais:\n",
            "         Nome  Idade  Salario          Cidade\n",
            "0      Alice   25.0  50000.0       São Paulo\n",
            "1      Bruno    NaN  62000.0  Rio de Janeiro\n",
            "2     Carlos   45.0  70000.0       São Paulo\n",
            "3    Daniela   -2.0      NaN  Rio de Janeiro\n",
            "4    Eduardo   30.0  52000.0       São Paulo\n",
            "5   Fernanda   31.0  51000.0       São Paulo\n",
            "6      Bruno   45.0  62000.0  Rio de Janeiro\n",
            "7    Gustavo   28.0  45000.0        Brasília\n",
            "8    Heloisa    NaN  48000.0       São Paulo\n",
            "9       Igor   26.0      NaN       São Paulo\n",
            "10     Joana   40.0  55000.0  Rio de Janeiro\n",
            "11    Karina   -1.0  57000.0       São Paulo\n",
            "12     Laura   23.0  49000.0       São Paulo\n",
            "13   Marcelo   36.0  60000.0        Brasília\n",
            "14      Nina    NaN      NaN  Rio de Janeiro\n",
            "15     Bruno   33.0  62000.0  Rio de Janeiro\n",
            "16    Otavio   50.0  73000.0        Brasília\n",
            "17     Paula   29.0  51000.0       São Paulo\n",
            "18  Quintino   24.0      NaN       São Paulo\n",
            "19   Rafaela   32.0  61000.0  Rio de Janeiro\n",
            "\n",
            "Dados tratados:\n",
            "         Nome  Idade  Salario          Cidade\n",
            "0      Alice   25.0  50000.0       São Paulo\n",
            "1      Bruno   33.1  62000.0  Rio de Janeiro\n",
            "2     Carlos   45.0  70000.0       São Paulo\n",
            "3    Daniela   33.1  56000.0  Rio de Janeiro\n",
            "4    Eduardo   30.0  52000.0       São Paulo\n",
            "5   Fernanda   31.0  51000.0       São Paulo\n",
            "7    Gustavo   28.0  45000.0        Brasília\n",
            "8    Heloisa   33.1  48000.0       São Paulo\n",
            "9       Igor   26.0  56000.0       São Paulo\n",
            "10     Joana   40.0  55000.0  Rio de Janeiro\n",
            "11    Karina   33.1  57000.0       São Paulo\n",
            "12     Laura   23.0  49000.0       São Paulo\n",
            "13   Marcelo   36.0  60000.0        Brasília\n",
            "14      Nina   33.1  56000.0  Rio de Janeiro\n",
            "16    Otavio   50.0  73000.0        Brasília\n",
            "17     Paula   29.0  51000.0       São Paulo\n",
            "18  Quintino   24.0  56000.0       São Paulo\n",
            "19   Rafaela   32.0  61000.0  Rio de Janeiro\n"
          ]
        }
      ]
    }
  ]
}