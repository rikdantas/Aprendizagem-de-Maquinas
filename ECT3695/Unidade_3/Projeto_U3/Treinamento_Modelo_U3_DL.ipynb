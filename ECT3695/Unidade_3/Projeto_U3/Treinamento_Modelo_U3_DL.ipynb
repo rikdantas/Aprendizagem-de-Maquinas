{
  "nbformat": 4,
  "nbformat_minor": 0,
  "metadata": {
    "colab": {
      "provenance": [],
      "gpuType": "T4",
      "authorship_tag": "ABX9TyMVJ466h4HIVEf9kmN2XTDV",
      "include_colab_link": true
    },
    "kernelspec": {
      "name": "python3",
      "display_name": "Python 3"
    },
    "language_info": {
      "name": "python"
    },
    "accelerator": "GPU"
  },
  "cells": [
    {
      "cell_type": "markdown",
      "metadata": {
        "id": "view-in-github",
        "colab_type": "text"
      },
      "source": [
        "<a href=\"https://colab.research.google.com/github/rikdantas/Aprendizagem-de-Maquinas/blob/main/ECT3695/Unidade_3/Projeto_U3/Treinamento_Modelo_U3_DL.ipynb\" target=\"_parent\"><img src=\"https://colab.research.google.com/assets/colab-badge.svg\" alt=\"Open In Colab\"/></a>"
      ]
    },
    {
      "cell_type": "markdown",
      "source": [
        "# Trabalho: Aplicação de IA e Visão Computacional\n",
        "## Aluno: Paulo Ricardo Dantas\n",
        "## Objetivo\n",
        "Aplicar técnicas de IA e Visão Computacional para resolver um problema prático usando segmentação de imagens de bovinos.\n",
        "\n"
      ],
      "metadata": {
        "id": "Wg-CsoaUnMdp"
      }
    },
    {
      "cell_type": "markdown",
      "source": [
        "## Importando o dataset"
      ],
      "metadata": {
        "id": "tzReRCVAnmHA"
      }
    },
    {
      "cell_type": "markdown",
      "source": [
        "### Baixando o dataset"
      ],
      "metadata": {
        "id": "tKHga02DYs1u"
      }
    },
    {
      "cell_type": "code",
      "source": [
        "# Baixando o dataset\n",
        "#!curl -o roboflow.zip -L \"\"\n",
        "# LINK OMITIDO POR CONTER CHAVE PRIVADA DA CONTA ROBOFLOW\n",
        "\n",
        "# Unzip no dataset\n",
        "!unzip -q roboflow.zip -d dataset\n",
        "\n",
        "# Removendo arquivo baixado\n",
        "!rm roboflow.zip"
      ],
      "metadata": {
        "colab": {
          "base_uri": "https://localhost:8080/"
        },
        "id": "bYlH-TBIT1mm",
        "outputId": "0057c1c8-2b5d-434a-b9b6-a0ae27dae380"
      },
      "execution_count": null,
      "outputs": [
        {
          "output_type": "stream",
          "name": "stdout",
          "text": [
            "  % Total    % Received % Xferd  Average Speed   Time    Time     Time  Current\n",
            "                                 Dload  Upload   Total   Spent    Left  Speed\n",
            "100   904  100   904    0     0   3651      0 --:--:-- --:--:-- --:--:--  3659\n",
            "100 51.2M  100 51.2M    0     0  35.8M      0  0:00:01  0:00:01 --:--:-- 73.9M\n"
          ]
        }
      ]
    },
    {
      "cell_type": "markdown",
      "source": [
        "## Treinamento\n",
        "Para fazer o treinamento iremos utilizar a rede já treinada do YOLO. Iremos utilizar a versão mais recente de segmentação que é a versão:\n",
        " >YOLO11x-seg\n",
        "\n",
        "\n"
      ],
      "metadata": {
        "id": "vRvF_-M5cHCy"
      }
    },
    {
      "cell_type": "markdown",
      "source": [
        "### Instalando a biblioteca da ultralytics"
      ],
      "metadata": {
        "id": "fProUubrc5Rh"
      }
    },
    {
      "cell_type": "code",
      "source": [
        "!pip install -q ultralytics"
      ],
      "metadata": {
        "colab": {
          "base_uri": "https://localhost:8080/"
        },
        "id": "T0zbLtd3c4yD",
        "outputId": "d03063ed-955f-4db6-e9f0-3dc2d0f28fbb"
      },
      "execution_count": null,
      "outputs": [
        {
          "output_type": "stream",
          "name": "stdout",
          "text": [
            "\u001b[?25l   \u001b[90m━━━━━━━━━━━━━━━━━━━━━━━━━━━━━━━━━━━━━━━━\u001b[0m \u001b[32m0.0/911.6 kB\u001b[0m \u001b[31m?\u001b[0m eta \u001b[36m-:--:--\u001b[0m\r\u001b[2K   \u001b[90m━━━━━━━━━━━━━━━━━━━━━━━━━━━━━━━━━━━━━━━━\u001b[0m \u001b[32m911.6/911.6 kB\u001b[0m \u001b[31m27.2 MB/s\u001b[0m eta \u001b[36m0:00:00\u001b[0m\n",
            "\u001b[?25h"
          ]
        }
      ]
    },
    {
      "cell_type": "markdown",
      "source": [
        "### Importando bibliotecas"
      ],
      "metadata": {
        "id": "EsI1TSJCdEHn"
      }
    },
    {
      "cell_type": "code",
      "source": [
        "from ultralytics import YOLO"
      ],
      "metadata": {
        "colab": {
          "base_uri": "https://localhost:8080/"
        },
        "id": "LVgY92LMdHYM",
        "outputId": "b97aa58e-c5e5-4dfe-b16d-88d4003eaf56"
      },
      "execution_count": null,
      "outputs": [
        {
          "output_type": "stream",
          "name": "stdout",
          "text": [
            "Creating new Ultralytics Settings v0.0.6 file ✅ \n",
            "View Ultralytics Settings with 'yolo settings' or at '/root/.config/Ultralytics/settings.json'\n",
            "Update Settings with 'yolo settings key=value', i.e. 'yolo settings runs_dir=path/to/dir'. For help see https://docs.ultralytics.com/quickstart/#ultralytics-settings.\n"
          ]
        }
      ]
    },
    {
      "cell_type": "markdown",
      "source": [
        "### Treinando o modelo"
      ],
      "metadata": {
        "id": "Oj90KbPDGtSB"
      }
    },
    {
      "cell_type": "code",
      "source": [
        "# Carregando o modelo\n",
        "model = YOLO('yolo11x-seg.pt')\n",
        "\n",
        "# Treinando o modelo\n",
        "model.train(data='/content/dataset/data.yaml', epochs=15, batch=4, imgsz=640)"
      ],
      "metadata": {
        "colab": {
          "base_uri": "https://localhost:8080/"
        },
        "id": "EjGSEIdxdQbz",
        "outputId": "76229000-e47a-4525-9dc3-618a9f690d20"
      },
      "execution_count": null,
      "outputs": [
        {
          "output_type": "stream",
          "name": "stdout",
          "text": [
            "Ultralytics 8.3.65 🚀 Python-3.11.11 torch-2.5.1+cu121 CUDA:0 (Tesla T4, 15102MiB)\n",
            "\u001b[34m\u001b[1mengine/trainer: \u001b[0mtask=segment, mode=train, model=yolo11x-seg.pt, data=/content/dataset/data.yaml, epochs=15, time=None, patience=100, batch=4, imgsz=640, save=True, save_period=-1, cache=False, device=None, workers=8, project=None, name=train8, exist_ok=False, pretrained=True, optimizer=auto, verbose=True, seed=0, deterministic=True, single_cls=False, rect=False, cos_lr=False, close_mosaic=10, resume=False, amp=True, fraction=1.0, profile=False, freeze=None, multi_scale=False, overlap_mask=True, mask_ratio=4, dropout=0.0, val=True, split=val, save_json=False, save_hybrid=False, conf=None, iou=0.7, max_det=300, half=False, dnn=False, plots=True, source=None, vid_stride=1, stream_buffer=False, visualize=False, augment=False, agnostic_nms=False, classes=None, retina_masks=False, embed=None, show=False, save_frames=False, save_txt=False, save_conf=False, save_crop=False, show_labels=True, show_conf=True, show_boxes=True, line_width=None, format=torchscript, keras=False, optimize=False, int8=False, dynamic=False, simplify=True, opset=None, workspace=None, nms=False, lr0=0.01, lrf=0.01, momentum=0.937, weight_decay=0.0005, warmup_epochs=3.0, warmup_momentum=0.8, warmup_bias_lr=0.1, box=7.5, cls=0.5, dfl=1.5, pose=12.0, kobj=1.0, nbs=64, hsv_h=0.015, hsv_s=0.7, hsv_v=0.4, degrees=0.0, translate=0.1, scale=0.5, shear=0.0, perspective=0.0, flipud=0.0, fliplr=0.5, bgr=0.0, mosaic=1.0, mixup=0.0, copy_paste=0.0, copy_paste_mode=flip, auto_augment=randaugment, erasing=0.4, crop_fraction=1.0, cfg=None, tracker=botsort.yaml, save_dir=runs/segment/train8\n",
            "Overriding model.yaml nc=80 with nc=1\n",
            "\n",
            "                   from  n    params  module                                       arguments                     \n",
            "  0                  -1  1      2784  ultralytics.nn.modules.conv.Conv             [3, 96, 3, 2]                 \n",
            "  1                  -1  1    166272  ultralytics.nn.modules.conv.Conv             [96, 192, 3, 2]               \n",
            "  2                  -1  2    389760  ultralytics.nn.modules.block.C3k2            [192, 384, 2, True, 0.25]     \n",
            "  3                  -1  1   1327872  ultralytics.nn.modules.conv.Conv             [384, 384, 3, 2]              \n",
            "  4                  -1  2   1553664  ultralytics.nn.modules.block.C3k2            [384, 768, 2, True, 0.25]     \n",
            "  5                  -1  1   5309952  ultralytics.nn.modules.conv.Conv             [768, 768, 3, 2]              \n",
            "  6                  -1  2   5022720  ultralytics.nn.modules.block.C3k2            [768, 768, 2, True]           \n",
            "  7                  -1  1   5309952  ultralytics.nn.modules.conv.Conv             [768, 768, 3, 2]              \n",
            "  8                  -1  2   5022720  ultralytics.nn.modules.block.C3k2            [768, 768, 2, True]           \n",
            "  9                  -1  1   1476864  ultralytics.nn.modules.block.SPPF            [768, 768, 5]                 \n",
            " 10                  -1  2   3264768  ultralytics.nn.modules.block.C2PSA           [768, 768, 2]                 \n",
            " 11                  -1  1         0  torch.nn.modules.upsampling.Upsample         [None, 2, 'nearest']          \n",
            " 12             [-1, 6]  1         0  ultralytics.nn.modules.conv.Concat           [1]                           \n",
            " 13                  -1  2   5612544  ultralytics.nn.modules.block.C3k2            [1536, 768, 2, True]          \n",
            " 14                  -1  1         0  torch.nn.modules.upsampling.Upsample         [None, 2, 'nearest']          \n",
            " 15             [-1, 4]  1         0  ultralytics.nn.modules.conv.Concat           [1]                           \n",
            " 16                  -1  2   1700352  ultralytics.nn.modules.block.C3k2            [1536, 384, 2, True]          \n",
            " 17                  -1  1   1327872  ultralytics.nn.modules.conv.Conv             [384, 384, 3, 2]              \n",
            " 18            [-1, 13]  1         0  ultralytics.nn.modules.conv.Concat           [1]                           \n",
            " 19                  -1  2   5317632  ultralytics.nn.modules.block.C3k2            [1152, 768, 2, True]          \n",
            " 20                  -1  1   5309952  ultralytics.nn.modules.conv.Conv             [768, 768, 3, 2]              \n",
            " 21            [-1, 10]  1         0  ultralytics.nn.modules.conv.Concat           [1]                           \n",
            " 22                  -1  2   5612544  ultralytics.nn.modules.block.C3k2            [1536, 768, 2, True]          \n",
            " 23        [16, 19, 22]  1   8323187  ultralytics.nn.modules.head.Segment          [1, 32, 384, [384, 768, 768]] \n",
            "YOLO11x-seg summary: 667 layers, 62,051,411 parameters, 62,051,395 gradients, 319.7 GFLOPs\n",
            "\n",
            "Transferred 1071/1077 items from pretrained weights\n",
            "\u001b[34m\u001b[1mTensorBoard: \u001b[0mStart with 'tensorboard --logdir runs/segment/train8', view at http://localhost:6006/\n",
            "Freezing layer 'model.23.dfl.conv.weight'\n",
            "\u001b[34m\u001b[1mAMP: \u001b[0mrunning Automatic Mixed Precision (AMP) checks...\n",
            "\u001b[34m\u001b[1mAMP: \u001b[0mchecks passed ✅\n"
          ]
        },
        {
          "output_type": "stream",
          "name": "stderr",
          "text": [
            "\u001b[34m\u001b[1mtrain: \u001b[0mScanning /content/dataset/train/labels.cache... 531 images, 0 backgrounds, 0 corrupt: 100%|██████████| 531/531 [00:00<?, ?it/s]"
          ]
        },
        {
          "output_type": "stream",
          "name": "stdout",
          "text": [
            "\u001b[34m\u001b[1malbumentations: \u001b[0mBlur(p=0.01, blur_limit=(3, 7)), MedianBlur(p=0.01, blur_limit=(3, 7)), ToGray(p=0.01, num_output_channels=3, method='weighted_average'), CLAHE(p=0.01, clip_limit=(1.0, 4.0), tile_grid_size=(8, 8))\n"
          ]
        },
        {
          "output_type": "stream",
          "name": "stderr",
          "text": [
            "\n",
            "\u001b[34m\u001b[1mval: \u001b[0mScanning /content/dataset/valid/labels.cache... 25 images, 0 backgrounds, 0 corrupt: 100%|██████████| 25/25 [00:00<?, ?it/s]\n"
          ]
        },
        {
          "output_type": "stream",
          "name": "stdout",
          "text": [
            "Plotting labels to runs/segment/train8/labels.jpg... \n",
            "\u001b[34m\u001b[1moptimizer:\u001b[0m 'optimizer=auto' found, ignoring 'lr0=0.01' and 'momentum=0.937' and determining best 'optimizer', 'lr0' and 'momentum' automatically... \n",
            "\u001b[34m\u001b[1moptimizer:\u001b[0m AdamW(lr=0.002, momentum=0.9) with parameter groups 176 weight(decay=0.0), 187 weight(decay=0.0005), 186 bias(decay=0.0)\n",
            "\u001b[34m\u001b[1mTensorBoard: \u001b[0mmodel graph visualization added ✅\n",
            "Image sizes 640 train, 640 val\n",
            "Using 2 dataloader workers\n",
            "Logging results to \u001b[1mruns/segment/train8\u001b[0m\n",
            "Starting training for 15 epochs...\n",
            "\n",
            "      Epoch    GPU_mem   box_loss   seg_loss   cls_loss   dfl_loss  Instances       Size\n"
          ]
        },
        {
          "output_type": "stream",
          "name": "stderr",
          "text": [
            "       1/15      10.1G      1.428      2.659      1.689      1.471         48        640: 100%|██████████| 133/133 [01:10<00:00,  1.88it/s]\n",
            "                 Class     Images  Instances      Box(P          R      mAP50  mAP50-95)     Mask(P          R      mAP50  mAP50-95): 100%|██████████| 4/4 [00:01<00:00,  3.28it/s]"
          ]
        },
        {
          "output_type": "stream",
          "name": "stdout",
          "text": [
            "                   all         25        221     0.0108      0.367    0.00752    0.00354    0.00813      0.276    0.00523    0.00227\n"
          ]
        },
        {
          "output_type": "stream",
          "name": "stderr",
          "text": [
            "\n"
          ]
        },
        {
          "output_type": "stream",
          "name": "stdout",
          "text": [
            "\n",
            "      Epoch    GPU_mem   box_loss   seg_loss   cls_loss   dfl_loss  Instances       Size\n"
          ]
        },
        {
          "output_type": "stream",
          "name": "stderr",
          "text": [
            "       2/15      9.59G      1.593      2.931      1.632      1.584         75        640: 100%|██████████| 133/133 [01:09<00:00,  1.91it/s]\n",
            "                 Class     Images  Instances      Box(P          R      mAP50  mAP50-95)     Mask(P          R      mAP50  mAP50-95): 100%|██████████| 4/4 [00:01<00:00,  3.83it/s]"
          ]
        },
        {
          "output_type": "stream",
          "name": "stdout",
          "text": [
            "                   all         25        221      0.113      0.172     0.0534     0.0217     0.0927      0.167      0.041     0.0131\n"
          ]
        },
        {
          "output_type": "stream",
          "name": "stderr",
          "text": [
            "\n"
          ]
        },
        {
          "output_type": "stream",
          "name": "stdout",
          "text": [
            "\n",
            "      Epoch    GPU_mem   box_loss   seg_loss   cls_loss   dfl_loss  Instances       Size\n"
          ]
        },
        {
          "output_type": "stream",
          "name": "stderr",
          "text": [
            "       3/15      9.42G      1.669      3.029      1.644      1.639         39        640: 100%|██████████| 133/133 [01:07<00:00,  1.98it/s]\n",
            "                 Class     Images  Instances      Box(P          R      mAP50  mAP50-95)     Mask(P          R      mAP50  mAP50-95): 100%|██████████| 4/4 [00:01<00:00,  3.56it/s]"
          ]
        },
        {
          "output_type": "stream",
          "name": "stdout",
          "text": [
            "                   all         25        221      0.193      0.281       0.17     0.0841      0.168      0.211      0.143     0.0559\n"
          ]
        },
        {
          "output_type": "stream",
          "name": "stderr",
          "text": [
            "\n"
          ]
        },
        {
          "output_type": "stream",
          "name": "stdout",
          "text": [
            "\n",
            "      Epoch    GPU_mem   box_loss   seg_loss   cls_loss   dfl_loss  Instances       Size\n"
          ]
        },
        {
          "output_type": "stream",
          "name": "stderr",
          "text": [
            "       4/15       9.4G      1.568      2.825      1.545      1.573         31        640: 100%|██████████| 133/133 [01:08<00:00,  1.94it/s]\n",
            "                 Class     Images  Instances      Box(P          R      mAP50  mAP50-95)     Mask(P          R      mAP50  mAP50-95): 100%|██████████| 4/4 [00:01<00:00,  3.17it/s]"
          ]
        },
        {
          "output_type": "stream",
          "name": "stdout",
          "text": [
            "                   all         25        221      0.441      0.442      0.381      0.205      0.448      0.412       0.37      0.168\n"
          ]
        },
        {
          "output_type": "stream",
          "name": "stderr",
          "text": [
            "\n"
          ]
        },
        {
          "output_type": "stream",
          "name": "stdout",
          "text": [
            "\n",
            "      Epoch    GPU_mem   box_loss   seg_loss   cls_loss   dfl_loss  Instances       Size\n"
          ]
        },
        {
          "output_type": "stream",
          "name": "stderr",
          "text": [
            "       5/15      9.46G      1.445      2.589      1.474      1.486         40        640: 100%|██████████| 133/133 [01:07<00:00,  1.96it/s]\n",
            "                 Class     Images  Instances      Box(P          R      mAP50  mAP50-95)     Mask(P          R      mAP50  mAP50-95): 100%|██████████| 4/4 [00:01<00:00,  3.58it/s]"
          ]
        },
        {
          "output_type": "stream",
          "name": "stdout",
          "text": [
            "                   all         25        221      0.528      0.457      0.502      0.259      0.564      0.398      0.462      0.216\n"
          ]
        },
        {
          "output_type": "stream",
          "name": "stderr",
          "text": [
            "\n"
          ]
        },
        {
          "output_type": "stream",
          "name": "stdout",
          "text": [
            "Closing dataloader mosaic\n",
            "\u001b[34m\u001b[1malbumentations: \u001b[0mBlur(p=0.01, blur_limit=(3, 7)), MedianBlur(p=0.01, blur_limit=(3, 7)), ToGray(p=0.01, num_output_channels=3, method='weighted_average'), CLAHE(p=0.01, clip_limit=(1.0, 4.0), tile_grid_size=(8, 8))\n",
            "\n",
            "      Epoch    GPU_mem   box_loss   seg_loss   cls_loss   dfl_loss  Instances       Size\n"
          ]
        },
        {
          "output_type": "stream",
          "name": "stderr",
          "text": [
            "       6/15       9.5G      1.357      2.378      1.279      1.481         29        640: 100%|██████████| 133/133 [01:02<00:00,  2.12it/s]\n",
            "                 Class     Images  Instances      Box(P          R      mAP50  mAP50-95)     Mask(P          R      mAP50  mAP50-95): 100%|██████████| 4/4 [00:01<00:00,  3.36it/s]"
          ]
        },
        {
          "output_type": "stream",
          "name": "stdout",
          "text": [
            "                   all         25        221      0.548      0.462      0.448      0.225      0.544      0.439      0.428      0.201\n"
          ]
        },
        {
          "output_type": "stream",
          "name": "stderr",
          "text": [
            "\n"
          ]
        },
        {
          "output_type": "stream",
          "name": "stdout",
          "text": [
            "\n",
            "      Epoch    GPU_mem   box_loss   seg_loss   cls_loss   dfl_loss  Instances       Size\n"
          ]
        },
        {
          "output_type": "stream",
          "name": "stderr",
          "text": [
            "       7/15      9.51G      1.292      2.283      1.218       1.44         26        640: 100%|██████████| 133/133 [01:01<00:00,  2.17it/s]\n",
            "                 Class     Images  Instances      Box(P          R      mAP50  mAP50-95)     Mask(P          R      mAP50  mAP50-95): 100%|██████████| 4/4 [00:01<00:00,  3.39it/s]"
          ]
        },
        {
          "output_type": "stream",
          "name": "stdout",
          "text": [
            "                   all         25        221      0.553      0.439      0.506      0.287      0.473      0.493      0.488      0.234\n"
          ]
        },
        {
          "output_type": "stream",
          "name": "stderr",
          "text": [
            "\n"
          ]
        },
        {
          "output_type": "stream",
          "name": "stdout",
          "text": [
            "\n",
            "      Epoch    GPU_mem   box_loss   seg_loss   cls_loss   dfl_loss  Instances       Size\n"
          ]
        },
        {
          "output_type": "stream",
          "name": "stderr",
          "text": [
            "       8/15      9.45G      1.252      2.195      1.168       1.43         22        640: 100%|██████████| 133/133 [01:00<00:00,  2.20it/s]\n",
            "                 Class     Images  Instances      Box(P          R      mAP50  mAP50-95)     Mask(P          R      mAP50  mAP50-95): 100%|██████████| 4/4 [00:01<00:00,  3.59it/s]"
          ]
        },
        {
          "output_type": "stream",
          "name": "stdout",
          "text": [
            "                   all         25        221      0.599      0.487      0.508      0.295      0.568      0.471       0.48      0.236\n"
          ]
        },
        {
          "output_type": "stream",
          "name": "stderr",
          "text": [
            "\n"
          ]
        },
        {
          "output_type": "stream",
          "name": "stdout",
          "text": [
            "\n",
            "      Epoch    GPU_mem   box_loss   seg_loss   cls_loss   dfl_loss  Instances       Size\n"
          ]
        },
        {
          "output_type": "stream",
          "name": "stderr",
          "text": [
            "       9/15      9.38G      1.194      2.047      1.081       1.38         39        640: 100%|██████████| 133/133 [01:02<00:00,  2.14it/s]\n",
            "                 Class     Images  Instances      Box(P          R      mAP50  mAP50-95)     Mask(P          R      mAP50  mAP50-95): 100%|██████████| 4/4 [00:01<00:00,  3.56it/s]"
          ]
        },
        {
          "output_type": "stream",
          "name": "stdout",
          "text": [
            "                   all         25        221      0.611      0.533      0.575      0.354      0.642       0.48      0.556      0.279\n"
          ]
        },
        {
          "output_type": "stream",
          "name": "stderr",
          "text": [
            "\n"
          ]
        },
        {
          "output_type": "stream",
          "name": "stdout",
          "text": [
            "\n",
            "      Epoch    GPU_mem   box_loss   seg_loss   cls_loss   dfl_loss  Instances       Size\n"
          ]
        },
        {
          "output_type": "stream",
          "name": "stderr",
          "text": [
            "      10/15      9.41G      1.154      2.002      1.021      1.331         36        640: 100%|██████████| 133/133 [01:01<00:00,  2.17it/s]\n",
            "                 Class     Images  Instances      Box(P          R      mAP50  mAP50-95)     Mask(P          R      mAP50  mAP50-95): 100%|██████████| 4/4 [00:01<00:00,  3.24it/s]"
          ]
        },
        {
          "output_type": "stream",
          "name": "stdout",
          "text": [
            "                   all         25        221      0.589      0.584      0.592      0.356       0.61      0.484      0.526      0.283\n"
          ]
        },
        {
          "output_type": "stream",
          "name": "stderr",
          "text": [
            "\n"
          ]
        },
        {
          "output_type": "stream",
          "name": "stdout",
          "text": [
            "\n",
            "      Epoch    GPU_mem   box_loss   seg_loss   cls_loss   dfl_loss  Instances       Size\n"
          ]
        },
        {
          "output_type": "stream",
          "name": "stderr",
          "text": [
            "      11/15      9.45G       1.09      1.867     0.9823      1.287         35        640: 100%|██████████| 133/133 [01:01<00:00,  2.16it/s]\n",
            "                 Class     Images  Instances      Box(P          R      mAP50  mAP50-95)     Mask(P          R      mAP50  mAP50-95): 100%|██████████| 4/4 [00:01<00:00,  3.31it/s]"
          ]
        },
        {
          "output_type": "stream",
          "name": "stdout",
          "text": [
            "                   all         25        221      0.646      0.593      0.597      0.354       0.63      0.571      0.572      0.306\n"
          ]
        },
        {
          "output_type": "stream",
          "name": "stderr",
          "text": [
            "\n"
          ]
        },
        {
          "output_type": "stream",
          "name": "stdout",
          "text": [
            "\n",
            "      Epoch    GPU_mem   box_loss   seg_loss   cls_loss   dfl_loss  Instances       Size\n"
          ]
        },
        {
          "output_type": "stream",
          "name": "stderr",
          "text": [
            "      12/15      9.46G      1.036      1.764     0.8968      1.245         33        640: 100%|██████████| 133/133 [01:01<00:00,  2.17it/s]\n",
            "                 Class     Images  Instances      Box(P          R      mAP50  mAP50-95)     Mask(P          R      mAP50  mAP50-95): 100%|██████████| 4/4 [00:01<00:00,  3.65it/s]"
          ]
        },
        {
          "output_type": "stream",
          "name": "stdout",
          "text": [
            "                   all         25        221      0.711      0.543      0.603      0.381      0.687      0.525      0.569      0.316\n"
          ]
        },
        {
          "output_type": "stream",
          "name": "stderr",
          "text": [
            "\n"
          ]
        },
        {
          "output_type": "stream",
          "name": "stdout",
          "text": [
            "\n",
            "      Epoch    GPU_mem   box_loss   seg_loss   cls_loss   dfl_loss  Instances       Size\n"
          ]
        },
        {
          "output_type": "stream",
          "name": "stderr",
          "text": [
            "      13/15      9.46G     0.9758      1.681     0.8587      1.229         30        640: 100%|██████████| 133/133 [01:02<00:00,  2.14it/s]\n",
            "                 Class     Images  Instances      Box(P          R      mAP50  mAP50-95)     Mask(P          R      mAP50  mAP50-95): 100%|██████████| 4/4 [00:01<00:00,  3.64it/s]"
          ]
        },
        {
          "output_type": "stream",
          "name": "stdout",
          "text": [
            "                   all         25        221        0.7      0.591      0.633      0.405      0.665      0.606      0.614       0.35\n"
          ]
        },
        {
          "output_type": "stream",
          "name": "stderr",
          "text": [
            "\n"
          ]
        },
        {
          "output_type": "stream",
          "name": "stdout",
          "text": [
            "\n",
            "      Epoch    GPU_mem   box_loss   seg_loss   cls_loss   dfl_loss  Instances       Size\n"
          ]
        },
        {
          "output_type": "stream",
          "name": "stderr",
          "text": [
            "      14/15      9.44G     0.9219      1.542     0.8184      1.196         29        640: 100%|██████████| 133/133 [01:01<00:00,  2.18it/s]\n",
            "                 Class     Images  Instances      Box(P          R      mAP50  mAP50-95)     Mask(P          R      mAP50  mAP50-95): 100%|██████████| 4/4 [00:01<00:00,  3.57it/s]"
          ]
        },
        {
          "output_type": "stream",
          "name": "stdout",
          "text": [
            "                   all         25        221      0.653      0.584       0.63      0.418      0.643      0.575      0.619      0.364\n"
          ]
        },
        {
          "output_type": "stream",
          "name": "stderr",
          "text": [
            "\n"
          ]
        },
        {
          "output_type": "stream",
          "name": "stdout",
          "text": [
            "\n",
            "      Epoch    GPU_mem   box_loss   seg_loss   cls_loss   dfl_loss  Instances       Size\n"
          ]
        },
        {
          "output_type": "stream",
          "name": "stderr",
          "text": [
            "      15/15      9.38G     0.8947      1.514     0.7925      1.173         42        640: 100%|██████████| 133/133 [01:02<00:00,  2.13it/s]\n",
            "                 Class     Images  Instances      Box(P          R      mAP50  mAP50-95)     Mask(P          R      mAP50  mAP50-95): 100%|██████████| 4/4 [00:01<00:00,  3.57it/s]"
          ]
        },
        {
          "output_type": "stream",
          "name": "stdout",
          "text": [
            "                   all         25        221      0.736      0.602       0.66      0.442      0.696      0.602      0.654      0.389\n"
          ]
        },
        {
          "output_type": "stream",
          "name": "stderr",
          "text": [
            "\n"
          ]
        },
        {
          "output_type": "stream",
          "name": "stdout",
          "text": [
            "\n",
            "15 epochs completed in 0.362 hours.\n",
            "Optimizer stripped from runs/segment/train8/weights/last.pt, 124.8MB\n",
            "Optimizer stripped from runs/segment/train8/weights/best.pt, 124.8MB\n",
            "\n",
            "Validating runs/segment/train8/weights/best.pt...\n",
            "Ultralytics 8.3.65 🚀 Python-3.11.11 torch-2.5.1+cu121 CUDA:0 (Tesla T4, 15102MiB)\n",
            "YOLO11x-seg summary (fused): 491 layers, 62,003,283 parameters, 0 gradients, 318.5 GFLOPs\n"
          ]
        },
        {
          "output_type": "stream",
          "name": "stderr",
          "text": [
            "                 Class     Images  Instances      Box(P          R      mAP50  mAP50-95)     Mask(P          R      mAP50  mAP50-95): 100%|██████████| 4/4 [00:01<00:00,  2.26it/s]\n"
          ]
        },
        {
          "output_type": "stream",
          "name": "stdout",
          "text": [
            "                   all         25        221      0.742      0.602       0.66      0.442      0.696      0.602      0.656      0.389\n",
            "Speed: 0.4ms preprocess, 42.8ms inference, 0.0ms loss, 3.5ms postprocess per image\n",
            "Results saved to \u001b[1mruns/segment/train8\u001b[0m\n"
          ]
        },
        {
          "output_type": "execute_result",
          "data": {
            "text/plain": [
              "ultralytics.utils.metrics.SegmentMetrics object with attributes:\n",
              "\n",
              "ap_class_index: array([0])\n",
              "box: ultralytics.utils.metrics.Metric object\n",
              "confusion_matrix: <ultralytics.utils.metrics.ConfusionMatrix object at 0x7eda33466790>\n",
              "curves: ['Precision-Recall(B)', 'F1-Confidence(B)', 'Precision-Confidence(B)', 'Recall-Confidence(B)', 'Precision-Recall(M)', 'F1-Confidence(M)', 'Precision-Confidence(M)', 'Recall-Confidence(M)']\n",
              "curves_results: [[array([          0,    0.001001,    0.002002,    0.003003,    0.004004,    0.005005,    0.006006,    0.007007,    0.008008,    0.009009,     0.01001,    0.011011,    0.012012,    0.013013,    0.014014,    0.015015,    0.016016,    0.017017,    0.018018,    0.019019,     0.02002,    0.021021,    0.022022,    0.023023,\n",
              "          0.024024,    0.025025,    0.026026,    0.027027,    0.028028,    0.029029,     0.03003,    0.031031,    0.032032,    0.033033,    0.034034,    0.035035,    0.036036,    0.037037,    0.038038,    0.039039,     0.04004,    0.041041,    0.042042,    0.043043,    0.044044,    0.045045,    0.046046,    0.047047,\n",
              "          0.048048,    0.049049,     0.05005,    0.051051,    0.052052,    0.053053,    0.054054,    0.055055,    0.056056,    0.057057,    0.058058,    0.059059,     0.06006,    0.061061,    0.062062,    0.063063,    0.064064,    0.065065,    0.066066,    0.067067,    0.068068,    0.069069,     0.07007,    0.071071,\n",
              "          0.072072,    0.073073,    0.074074,    0.075075,    0.076076,    0.077077,    0.078078,    0.079079,     0.08008,    0.081081,    0.082082,    0.083083,    0.084084,    0.085085,    0.086086,    0.087087,    0.088088,    0.089089,     0.09009,    0.091091,    0.092092,    0.093093,    0.094094,    0.095095,\n",
              "          0.096096,    0.097097,    0.098098,    0.099099,      0.1001,      0.1011,      0.1021,      0.1031,      0.1041,     0.10511,     0.10611,     0.10711,     0.10811,     0.10911,     0.11011,     0.11111,     0.11211,     0.11311,     0.11411,     0.11512,     0.11612,     0.11712,     0.11812,     0.11912,\n",
              "           0.12012,     0.12112,     0.12212,     0.12312,     0.12412,     0.12513,     0.12613,     0.12713,     0.12813,     0.12913,     0.13013,     0.13113,     0.13213,     0.13313,     0.13413,     0.13514,     0.13614,     0.13714,     0.13814,     0.13914,     0.14014,     0.14114,     0.14214,     0.14314,\n",
              "           0.14414,     0.14515,     0.14615,     0.14715,     0.14815,     0.14915,     0.15015,     0.15115,     0.15215,     0.15315,     0.15415,     0.15516,     0.15616,     0.15716,     0.15816,     0.15916,     0.16016,     0.16116,     0.16216,     0.16316,     0.16416,     0.16517,     0.16617,     0.16717,\n",
              "           0.16817,     0.16917,     0.17017,     0.17117,     0.17217,     0.17317,     0.17417,     0.17518,     0.17618,     0.17718,     0.17818,     0.17918,     0.18018,     0.18118,     0.18218,     0.18318,     0.18418,     0.18519,     0.18619,     0.18719,     0.18819,     0.18919,     0.19019,     0.19119,\n",
              "           0.19219,     0.19319,     0.19419,      0.1952,      0.1962,      0.1972,      0.1982,      0.1992,      0.2002,      0.2012,      0.2022,      0.2032,      0.2042,     0.20521,     0.20621,     0.20721,     0.20821,     0.20921,     0.21021,     0.21121,     0.21221,     0.21321,     0.21421,     0.21522,\n",
              "           0.21622,     0.21722,     0.21822,     0.21922,     0.22022,     0.22122,     0.22222,     0.22322,     0.22422,     0.22523,     0.22623,     0.22723,     0.22823,     0.22923,     0.23023,     0.23123,     0.23223,     0.23323,     0.23423,     0.23524,     0.23624,     0.23724,     0.23824,     0.23924,\n",
              "           0.24024,     0.24124,     0.24224,     0.24324,     0.24424,     0.24525,     0.24625,     0.24725,     0.24825,     0.24925,     0.25025,     0.25125,     0.25225,     0.25325,     0.25425,     0.25526,     0.25626,     0.25726,     0.25826,     0.25926,     0.26026,     0.26126,     0.26226,     0.26326,\n",
              "           0.26426,     0.26527,     0.26627,     0.26727,     0.26827,     0.26927,     0.27027,     0.27127,     0.27227,     0.27327,     0.27427,     0.27528,     0.27628,     0.27728,     0.27828,     0.27928,     0.28028,     0.28128,     0.28228,     0.28328,     0.28428,     0.28529,     0.28629,     0.28729,\n",
              "           0.28829,     0.28929,     0.29029,     0.29129,     0.29229,     0.29329,     0.29429,      0.2953,      0.2963,      0.2973,      0.2983,      0.2993,      0.3003,      0.3013,      0.3023,      0.3033,      0.3043,     0.30531,     0.30631,     0.30731,     0.30831,     0.30931,     0.31031,     0.31131,\n",
              "           0.31231,     0.31331,     0.31431,     0.31532,     0.31632,     0.31732,     0.31832,     0.31932,     0.32032,     0.32132,     0.32232,     0.32332,     0.32432,     0.32533,     0.32633,     0.32733,     0.32833,     0.32933,     0.33033,     0.33133,     0.33233,     0.33333,     0.33433,     0.33534,\n",
              "           0.33634,     0.33734,     0.33834,     0.33934,     0.34034,     0.34134,     0.34234,     0.34334,     0.34434,     0.34535,     0.34635,     0.34735,     0.34835,     0.34935,     0.35035,     0.35135,     0.35235,     0.35335,     0.35435,     0.35536,     0.35636,     0.35736,     0.35836,     0.35936,\n",
              "           0.36036,     0.36136,     0.36236,     0.36336,     0.36436,     0.36537,     0.36637,     0.36737,     0.36837,     0.36937,     0.37037,     0.37137,     0.37237,     0.37337,     0.37437,     0.37538,     0.37638,     0.37738,     0.37838,     0.37938,     0.38038,     0.38138,     0.38238,     0.38338,\n",
              "           0.38438,     0.38539,     0.38639,     0.38739,     0.38839,     0.38939,     0.39039,     0.39139,     0.39239,     0.39339,     0.39439,      0.3954,      0.3964,      0.3974,      0.3984,      0.3994,      0.4004,      0.4014,      0.4024,      0.4034,      0.4044,     0.40541,     0.40641,     0.40741,\n",
              "           0.40841,     0.40941,     0.41041,     0.41141,     0.41241,     0.41341,     0.41441,     0.41542,     0.41642,     0.41742,     0.41842,     0.41942,     0.42042,     0.42142,     0.42242,     0.42342,     0.42442,     0.42543,     0.42643,     0.42743,     0.42843,     0.42943,     0.43043,     0.43143,\n",
              "           0.43243,     0.43343,     0.43443,     0.43544,     0.43644,     0.43744,     0.43844,     0.43944,     0.44044,     0.44144,     0.44244,     0.44344,     0.44444,     0.44545,     0.44645,     0.44745,     0.44845,     0.44945,     0.45045,     0.45145,     0.45245,     0.45345,     0.45445,     0.45546,\n",
              "           0.45646,     0.45746,     0.45846,     0.45946,     0.46046,     0.46146,     0.46246,     0.46346,     0.46446,     0.46547,     0.46647,     0.46747,     0.46847,     0.46947,     0.47047,     0.47147,     0.47247,     0.47347,     0.47447,     0.47548,     0.47648,     0.47748,     0.47848,     0.47948,\n",
              "           0.48048,     0.48148,     0.48248,     0.48348,     0.48448,     0.48549,     0.48649,     0.48749,     0.48849,     0.48949,     0.49049,     0.49149,     0.49249,     0.49349,     0.49449,      0.4955,      0.4965,      0.4975,      0.4985,      0.4995,      0.5005,      0.5015,      0.5025,      0.5035,\n",
              "            0.5045,     0.50551,     0.50651,     0.50751,     0.50851,     0.50951,     0.51051,     0.51151,     0.51251,     0.51351,     0.51451,     0.51552,     0.51652,     0.51752,     0.51852,     0.51952,     0.52052,     0.52152,     0.52252,     0.52352,     0.52452,     0.52553,     0.52653,     0.52753,\n",
              "           0.52853,     0.52953,     0.53053,     0.53153,     0.53253,     0.53353,     0.53453,     0.53554,     0.53654,     0.53754,     0.53854,     0.53954,     0.54054,     0.54154,     0.54254,     0.54354,     0.54454,     0.54555,     0.54655,     0.54755,     0.54855,     0.54955,     0.55055,     0.55155,\n",
              "           0.55255,     0.55355,     0.55455,     0.55556,     0.55656,     0.55756,     0.55856,     0.55956,     0.56056,     0.56156,     0.56256,     0.56356,     0.56456,     0.56557,     0.56657,     0.56757,     0.56857,     0.56957,     0.57057,     0.57157,     0.57257,     0.57357,     0.57457,     0.57558,\n",
              "           0.57658,     0.57758,     0.57858,     0.57958,     0.58058,     0.58158,     0.58258,     0.58358,     0.58458,     0.58559,     0.58659,     0.58759,     0.58859,     0.58959,     0.59059,     0.59159,     0.59259,     0.59359,     0.59459,      0.5956,      0.5966,      0.5976,      0.5986,      0.5996,\n",
              "            0.6006,      0.6016,      0.6026,      0.6036,      0.6046,     0.60561,     0.60661,     0.60761,     0.60861,     0.60961,     0.61061,     0.61161,     0.61261,     0.61361,     0.61461,     0.61562,     0.61662,     0.61762,     0.61862,     0.61962,     0.62062,     0.62162,     0.62262,     0.62362,\n",
              "           0.62462,     0.62563,     0.62663,     0.62763,     0.62863,     0.62963,     0.63063,     0.63163,     0.63263,     0.63363,     0.63463,     0.63564,     0.63664,     0.63764,     0.63864,     0.63964,     0.64064,     0.64164,     0.64264,     0.64364,     0.64464,     0.64565,     0.64665,     0.64765,\n",
              "           0.64865,     0.64965,     0.65065,     0.65165,     0.65265,     0.65365,     0.65465,     0.65566,     0.65666,     0.65766,     0.65866,     0.65966,     0.66066,     0.66166,     0.66266,     0.66366,     0.66466,     0.66567,     0.66667,     0.66767,     0.66867,     0.66967,     0.67067,     0.67167,\n",
              "           0.67267,     0.67367,     0.67467,     0.67568,     0.67668,     0.67768,     0.67868,     0.67968,     0.68068,     0.68168,     0.68268,     0.68368,     0.68468,     0.68569,     0.68669,     0.68769,     0.68869,     0.68969,     0.69069,     0.69169,     0.69269,     0.69369,     0.69469,      0.6957,\n",
              "            0.6967,      0.6977,      0.6987,      0.6997,      0.7007,      0.7017,      0.7027,      0.7037,      0.7047,     0.70571,     0.70671,     0.70771,     0.70871,     0.70971,     0.71071,     0.71171,     0.71271,     0.71371,     0.71471,     0.71572,     0.71672,     0.71772,     0.71872,     0.71972,\n",
              "           0.72072,     0.72172,     0.72272,     0.72372,     0.72472,     0.72573,     0.72673,     0.72773,     0.72873,     0.72973,     0.73073,     0.73173,     0.73273,     0.73373,     0.73473,     0.73574,     0.73674,     0.73774,     0.73874,     0.73974,     0.74074,     0.74174,     0.74274,     0.74374,\n",
              "           0.74474,     0.74575,     0.74675,     0.74775,     0.74875,     0.74975,     0.75075,     0.75175,     0.75275,     0.75375,     0.75475,     0.75576,     0.75676,     0.75776,     0.75876,     0.75976,     0.76076,     0.76176,     0.76276,     0.76376,     0.76476,     0.76577,     0.76677,     0.76777,\n",
              "           0.76877,     0.76977,     0.77077,     0.77177,     0.77277,     0.77377,     0.77477,     0.77578,     0.77678,     0.77778,     0.77878,     0.77978,     0.78078,     0.78178,     0.78278,     0.78378,     0.78478,     0.78579,     0.78679,     0.78779,     0.78879,     0.78979,     0.79079,     0.79179,\n",
              "           0.79279,     0.79379,     0.79479,      0.7958,      0.7968,      0.7978,      0.7988,      0.7998,      0.8008,      0.8018,      0.8028,      0.8038,      0.8048,     0.80581,     0.80681,     0.80781,     0.80881,     0.80981,     0.81081,     0.81181,     0.81281,     0.81381,     0.81481,     0.81582,\n",
              "           0.81682,     0.81782,     0.81882,     0.81982,     0.82082,     0.82182,     0.82282,     0.82382,     0.82482,     0.82583,     0.82683,     0.82783,     0.82883,     0.82983,     0.83083,     0.83183,     0.83283,     0.83383,     0.83483,     0.83584,     0.83684,     0.83784,     0.83884,     0.83984,\n",
              "           0.84084,     0.84184,     0.84284,     0.84384,     0.84484,     0.84585,     0.84685,     0.84785,     0.84885,     0.84985,     0.85085,     0.85185,     0.85285,     0.85385,     0.85485,     0.85586,     0.85686,     0.85786,     0.85886,     0.85986,     0.86086,     0.86186,     0.86286,     0.86386,\n",
              "           0.86486,     0.86587,     0.86687,     0.86787,     0.86887,     0.86987,     0.87087,     0.87187,     0.87287,     0.87387,     0.87487,     0.87588,     0.87688,     0.87788,     0.87888,     0.87988,     0.88088,     0.88188,     0.88288,     0.88388,     0.88488,     0.88589,     0.88689,     0.88789,\n",
              "           0.88889,     0.88989,     0.89089,     0.89189,     0.89289,     0.89389,     0.89489,      0.8959,      0.8969,      0.8979,      0.8989,      0.8999,      0.9009,      0.9019,      0.9029,      0.9039,      0.9049,     0.90591,     0.90691,     0.90791,     0.90891,     0.90991,     0.91091,     0.91191,\n",
              "           0.91291,     0.91391,     0.91491,     0.91592,     0.91692,     0.91792,     0.91892,     0.91992,     0.92092,     0.92192,     0.92292,     0.92392,     0.92492,     0.92593,     0.92693,     0.92793,     0.92893,     0.92993,     0.93093,     0.93193,     0.93293,     0.93393,     0.93493,     0.93594,\n",
              "           0.93694,     0.93794,     0.93894,     0.93994,     0.94094,     0.94194,     0.94294,     0.94394,     0.94494,     0.94595,     0.94695,     0.94795,     0.94895,     0.94995,     0.95095,     0.95195,     0.95295,     0.95395,     0.95495,     0.95596,     0.95696,     0.95796,     0.95896,     0.95996,\n",
              "           0.96096,     0.96196,     0.96296,     0.96396,     0.96496,     0.96597,     0.96697,     0.96797,     0.96897,     0.96997,     0.97097,     0.97197,     0.97297,     0.97397,     0.97497,     0.97598,     0.97698,     0.97798,     0.97898,     0.97998,     0.98098,     0.98198,     0.98298,     0.98398,\n",
              "           0.98498,     0.98599,     0.98699,     0.98799,     0.98899,     0.98999,     0.99099,     0.99199,     0.99299,     0.99399,     0.99499,       0.996,       0.997,       0.998,       0.999,           1]), array([[          1,           1,           1,           1,           1,           1,           1,           1,           1,           1,           1,           1,           1,           1,           1,           1,           1,           1,           1,           1,           1,           1,           1,\n",
              "                  1,           1,           1,           1,           1,           1,           1,           1,           1,           1,           1,           1,           1,           1,           1,           1,           1,           1,           1,           1,           1,           1,           1,\n",
              "                  1,           1,           1,           1,           1,           1,           1,           1,           1,           1,           1,           1,           1,           1,           1,           1,           1,           1,           1,           1,           1,           1,           1,\n",
              "                  1,           1,           1,           1,           1,           1,           1,           1,           1,           1,           1,           1,           1,           1,           1,           1,           1,           1,           1,           1,           1,           1,           1,\n",
              "                  1,           1,           1,           1,           1,           1,           1,           1,           1,           1,           1,           1,           1,           1,           1,           1,           1,           1,           1,           1,           1,           1,           1,\n",
              "                  1,           1,           1,           1,           1,           1,           1,           1,           1,           1,           1,           1,           1,           1,           1,           1,           1,           1,           1,           1,           1,           1,           1,\n",
              "                  1,           1,           1,           1,           1,           1,           1,           1,           1,           1,           1,           1,           1,           1,           1,           1,           1,           1,           1,           1,           1,           1,           1,\n",
              "                  1,           1,           1,           1,           1,           1,           1,           1,           1,           1,           1,           1,           1,           1,           1,           1,           1,           1,           1,           1,           1,           1,           1,\n",
              "                  1,           1,           1,           1,           1,           1,           1,           1,           1,           1,           1,           1,           1,           1,           1,           1,           1,           1,           1,           1,           1,           1,           1,\n",
              "                  1,     0.96667,     0.96667,     0.96667,     0.96667,     0.96667,     0.96667,     0.96667,     0.96667,     0.96667,     0.96667,     0.96667,     0.96667,     0.96667,     0.96667,     0.96667,     0.96667,     0.96667,     0.96667,     0.96667,     0.96667,     0.96667,     0.96667,\n",
              "            0.96667,     0.96667,     0.96667,     0.96667,     0.96667,     0.96667,     0.96667,     0.96667,     0.96667,     0.96667,     0.96667,     0.96667,     0.96667,     0.96667,     0.96667,     0.96667,     0.96667,     0.96667,     0.96667,     0.96667,     0.96667,     0.96667,     0.96667,\n",
              "            0.96667,     0.96667,     0.96667,     0.96667,     0.96667,     0.96667,     0.96667,     0.96667,     0.96667,     0.96667,     0.95385,     0.95385,     0.95385,     0.95385,     0.95385,     0.95385,     0.95385,     0.95385,     0.95385,     0.95385,     0.95385,     0.95385,     0.95385,\n",
              "            0.95385,     0.95385,     0.95385,     0.95385,     0.95385,     0.94937,     0.94937,     0.94937,     0.94937,     0.94937,     0.94937,     0.94937,     0.94937,     0.94937,     0.94937,     0.94937,     0.94937,     0.94937,     0.94937,     0.94937,     0.94937,     0.94937,     0.94937,\n",
              "            0.94937,     0.94937,     0.94937,     0.94937,     0.94937,     0.94937,     0.94937,     0.94937,     0.94937,     0.94937,     0.94937,     0.94937,     0.94937,     0.94937,     0.94937,     0.94937,     0.94937,     0.94937,     0.94937,     0.94937,     0.94937,     0.94937,     0.94937,\n",
              "            0.94937,     0.94937,     0.94937,     0.94937,     0.94937,     0.94937,     0.94937,     0.94937,     0.94937,     0.94937,     0.94937,     0.94937,     0.94937,     0.94937,     0.94937,     0.94937,     0.94937,     0.94937,     0.92683,     0.92683,     0.92683,     0.92683,     0.92308,\n",
              "            0.92308,     0.92308,     0.92308,     0.92308,     0.92308,     0.92308,     0.92308,     0.92308,     0.92308,     0.92308,     0.92308,     0.92308,     0.92308,     0.92308,     0.92308,     0.92308,     0.92308,     0.92308,     0.92308,     0.92308,     0.92308,     0.92308,     0.92308,\n",
              "            0.92308,     0.92308,     0.92308,     0.92308,     0.92308,     0.92308,     0.92308,     0.92308,     0.92308,     0.92308,     0.92308,     0.92308,     0.90426,     0.90426,     0.90426,     0.90426,     0.90426,        0.89,        0.89,        0.89,        0.89,        0.89,        0.89,\n",
              "               0.89,        0.89,        0.89,        0.89,        0.89,        0.89,        0.89,        0.89,        0.89,        0.89,        0.89,        0.89,     0.88235,     0.88235,     0.88235,     0.88235,     0.87619,     0.87619,     0.87619,     0.87619,     0.87619,     0.87619,     0.87619,\n",
              "            0.87619,     0.87619,     0.86916,     0.86916,     0.86916,     0.86916,     0.86916,     0.85841,     0.85841,     0.85841,     0.85841,     0.85841,     0.85841,     0.85841,     0.85841,     0.85841,     0.85841,     0.85841,     0.85841,     0.85841,     0.85841,     0.85841,     0.85841,\n",
              "            0.85841,     0.85841,     0.85714,     0.85714,     0.85714,     0.85714,     0.85714,     0.85714,     0.85714,     0.85714,     0.85714,     0.85714,     0.85714,     0.85714,     0.85714,     0.85714,     0.85714,     0.85714,     0.85714,     0.85714,     0.85714,     0.85714,     0.85714,\n",
              "            0.85714,     0.85714,     0.85366,     0.85366,     0.85366,     0.85366,     0.85366,     0.85366,     0.85366,     0.85366,     0.85366,     0.85366,     0.85366,     0.85366,     0.85366,     0.85156,     0.85156,     0.85156,     0.85156,     0.85156,     0.85156,     0.85156,     0.85156,\n",
              "            0.85156,     0.85156,     0.85156,     0.85156,     0.85156,     0.85156,     0.85156,     0.85156,     0.85156,     0.85156,     0.84733,     0.84733,     0.84733,     0.84733,     0.84733,     0.84733,     0.84733,     0.84733,     0.84733,     0.84211,     0.84211,     0.84211,     0.84211,\n",
              "            0.84211,     0.82482,     0.82482,     0.82482,     0.82482,     0.82069,     0.82069,     0.82069,     0.82069,     0.82069,     0.82069,     0.82069,     0.82069,     0.82069,     0.82069,     0.82069,     0.82069,     0.82069,     0.82069,     0.82069,     0.82069,     0.82069,     0.82069,\n",
              "            0.82069,     0.82069,     0.82069,     0.82069,     0.82069,     0.82069,     0.82069,     0.82069,     0.82069,     0.81081,     0.81081,     0.81081,     0.81081,     0.81081,     0.80263,     0.80263,     0.80263,     0.80263,     0.80263,     0.80263,     0.80263,     0.80263,     0.80263,\n",
              "            0.79355,     0.79355,     0.79355,     0.79355,     0.79355,     0.77987,     0.77987,     0.77987,     0.77987,      0.7764,      0.7764,      0.7764,      0.7764,      0.7764,     0.77301,     0.77301,     0.77301,     0.77301,     0.76506,     0.76506,     0.76506,     0.76506,     0.76506,\n",
              "            0.76471,     0.76471,     0.76471,     0.76471,     0.76471,     0.76471,     0.76471,     0.76471,     0.76471,     0.76471,     0.76471,     0.76471,     0.76471,        0.76,        0.76,        0.76,        0.76,        0.76,        0.76,        0.76,        0.76,        0.76,        0.76,\n",
              "               0.76,        0.76,        0.76,        0.76,     0.73224,     0.73224,     0.73224,     0.73224,     0.72193,     0.72193,     0.72193,     0.72193,     0.72193,     0.70103,     0.70103,     0.70103,     0.70103,     0.68844,     0.68844,     0.68844,     0.68844,     0.68844,     0.68657,\n",
              "            0.68657,     0.68657,     0.68657,     0.67805,     0.67805,     0.67805,     0.67805,     0.67805,     0.63514,     0.63514,     0.63514,     0.63514,     0.63514,     0.63514,     0.63514,     0.63514,     0.63514,     0.62009,     0.62009,     0.62009,     0.62009,     0.61373,     0.61373,\n",
              "            0.61373,     0.61373,     0.61373,     0.59504,     0.59504,     0.59504,     0.59504,     0.57937,     0.57937,     0.57937,     0.57937,     0.57937,     0.57937,     0.57937,     0.57937,     0.57937,     0.54851,     0.54851,     0.54851,     0.54851,     0.54851,     0.52837,     0.52837,\n",
              "            0.52837,     0.52837,     0.52837,     0.52837,     0.52837,     0.52837,     0.52837,     0.52817,     0.52817,     0.52817,     0.52817,     0.52817,     0.50502,     0.50502,     0.50502,     0.50502,     0.50331,     0.50331,     0.50331,     0.50331,     0.50331,     0.44868,     0.44868,\n",
              "            0.44868,     0.44868,     0.44509,     0.44509,     0.44509,     0.44509,     0.44509,      0.4416,      0.4416,      0.4416,      0.4416,     0.43094,     0.43094,     0.43094,     0.43094,     0.43094,     0.40779,     0.40779,     0.40779,     0.40779,     0.39698,     0.39698,     0.39698,\n",
              "            0.39698,     0.39698,     0.38592,     0.38592,     0.38592,     0.38592,      0.3653,      0.3653,      0.3653,      0.3653,      0.3653,     0.36099,     0.36099,     0.36099,     0.36099,     0.35683,     0.35683,     0.35683,     0.35683,     0.35683,     0.35435,     0.35435,     0.35435,\n",
              "            0.35435,      0.3482,      0.3482,      0.3482,      0.3482,      0.3482,      0.3481,      0.3481,      0.3481,      0.3481,     0.34369,     0.34369,     0.34369,     0.34369,     0.34369,     0.32554,     0.32554,     0.32554,     0.32554,     0.32432,     0.32432,     0.32432,     0.32432,\n",
              "            0.32432,     0.31767,     0.31767,     0.31767,     0.31767,      0.3125,      0.3125,      0.3125,      0.3125,      0.3125,     0.29739,     0.29739,     0.29739,     0.29739,     0.29372,     0.29372,     0.29372,     0.29372,     0.29372,     0.29372,     0.29372,     0.29372,     0.29372,\n",
              "            0.29372,     0.27445,     0.27445,     0.27445,     0.27445,     0.27344,     0.27344,     0.27344,     0.27344,     0.27344,     0.24789,     0.24789,     0.24789,     0.24789,     0.24152,     0.24152,     0.24152,     0.24152,     0.24152,     0.24152,     0.24152,     0.24152,     0.24152,\n",
              "            0.22017,     0.22017,     0.22017,     0.22017,     0.22017,     0.21951,     0.21951,     0.21951,     0.21951,     0.19978,     0.19978,     0.19978,     0.19978,     0.19978,     0.17602,     0.17602,     0.17602,     0.17602,      0.1631,      0.1631,      0.1631,      0.1631,      0.1631,\n",
              "            0.16112,     0.16112,     0.16112,     0.16112,     0.15651,     0.15651,     0.15651,     0.15651,     0.15651,    0.098266,    0.098266,    0.098266,    0.098266,    0.098266,    0.098266,    0.098266,    0.098266,    0.098266,    0.093347,    0.093347,    0.093347,    0.093347,    0.064198,\n",
              "           0.064198,    0.064198,    0.064198,    0.064198,    0.059899,    0.059899,    0.059899,    0.059899,    0.051387,     0.05102,    0.050653,    0.050285,    0.049918,    0.049551,    0.049184,    0.048817,     0.04845,    0.048083,    0.047716,    0.047349,    0.046982,    0.046615,    0.046248,\n",
              "           0.045881,    0.045514,    0.045147,     0.04478,    0.044413,    0.044046,    0.043679,    0.043312,    0.042945,    0.042577,     0.04221,    0.041843,    0.041476,    0.041109,    0.040742,    0.040375,    0.040008,    0.039641,    0.039274,    0.038907,     0.03854,    0.038173,    0.037806,\n",
              "           0.037439,    0.037072,    0.036705,    0.036338,    0.035971,    0.035604,    0.035237,    0.034869,    0.034502,    0.034135,    0.033768,    0.033401,    0.033034,    0.032667,      0.0323,    0.031933,    0.031566,    0.031199,    0.030832,    0.030465,    0.030098,    0.029731,    0.029364,\n",
              "           0.028997,     0.02863,    0.028263,    0.027896,    0.027529,    0.027161,    0.026794,    0.026427,     0.02606,    0.025693,    0.025326,    0.024959,    0.024592,    0.024225,    0.023858,    0.023491,    0.023124,    0.022757,     0.02239,    0.022023,    0.021656,    0.021289,    0.020922,\n",
              "           0.020555,    0.020188,    0.019821,    0.019453,    0.019086,    0.018719,    0.018352,    0.017985,    0.017618,    0.017251,    0.016884,    0.016517,     0.01615,    0.015783,    0.015416,    0.015049,    0.014682,    0.014315,    0.013948,    0.013581,    0.013214,    0.012847,     0.01248,\n",
              "           0.012113,    0.011746,    0.011378,    0.011011,    0.010644,    0.010277,   0.0099103,   0.0095432,   0.0091762,   0.0088091,   0.0084421,    0.008075,    0.007708,   0.0073409,   0.0069739,   0.0066068,   0.0062398,   0.0058728,   0.0055057,   0.0051387,   0.0047716,   0.0044046,   0.0040375,\n",
              "          0.0036705,   0.0033034,   0.0029364,   0.0025693,   0.0022023,   0.0018352,   0.0014682,   0.0011011,  0.00073409,  0.00036705,           0]]), 'Recall', 'Precision'], [array([          0,    0.001001,    0.002002,    0.003003,    0.004004,    0.005005,    0.006006,    0.007007,    0.008008,    0.009009,     0.01001,    0.011011,    0.012012,    0.013013,    0.014014,    0.015015,    0.016016,    0.017017,    0.018018,    0.019019,     0.02002,    0.021021,    0.022022,    0.023023,\n",
              "          0.024024,    0.025025,    0.026026,    0.027027,    0.028028,    0.029029,     0.03003,    0.031031,    0.032032,    0.033033,    0.034034,    0.035035,    0.036036,    0.037037,    0.038038,    0.039039,     0.04004,    0.041041,    0.042042,    0.043043,    0.044044,    0.045045,    0.046046,    0.047047,\n",
              "          0.048048,    0.049049,     0.05005,    0.051051,    0.052052,    0.053053,    0.054054,    0.055055,    0.056056,    0.057057,    0.058058,    0.059059,     0.06006,    0.061061,    0.062062,    0.063063,    0.064064,    0.065065,    0.066066,    0.067067,    0.068068,    0.069069,     0.07007,    0.071071,\n",
              "          0.072072,    0.073073,    0.074074,    0.075075,    0.076076,    0.077077,    0.078078,    0.079079,     0.08008,    0.081081,    0.082082,    0.083083,    0.084084,    0.085085,    0.086086,    0.087087,    0.088088,    0.089089,     0.09009,    0.091091,    0.092092,    0.093093,    0.094094,    0.095095,\n",
              "          0.096096,    0.097097,    0.098098,    0.099099,      0.1001,      0.1011,      0.1021,      0.1031,      0.1041,     0.10511,     0.10611,     0.10711,     0.10811,     0.10911,     0.11011,     0.11111,     0.11211,     0.11311,     0.11411,     0.11512,     0.11612,     0.11712,     0.11812,     0.11912,\n",
              "           0.12012,     0.12112,     0.12212,     0.12312,     0.12412,     0.12513,     0.12613,     0.12713,     0.12813,     0.12913,     0.13013,     0.13113,     0.13213,     0.13313,     0.13413,     0.13514,     0.13614,     0.13714,     0.13814,     0.13914,     0.14014,     0.14114,     0.14214,     0.14314,\n",
              "           0.14414,     0.14515,     0.14615,     0.14715,     0.14815,     0.14915,     0.15015,     0.15115,     0.15215,     0.15315,     0.15415,     0.15516,     0.15616,     0.15716,     0.15816,     0.15916,     0.16016,     0.16116,     0.16216,     0.16316,     0.16416,     0.16517,     0.16617,     0.16717,\n",
              "           0.16817,     0.16917,     0.17017,     0.17117,     0.17217,     0.17317,     0.17417,     0.17518,     0.17618,     0.17718,     0.17818,     0.17918,     0.18018,     0.18118,     0.18218,     0.18318,     0.18418,     0.18519,     0.18619,     0.18719,     0.18819,     0.18919,     0.19019,     0.19119,\n",
              "           0.19219,     0.19319,     0.19419,      0.1952,      0.1962,      0.1972,      0.1982,      0.1992,      0.2002,      0.2012,      0.2022,      0.2032,      0.2042,     0.20521,     0.20621,     0.20721,     0.20821,     0.20921,     0.21021,     0.21121,     0.21221,     0.21321,     0.21421,     0.21522,\n",
              "           0.21622,     0.21722,     0.21822,     0.21922,     0.22022,     0.22122,     0.22222,     0.22322,     0.22422,     0.22523,     0.22623,     0.22723,     0.22823,     0.22923,     0.23023,     0.23123,     0.23223,     0.23323,     0.23423,     0.23524,     0.23624,     0.23724,     0.23824,     0.23924,\n",
              "           0.24024,     0.24124,     0.24224,     0.24324,     0.24424,     0.24525,     0.24625,     0.24725,     0.24825,     0.24925,     0.25025,     0.25125,     0.25225,     0.25325,     0.25425,     0.25526,     0.25626,     0.25726,     0.25826,     0.25926,     0.26026,     0.26126,     0.26226,     0.26326,\n",
              "           0.26426,     0.26527,     0.26627,     0.26727,     0.26827,     0.26927,     0.27027,     0.27127,     0.27227,     0.27327,     0.27427,     0.27528,     0.27628,     0.27728,     0.27828,     0.27928,     0.28028,     0.28128,     0.28228,     0.28328,     0.28428,     0.28529,     0.28629,     0.28729,\n",
              "           0.28829,     0.28929,     0.29029,     0.29129,     0.29229,     0.29329,     0.29429,      0.2953,      0.2963,      0.2973,      0.2983,      0.2993,      0.3003,      0.3013,      0.3023,      0.3033,      0.3043,     0.30531,     0.30631,     0.30731,     0.30831,     0.30931,     0.31031,     0.31131,\n",
              "           0.31231,     0.31331,     0.31431,     0.31532,     0.31632,     0.31732,     0.31832,     0.31932,     0.32032,     0.32132,     0.32232,     0.32332,     0.32432,     0.32533,     0.32633,     0.32733,     0.32833,     0.32933,     0.33033,     0.33133,     0.33233,     0.33333,     0.33433,     0.33534,\n",
              "           0.33634,     0.33734,     0.33834,     0.33934,     0.34034,     0.34134,     0.34234,     0.34334,     0.34434,     0.34535,     0.34635,     0.34735,     0.34835,     0.34935,     0.35035,     0.35135,     0.35235,     0.35335,     0.35435,     0.35536,     0.35636,     0.35736,     0.35836,     0.35936,\n",
              "           0.36036,     0.36136,     0.36236,     0.36336,     0.36436,     0.36537,     0.36637,     0.36737,     0.36837,     0.36937,     0.37037,     0.37137,     0.37237,     0.37337,     0.37437,     0.37538,     0.37638,     0.37738,     0.37838,     0.37938,     0.38038,     0.38138,     0.38238,     0.38338,\n",
              "           0.38438,     0.38539,     0.38639,     0.38739,     0.38839,     0.38939,     0.39039,     0.39139,     0.39239,     0.39339,     0.39439,      0.3954,      0.3964,      0.3974,      0.3984,      0.3994,      0.4004,      0.4014,      0.4024,      0.4034,      0.4044,     0.40541,     0.40641,     0.40741,\n",
              "           0.40841,     0.40941,     0.41041,     0.41141,     0.41241,     0.41341,     0.41441,     0.41542,     0.41642,     0.41742,     0.41842,     0.41942,     0.42042,     0.42142,     0.42242,     0.42342,     0.42442,     0.42543,     0.42643,     0.42743,     0.42843,     0.42943,     0.43043,     0.43143,\n",
              "           0.43243,     0.43343,     0.43443,     0.43544,     0.43644,     0.43744,     0.43844,     0.43944,     0.44044,     0.44144,     0.44244,     0.44344,     0.44444,     0.44545,     0.44645,     0.44745,     0.44845,     0.44945,     0.45045,     0.45145,     0.45245,     0.45345,     0.45445,     0.45546,\n",
              "           0.45646,     0.45746,     0.45846,     0.45946,     0.46046,     0.46146,     0.46246,     0.46346,     0.46446,     0.46547,     0.46647,     0.46747,     0.46847,     0.46947,     0.47047,     0.47147,     0.47247,     0.47347,     0.47447,     0.47548,     0.47648,     0.47748,     0.47848,     0.47948,\n",
              "           0.48048,     0.48148,     0.48248,     0.48348,     0.48448,     0.48549,     0.48649,     0.48749,     0.48849,     0.48949,     0.49049,     0.49149,     0.49249,     0.49349,     0.49449,      0.4955,      0.4965,      0.4975,      0.4985,      0.4995,      0.5005,      0.5015,      0.5025,      0.5035,\n",
              "            0.5045,     0.50551,     0.50651,     0.50751,     0.50851,     0.50951,     0.51051,     0.51151,     0.51251,     0.51351,     0.51451,     0.51552,     0.51652,     0.51752,     0.51852,     0.51952,     0.52052,     0.52152,     0.52252,     0.52352,     0.52452,     0.52553,     0.52653,     0.52753,\n",
              "           0.52853,     0.52953,     0.53053,     0.53153,     0.53253,     0.53353,     0.53453,     0.53554,     0.53654,     0.53754,     0.53854,     0.53954,     0.54054,     0.54154,     0.54254,     0.54354,     0.54454,     0.54555,     0.54655,     0.54755,     0.54855,     0.54955,     0.55055,     0.55155,\n",
              "           0.55255,     0.55355,     0.55455,     0.55556,     0.55656,     0.55756,     0.55856,     0.55956,     0.56056,     0.56156,     0.56256,     0.56356,     0.56456,     0.56557,     0.56657,     0.56757,     0.56857,     0.56957,     0.57057,     0.57157,     0.57257,     0.57357,     0.57457,     0.57558,\n",
              "           0.57658,     0.57758,     0.57858,     0.57958,     0.58058,     0.58158,     0.58258,     0.58358,     0.58458,     0.58559,     0.58659,     0.58759,     0.58859,     0.58959,     0.59059,     0.59159,     0.59259,     0.59359,     0.59459,      0.5956,      0.5966,      0.5976,      0.5986,      0.5996,\n",
              "            0.6006,      0.6016,      0.6026,      0.6036,      0.6046,     0.60561,     0.60661,     0.60761,     0.60861,     0.60961,     0.61061,     0.61161,     0.61261,     0.61361,     0.61461,     0.61562,     0.61662,     0.61762,     0.61862,     0.61962,     0.62062,     0.62162,     0.62262,     0.62362,\n",
              "           0.62462,     0.62563,     0.62663,     0.62763,     0.62863,     0.62963,     0.63063,     0.63163,     0.63263,     0.63363,     0.63463,     0.63564,     0.63664,     0.63764,     0.63864,     0.63964,     0.64064,     0.64164,     0.64264,     0.64364,     0.64464,     0.64565,     0.64665,     0.64765,\n",
              "           0.64865,     0.64965,     0.65065,     0.65165,     0.65265,     0.65365,     0.65465,     0.65566,     0.65666,     0.65766,     0.65866,     0.65966,     0.66066,     0.66166,     0.66266,     0.66366,     0.66466,     0.66567,     0.66667,     0.66767,     0.66867,     0.66967,     0.67067,     0.67167,\n",
              "           0.67267,     0.67367,     0.67467,     0.67568,     0.67668,     0.67768,     0.67868,     0.67968,     0.68068,     0.68168,     0.68268,     0.68368,     0.68468,     0.68569,     0.68669,     0.68769,     0.68869,     0.68969,     0.69069,     0.69169,     0.69269,     0.69369,     0.69469,      0.6957,\n",
              "            0.6967,      0.6977,      0.6987,      0.6997,      0.7007,      0.7017,      0.7027,      0.7037,      0.7047,     0.70571,     0.70671,     0.70771,     0.70871,     0.70971,     0.71071,     0.71171,     0.71271,     0.71371,     0.71471,     0.71572,     0.71672,     0.71772,     0.71872,     0.71972,\n",
              "           0.72072,     0.72172,     0.72272,     0.72372,     0.72472,     0.72573,     0.72673,     0.72773,     0.72873,     0.72973,     0.73073,     0.73173,     0.73273,     0.73373,     0.73473,     0.73574,     0.73674,     0.73774,     0.73874,     0.73974,     0.74074,     0.74174,     0.74274,     0.74374,\n",
              "           0.74474,     0.74575,     0.74675,     0.74775,     0.74875,     0.74975,     0.75075,     0.75175,     0.75275,     0.75375,     0.75475,     0.75576,     0.75676,     0.75776,     0.75876,     0.75976,     0.76076,     0.76176,     0.76276,     0.76376,     0.76476,     0.76577,     0.76677,     0.76777,\n",
              "           0.76877,     0.76977,     0.77077,     0.77177,     0.77277,     0.77377,     0.77477,     0.77578,     0.77678,     0.77778,     0.77878,     0.77978,     0.78078,     0.78178,     0.78278,     0.78378,     0.78478,     0.78579,     0.78679,     0.78779,     0.78879,     0.78979,     0.79079,     0.79179,\n",
              "           0.79279,     0.79379,     0.79479,      0.7958,      0.7968,      0.7978,      0.7988,      0.7998,      0.8008,      0.8018,      0.8028,      0.8038,      0.8048,     0.80581,     0.80681,     0.80781,     0.80881,     0.80981,     0.81081,     0.81181,     0.81281,     0.81381,     0.81481,     0.81582,\n",
              "           0.81682,     0.81782,     0.81882,     0.81982,     0.82082,     0.82182,     0.82282,     0.82382,     0.82482,     0.82583,     0.82683,     0.82783,     0.82883,     0.82983,     0.83083,     0.83183,     0.83283,     0.83383,     0.83483,     0.83584,     0.83684,     0.83784,     0.83884,     0.83984,\n",
              "           0.84084,     0.84184,     0.84284,     0.84384,     0.84484,     0.84585,     0.84685,     0.84785,     0.84885,     0.84985,     0.85085,     0.85185,     0.85285,     0.85385,     0.85485,     0.85586,     0.85686,     0.85786,     0.85886,     0.85986,     0.86086,     0.86186,     0.86286,     0.86386,\n",
              "           0.86486,     0.86587,     0.86687,     0.86787,     0.86887,     0.86987,     0.87087,     0.87187,     0.87287,     0.87387,     0.87487,     0.87588,     0.87688,     0.87788,     0.87888,     0.87988,     0.88088,     0.88188,     0.88288,     0.88388,     0.88488,     0.88589,     0.88689,     0.88789,\n",
              "           0.88889,     0.88989,     0.89089,     0.89189,     0.89289,     0.89389,     0.89489,      0.8959,      0.8969,      0.8979,      0.8989,      0.8999,      0.9009,      0.9019,      0.9029,      0.9039,      0.9049,     0.90591,     0.90691,     0.90791,     0.90891,     0.90991,     0.91091,     0.91191,\n",
              "           0.91291,     0.91391,     0.91491,     0.91592,     0.91692,     0.91792,     0.91892,     0.91992,     0.92092,     0.92192,     0.92292,     0.92392,     0.92492,     0.92593,     0.92693,     0.92793,     0.92893,     0.92993,     0.93093,     0.93193,     0.93293,     0.93393,     0.93493,     0.93594,\n",
              "           0.93694,     0.93794,     0.93894,     0.93994,     0.94094,     0.94194,     0.94294,     0.94394,     0.94494,     0.94595,     0.94695,     0.94795,     0.94895,     0.94995,     0.95095,     0.95195,     0.95295,     0.95395,     0.95495,     0.95596,     0.95696,     0.95796,     0.95896,     0.95996,\n",
              "           0.96096,     0.96196,     0.96296,     0.96396,     0.96496,     0.96597,     0.96697,     0.96797,     0.96897,     0.96997,     0.97097,     0.97197,     0.97297,     0.97397,     0.97497,     0.97598,     0.97698,     0.97798,     0.97898,     0.97998,     0.98098,     0.98198,     0.98298,     0.98398,\n",
              "           0.98498,     0.98599,     0.98699,     0.98799,     0.98899,     0.98999,     0.99099,     0.99199,     0.99299,     0.99399,     0.99499,       0.996,       0.997,       0.998,       0.999,           1]), array([[   0.097063,    0.097063,     0.13371,     0.15732,      0.1737,     0.19064,     0.20752,     0.22114,      0.2345,     0.24728,     0.25802,     0.26931,      0.2764,     0.28659,     0.29675,     0.30626,     0.31459,     0.32079,     0.32784,     0.33681,     0.34188,     0.34641,       0.351,\n",
              "            0.35634,     0.36344,     0.36879,     0.36927,      0.3738,     0.37975,     0.38472,     0.38757,     0.39401,     0.40135,     0.40444,     0.40502,     0.40579,     0.41212,     0.41583,     0.42146,     0.42493,     0.42488,      0.4268,     0.42902,      0.4337,     0.43725,     0.44051,\n",
              "            0.44295,     0.44323,     0.44496,     0.44686,     0.44771,     0.44916,     0.45297,     0.45332,     0.45294,     0.45408,     0.45487,     0.45697,     0.45756,     0.45788,     0.46038,     0.46525,      0.4691,     0.47009,     0.47103,     0.47342,     0.47379,     0.47798,     0.47655,\n",
              "            0.47857,     0.48168,     0.48342,     0.48555,     0.48387,      0.4864,     0.48679,     0.48943,     0.49056,     0.49381,     0.49592,     0.49844,     0.50039,     0.50234,     0.50004,     0.50058,     0.50239,      0.5045,     0.50843,     0.51013,     0.50885,     0.51204,     0.51351,\n",
              "            0.51566,     0.51678,     0.51575,     0.51625,     0.51681,     0.51918,     0.52003,      0.5224,     0.52374,     0.52576,     0.52985,     0.53252,     0.53437,     0.53473,     0.53509,     0.53271,     0.53474,     0.53581,     0.53682,     0.53748,     0.53922,     0.54003,       0.541,\n",
              "            0.53946,     0.53989,     0.54032,     0.54203,     0.54295,     0.54094,     0.54135,     0.54253,      0.5441,     0.54239,     0.54328,     0.54373,     0.54472,     0.54707,     0.54984,     0.55032,     0.55134,     0.55734,     0.55996,     0.56053,     0.56128,     0.56297,     0.56338,\n",
              "            0.56379,     0.56468,     0.56585,     0.57008,     0.57135,     0.57245,     0.57465,      0.5754,     0.57634,     0.57807,     0.57937,     0.57993,     0.58085,     0.58008,     0.57886,     0.57998,     0.58055,     0.58011,     0.57905,     0.57809,      0.5791,     0.58137,      0.5824,\n",
              "            0.58553,     0.58801,     0.58998,     0.59079,     0.59196,      0.5939,     0.59231,      0.5908,     0.58805,     0.58761,     0.58947,     0.59065,      0.5912,     0.59193,     0.59411,     0.59482,     0.59689,     0.59779,      0.5985,     0.60033,     0.60086,     0.60073,     0.59905,\n",
              "            0.59955,     0.60226,      0.6028,     0.60342,     0.60475,     0.60517,      0.6056,     0.60688,     0.61023,     0.61232,     0.61378,     0.61448,     0.61649,      0.6172,     0.61422,     0.61181,      0.6133,     0.61585,     0.61657,     0.61804,     0.61817,     0.61831,     0.61845,\n",
              "            0.61859,     0.61873,     0.61886,       0.619,     0.61914,     0.61928,     0.61951,     0.61985,     0.62019,     0.62053,     0.62188,     0.61949,     0.62099,      0.6222,     0.62331,     0.62372,     0.62413,     0.62593,     0.62642,     0.62691,     0.62901,     0.62847,     0.63007,\n",
              "            0.63111,     0.63057,     0.63002,     0.62948,     0.62893,     0.62839,     0.62848,      0.6295,     0.63014,     0.63078,     0.63232,     0.63261,     0.63289,     0.63318,     0.63346,     0.63383,     0.63481,     0.63377,     0.63133,     0.63154,     0.63222,      0.6327,     0.63317,\n",
              "            0.63406,     0.63685,     0.63792,     0.63842,     0.63893,     0.63977,     0.64249,     0.64453,     0.64531,     0.64569,     0.64607,     0.64646,     0.64828,     0.65036,     0.65127,      0.6516,     0.65193,     0.65226,     0.64943,     0.64991,     0.65039,     0.65088,     0.65155,\n",
              "            0.65225,      0.6529,     0.65354,     0.65107,     0.65213,     0.65138,     0.65006,     0.64946,     0.65037,     0.65082,     0.65098,     0.65115,     0.65131,     0.65148,     0.65164,      0.6518,     0.65197,     0.65213,      0.6525,     0.65418,     0.65237,     0.65287,     0.65337,\n",
              "            0.65379,     0.65393,     0.65408,     0.65423,     0.65438,     0.65453,     0.65467,     0.65482,     0.65497,     0.65512,     0.65527,      0.6558,     0.65674,     0.65859,     0.65953,     0.66109,     0.65917,     0.65871,     0.65908,     0.65945,     0.65982,      0.6602,     0.66059,\n",
              "            0.66098,     0.66138,     0.66191,      0.6601,      0.6605,     0.66089,     0.66129,     0.66169,     0.66264,     0.66339,     0.66358,     0.66377,     0.66396,     0.66415,     0.66434,     0.66453,     0.66472,     0.66491,     0.66524,     0.66573,     0.66622,      0.6667,     0.66716,\n",
              "            0.66762,     0.66808,     0.66876,     0.66975,     0.67036,     0.67082,     0.67128,     0.67166,     0.67068,     0.66969,     0.66871,     0.66755,     0.66629,     0.66503,      0.6633,     0.66159,     0.66258,     0.66334,     0.66357,      0.6638,     0.66403,     0.66426,      0.6645,\n",
              "            0.66473,     0.66496,     0.66299,     0.66128,     0.66034,      0.6594,     0.65846,      0.6559,     0.65505,     0.65568,     0.65631,      0.6529,     0.65553,     0.65412,     0.65291,      0.6517,     0.65114,     0.65178,     0.65242,     0.65198,     0.65101,     0.65004,     0.64908,\n",
              "            0.64926,     0.64944,     0.64962,      0.6498,     0.64998,     0.65016,     0.65034,     0.65052,      0.6507,     0.65197,     0.65384,     0.65329,     0.65275,      0.6522,     0.65166,     0.65111,     0.65244,     0.65265,     0.65285,     0.65306,     0.65326,     0.65347,     0.65367,\n",
              "            0.65388,     0.65408,     0.65391,     0.65353,     0.65315,     0.65277,     0.65239,     0.65201,     0.65163,     0.65125,     0.65087,     0.65029,     0.64843,     0.64701,     0.64761,      0.6482,      0.6503,     0.64987,     0.64944,     0.64901,     0.64858,     0.64815,     0.64772,\n",
              "            0.64729,     0.64686,     0.64717,     0.64778,     0.64838,     0.64886,     0.64932,     0.64977,     0.65022,     0.64979,     0.64925,     0.64871,     0.64817,     0.64763,     0.64709,     0.63889,     0.63529,     0.63448,     0.63366,     0.63284,     0.63203,     0.62818,     0.62908,\n",
              "            0.63043,     0.63108,     0.63069,     0.63029,      0.6299,     0.62951,     0.62912,     0.62872,     0.62833,     0.62794,     0.62754,     0.62765,     0.62791,     0.62817,     0.62843,     0.62868,     0.62894,      0.6292,     0.63092,     0.63118,     0.63139,     0.63159,     0.63179,\n",
              "              0.632,      0.6322,      0.6324,      0.6326,     0.62906,     0.62998,     0.62976,     0.62575,     0.62455,     0.62424,     0.62393,     0.62362,     0.62331,       0.623,     0.62269,     0.62238,     0.62206,     0.62175,     0.62144,     0.62113,     0.62082,     0.61826,     0.61608,\n",
              "            0.61506,     0.61403,       0.613,     0.61212,      0.6113,     0.61048,     0.60965,     0.60883,     0.60882,     0.60898,     0.60913,     0.60928,     0.60943,     0.60958,     0.60973,     0.60988,     0.61003,     0.61018,     0.61033,      0.6104,     0.60994,     0.60948,     0.60902,\n",
              "            0.60856,      0.6081,     0.60764,     0.60717,     0.60671,      0.6062,     0.60561,     0.60501,     0.60441,     0.60382,     0.60322,     0.60262,      0.6019,     0.60106,     0.60022,     0.59938,     0.59854,     0.59941,     0.59943,     0.59859,     0.59774,     0.59689,     0.59605,\n",
              "            0.59249,     0.59055,     0.58912,     0.58769,     0.58223,     0.58099,     0.57975,      0.5792,      0.5794,      0.5796,     0.57979,     0.57999,     0.58019,     0.58039,     0.58058,     0.58078,     0.58008,     0.57899,      0.5779,      0.5768,     0.57309,     0.56867,     0.56423,\n",
              "            0.56415,     0.56473,     0.56532,     0.56602,      0.5649,     0.56377,     0.56283,     0.56193,     0.55566,     0.55583,     0.55601,     0.55619,     0.55637,     0.55654,     0.55672,     0.55689,     0.55707,     0.55724,     0.55602,     0.55449,     0.55296,     0.55343,     0.55413,\n",
              "            0.55242,     0.54778,     0.54428,     0.54193,     0.53828,     0.53899,     0.53873,     0.53714,     0.53555,     0.53691,     0.53779,     0.53831,     0.53767,     0.53703,     0.53639,     0.53575,      0.5351,     0.53446,     0.53382,      0.5268,     0.52435,     0.52371,     0.52314,\n",
              "            0.52256,     0.52198,     0.52141,     0.52083,     0.52025,     0.51967,     0.51782,     0.51535,     0.51426,     0.51371,     0.51316,      0.5126,     0.51205,      0.5115,     0.51094,     0.51039,     0.50984,     0.50053,      0.5011,     0.50164,     0.50129,     0.50095,     0.50059,\n",
              "            0.50024,     0.49989,     0.49954,     0.49919,     0.49884,     0.49849,     0.49814,     0.49779,     0.49744,     0.49709,     0.49673,     0.49702,      0.4974,     0.49777,     0.49814,     0.49845,     0.49868,     0.49891,     0.49913,     0.49936,     0.49959,     0.49981,     0.49983,\n",
              "            0.49881,     0.49778,     0.49675,     0.49572,     0.48934,     0.48726,     0.48517,     0.48041,     0.47871,     0.47754,     0.47636,     0.47519,     0.47401,     0.47283,     0.47165,     0.47047,     0.46843,     0.46358,      0.4626,     0.46162,     0.46064,     0.45965,     0.45634,\n",
              "            0.45244,     0.45088,     0.44932,     0.44754,     0.44534,     0.44314,     0.43639,     0.43515,     0.43391,     0.43267,     0.43347,     0.42801,      0.4266,     0.42518,     0.42376,     0.41616,     0.41151,     0.41251,      0.4051,     0.40217,     0.39272,     0.38941,      0.3877,\n",
              "            0.38599,     0.38428,     0.38325,     0.38233,      0.3814,     0.38048,     0.37955,     0.37862,     0.37795,     0.37752,     0.37709,     0.37666,     0.37622,     0.37579,     0.37536,     0.37492,     0.37449,     0.37406,     0.37362,     0.37319,     0.37275,     0.37232,      0.3585,\n",
              "            0.35643,     0.35436,      0.3534,     0.35251,     0.35162,     0.35073,     0.34983,     0.34894,     0.34786,     0.34534,     0.34282,     0.34231,     0.34274,     0.34318,     0.34139,     0.33782,     0.33599,     0.33415,     0.33231,     0.32643,     0.30704,     0.29949,     0.29893,\n",
              "            0.29837,     0.29781,     0.29725,     0.29669,     0.29613,     0.29556,       0.295,     0.29444,     0.29388,     0.29336,     0.29298,     0.29261,     0.29223,     0.29185,     0.29148,      0.2911,     0.29073,     0.29035,     0.28997,      0.2896,     0.28922,     0.28884,     0.28846,\n",
              "            0.28809,     0.28771,     0.28733,     0.28695,     0.28504,     0.28231,     0.27957,     0.27682,     0.27406,     0.27165,     0.26934,     0.26702,     0.26498,     0.26298,     0.26098,     0.25781,      0.2531,     0.24526,     0.24447,     0.24367,     0.24288,     0.24208,     0.24129,\n",
              "            0.24049,     0.23969,     0.23767,     0.23096,     0.22611,     0.22368,     0.22205,     0.22042,     0.21879,     0.21763,     0.21731,     0.21699,     0.21666,     0.21634,     0.21602,      0.2157,     0.21538,     0.21506,     0.21474,     0.21442,      0.2141,     0.21377,     0.21345,\n",
              "            0.21313,     0.21281,     0.21249,     0.21216,     0.21184,     0.21152,      0.2112,     0.21087,     0.21055,     0.20219,     0.20103,     0.19988,     0.19872,     0.19756,      0.1964,     0.19152,     0.18668,     0.18362,     0.18084,     0.17944,     0.17804,     0.17664,     0.17524,\n",
              "            0.17383,     0.17278,     0.17181,     0.17084,     0.16987,      0.1689,     0.16793,     0.16695,     0.16598,      0.1653,     0.16462,     0.16394,     0.16326,     0.16258,      0.1619,     0.16122,     0.16053,     0.15985,     0.15917,     0.15849,     0.15786,     0.15726,     0.15665,\n",
              "            0.15605,     0.15544,     0.15483,     0.15422,     0.15362,     0.15301,      0.1524,     0.15179,     0.15118,     0.15048,     0.14889,      0.1473,     0.14571,     0.14411,      0.1417,     0.13635,     0.13096,     0.11438,     0.10963,     0.10779,     0.10594,     0.10409,     0.10128,\n",
              "           0.097094,    0.094051,    0.092365,    0.090676,    0.088983,    0.087288,    0.083274,    0.078056,    0.076341,    0.074623,    0.072902,    0.071178,    0.069637,    0.068676,    0.067715,    0.066752,    0.065789,    0.064824,    0.063859,    0.062892,    0.061925,    0.053327,    0.050414,\n",
              "           0.047893,    0.045365,    0.041765,    0.037308,    0.033377,    0.029783,    0.025259,    0.017777,    0.016948,    0.016119,    0.015289,    0.014458,    0.013627,    0.012794,    0.011961,    0.011128,    0.010294,   0.0094586,           0,           0,           0,           0,           0,\n",
              "                  0,           0,           0,           0,           0,           0,           0,           0,           0,           0,           0,           0,           0,           0,           0,           0,           0,           0,           0,           0,           0,           0,           0,\n",
              "                  0,           0,           0,           0,           0,           0,           0,           0,           0,           0,           0,           0,           0,           0,           0,           0,           0,           0,           0,           0,           0,           0,           0,\n",
              "                  0,           0,           0,           0,           0,           0,           0,           0,           0,           0,           0]]), 'Confidence', 'F1'], [array([          0,    0.001001,    0.002002,    0.003003,    0.004004,    0.005005,    0.006006,    0.007007,    0.008008,    0.009009,     0.01001,    0.011011,    0.012012,    0.013013,    0.014014,    0.015015,    0.016016,    0.017017,    0.018018,    0.019019,     0.02002,    0.021021,    0.022022,    0.023023,\n",
              "          0.024024,    0.025025,    0.026026,    0.027027,    0.028028,    0.029029,     0.03003,    0.031031,    0.032032,    0.033033,    0.034034,    0.035035,    0.036036,    0.037037,    0.038038,    0.039039,     0.04004,    0.041041,    0.042042,    0.043043,    0.044044,    0.045045,    0.046046,    0.047047,\n",
              "          0.048048,    0.049049,     0.05005,    0.051051,    0.052052,    0.053053,    0.054054,    0.055055,    0.056056,    0.057057,    0.058058,    0.059059,     0.06006,    0.061061,    0.062062,    0.063063,    0.064064,    0.065065,    0.066066,    0.067067,    0.068068,    0.069069,     0.07007,    0.071071,\n",
              "          0.072072,    0.073073,    0.074074,    0.075075,    0.076076,    0.077077,    0.078078,    0.079079,     0.08008,    0.081081,    0.082082,    0.083083,    0.084084,    0.085085,    0.086086,    0.087087,    0.088088,    0.089089,     0.09009,    0.091091,    0.092092,    0.093093,    0.094094,    0.095095,\n",
              "          0.096096,    0.097097,    0.098098,    0.099099,      0.1001,      0.1011,      0.1021,      0.1031,      0.1041,     0.10511,     0.10611,     0.10711,     0.10811,     0.10911,     0.11011,     0.11111,     0.11211,     0.11311,     0.11411,     0.11512,     0.11612,     0.11712,     0.11812,     0.11912,\n",
              "           0.12012,     0.12112,     0.12212,     0.12312,     0.12412,     0.12513,     0.12613,     0.12713,     0.12813,     0.12913,     0.13013,     0.13113,     0.13213,     0.13313,     0.13413,     0.13514,     0.13614,     0.13714,     0.13814,     0.13914,     0.14014,     0.14114,     0.14214,     0.14314,\n",
              "           0.14414,     0.14515,     0.14615,     0.14715,     0.14815,     0.14915,     0.15015,     0.15115,     0.15215,     0.15315,     0.15415,     0.15516,     0.15616,     0.15716,     0.15816,     0.15916,     0.16016,     0.16116,     0.16216,     0.16316,     0.16416,     0.16517,     0.16617,     0.16717,\n",
              "           0.16817,     0.16917,     0.17017,     0.17117,     0.17217,     0.17317,     0.17417,     0.17518,     0.17618,     0.17718,     0.17818,     0.17918,     0.18018,     0.18118,     0.18218,     0.18318,     0.18418,     0.18519,     0.18619,     0.18719,     0.18819,     0.18919,     0.19019,     0.19119,\n",
              "           0.19219,     0.19319,     0.19419,      0.1952,      0.1962,      0.1972,      0.1982,      0.1992,      0.2002,      0.2012,      0.2022,      0.2032,      0.2042,     0.20521,     0.20621,     0.20721,     0.20821,     0.20921,     0.21021,     0.21121,     0.21221,     0.21321,     0.21421,     0.21522,\n",
              "           0.21622,     0.21722,     0.21822,     0.21922,     0.22022,     0.22122,     0.22222,     0.22322,     0.22422,     0.22523,     0.22623,     0.22723,     0.22823,     0.22923,     0.23023,     0.23123,     0.23223,     0.23323,     0.23423,     0.23524,     0.23624,     0.23724,     0.23824,     0.23924,\n",
              "           0.24024,     0.24124,     0.24224,     0.24324,     0.24424,     0.24525,     0.24625,     0.24725,     0.24825,     0.24925,     0.25025,     0.25125,     0.25225,     0.25325,     0.25425,     0.25526,     0.25626,     0.25726,     0.25826,     0.25926,     0.26026,     0.26126,     0.26226,     0.26326,\n",
              "           0.26426,     0.26527,     0.26627,     0.26727,     0.26827,     0.26927,     0.27027,     0.27127,     0.27227,     0.27327,     0.27427,     0.27528,     0.27628,     0.27728,     0.27828,     0.27928,     0.28028,     0.28128,     0.28228,     0.28328,     0.28428,     0.28529,     0.28629,     0.28729,\n",
              "           0.28829,     0.28929,     0.29029,     0.29129,     0.29229,     0.29329,     0.29429,      0.2953,      0.2963,      0.2973,      0.2983,      0.2993,      0.3003,      0.3013,      0.3023,      0.3033,      0.3043,     0.30531,     0.30631,     0.30731,     0.30831,     0.30931,     0.31031,     0.31131,\n",
              "           0.31231,     0.31331,     0.31431,     0.31532,     0.31632,     0.31732,     0.31832,     0.31932,     0.32032,     0.32132,     0.32232,     0.32332,     0.32432,     0.32533,     0.32633,     0.32733,     0.32833,     0.32933,     0.33033,     0.33133,     0.33233,     0.33333,     0.33433,     0.33534,\n",
              "           0.33634,     0.33734,     0.33834,     0.33934,     0.34034,     0.34134,     0.34234,     0.34334,     0.34434,     0.34535,     0.34635,     0.34735,     0.34835,     0.34935,     0.35035,     0.35135,     0.35235,     0.35335,     0.35435,     0.35536,     0.35636,     0.35736,     0.35836,     0.35936,\n",
              "           0.36036,     0.36136,     0.36236,     0.36336,     0.36436,     0.36537,     0.36637,     0.36737,     0.36837,     0.36937,     0.37037,     0.37137,     0.37237,     0.37337,     0.37437,     0.37538,     0.37638,     0.37738,     0.37838,     0.37938,     0.38038,     0.38138,     0.38238,     0.38338,\n",
              "           0.38438,     0.38539,     0.38639,     0.38739,     0.38839,     0.38939,     0.39039,     0.39139,     0.39239,     0.39339,     0.39439,      0.3954,      0.3964,      0.3974,      0.3984,      0.3994,      0.4004,      0.4014,      0.4024,      0.4034,      0.4044,     0.40541,     0.40641,     0.40741,\n",
              "           0.40841,     0.40941,     0.41041,     0.41141,     0.41241,     0.41341,     0.41441,     0.41542,     0.41642,     0.41742,     0.41842,     0.41942,     0.42042,     0.42142,     0.42242,     0.42342,     0.42442,     0.42543,     0.42643,     0.42743,     0.42843,     0.42943,     0.43043,     0.43143,\n",
              "           0.43243,     0.43343,     0.43443,     0.43544,     0.43644,     0.43744,     0.43844,     0.43944,     0.44044,     0.44144,     0.44244,     0.44344,     0.44444,     0.44545,     0.44645,     0.44745,     0.44845,     0.44945,     0.45045,     0.45145,     0.45245,     0.45345,     0.45445,     0.45546,\n",
              "           0.45646,     0.45746,     0.45846,     0.45946,     0.46046,     0.46146,     0.46246,     0.46346,     0.46446,     0.46547,     0.46647,     0.46747,     0.46847,     0.46947,     0.47047,     0.47147,     0.47247,     0.47347,     0.47447,     0.47548,     0.47648,     0.47748,     0.47848,     0.47948,\n",
              "           0.48048,     0.48148,     0.48248,     0.48348,     0.48448,     0.48549,     0.48649,     0.48749,     0.48849,     0.48949,     0.49049,     0.49149,     0.49249,     0.49349,     0.49449,      0.4955,      0.4965,      0.4975,      0.4985,      0.4995,      0.5005,      0.5015,      0.5025,      0.5035,\n",
              "            0.5045,     0.50551,     0.50651,     0.50751,     0.50851,     0.50951,     0.51051,     0.51151,     0.51251,     0.51351,     0.51451,     0.51552,     0.51652,     0.51752,     0.51852,     0.51952,     0.52052,     0.52152,     0.52252,     0.52352,     0.52452,     0.52553,     0.52653,     0.52753,\n",
              "           0.52853,     0.52953,     0.53053,     0.53153,     0.53253,     0.53353,     0.53453,     0.53554,     0.53654,     0.53754,     0.53854,     0.53954,     0.54054,     0.54154,     0.54254,     0.54354,     0.54454,     0.54555,     0.54655,     0.54755,     0.54855,     0.54955,     0.55055,     0.55155,\n",
              "           0.55255,     0.55355,     0.55455,     0.55556,     0.55656,     0.55756,     0.55856,     0.55956,     0.56056,     0.56156,     0.56256,     0.56356,     0.56456,     0.56557,     0.56657,     0.56757,     0.56857,     0.56957,     0.57057,     0.57157,     0.57257,     0.57357,     0.57457,     0.57558,\n",
              "           0.57658,     0.57758,     0.57858,     0.57958,     0.58058,     0.58158,     0.58258,     0.58358,     0.58458,     0.58559,     0.58659,     0.58759,     0.58859,     0.58959,     0.59059,     0.59159,     0.59259,     0.59359,     0.59459,      0.5956,      0.5966,      0.5976,      0.5986,      0.5996,\n",
              "            0.6006,      0.6016,      0.6026,      0.6036,      0.6046,     0.60561,     0.60661,     0.60761,     0.60861,     0.60961,     0.61061,     0.61161,     0.61261,     0.61361,     0.61461,     0.61562,     0.61662,     0.61762,     0.61862,     0.61962,     0.62062,     0.62162,     0.62262,     0.62362,\n",
              "           0.62462,     0.62563,     0.62663,     0.62763,     0.62863,     0.62963,     0.63063,     0.63163,     0.63263,     0.63363,     0.63463,     0.63564,     0.63664,     0.63764,     0.63864,     0.63964,     0.64064,     0.64164,     0.64264,     0.64364,     0.64464,     0.64565,     0.64665,     0.64765,\n",
              "           0.64865,     0.64965,     0.65065,     0.65165,     0.65265,     0.65365,     0.65465,     0.65566,     0.65666,     0.65766,     0.65866,     0.65966,     0.66066,     0.66166,     0.66266,     0.66366,     0.66466,     0.66567,     0.66667,     0.66767,     0.66867,     0.66967,     0.67067,     0.67167,\n",
              "           0.67267,     0.67367,     0.67467,     0.67568,     0.67668,     0.67768,     0.67868,     0.67968,     0.68068,     0.68168,     0.68268,     0.68368,     0.68468,     0.68569,     0.68669,     0.68769,     0.68869,     0.68969,     0.69069,     0.69169,     0.69269,     0.69369,     0.69469,      0.6957,\n",
              "            0.6967,      0.6977,      0.6987,      0.6997,      0.7007,      0.7017,      0.7027,      0.7037,      0.7047,     0.70571,     0.70671,     0.70771,     0.70871,     0.70971,     0.71071,     0.71171,     0.71271,     0.71371,     0.71471,     0.71572,     0.71672,     0.71772,     0.71872,     0.71972,\n",
              "           0.72072,     0.72172,     0.72272,     0.72372,     0.72472,     0.72573,     0.72673,     0.72773,     0.72873,     0.72973,     0.73073,     0.73173,     0.73273,     0.73373,     0.73473,     0.73574,     0.73674,     0.73774,     0.73874,     0.73974,     0.74074,     0.74174,     0.74274,     0.74374,\n",
              "           0.74474,     0.74575,     0.74675,     0.74775,     0.74875,     0.74975,     0.75075,     0.75175,     0.75275,     0.75375,     0.75475,     0.75576,     0.75676,     0.75776,     0.75876,     0.75976,     0.76076,     0.76176,     0.76276,     0.76376,     0.76476,     0.76577,     0.76677,     0.76777,\n",
              "           0.76877,     0.76977,     0.77077,     0.77177,     0.77277,     0.77377,     0.77477,     0.77578,     0.77678,     0.77778,     0.77878,     0.77978,     0.78078,     0.78178,     0.78278,     0.78378,     0.78478,     0.78579,     0.78679,     0.78779,     0.78879,     0.78979,     0.79079,     0.79179,\n",
              "           0.79279,     0.79379,     0.79479,      0.7958,      0.7968,      0.7978,      0.7988,      0.7998,      0.8008,      0.8018,      0.8028,      0.8038,      0.8048,     0.80581,     0.80681,     0.80781,     0.80881,     0.80981,     0.81081,     0.81181,     0.81281,     0.81381,     0.81481,     0.81582,\n",
              "           0.81682,     0.81782,     0.81882,     0.81982,     0.82082,     0.82182,     0.82282,     0.82382,     0.82482,     0.82583,     0.82683,     0.82783,     0.82883,     0.82983,     0.83083,     0.83183,     0.83283,     0.83383,     0.83483,     0.83584,     0.83684,     0.83784,     0.83884,     0.83984,\n",
              "           0.84084,     0.84184,     0.84284,     0.84384,     0.84484,     0.84585,     0.84685,     0.84785,     0.84885,     0.84985,     0.85085,     0.85185,     0.85285,     0.85385,     0.85485,     0.85586,     0.85686,     0.85786,     0.85886,     0.85986,     0.86086,     0.86186,     0.86286,     0.86386,\n",
              "           0.86486,     0.86587,     0.86687,     0.86787,     0.86887,     0.86987,     0.87087,     0.87187,     0.87287,     0.87387,     0.87487,     0.87588,     0.87688,     0.87788,     0.87888,     0.87988,     0.88088,     0.88188,     0.88288,     0.88388,     0.88488,     0.88589,     0.88689,     0.88789,\n",
              "           0.88889,     0.88989,     0.89089,     0.89189,     0.89289,     0.89389,     0.89489,      0.8959,      0.8969,      0.8979,      0.8989,      0.8999,      0.9009,      0.9019,      0.9029,      0.9039,      0.9049,     0.90591,     0.90691,     0.90791,     0.90891,     0.90991,     0.91091,     0.91191,\n",
              "           0.91291,     0.91391,     0.91491,     0.91592,     0.91692,     0.91792,     0.91892,     0.91992,     0.92092,     0.92192,     0.92292,     0.92392,     0.92492,     0.92593,     0.92693,     0.92793,     0.92893,     0.92993,     0.93093,     0.93193,     0.93293,     0.93393,     0.93493,     0.93594,\n",
              "           0.93694,     0.93794,     0.93894,     0.93994,     0.94094,     0.94194,     0.94294,     0.94394,     0.94494,     0.94595,     0.94695,     0.94795,     0.94895,     0.94995,     0.95095,     0.95195,     0.95295,     0.95395,     0.95495,     0.95596,     0.95696,     0.95796,     0.95896,     0.95996,\n",
              "           0.96096,     0.96196,     0.96296,     0.96396,     0.96496,     0.96597,     0.96697,     0.96797,     0.96897,     0.96997,     0.97097,     0.97197,     0.97297,     0.97397,     0.97497,     0.97598,     0.97698,     0.97798,     0.97898,     0.97998,     0.98098,     0.98198,     0.98298,     0.98398,\n",
              "           0.98498,     0.98599,     0.98699,     0.98799,     0.98899,     0.98999,     0.99099,     0.99199,     0.99299,     0.99399,     0.99499,       0.996,       0.997,       0.998,       0.999,           1]), array([[   0.051435,    0.051435,    0.072556,    0.086672,    0.096786,     0.10757,     0.11844,      0.1274,     0.13635,     0.14506,     0.15252,     0.16063,     0.16607,     0.17348,      0.1812,     0.18835,     0.19468,     0.19945,     0.20523,      0.2123,     0.21635,     0.22066,     0.22439,\n",
              "            0.22878,     0.23467,     0.23914,     0.24036,     0.24421,     0.24977,     0.25409,     0.25657,     0.26225,     0.26879,     0.27157,     0.27263,     0.27388,     0.27968,     0.28311,     0.28835,     0.29161,     0.29284,     0.29467,       0.297,     0.30198,     0.30543,     0.30863,\n",
              "            0.31102,     0.31205,     0.31377,     0.31566,     0.31728,     0.31875,     0.32259,     0.32295,     0.32325,     0.32494,     0.32621,     0.32837,     0.32898,     0.32932,     0.33191,     0.33699,     0.34104,     0.34209,     0.34404,     0.34758,     0.34898,     0.35355,     0.35303,\n",
              "            0.35632,     0.35978,     0.36285,     0.36526,     0.36451,     0.36739,     0.36784,     0.37086,     0.37216,     0.37591,     0.37836,      0.3813,     0.38359,     0.38589,     0.38448,     0.38512,     0.38726,     0.38977,     0.39448,     0.39654,     0.39639,     0.40028,     0.40207,\n",
              "            0.40472,     0.40609,     0.40631,     0.40693,     0.40762,     0.41058,     0.41165,     0.41463,     0.41631,     0.41888,      0.4241,     0.42752,     0.42991,     0.43038,     0.43084,     0.42945,     0.43209,      0.4335,     0.43481,     0.43568,     0.43797,     0.43904,       0.441,\n",
              "            0.44007,     0.44065,     0.44122,      0.4435,     0.44474,     0.44389,     0.44444,     0.44604,     0.44816,     0.44737,     0.44895,     0.44957,     0.45093,     0.45416,     0.45798,     0.45865,     0.46007,     0.46849,     0.47221,     0.47301,     0.47408,     0.47651,     0.47709,\n",
              "            0.47768,     0.47895,     0.48064,     0.48678,     0.48863,     0.49025,     0.49347,     0.49458,     0.49597,     0.49854,     0.50048,     0.50132,     0.50269,     0.50259,     0.50214,     0.50382,     0.50468,     0.50462,     0.50397,     0.50344,     0.50498,     0.50844,     0.51002,\n",
              "            0.51484,     0.51868,     0.52176,     0.52302,     0.52486,     0.52807,     0.52816,     0.52738,     0.52573,     0.52626,     0.52925,     0.53116,     0.53204,     0.53322,     0.53678,     0.53793,     0.54133,     0.54281,     0.54399,     0.54701,     0.54789,     0.54821,     0.54722,\n",
              "            0.54881,     0.55337,     0.55427,     0.55532,     0.55758,     0.55831,     0.55903,     0.56121,     0.56697,      0.5706,     0.57313,     0.57436,     0.57787,     0.57913,     0.57758,      0.5762,     0.57926,     0.58382,     0.58512,     0.58777,     0.58802,     0.58827,     0.58852,\n",
              "            0.58877,     0.58902,     0.58927,     0.58952,     0.58977,     0.59002,     0.59044,     0.59106,     0.59169,     0.59231,     0.59477,     0.59417,     0.59693,     0.59918,     0.60124,     0.60201,     0.60278,     0.60614,     0.60706,     0.60798,     0.61321,     0.61501,     0.61809,\n",
              "            0.62009,     0.61979,     0.61949,     0.61919,      0.6189,      0.6186,     0.61923,     0.62121,     0.62247,     0.62372,     0.62674,      0.6273,     0.62786,     0.62842,     0.62898,     0.62971,     0.63164,     0.63364,     0.63233,     0.63415,     0.63552,     0.63648,     0.63743,\n",
              "            0.63924,     0.64494,     0.64715,     0.64818,     0.64921,     0.65097,     0.65662,     0.66089,     0.66252,     0.66334,     0.66415,     0.66496,     0.66884,     0.67327,     0.67523,     0.67594,     0.67665,     0.67736,      0.6765,     0.67755,     0.67861,     0.67966,     0.68112,\n",
              "            0.68266,      0.6841,     0.68549,     0.68553,     0.68788,     0.68795,      0.6873,     0.68753,     0.68957,     0.69058,     0.69095,     0.69132,     0.69169,     0.69206,     0.69244,     0.69281,     0.69318,     0.69355,     0.69439,     0.70044,     0.69994,     0.70109,     0.70224,\n",
              "             0.7032,     0.70355,     0.70389,     0.70423,     0.70457,     0.70492,     0.70526,      0.7056,     0.70595,     0.70629,     0.70663,     0.70789,     0.71006,     0.71441,     0.71664,     0.72162,     0.72074,       0.721,     0.72189,     0.72277,     0.72366,     0.72456,     0.72551,\n",
              "            0.72646,     0.72741,     0.72869,      0.7309,     0.73187,     0.73284,     0.73382,     0.73479,     0.73716,     0.73902,     0.73949,     0.73996,     0.74043,      0.7409,     0.74137,     0.74184,     0.74231,     0.74278,     0.74362,     0.74485,     0.74607,     0.74729,     0.74844,\n",
              "            0.74959,     0.75075,     0.75247,     0.75497,     0.75653,     0.75771,     0.75889,     0.75998,     0.75957,     0.75917,     0.75876,     0.75829,     0.75777,     0.75725,     0.75653,     0.75584,     0.75843,     0.76042,     0.76103,     0.76164,     0.76225,     0.76286,     0.76347,\n",
              "            0.76409,      0.7647,      0.7639,     0.76321,     0.76282,     0.76244,     0.76205,       0.761,     0.76158,     0.76329,     0.76499,     0.76366,     0.77101,     0.77626,     0.77579,     0.77531,     0.77564,     0.77745,     0.77927,     0.77962,     0.77924,     0.77886,     0.77849,\n",
              "            0.77901,     0.77953,     0.78005,     0.78057,     0.78109,     0.78161,     0.78213,     0.78266,     0.78318,     0.78685,     0.79339,     0.79319,     0.79299,     0.79278,     0.79258,     0.79237,      0.7975,     0.79811,     0.79873,     0.79934,     0.79995,     0.80057,     0.80118,\n",
              "             0.8018,     0.80241,     0.80254,     0.80241,     0.80227,     0.80213,     0.80199,     0.80186,     0.80172,     0.80158,     0.80144,     0.80123,     0.80056,     0.80033,     0.80217,       0.804,     0.81077,     0.81062,     0.81047,     0.81032,     0.81017,     0.81002,     0.80987,\n",
              "            0.80972,     0.80957,     0.81088,     0.81278,     0.81467,     0.81621,     0.81765,     0.81909,     0.82053,     0.82053,     0.82035,     0.82016,     0.81998,      0.8198,     0.81962,     0.81682,     0.81558,     0.81529,     0.81501,     0.81473,     0.81444,     0.81431,     0.81733,\n",
              "             0.8219,     0.82475,     0.82462,     0.82448,     0.82435,     0.82422,     0.82409,     0.82396,     0.82382,     0.82369,     0.82356,     0.82422,     0.82511,       0.826,     0.82689,     0.82779,     0.82868,     0.82957,     0.83559,     0.83651,     0.83723,     0.83794,     0.83866,\n",
              "            0.83937,     0.84009,      0.8408,     0.84152,     0.84151,      0.8448,     0.84705,     0.84584,     0.85154,     0.85144,     0.85135,     0.85126,     0.85117,     0.85108,     0.85098,     0.85089,      0.8508,     0.85071,     0.85062,     0.85052,     0.85043,     0.84967,     0.84901,\n",
              "             0.8487,      0.8484,     0.84809,     0.84782,     0.84757,     0.84732,     0.84707,     0.84681,     0.84727,     0.84786,     0.84845,     0.84903,     0.84962,     0.85021,      0.8508,     0.85139,     0.85197,     0.85256,     0.85315,     0.85364,      0.8535,     0.85337,     0.85323,\n",
              "            0.85309,     0.85296,     0.85282,     0.85268,     0.85255,      0.8524,     0.85222,     0.85204,     0.85186,     0.85168,      0.8515,     0.85132,     0.85111,     0.85085,      0.8506,     0.85034,     0.85009,     0.85474,     0.85698,     0.85673,     0.85648,     0.85623,     0.85598,\n",
              "            0.85493,     0.85435,     0.85392,     0.85349,     0.85184,     0.85146,     0.85108,     0.85129,     0.85214,       0.853,     0.85386,     0.85472,     0.85557,     0.85643,     0.85729,     0.85815,     0.85818,     0.85786,     0.85753,     0.85721,     0.85609,     0.85476,     0.85339,\n",
              "            0.85555,     0.85825,     0.86095,     0.86886,     0.86854,     0.86823,     0.86858,     0.87552,     0.87429,     0.87517,     0.87605,     0.87693,      0.8778,     0.87868,     0.87956,     0.88044,     0.88132,     0.88219,     0.88203,     0.88163,     0.88123,     0.88441,     0.88803,\n",
              "            0.88948,     0.88833,     0.88746,     0.88686,     0.88593,     0.90035,     0.90404,     0.90369,     0.90334,       0.914,     0.91914,     0.92305,     0.92293,     0.92282,      0.9227,     0.92258,     0.92247,     0.92235,     0.92223,     0.92093,     0.92047,     0.92035,     0.92024,\n",
              "            0.92013,     0.92002,     0.91991,      0.9198,     0.91969,     0.91958,     0.91922,     0.91874,     0.91853,     0.91842,     0.91831,      0.9182,     0.91809,     0.91798,     0.91787,     0.91776,     0.91765,     0.91926,     0.92307,     0.92683,     0.92676,      0.9267,     0.92664,\n",
              "            0.92657,     0.92651,     0.92645,     0.92638,     0.92632,     0.92625,     0.92619,     0.92613,     0.92606,       0.926,     0.92593,     0.92822,     0.93085,     0.93349,     0.93613,     0.93828,      0.9399,     0.94152,     0.94314,     0.94477,     0.94639,     0.94801,     0.94935,\n",
              "            0.94921,     0.94908,     0.94895,     0.94881,     0.94797,     0.94769,     0.94741,     0.94676,     0.94652,     0.94636,      0.9462,     0.94603,     0.94586,      0.9457,     0.94553,     0.94536,     0.94507,     0.94436,     0.94421,     0.94406,     0.94392,     0.94377,     0.94327,\n",
              "            0.94268,     0.94243,     0.94219,     0.94191,     0.94156,     0.94121,     0.94011,     0.93991,      0.9397,      0.9395,     0.95383,     0.95312,     0.95293,     0.95274,     0.95255,      0.9515,     0.95259,     0.96342,     0.96589,     0.96559,     0.96459,     0.96423,     0.96404,\n",
              "            0.96385,     0.96366,     0.96354,     0.96344,     0.96333,     0.96323,     0.96312,     0.96301,     0.96294,     0.96288,     0.96283,     0.96278,     0.96273,     0.96268,     0.96263,     0.96258,     0.96253,     0.96248,     0.96242,     0.96237,     0.96232,     0.96227,     0.96055,\n",
              "            0.96028,     0.96001,     0.95989,     0.95977,     0.95965,     0.95953,     0.95941,     0.95929,     0.95914,     0.95879,     0.95845,     0.96305,     0.97001,     0.97698,           1,           1,           1,           1,           1,           1,           1,           1,           1,\n",
              "                  1,           1,           1,           1,           1,           1,           1,           1,           1,           1,           1,           1,           1,           1,           1,           1,           1,           1,           1,           1,           1,           1,           1,\n",
              "                  1,           1,           1,           1,           1,           1,           1,           1,           1,           1,           1,           1,           1,           1,           1,           1,           1,           1,           1,           1,           1,           1,           1,\n",
              "                  1,           1,           1,           1,           1,           1,           1,           1,           1,           1,           1,           1,           1,           1,           1,           1,           1,           1,           1,           1,           1,           1,           1,\n",
              "                  1,           1,           1,           1,           1,           1,           1,           1,           1,           1,           1,           1,           1,           1,           1,           1,           1,           1,           1,           1,           1,           1,           1,\n",
              "                  1,           1,           1,           1,           1,           1,           1,           1,           1,           1,           1,           1,           1,           1,           1,           1,           1,           1,           1,           1,           1,           1,           1,\n",
              "                  1,           1,           1,           1,           1,           1,           1,           1,           1,           1,           1,           1,           1,           1,           1,           1,           1,           1,           1,           1,           1,           1,           1,\n",
              "                  1,           1,           1,           1,           1,           1,           1,           1,           1,           1,           1,           1,           1,           1,           1,           1,           1,           1,           1,           1,           1,           1,           1,\n",
              "                  1,           1,           1,           1,           1,           1,           1,           1,           1,           1,           1,           1,           1,           1,           1,           1,           1,           1,           1,           1,           1,           1,           1,\n",
              "                  1,           1,           1,           1,           1,           1,           1,           1,           1,           1,           1,           1,           1,           1,           1,           1,           1,           1,           1,           1,           1,           1,           1,\n",
              "                  1,           1,           1,           1,           1,           1,           1,           1,           1,           1,           1,           1,           1,           1,           1,           1,           1,           1,           1,           1,           1,           1,           1,\n",
              "                  1,           1,           1,           1,           1,           1,           1,           1,           1,           1,           1]]), 'Confidence', 'Precision'], [array([          0,    0.001001,    0.002002,    0.003003,    0.004004,    0.005005,    0.006006,    0.007007,    0.008008,    0.009009,     0.01001,    0.011011,    0.012012,    0.013013,    0.014014,    0.015015,    0.016016,    0.017017,    0.018018,    0.019019,     0.02002,    0.021021,    0.022022,    0.023023,\n",
              "          0.024024,    0.025025,    0.026026,    0.027027,    0.028028,    0.029029,     0.03003,    0.031031,    0.032032,    0.033033,    0.034034,    0.035035,    0.036036,    0.037037,    0.038038,    0.039039,     0.04004,    0.041041,    0.042042,    0.043043,    0.044044,    0.045045,    0.046046,    0.047047,\n",
              "          0.048048,    0.049049,     0.05005,    0.051051,    0.052052,    0.053053,    0.054054,    0.055055,    0.056056,    0.057057,    0.058058,    0.059059,     0.06006,    0.061061,    0.062062,    0.063063,    0.064064,    0.065065,    0.066066,    0.067067,    0.068068,    0.069069,     0.07007,    0.071071,\n",
              "          0.072072,    0.073073,    0.074074,    0.075075,    0.076076,    0.077077,    0.078078,    0.079079,     0.08008,    0.081081,    0.082082,    0.083083,    0.084084,    0.085085,    0.086086,    0.087087,    0.088088,    0.089089,     0.09009,    0.091091,    0.092092,    0.093093,    0.094094,    0.095095,\n",
              "          0.096096,    0.097097,    0.098098,    0.099099,      0.1001,      0.1011,      0.1021,      0.1031,      0.1041,     0.10511,     0.10611,     0.10711,     0.10811,     0.10911,     0.11011,     0.11111,     0.11211,     0.11311,     0.11411,     0.11512,     0.11612,     0.11712,     0.11812,     0.11912,\n",
              "           0.12012,     0.12112,     0.12212,     0.12312,     0.12412,     0.12513,     0.12613,     0.12713,     0.12813,     0.12913,     0.13013,     0.13113,     0.13213,     0.13313,     0.13413,     0.13514,     0.13614,     0.13714,     0.13814,     0.13914,     0.14014,     0.14114,     0.14214,     0.14314,\n",
              "           0.14414,     0.14515,     0.14615,     0.14715,     0.14815,     0.14915,     0.15015,     0.15115,     0.15215,     0.15315,     0.15415,     0.15516,     0.15616,     0.15716,     0.15816,     0.15916,     0.16016,     0.16116,     0.16216,     0.16316,     0.16416,     0.16517,     0.16617,     0.16717,\n",
              "           0.16817,     0.16917,     0.17017,     0.17117,     0.17217,     0.17317,     0.17417,     0.17518,     0.17618,     0.17718,     0.17818,     0.17918,     0.18018,     0.18118,     0.18218,     0.18318,     0.18418,     0.18519,     0.18619,     0.18719,     0.18819,     0.18919,     0.19019,     0.19119,\n",
              "           0.19219,     0.19319,     0.19419,      0.1952,      0.1962,      0.1972,      0.1982,      0.1992,      0.2002,      0.2012,      0.2022,      0.2032,      0.2042,     0.20521,     0.20621,     0.20721,     0.20821,     0.20921,     0.21021,     0.21121,     0.21221,     0.21321,     0.21421,     0.21522,\n",
              "           0.21622,     0.21722,     0.21822,     0.21922,     0.22022,     0.22122,     0.22222,     0.22322,     0.22422,     0.22523,     0.22623,     0.22723,     0.22823,     0.22923,     0.23023,     0.23123,     0.23223,     0.23323,     0.23423,     0.23524,     0.23624,     0.23724,     0.23824,     0.23924,\n",
              "           0.24024,     0.24124,     0.24224,     0.24324,     0.24424,     0.24525,     0.24625,     0.24725,     0.24825,     0.24925,     0.25025,     0.25125,     0.25225,     0.25325,     0.25425,     0.25526,     0.25626,     0.25726,     0.25826,     0.25926,     0.26026,     0.26126,     0.26226,     0.26326,\n",
              "           0.26426,     0.26527,     0.26627,     0.26727,     0.26827,     0.26927,     0.27027,     0.27127,     0.27227,     0.27327,     0.27427,     0.27528,     0.27628,     0.27728,     0.27828,     0.27928,     0.28028,     0.28128,     0.28228,     0.28328,     0.28428,     0.28529,     0.28629,     0.28729,\n",
              "           0.28829,     0.28929,     0.29029,     0.29129,     0.29229,     0.29329,     0.29429,      0.2953,      0.2963,      0.2973,      0.2983,      0.2993,      0.3003,      0.3013,      0.3023,      0.3033,      0.3043,     0.30531,     0.30631,     0.30731,     0.30831,     0.30931,     0.31031,     0.31131,\n",
              "           0.31231,     0.31331,     0.31431,     0.31532,     0.31632,     0.31732,     0.31832,     0.31932,     0.32032,     0.32132,     0.32232,     0.32332,     0.32432,     0.32533,     0.32633,     0.32733,     0.32833,     0.32933,     0.33033,     0.33133,     0.33233,     0.33333,     0.33433,     0.33534,\n",
              "           0.33634,     0.33734,     0.33834,     0.33934,     0.34034,     0.34134,     0.34234,     0.34334,     0.34434,     0.34535,     0.34635,     0.34735,     0.34835,     0.34935,     0.35035,     0.35135,     0.35235,     0.35335,     0.35435,     0.35536,     0.35636,     0.35736,     0.35836,     0.35936,\n",
              "           0.36036,     0.36136,     0.36236,     0.36336,     0.36436,     0.36537,     0.36637,     0.36737,     0.36837,     0.36937,     0.37037,     0.37137,     0.37237,     0.37337,     0.37437,     0.37538,     0.37638,     0.37738,     0.37838,     0.37938,     0.38038,     0.38138,     0.38238,     0.38338,\n",
              "           0.38438,     0.38539,     0.38639,     0.38739,     0.38839,     0.38939,     0.39039,     0.39139,     0.39239,     0.39339,     0.39439,      0.3954,      0.3964,      0.3974,      0.3984,      0.3994,      0.4004,      0.4014,      0.4024,      0.4034,      0.4044,     0.40541,     0.40641,     0.40741,\n",
              "           0.40841,     0.40941,     0.41041,     0.41141,     0.41241,     0.41341,     0.41441,     0.41542,     0.41642,     0.41742,     0.41842,     0.41942,     0.42042,     0.42142,     0.42242,     0.42342,     0.42442,     0.42543,     0.42643,     0.42743,     0.42843,     0.42943,     0.43043,     0.43143,\n",
              "           0.43243,     0.43343,     0.43443,     0.43544,     0.43644,     0.43744,     0.43844,     0.43944,     0.44044,     0.44144,     0.44244,     0.44344,     0.44444,     0.44545,     0.44645,     0.44745,     0.44845,     0.44945,     0.45045,     0.45145,     0.45245,     0.45345,     0.45445,     0.45546,\n",
              "           0.45646,     0.45746,     0.45846,     0.45946,     0.46046,     0.46146,     0.46246,     0.46346,     0.46446,     0.46547,     0.46647,     0.46747,     0.46847,     0.46947,     0.47047,     0.47147,     0.47247,     0.47347,     0.47447,     0.47548,     0.47648,     0.47748,     0.47848,     0.47948,\n",
              "           0.48048,     0.48148,     0.48248,     0.48348,     0.48448,     0.48549,     0.48649,     0.48749,     0.48849,     0.48949,     0.49049,     0.49149,     0.49249,     0.49349,     0.49449,      0.4955,      0.4965,      0.4975,      0.4985,      0.4995,      0.5005,      0.5015,      0.5025,      0.5035,\n",
              "            0.5045,     0.50551,     0.50651,     0.50751,     0.50851,     0.50951,     0.51051,     0.51151,     0.51251,     0.51351,     0.51451,     0.51552,     0.51652,     0.51752,     0.51852,     0.51952,     0.52052,     0.52152,     0.52252,     0.52352,     0.52452,     0.52553,     0.52653,     0.52753,\n",
              "           0.52853,     0.52953,     0.53053,     0.53153,     0.53253,     0.53353,     0.53453,     0.53554,     0.53654,     0.53754,     0.53854,     0.53954,     0.54054,     0.54154,     0.54254,     0.54354,     0.54454,     0.54555,     0.54655,     0.54755,     0.54855,     0.54955,     0.55055,     0.55155,\n",
              "           0.55255,     0.55355,     0.55455,     0.55556,     0.55656,     0.55756,     0.55856,     0.55956,     0.56056,     0.56156,     0.56256,     0.56356,     0.56456,     0.56557,     0.56657,     0.56757,     0.56857,     0.56957,     0.57057,     0.57157,     0.57257,     0.57357,     0.57457,     0.57558,\n",
              "           0.57658,     0.57758,     0.57858,     0.57958,     0.58058,     0.58158,     0.58258,     0.58358,     0.58458,     0.58559,     0.58659,     0.58759,     0.58859,     0.58959,     0.59059,     0.59159,     0.59259,     0.59359,     0.59459,      0.5956,      0.5966,      0.5976,      0.5986,      0.5996,\n",
              "            0.6006,      0.6016,      0.6026,      0.6036,      0.6046,     0.60561,     0.60661,     0.60761,     0.60861,     0.60961,     0.61061,     0.61161,     0.61261,     0.61361,     0.61461,     0.61562,     0.61662,     0.61762,     0.61862,     0.61962,     0.62062,     0.62162,     0.62262,     0.62362,\n",
              "           0.62462,     0.62563,     0.62663,     0.62763,     0.62863,     0.62963,     0.63063,     0.63163,     0.63263,     0.63363,     0.63463,     0.63564,     0.63664,     0.63764,     0.63864,     0.63964,     0.64064,     0.64164,     0.64264,     0.64364,     0.64464,     0.64565,     0.64665,     0.64765,\n",
              "           0.64865,     0.64965,     0.65065,     0.65165,     0.65265,     0.65365,     0.65465,     0.65566,     0.65666,     0.65766,     0.65866,     0.65966,     0.66066,     0.66166,     0.66266,     0.66366,     0.66466,     0.66567,     0.66667,     0.66767,     0.66867,     0.66967,     0.67067,     0.67167,\n",
              "           0.67267,     0.67367,     0.67467,     0.67568,     0.67668,     0.67768,     0.67868,     0.67968,     0.68068,     0.68168,     0.68268,     0.68368,     0.68468,     0.68569,     0.68669,     0.68769,     0.68869,     0.68969,     0.69069,     0.69169,     0.69269,     0.69369,     0.69469,      0.6957,\n",
              "            0.6967,      0.6977,      0.6987,      0.6997,      0.7007,      0.7017,      0.7027,      0.7037,      0.7047,     0.70571,     0.70671,     0.70771,     0.70871,     0.70971,     0.71071,     0.71171,     0.71271,     0.71371,     0.71471,     0.71572,     0.71672,     0.71772,     0.71872,     0.71972,\n",
              "           0.72072,     0.72172,     0.72272,     0.72372,     0.72472,     0.72573,     0.72673,     0.72773,     0.72873,     0.72973,     0.73073,     0.73173,     0.73273,     0.73373,     0.73473,     0.73574,     0.73674,     0.73774,     0.73874,     0.73974,     0.74074,     0.74174,     0.74274,     0.74374,\n",
              "           0.74474,     0.74575,     0.74675,     0.74775,     0.74875,     0.74975,     0.75075,     0.75175,     0.75275,     0.75375,     0.75475,     0.75576,     0.75676,     0.75776,     0.75876,     0.75976,     0.76076,     0.76176,     0.76276,     0.76376,     0.76476,     0.76577,     0.76677,     0.76777,\n",
              "           0.76877,     0.76977,     0.77077,     0.77177,     0.77277,     0.77377,     0.77477,     0.77578,     0.77678,     0.77778,     0.77878,     0.77978,     0.78078,     0.78178,     0.78278,     0.78378,     0.78478,     0.78579,     0.78679,     0.78779,     0.78879,     0.78979,     0.79079,     0.79179,\n",
              "           0.79279,     0.79379,     0.79479,      0.7958,      0.7968,      0.7978,      0.7988,      0.7998,      0.8008,      0.8018,      0.8028,      0.8038,      0.8048,     0.80581,     0.80681,     0.80781,     0.80881,     0.80981,     0.81081,     0.81181,     0.81281,     0.81381,     0.81481,     0.81582,\n",
              "           0.81682,     0.81782,     0.81882,     0.81982,     0.82082,     0.82182,     0.82282,     0.82382,     0.82482,     0.82583,     0.82683,     0.82783,     0.82883,     0.82983,     0.83083,     0.83183,     0.83283,     0.83383,     0.83483,     0.83584,     0.83684,     0.83784,     0.83884,     0.83984,\n",
              "           0.84084,     0.84184,     0.84284,     0.84384,     0.84484,     0.84585,     0.84685,     0.84785,     0.84885,     0.84985,     0.85085,     0.85185,     0.85285,     0.85385,     0.85485,     0.85586,     0.85686,     0.85786,     0.85886,     0.85986,     0.86086,     0.86186,     0.86286,     0.86386,\n",
              "           0.86486,     0.86587,     0.86687,     0.86787,     0.86887,     0.86987,     0.87087,     0.87187,     0.87287,     0.87387,     0.87487,     0.87588,     0.87688,     0.87788,     0.87888,     0.87988,     0.88088,     0.88188,     0.88288,     0.88388,     0.88488,     0.88589,     0.88689,     0.88789,\n",
              "           0.88889,     0.88989,     0.89089,     0.89189,     0.89289,     0.89389,     0.89489,      0.8959,      0.8969,      0.8979,      0.8989,      0.8999,      0.9009,      0.9019,      0.9029,      0.9039,      0.9049,     0.90591,     0.90691,     0.90791,     0.90891,     0.90991,     0.91091,     0.91191,\n",
              "           0.91291,     0.91391,     0.91491,     0.91592,     0.91692,     0.91792,     0.91892,     0.91992,     0.92092,     0.92192,     0.92292,     0.92392,     0.92492,     0.92593,     0.92693,     0.92793,     0.92893,     0.92993,     0.93093,     0.93193,     0.93293,     0.93393,     0.93493,     0.93594,\n",
              "           0.93694,     0.93794,     0.93894,     0.93994,     0.94094,     0.94194,     0.94294,     0.94394,     0.94494,     0.94595,     0.94695,     0.94795,     0.94895,     0.94995,     0.95095,     0.95195,     0.95295,     0.95395,     0.95495,     0.95596,     0.95696,     0.95796,     0.95896,     0.95996,\n",
              "           0.96096,     0.96196,     0.96296,     0.96396,     0.96496,     0.96597,     0.96697,     0.96797,     0.96897,     0.96997,     0.97097,     0.97197,     0.97297,     0.97397,     0.97497,     0.97598,     0.97698,     0.97798,     0.97898,     0.97998,     0.98098,     0.98198,     0.98298,     0.98398,\n",
              "           0.98498,     0.98599,     0.98699,     0.98799,     0.98899,     0.98999,     0.99099,     0.99199,     0.99299,     0.99399,     0.99499,       0.996,       0.997,       0.998,       0.999,           1]), array([[    0.85973,     0.85973,     0.85068,     0.85068,     0.84615,      0.8371,      0.8371,      0.8371,      0.8371,      0.8371,      0.8371,     0.83258,     0.82353,     0.82353,       0.819,       0.819,       0.819,       0.819,     0.81448,     0.81448,     0.81448,     0.80543,     0.80543,\n",
              "            0.80543,     0.80543,     0.80543,     0.79638,     0.79638,     0.79186,     0.79186,     0.79186,     0.79186,     0.79186,     0.79186,     0.78733,     0.78281,     0.78281,     0.78281,     0.78281,     0.78281,     0.77376,     0.77376,     0.77232,     0.76923,     0.76923,     0.76923,\n",
              "            0.76923,     0.76471,     0.76471,     0.76471,     0.76018,     0.76018,     0.76018,     0.76018,     0.75645,     0.75359,     0.75113,     0.75113,     0.75113,     0.75113,     0.75113,     0.75113,     0.75113,     0.75113,     0.74661,     0.74208,     0.73756,     0.73756,     0.73303,\n",
              "            0.72851,     0.72851,     0.72398,     0.72398,     0.71946,     0.71946,     0.71946,     0.71946,     0.71946,     0.71946,     0.71946,     0.71946,     0.71946,     0.71946,     0.71493,     0.71493,     0.71493,     0.71493,     0.71493,     0.71493,     0.71041,     0.71041,     0.71041,\n",
              "            0.71041,     0.71041,     0.70588,     0.70588,     0.70588,     0.70588,     0.70588,     0.70588,     0.70588,     0.70588,     0.70588,     0.70588,     0.70588,     0.70588,     0.70588,     0.70136,     0.70136,     0.70136,     0.70136,     0.70136,     0.70136,     0.70136,     0.69966,\n",
              "            0.69683,     0.69683,     0.69683,     0.69683,     0.69683,     0.69231,     0.69231,     0.69231,     0.69231,     0.68866,     0.68778,     0.68778,     0.68778,     0.68778,     0.68778,     0.68778,     0.68778,     0.68778,     0.68778,     0.68778,     0.68778,     0.68778,     0.68778,\n",
              "            0.68778,     0.68778,     0.68778,     0.68778,     0.68778,     0.68778,     0.68778,     0.68778,     0.68778,     0.68778,     0.68778,     0.68778,     0.68778,     0.68581,     0.68326,     0.68326,     0.68326,     0.68217,     0.68041,     0.67873,     0.67873,     0.67873,     0.67873,\n",
              "            0.67873,     0.67873,     0.67873,     0.67873,     0.67873,     0.67847,     0.67421,     0.67155,     0.66712,     0.66516,     0.66516,     0.66516,     0.66516,     0.66516,     0.66516,     0.66516,     0.66516,     0.66516,     0.66516,     0.66516,     0.66516,     0.66437,     0.66172,\n",
              "            0.66063,     0.66063,     0.66063,     0.66063,     0.66063,     0.66063,     0.66063,     0.66063,     0.66063,     0.66063,     0.66063,     0.66063,     0.66063,     0.66063,     0.65582,     0.65211,     0.65158,     0.65158,     0.65158,     0.65158,     0.65158,     0.65158,     0.65158,\n",
              "            0.65158,     0.65158,     0.65158,     0.65158,     0.65158,     0.65158,     0.65158,     0.65158,     0.65158,     0.65158,     0.65158,     0.64706,     0.64706,     0.64706,     0.64706,     0.64706,     0.64706,     0.64706,     0.64706,     0.64706,     0.64564,     0.64253,     0.64253,\n",
              "            0.64253,     0.64172,     0.64092,     0.64011,      0.6393,      0.6385,     0.63801,     0.63801,     0.63801,     0.63801,     0.63801,     0.63801,     0.63801,     0.63801,     0.63801,     0.63801,     0.63801,      0.6339,     0.63034,     0.62896,     0.62896,     0.62896,     0.62896,\n",
              "            0.62896,     0.62896,     0.62896,     0.62896,     0.62896,     0.62896,     0.62896,     0.62896,     0.62896,     0.62896,     0.62896,     0.62896,     0.62896,     0.62896,     0.62896,     0.62896,     0.62896,     0.62896,     0.62443,     0.62443,     0.62443,     0.62443,     0.62443,\n",
              "            0.62443,     0.62443,     0.62443,     0.61991,     0.61991,     0.61849,     0.61664,     0.61538,     0.61538,     0.61538,     0.61538,     0.61538,     0.61538,     0.61538,     0.61538,     0.61538,     0.61538,     0.61538,     0.61538,     0.61365,     0.61086,     0.61086,     0.61086,\n",
              "            0.61086,     0.61086,     0.61086,     0.61086,     0.61086,     0.61086,     0.61086,     0.61086,     0.61086,     0.61086,     0.61086,     0.61086,     0.61086,     0.61086,     0.61086,     0.60993,     0.60728,     0.60633,     0.60633,     0.60633,     0.60633,     0.60633,     0.60633,\n",
              "            0.60633,     0.60633,     0.60633,     0.60181,     0.60181,     0.60181,     0.60181,     0.60181,     0.60181,     0.60181,     0.60181,     0.60181,     0.60181,     0.60181,     0.60181,     0.60181,     0.60181,     0.60181,     0.60181,     0.60181,     0.60181,     0.60181,     0.60181,\n",
              "            0.60181,     0.60181,     0.60181,     0.60181,     0.60181,     0.60181,     0.60181,     0.60173,     0.60041,     0.59908,     0.59776,      0.5962,     0.59451,     0.59283,     0.59053,     0.58824,     0.58824,     0.58824,     0.58824,     0.58824,     0.58824,     0.58824,     0.58824,\n",
              "            0.58824,     0.58824,     0.58563,     0.58337,     0.58213,     0.58089,     0.57966,     0.57632,     0.57466,     0.57466,     0.57466,     0.57021,     0.57014,     0.56518,     0.56364,     0.56209,     0.56109,     0.56109,     0.56109,     0.56026,     0.55902,     0.55779,     0.55656,\n",
              "            0.55656,     0.55656,     0.55656,     0.55656,     0.55656,     0.55656,     0.55656,     0.55656,     0.55656,     0.55656,     0.55603,     0.55535,     0.55466,     0.55397,     0.55329,      0.5526,     0.55204,     0.55204,     0.55204,     0.55204,     0.55204,     0.55204,     0.55204,\n",
              "            0.55204,     0.55204,     0.55173,     0.55125,     0.55078,      0.5503,     0.54983,     0.54935,     0.54888,      0.5484,     0.54792,      0.5472,     0.54489,     0.54299,     0.54299,     0.54299,     0.54285,     0.54232,     0.54179,     0.54126,     0.54073,      0.5402,     0.53967,\n",
              "            0.53914,     0.53861,     0.53846,     0.53846,     0.53846,     0.53846,     0.53846,     0.53846,     0.53846,     0.53787,     0.53721,     0.53655,     0.53588,     0.53522,     0.53456,     0.52461,     0.52028,      0.5193,     0.51833,     0.51735,     0.51637,     0.51131,     0.51131,\n",
              "            0.51131,     0.51107,     0.51061,     0.51014,     0.50968,     0.50921,     0.50875,     0.50829,     0.50782,     0.50736,      0.5069,     0.50679,     0.50679,     0.50679,     0.50679,     0.50679,     0.50679,     0.50679,     0.50679,     0.50679,     0.50679,     0.50679,     0.50679,\n",
              "            0.50679,     0.50679,     0.50679,     0.50679,     0.50226,     0.50226,     0.50119,     0.49655,     0.49311,     0.49276,      0.4924,     0.49204,     0.49169,     0.49133,     0.49097,     0.49062,     0.49026,      0.4899,     0.48954,     0.48919,     0.48883,     0.48592,     0.48344,\n",
              "            0.48228,     0.48112,     0.47996,     0.47897,     0.47804,     0.47712,     0.47619,     0.47526,     0.47511,     0.47511,     0.47511,     0.47511,     0.47511,     0.47511,     0.47511,     0.47511,     0.47511,     0.47511,     0.47511,     0.47504,     0.47453,     0.47401,      0.4735,\n",
              "            0.47298,     0.47247,     0.47195,     0.47144,     0.47092,     0.47035,     0.46969,     0.46903,     0.46837,      0.4677,     0.46704,     0.46638,     0.46558,     0.46465,     0.46372,     0.46279,     0.46187,     0.46154,     0.46092,     0.45999,     0.45906,     0.45813,      0.4572,\n",
              "            0.45333,     0.45122,     0.44968,     0.44813,     0.44226,     0.44093,     0.43961,     0.43891,     0.43891,     0.43891,     0.43891,     0.43891,     0.43891,     0.43891,     0.43891,     0.43891,     0.43811,     0.43695,     0.43579,     0.43463,      0.4307,     0.42607,     0.42143,\n",
              "            0.42081,     0.42081,     0.42081,     0.41972,     0.41856,      0.4174,     0.41629,     0.41374,     0.40724,     0.40724,     0.40724,     0.40724,     0.40724,     0.40724,     0.40724,     0.40724,     0.40724,     0.40724,     0.40597,     0.40443,     0.40288,     0.40271,     0.40271,\n",
              "            0.40061,     0.39597,      0.3925,     0.39018,     0.38658,     0.38462,     0.38369,     0.38214,      0.3806,     0.38009,     0.38009,     0.37995,     0.37933,     0.37871,     0.37809,     0.37747,     0.37685,     0.37624,     0.37562,     0.36891,     0.36659,     0.36599,     0.36544,\n",
              "             0.3649,     0.36435,     0.36381,     0.36326,     0.36271,     0.36217,     0.36043,     0.35811,     0.35709,     0.35658,     0.35606,     0.35555,     0.35503,     0.35452,       0.354,     0.35349,     0.35297,     0.34389,     0.34389,     0.34389,     0.34357,     0.34325,     0.34293,\n",
              "            0.34261,     0.34229,     0.34197,     0.34165,     0.34133,     0.34101,     0.34069,     0.34037,     0.34005,     0.33973,     0.33941,     0.33937,     0.33937,     0.33937,     0.33937,     0.33937,     0.33937,     0.33937,     0.33937,     0.33937,     0.33937,     0.33937,     0.33922,\n",
              "            0.33829,     0.33736,     0.33643,     0.33551,     0.32979,     0.32793,     0.32608,     0.32187,     0.32037,     0.31934,     0.31831,     0.31728,     0.31625,     0.31522,     0.31419,     0.31316,     0.31138,     0.30718,     0.30634,      0.3055,     0.30465,     0.30381,     0.30098,\n",
              "            0.29765,     0.29633,       0.295,      0.2935,     0.29164,     0.28979,     0.28415,     0.28311,     0.28208,     0.28105,     0.28046,     0.27597,     0.27481,     0.27365,     0.27249,     0.26632,     0.26244,     0.26244,     0.25629,     0.25398,     0.24655,     0.24397,     0.24264,\n",
              "            0.24132,     0.23999,      0.2392,     0.23848,     0.23777,     0.23706,     0.23634,     0.23563,     0.23512,     0.23479,     0.23446,     0.23412,     0.23379,     0.23346,     0.23313,      0.2328,     0.23247,     0.23214,     0.23181,     0.23147,     0.23114,     0.23081,     0.22037,\n",
              "            0.21883,     0.21728,     0.21657,     0.21591,     0.21524,     0.21458,     0.21392,     0.21326,     0.21245,      0.2106,     0.20874,     0.20814,     0.20814,     0.20814,     0.20583,     0.20324,     0.20191,     0.20059,     0.19926,     0.19505,     0.18136,     0.17611,     0.17573,\n",
              "            0.17534,     0.17496,     0.17457,     0.17418,      0.1738,     0.17341,     0.17302,     0.17264,     0.17225,     0.17189,     0.17163,     0.17138,     0.17112,     0.17086,      0.1706,     0.17034,     0.17009,     0.16983,     0.16957,     0.16931,     0.16906,      0.1688,     0.16854,\n",
              "            0.16828,     0.16803,     0.16777,     0.16751,     0.16621,     0.16435,      0.1625,     0.16064,     0.15879,     0.15717,     0.15563,     0.15408,     0.15272,      0.1514,     0.15007,     0.14798,     0.14489,     0.13977,     0.13926,     0.13874,     0.13823,     0.13771,     0.13719,\n",
              "            0.13668,     0.13616,     0.13486,     0.13056,     0.12747,     0.12592,     0.12489,     0.12386,     0.12283,      0.1221,      0.1219,      0.1217,     0.12149,     0.12129,     0.12109,     0.12089,     0.12069,     0.12049,     0.12028,     0.12008,     0.11988,     0.11968,     0.11948,\n",
              "            0.11928,     0.11907,     0.11887,     0.11867,     0.11847,     0.11827,     0.11807,     0.11786,     0.11766,     0.11246,     0.11175,     0.11104,     0.11032,     0.10961,      0.1089,      0.1059,     0.10295,     0.10109,    0.099407,    0.098563,     0.09772,    0.096877,    0.096034,\n",
              "            0.09519,    0.094558,    0.093978,    0.093399,    0.092819,    0.092239,    0.091659,    0.091079,      0.0905,    0.090096,    0.089692,    0.089289,    0.088886,    0.088483,    0.088079,    0.087676,    0.087273,    0.086869,    0.086466,    0.086063,    0.085696,    0.085339,    0.084982,\n",
              "           0.084625,    0.084268,    0.083912,    0.083555,    0.083198,    0.082841,    0.082485,    0.082128,    0.081771,     0.08136,    0.080432,    0.079505,    0.078577,     0.07765,    0.076253,    0.073161,    0.070069,    0.060658,    0.057997,    0.056966,    0.055935,    0.054905,    0.053343,\n",
              "           0.051024,    0.049346,    0.048419,    0.047491,    0.046563,    0.045636,    0.043446,    0.040613,    0.039685,    0.038758,     0.03783,    0.036903,    0.036075,    0.035559,    0.035044,    0.034528,    0.034013,    0.033498,    0.032982,    0.032467,    0.031952,    0.027394,    0.025859,\n",
              "           0.024534,    0.023209,    0.021328,    0.019009,    0.016972,    0.015116,    0.012791,   0.0089682,   0.0085466,   0.0081249,   0.0077033,   0.0072817,     0.00686,   0.0064384,   0.0060167,   0.0055951,   0.0051734,   0.0047518,           0,           0,           0,           0,           0,\n",
              "                  0,           0,           0,           0,           0,           0,           0,           0,           0,           0,           0,           0,           0,           0,           0,           0,           0,           0,           0,           0,           0,           0,           0,\n",
              "                  0,           0,           0,           0,           0,           0,           0,           0,           0,           0,           0,           0,           0,           0,           0,           0,           0,           0,           0,           0,           0,           0,           0,\n",
              "                  0,           0,           0,           0,           0,           0,           0,           0,           0,           0,           0]]), 'Confidence', 'Recall'], [array([          0,    0.001001,    0.002002,    0.003003,    0.004004,    0.005005,    0.006006,    0.007007,    0.008008,    0.009009,     0.01001,    0.011011,    0.012012,    0.013013,    0.014014,    0.015015,    0.016016,    0.017017,    0.018018,    0.019019,     0.02002,    0.021021,    0.022022,    0.023023,\n",
              "          0.024024,    0.025025,    0.026026,    0.027027,    0.028028,    0.029029,     0.03003,    0.031031,    0.032032,    0.033033,    0.034034,    0.035035,    0.036036,    0.037037,    0.038038,    0.039039,     0.04004,    0.041041,    0.042042,    0.043043,    0.044044,    0.045045,    0.046046,    0.047047,\n",
              "          0.048048,    0.049049,     0.05005,    0.051051,    0.052052,    0.053053,    0.054054,    0.055055,    0.056056,    0.057057,    0.058058,    0.059059,     0.06006,    0.061061,    0.062062,    0.063063,    0.064064,    0.065065,    0.066066,    0.067067,    0.068068,    0.069069,     0.07007,    0.071071,\n",
              "          0.072072,    0.073073,    0.074074,    0.075075,    0.076076,    0.077077,    0.078078,    0.079079,     0.08008,    0.081081,    0.082082,    0.083083,    0.084084,    0.085085,    0.086086,    0.087087,    0.088088,    0.089089,     0.09009,    0.091091,    0.092092,    0.093093,    0.094094,    0.095095,\n",
              "          0.096096,    0.097097,    0.098098,    0.099099,      0.1001,      0.1011,      0.1021,      0.1031,      0.1041,     0.10511,     0.10611,     0.10711,     0.10811,     0.10911,     0.11011,     0.11111,     0.11211,     0.11311,     0.11411,     0.11512,     0.11612,     0.11712,     0.11812,     0.11912,\n",
              "           0.12012,     0.12112,     0.12212,     0.12312,     0.12412,     0.12513,     0.12613,     0.12713,     0.12813,     0.12913,     0.13013,     0.13113,     0.13213,     0.13313,     0.13413,     0.13514,     0.13614,     0.13714,     0.13814,     0.13914,     0.14014,     0.14114,     0.14214,     0.14314,\n",
              "           0.14414,     0.14515,     0.14615,     0.14715,     0.14815,     0.14915,     0.15015,     0.15115,     0.15215,     0.15315,     0.15415,     0.15516,     0.15616,     0.15716,     0.15816,     0.15916,     0.16016,     0.16116,     0.16216,     0.16316,     0.16416,     0.16517,     0.16617,     0.16717,\n",
              "           0.16817,     0.16917,     0.17017,     0.17117,     0.17217,     0.17317,     0.17417,     0.17518,     0.17618,     0.17718,     0.17818,     0.17918,     0.18018,     0.18118,     0.18218,     0.18318,     0.18418,     0.18519,     0.18619,     0.18719,     0.18819,     0.18919,     0.19019,     0.19119,\n",
              "           0.19219,     0.19319,     0.19419,      0.1952,      0.1962,      0.1972,      0.1982,      0.1992,      0.2002,      0.2012,      0.2022,      0.2032,      0.2042,     0.20521,     0.20621,     0.20721,     0.20821,     0.20921,     0.21021,     0.21121,     0.21221,     0.21321,     0.21421,     0.21522,\n",
              "           0.21622,     0.21722,     0.21822,     0.21922,     0.22022,     0.22122,     0.22222,     0.22322,     0.22422,     0.22523,     0.22623,     0.22723,     0.22823,     0.22923,     0.23023,     0.23123,     0.23223,     0.23323,     0.23423,     0.23524,     0.23624,     0.23724,     0.23824,     0.23924,\n",
              "           0.24024,     0.24124,     0.24224,     0.24324,     0.24424,     0.24525,     0.24625,     0.24725,     0.24825,     0.24925,     0.25025,     0.25125,     0.25225,     0.25325,     0.25425,     0.25526,     0.25626,     0.25726,     0.25826,     0.25926,     0.26026,     0.26126,     0.26226,     0.26326,\n",
              "           0.26426,     0.26527,     0.26627,     0.26727,     0.26827,     0.26927,     0.27027,     0.27127,     0.27227,     0.27327,     0.27427,     0.27528,     0.27628,     0.27728,     0.27828,     0.27928,     0.28028,     0.28128,     0.28228,     0.28328,     0.28428,     0.28529,     0.28629,     0.28729,\n",
              "           0.28829,     0.28929,     0.29029,     0.29129,     0.29229,     0.29329,     0.29429,      0.2953,      0.2963,      0.2973,      0.2983,      0.2993,      0.3003,      0.3013,      0.3023,      0.3033,      0.3043,     0.30531,     0.30631,     0.30731,     0.30831,     0.30931,     0.31031,     0.31131,\n",
              "           0.31231,     0.31331,     0.31431,     0.31532,     0.31632,     0.31732,     0.31832,     0.31932,     0.32032,     0.32132,     0.32232,     0.32332,     0.32432,     0.32533,     0.32633,     0.32733,     0.32833,     0.32933,     0.33033,     0.33133,     0.33233,     0.33333,     0.33433,     0.33534,\n",
              "           0.33634,     0.33734,     0.33834,     0.33934,     0.34034,     0.34134,     0.34234,     0.34334,     0.34434,     0.34535,     0.34635,     0.34735,     0.34835,     0.34935,     0.35035,     0.35135,     0.35235,     0.35335,     0.35435,     0.35536,     0.35636,     0.35736,     0.35836,     0.35936,\n",
              "           0.36036,     0.36136,     0.36236,     0.36336,     0.36436,     0.36537,     0.36637,     0.36737,     0.36837,     0.36937,     0.37037,     0.37137,     0.37237,     0.37337,     0.37437,     0.37538,     0.37638,     0.37738,     0.37838,     0.37938,     0.38038,     0.38138,     0.38238,     0.38338,\n",
              "           0.38438,     0.38539,     0.38639,     0.38739,     0.38839,     0.38939,     0.39039,     0.39139,     0.39239,     0.39339,     0.39439,      0.3954,      0.3964,      0.3974,      0.3984,      0.3994,      0.4004,      0.4014,      0.4024,      0.4034,      0.4044,     0.40541,     0.40641,     0.40741,\n",
              "           0.40841,     0.40941,     0.41041,     0.41141,     0.41241,     0.41341,     0.41441,     0.41542,     0.41642,     0.41742,     0.41842,     0.41942,     0.42042,     0.42142,     0.42242,     0.42342,     0.42442,     0.42543,     0.42643,     0.42743,     0.42843,     0.42943,     0.43043,     0.43143,\n",
              "           0.43243,     0.43343,     0.43443,     0.43544,     0.43644,     0.43744,     0.43844,     0.43944,     0.44044,     0.44144,     0.44244,     0.44344,     0.44444,     0.44545,     0.44645,     0.44745,     0.44845,     0.44945,     0.45045,     0.45145,     0.45245,     0.45345,     0.45445,     0.45546,\n",
              "           0.45646,     0.45746,     0.45846,     0.45946,     0.46046,     0.46146,     0.46246,     0.46346,     0.46446,     0.46547,     0.46647,     0.46747,     0.46847,     0.46947,     0.47047,     0.47147,     0.47247,     0.47347,     0.47447,     0.47548,     0.47648,     0.47748,     0.47848,     0.47948,\n",
              "           0.48048,     0.48148,     0.48248,     0.48348,     0.48448,     0.48549,     0.48649,     0.48749,     0.48849,     0.48949,     0.49049,     0.49149,     0.49249,     0.49349,     0.49449,      0.4955,      0.4965,      0.4975,      0.4985,      0.4995,      0.5005,      0.5015,      0.5025,      0.5035,\n",
              "            0.5045,     0.50551,     0.50651,     0.50751,     0.50851,     0.50951,     0.51051,     0.51151,     0.51251,     0.51351,     0.51451,     0.51552,     0.51652,     0.51752,     0.51852,     0.51952,     0.52052,     0.52152,     0.52252,     0.52352,     0.52452,     0.52553,     0.52653,     0.52753,\n",
              "           0.52853,     0.52953,     0.53053,     0.53153,     0.53253,     0.53353,     0.53453,     0.53554,     0.53654,     0.53754,     0.53854,     0.53954,     0.54054,     0.54154,     0.54254,     0.54354,     0.54454,     0.54555,     0.54655,     0.54755,     0.54855,     0.54955,     0.55055,     0.55155,\n",
              "           0.55255,     0.55355,     0.55455,     0.55556,     0.55656,     0.55756,     0.55856,     0.55956,     0.56056,     0.56156,     0.56256,     0.56356,     0.56456,     0.56557,     0.56657,     0.56757,     0.56857,     0.56957,     0.57057,     0.57157,     0.57257,     0.57357,     0.57457,     0.57558,\n",
              "           0.57658,     0.57758,     0.57858,     0.57958,     0.58058,     0.58158,     0.58258,     0.58358,     0.58458,     0.58559,     0.58659,     0.58759,     0.58859,     0.58959,     0.59059,     0.59159,     0.59259,     0.59359,     0.59459,      0.5956,      0.5966,      0.5976,      0.5986,      0.5996,\n",
              "            0.6006,      0.6016,      0.6026,      0.6036,      0.6046,     0.60561,     0.60661,     0.60761,     0.60861,     0.60961,     0.61061,     0.61161,     0.61261,     0.61361,     0.61461,     0.61562,     0.61662,     0.61762,     0.61862,     0.61962,     0.62062,     0.62162,     0.62262,     0.62362,\n",
              "           0.62462,     0.62563,     0.62663,     0.62763,     0.62863,     0.62963,     0.63063,     0.63163,     0.63263,     0.63363,     0.63463,     0.63564,     0.63664,     0.63764,     0.63864,     0.63964,     0.64064,     0.64164,     0.64264,     0.64364,     0.64464,     0.64565,     0.64665,     0.64765,\n",
              "           0.64865,     0.64965,     0.65065,     0.65165,     0.65265,     0.65365,     0.65465,     0.65566,     0.65666,     0.65766,     0.65866,     0.65966,     0.66066,     0.66166,     0.66266,     0.66366,     0.66466,     0.66567,     0.66667,     0.66767,     0.66867,     0.66967,     0.67067,     0.67167,\n",
              "           0.67267,     0.67367,     0.67467,     0.67568,     0.67668,     0.67768,     0.67868,     0.67968,     0.68068,     0.68168,     0.68268,     0.68368,     0.68468,     0.68569,     0.68669,     0.68769,     0.68869,     0.68969,     0.69069,     0.69169,     0.69269,     0.69369,     0.69469,      0.6957,\n",
              "            0.6967,      0.6977,      0.6987,      0.6997,      0.7007,      0.7017,      0.7027,      0.7037,      0.7047,     0.70571,     0.70671,     0.70771,     0.70871,     0.70971,     0.71071,     0.71171,     0.71271,     0.71371,     0.71471,     0.71572,     0.71672,     0.71772,     0.71872,     0.71972,\n",
              "           0.72072,     0.72172,     0.72272,     0.72372,     0.72472,     0.72573,     0.72673,     0.72773,     0.72873,     0.72973,     0.73073,     0.73173,     0.73273,     0.73373,     0.73473,     0.73574,     0.73674,     0.73774,     0.73874,     0.73974,     0.74074,     0.74174,     0.74274,     0.74374,\n",
              "           0.74474,     0.74575,     0.74675,     0.74775,     0.74875,     0.74975,     0.75075,     0.75175,     0.75275,     0.75375,     0.75475,     0.75576,     0.75676,     0.75776,     0.75876,     0.75976,     0.76076,     0.76176,     0.76276,     0.76376,     0.76476,     0.76577,     0.76677,     0.76777,\n",
              "           0.76877,     0.76977,     0.77077,     0.77177,     0.77277,     0.77377,     0.77477,     0.77578,     0.77678,     0.77778,     0.77878,     0.77978,     0.78078,     0.78178,     0.78278,     0.78378,     0.78478,     0.78579,     0.78679,     0.78779,     0.78879,     0.78979,     0.79079,     0.79179,\n",
              "           0.79279,     0.79379,     0.79479,      0.7958,      0.7968,      0.7978,      0.7988,      0.7998,      0.8008,      0.8018,      0.8028,      0.8038,      0.8048,     0.80581,     0.80681,     0.80781,     0.80881,     0.80981,     0.81081,     0.81181,     0.81281,     0.81381,     0.81481,     0.81582,\n",
              "           0.81682,     0.81782,     0.81882,     0.81982,     0.82082,     0.82182,     0.82282,     0.82382,     0.82482,     0.82583,     0.82683,     0.82783,     0.82883,     0.82983,     0.83083,     0.83183,     0.83283,     0.83383,     0.83483,     0.83584,     0.83684,     0.83784,     0.83884,     0.83984,\n",
              "           0.84084,     0.84184,     0.84284,     0.84384,     0.84484,     0.84585,     0.84685,     0.84785,     0.84885,     0.84985,     0.85085,     0.85185,     0.85285,     0.85385,     0.85485,     0.85586,     0.85686,     0.85786,     0.85886,     0.85986,     0.86086,     0.86186,     0.86286,     0.86386,\n",
              "           0.86486,     0.86587,     0.86687,     0.86787,     0.86887,     0.86987,     0.87087,     0.87187,     0.87287,     0.87387,     0.87487,     0.87588,     0.87688,     0.87788,     0.87888,     0.87988,     0.88088,     0.88188,     0.88288,     0.88388,     0.88488,     0.88589,     0.88689,     0.88789,\n",
              "           0.88889,     0.88989,     0.89089,     0.89189,     0.89289,     0.89389,     0.89489,      0.8959,      0.8969,      0.8979,      0.8989,      0.8999,      0.9009,      0.9019,      0.9029,      0.9039,      0.9049,     0.90591,     0.90691,     0.90791,     0.90891,     0.90991,     0.91091,     0.91191,\n",
              "           0.91291,     0.91391,     0.91491,     0.91592,     0.91692,     0.91792,     0.91892,     0.91992,     0.92092,     0.92192,     0.92292,     0.92392,     0.92492,     0.92593,     0.92693,     0.92793,     0.92893,     0.92993,     0.93093,     0.93193,     0.93293,     0.93393,     0.93493,     0.93594,\n",
              "           0.93694,     0.93794,     0.93894,     0.93994,     0.94094,     0.94194,     0.94294,     0.94394,     0.94494,     0.94595,     0.94695,     0.94795,     0.94895,     0.94995,     0.95095,     0.95195,     0.95295,     0.95395,     0.95495,     0.95596,     0.95696,     0.95796,     0.95896,     0.95996,\n",
              "           0.96096,     0.96196,     0.96296,     0.96396,     0.96496,     0.96597,     0.96697,     0.96797,     0.96897,     0.96997,     0.97097,     0.97197,     0.97297,     0.97397,     0.97497,     0.97598,     0.97698,     0.97798,     0.97898,     0.97998,     0.98098,     0.98198,     0.98298,     0.98398,\n",
              "           0.98498,     0.98599,     0.98699,     0.98799,     0.98899,     0.98999,     0.99099,     0.99199,     0.99299,     0.99399,     0.99499,       0.996,       0.997,       0.998,       0.999,           1]), array([[          1,           1,           1,           1,           1,           1,           1,           1,           1,           1,           1,           1,           1,           1,           1,           1,           1,           1,           1,           1,           1,           1,           1,\n",
              "                  1,           1,           1,           1,           1,           1,           1,           1,           1,           1,           1,           1,           1,           1,           1,           1,           1,           1,           1,           1,           1,           1,           1,\n",
              "                  1,           1,           1,           1,           1,           1,           1,           1,           1,           1,           1,           1,           1,           1,           1,           1,           1,           1,           1,           1,           1,           1,           1,\n",
              "                  1,           1,           1,           1,           1,           1,           1,           1,           1,           1,           1,           1,           1,           1,           1,           1,           1,           1,           1,           1,           1,           1,           1,\n",
              "                  1,           1,           1,           1,           1,           1,           1,           1,           1,           1,           1,           1,           1,           1,           1,           1,           1,           1,           1,           1,           1,           1,           1,\n",
              "                  1,           1,           1,           1,           1,           1,           1,           1,           1,           1,           1,           1,           1,           1,           1,           1,           1,           1,           1,           1,           1,           1,           1,\n",
              "                  1,           1,           1,           1,           1,           1,           1,           1,           1,           1,           1,           1,           1,           1,           1,           1,           1,           1,           1,           1,           1,           1,           1,\n",
              "                  1,           1,           1,           1,           1,           1,           1,           1,           1,           1,           1,           1,           1,           1,           1,           1,           1,           1,           1,           1,           1,           1,           1,\n",
              "                  1,           1,           1,           1,           1,           1,           1,           1,           1,           1,           1,           1,           1,           1,           1,           1,           1,           1,           1,           1,           1,           1,           1,\n",
              "                  1,     0.96429,     0.96429,     0.96429,     0.96429,     0.96429,     0.96429,     0.96429,     0.96429,     0.96429,     0.96429,     0.96429,     0.96429,     0.96429,     0.96429,     0.96429,     0.96429,     0.96429,     0.96429,     0.96429,     0.96429,     0.96429,     0.96429,\n",
              "            0.96429,     0.96429,     0.96429,     0.96429,     0.96429,     0.96429,     0.96429,     0.96429,     0.96429,     0.96429,     0.96429,     0.96429,     0.96429,     0.96429,     0.96429,        0.95,        0.95,        0.95,        0.95,        0.95,        0.95,        0.95,        0.95,\n",
              "               0.95,        0.95,        0.95,        0.95,        0.95,     0.93846,     0.93846,     0.93846,     0.93846,     0.93846,     0.93846,     0.93846,     0.93846,     0.93846,     0.93846,     0.93846,     0.93846,     0.93846,     0.93846,     0.93846,     0.93846,     0.93846,     0.93846,\n",
              "            0.93671,     0.93671,     0.93671,     0.93671,     0.93671,     0.93671,     0.93671,     0.93671,     0.93671,     0.93671,     0.93671,     0.93671,     0.93671,     0.93671,     0.93671,     0.93671,     0.93671,     0.93671,     0.93671,     0.93671,     0.93671,     0.93671,     0.93671,\n",
              "            0.93671,     0.93671,     0.93671,     0.93671,     0.93671,     0.93671,     0.93671,     0.93671,     0.93671,     0.93671,     0.93671,     0.93671,     0.93671,     0.93671,     0.93671,     0.93671,     0.93671,     0.93671,     0.93671,     0.93671,     0.93671,     0.93671,     0.93671,\n",
              "            0.93671,     0.93671,     0.93671,     0.93671,     0.93671,     0.93671,     0.93671,     0.93671,     0.93671,     0.93671,     0.93671,     0.93671,     0.93671,     0.91463,     0.91463,     0.91463,     0.91463,     0.91463,     0.91209,     0.91209,     0.91209,     0.91209,     0.91209,\n",
              "            0.91209,     0.91209,     0.91209,     0.91209,     0.91209,     0.91209,     0.91209,     0.91209,     0.91209,     0.91209,     0.91209,     0.91209,     0.91209,     0.91209,     0.91209,     0.91209,     0.91209,     0.91209,     0.91209,     0.91209,     0.91209,     0.91209,     0.91209,\n",
              "            0.91209,     0.91209,     0.91209,     0.91209,     0.91209,     0.91209,     0.91209,     0.91209,     0.89362,     0.89362,     0.89362,     0.89362,        0.88,        0.88,        0.88,        0.88,        0.88,        0.88,        0.88,        0.88,        0.88,        0.88,        0.88,\n",
              "               0.88,        0.88,        0.88,        0.88,        0.88,        0.88,        0.88,     0.87255,     0.87255,     0.87255,     0.87255,     0.87255,     0.86667,     0.86667,     0.86667,     0.86667,     0.86667,     0.86667,     0.86667,     0.86667,     0.86667,     0.85981,     0.85981,\n",
              "            0.85981,     0.85981,     0.84956,     0.84956,     0.84956,     0.84956,     0.84956,     0.84956,     0.84956,     0.84956,     0.84956,     0.84956,     0.84956,     0.84956,     0.84956,     0.84956,     0.84956,     0.84956,     0.84956,     0.84956,     0.84034,     0.84034,     0.84034,\n",
              "            0.84034,     0.84034,     0.84034,     0.84034,     0.84034,     0.84034,     0.84034,     0.84034,     0.84034,     0.84034,     0.84034,     0.84034,     0.84034,     0.84034,     0.84034,     0.84034,      0.8374,      0.8374,      0.8374,      0.8374,      0.8374,      0.8374,      0.8374,\n",
              "             0.8374,      0.8374,      0.8374,      0.8374,      0.8374,      0.8374,     0.83594,     0.83594,     0.83594,     0.83594,     0.83594,     0.83594,     0.83594,     0.83594,     0.83594,     0.83594,     0.83594,     0.83594,     0.83594,     0.83594,     0.83594,     0.83594,     0.83594,\n",
              "            0.83594,     0.83206,     0.83206,     0.83206,     0.83206,     0.83206,     0.83206,     0.83206,     0.83206,     0.83206,     0.82707,     0.82707,     0.82707,     0.82707,     0.82707,     0.81022,     0.81022,     0.81022,     0.81022,      0.8042,      0.8042,      0.8042,      0.8042,\n",
              "             0.8042,      0.8042,      0.8042,      0.8042,      0.8042,      0.8042,      0.8042,      0.8042,      0.8042,      0.8042,      0.8042,      0.8042,      0.8042,      0.8042,         0.8,         0.8,         0.8,         0.8,         0.8,     0.79054,     0.79054,     0.79054,     0.79054,\n",
              "            0.78289,     0.78289,     0.78289,     0.78289,     0.78289,     0.78289,     0.78289,     0.78289,     0.78289,     0.77419,     0.77419,     0.77419,     0.77419,     0.77419,     0.76101,     0.76101,     0.76101,     0.76101,     0.75776,     0.75776,     0.75776,     0.75776,     0.75776,\n",
              "             0.7546,      0.7546,      0.7546,      0.7546,      0.7546,     0.74699,     0.74699,     0.74699,     0.74699,     0.74405,     0.74405,     0.74405,     0.74405,     0.74405,     0.74118,     0.74118,     0.74118,     0.74118,     0.73714,     0.73714,     0.73714,     0.73714,     0.73714,\n",
              "            0.73714,     0.73714,     0.73714,     0.73714,     0.73714,     0.73714,     0.73714,     0.73714,     0.73714,     0.73034,     0.73034,     0.73034,     0.73034,     0.72376,     0.72376,     0.72376,     0.72376,     0.72376,     0.72131,     0.72131,     0.72131,     0.72131,     0.71123,\n",
              "            0.71123,     0.71123,     0.71123,     0.71123,     0.69072,     0.69072,     0.69072,     0.69072,     0.68528,     0.68528,     0.68528,     0.68528,     0.68528,     0.68342,     0.68342,     0.68342,     0.68342,     0.68317,     0.68317,     0.68317,     0.68317,     0.68317,     0.68317,\n",
              "            0.68317,     0.68317,     0.68317,     0.67805,     0.67805,     0.67805,     0.67805,     0.67805,     0.66986,     0.66986,     0.66986,     0.66986,     0.63964,     0.63964,     0.63964,     0.63964,     0.63964,     0.63964,     0.63964,     0.63964,     0.63964,     0.62445,     0.62445,\n",
              "            0.62445,     0.62445,     0.62445,     0.61803,     0.61803,     0.61803,     0.61803,     0.59917,     0.59917,     0.59917,     0.59917,     0.59917,     0.58333,     0.58333,     0.58333,     0.58333,     0.58333,     0.58333,     0.58333,     0.58333,     0.58333,     0.55224,     0.55224,\n",
              "            0.55224,     0.55224,     0.55224,     0.53191,     0.53191,     0.53191,     0.53191,     0.53191,     0.53191,     0.53191,     0.53191,     0.53191,     0.53169,     0.53169,     0.53169,     0.53169,     0.50836,     0.50836,     0.50836,     0.50836,     0.50836,     0.47516,     0.47516,\n",
              "            0.47516,     0.47516,     0.46246,     0.46246,     0.46246,     0.46246,     0.46246,     0.45455,     0.45455,     0.45455,     0.45455,     0.45087,     0.45087,     0.45087,     0.45087,     0.45087,     0.44729,     0.44729,     0.44729,     0.44729,     0.43646,     0.43646,     0.43646,\n",
              "            0.43646,     0.43646,     0.41299,     0.41299,     0.41299,     0.41299,     0.40201,     0.40201,     0.40201,     0.40201,     0.40201,     0.39558,     0.39558,     0.39558,     0.39558,      0.3932,      0.3932,      0.3932,      0.3932,      0.3932,     0.36547,     0.36547,     0.36547,\n",
              "            0.36547,     0.35652,     0.35652,     0.35652,     0.35652,     0.35652,      0.3556,      0.3556,      0.3556,      0.3556,     0.35244,     0.35244,     0.35244,     0.35244,     0.35244,     0.34576,     0.34576,     0.34576,     0.34576,     0.34426,     0.34426,     0.34426,     0.34426,\n",
              "            0.34426,     0.32943,     0.32943,     0.32943,     0.32943,     0.32819,     0.32819,     0.32819,     0.32819,     0.32819,     0.32143,     0.32143,     0.32143,     0.32143,     0.31618,     0.31618,     0.31618,     0.31618,     0.31618,     0.29542,     0.29542,     0.29542,     0.29542,\n",
              "            0.29542,     0.29542,     0.29542,     0.29542,     0.29542,     0.27603,     0.27603,     0.27603,     0.27603,     0.27603,       0.275,       0.275,       0.275,       0.275,     0.24016,     0.24016,     0.24016,     0.24016,     0.24016,     0.21894,     0.21894,     0.21894,     0.21894,\n",
              "            0.21829,     0.21829,     0.21829,     0.21829,     0.21829,     0.20619,     0.20619,     0.20619,     0.20619,     0.19978,     0.19978,     0.19978,     0.19978,     0.19978,     0.19198,     0.19198,     0.19198,     0.19198,     0.17698,     0.17698,     0.17698,     0.17698,     0.17698,\n",
              "            0.16399,     0.16399,     0.16399,     0.16399,       0.162,       0.162,       0.162,       0.162,       0.162,     0.15736,     0.15736,     0.15736,     0.15736,    0.098791,    0.098791,    0.098791,    0.098791,    0.098791,    0.098791,    0.098791,    0.098791,    0.098791,    0.093843,\n",
              "           0.093843,    0.093843,    0.093843,    0.093843,    0.059899,    0.059899,    0.059899,    0.059899,    0.051959,    0.051959,    0.051959,    0.051959,    0.051959,    0.051473,    0.051091,     0.05071,    0.050329,    0.049947,    0.049566,    0.049185,    0.048804,    0.048422,    0.048041,\n",
              "            0.04766,    0.047279,    0.046897,    0.046516,    0.046135,    0.045753,    0.045372,    0.044991,     0.04461,    0.044228,    0.043847,    0.043466,    0.043084,    0.042703,    0.042322,    0.041941,    0.041559,    0.041178,    0.040797,    0.040415,    0.040034,    0.039653,    0.039272,\n",
              "            0.03889,    0.038509,    0.038128,    0.037747,    0.037365,    0.036984,    0.036603,    0.036221,     0.03584,    0.035459,    0.035078,    0.034696,    0.034315,    0.033934,    0.033552,    0.033171,     0.03279,    0.032409,    0.032027,    0.031646,    0.031265,    0.030884,    0.030502,\n",
              "           0.030121,     0.02974,    0.029358,    0.028977,    0.028596,    0.028215,    0.027833,    0.027452,    0.027071,    0.026689,    0.026308,    0.025927,    0.025546,    0.025164,    0.024783,    0.024402,    0.024021,    0.023639,    0.023258,    0.022877,    0.022495,    0.022114,    0.021733,\n",
              "           0.021352,     0.02097,    0.020589,    0.020208,    0.019826,    0.019445,    0.019064,    0.018683,    0.018301,     0.01792,    0.017539,    0.017158,    0.016776,    0.016395,    0.016014,    0.015632,    0.015251,     0.01487,    0.014489,    0.014107,    0.013726,    0.013345,    0.012963,\n",
              "           0.012582,    0.012201,     0.01182,    0.011438,    0.011057,    0.010676,    0.010295,   0.0099132,    0.009532,   0.0091507,   0.0087694,   0.0083881,   0.0080068,   0.0076256,   0.0072443,    0.006863,   0.0064817,   0.0061005,   0.0057192,   0.0053379,   0.0049566,   0.0045753,   0.0041941,\n",
              "          0.0038128,   0.0034315,   0.0030502,   0.0026689,   0.0022877,   0.0019064,   0.0015251,   0.0011438,  0.00076256,  0.00038128,           0]]), 'Recall', 'Precision'], [array([          0,    0.001001,    0.002002,    0.003003,    0.004004,    0.005005,    0.006006,    0.007007,    0.008008,    0.009009,     0.01001,    0.011011,    0.012012,    0.013013,    0.014014,    0.015015,    0.016016,    0.017017,    0.018018,    0.019019,     0.02002,    0.021021,    0.022022,    0.023023,\n",
              "          0.024024,    0.025025,    0.026026,    0.027027,    0.028028,    0.029029,     0.03003,    0.031031,    0.032032,    0.033033,    0.034034,    0.035035,    0.036036,    0.037037,    0.038038,    0.039039,     0.04004,    0.041041,    0.042042,    0.043043,    0.044044,    0.045045,    0.046046,    0.047047,\n",
              "          0.048048,    0.049049,     0.05005,    0.051051,    0.052052,    0.053053,    0.054054,    0.055055,    0.056056,    0.057057,    0.058058,    0.059059,     0.06006,    0.061061,    0.062062,    0.063063,    0.064064,    0.065065,    0.066066,    0.067067,    0.068068,    0.069069,     0.07007,    0.071071,\n",
              "          0.072072,    0.073073,    0.074074,    0.075075,    0.076076,    0.077077,    0.078078,    0.079079,     0.08008,    0.081081,    0.082082,    0.083083,    0.084084,    0.085085,    0.086086,    0.087087,    0.088088,    0.089089,     0.09009,    0.091091,    0.092092,    0.093093,    0.094094,    0.095095,\n",
              "          0.096096,    0.097097,    0.098098,    0.099099,      0.1001,      0.1011,      0.1021,      0.1031,      0.1041,     0.10511,     0.10611,     0.10711,     0.10811,     0.10911,     0.11011,     0.11111,     0.11211,     0.11311,     0.11411,     0.11512,     0.11612,     0.11712,     0.11812,     0.11912,\n",
              "           0.12012,     0.12112,     0.12212,     0.12312,     0.12412,     0.12513,     0.12613,     0.12713,     0.12813,     0.12913,     0.13013,     0.13113,     0.13213,     0.13313,     0.13413,     0.13514,     0.13614,     0.13714,     0.13814,     0.13914,     0.14014,     0.14114,     0.14214,     0.14314,\n",
              "           0.14414,     0.14515,     0.14615,     0.14715,     0.14815,     0.14915,     0.15015,     0.15115,     0.15215,     0.15315,     0.15415,     0.15516,     0.15616,     0.15716,     0.15816,     0.15916,     0.16016,     0.16116,     0.16216,     0.16316,     0.16416,     0.16517,     0.16617,     0.16717,\n",
              "           0.16817,     0.16917,     0.17017,     0.17117,     0.17217,     0.17317,     0.17417,     0.17518,     0.17618,     0.17718,     0.17818,     0.17918,     0.18018,     0.18118,     0.18218,     0.18318,     0.18418,     0.18519,     0.18619,     0.18719,     0.18819,     0.18919,     0.19019,     0.19119,\n",
              "           0.19219,     0.19319,     0.19419,      0.1952,      0.1962,      0.1972,      0.1982,      0.1992,      0.2002,      0.2012,      0.2022,      0.2032,      0.2042,     0.20521,     0.20621,     0.20721,     0.20821,     0.20921,     0.21021,     0.21121,     0.21221,     0.21321,     0.21421,     0.21522,\n",
              "           0.21622,     0.21722,     0.21822,     0.21922,     0.22022,     0.22122,     0.22222,     0.22322,     0.22422,     0.22523,     0.22623,     0.22723,     0.22823,     0.22923,     0.23023,     0.23123,     0.23223,     0.23323,     0.23423,     0.23524,     0.23624,     0.23724,     0.23824,     0.23924,\n",
              "           0.24024,     0.24124,     0.24224,     0.24324,     0.24424,     0.24525,     0.24625,     0.24725,     0.24825,     0.24925,     0.25025,     0.25125,     0.25225,     0.25325,     0.25425,     0.25526,     0.25626,     0.25726,     0.25826,     0.25926,     0.26026,     0.26126,     0.26226,     0.26326,\n",
              "           0.26426,     0.26527,     0.26627,     0.26727,     0.26827,     0.26927,     0.27027,     0.27127,     0.27227,     0.27327,     0.27427,     0.27528,     0.27628,     0.27728,     0.27828,     0.27928,     0.28028,     0.28128,     0.28228,     0.28328,     0.28428,     0.28529,     0.28629,     0.28729,\n",
              "           0.28829,     0.28929,     0.29029,     0.29129,     0.29229,     0.29329,     0.29429,      0.2953,      0.2963,      0.2973,      0.2983,      0.2993,      0.3003,      0.3013,      0.3023,      0.3033,      0.3043,     0.30531,     0.30631,     0.30731,     0.30831,     0.30931,     0.31031,     0.31131,\n",
              "           0.31231,     0.31331,     0.31431,     0.31532,     0.31632,     0.31732,     0.31832,     0.31932,     0.32032,     0.32132,     0.32232,     0.32332,     0.32432,     0.32533,     0.32633,     0.32733,     0.32833,     0.32933,     0.33033,     0.33133,     0.33233,     0.33333,     0.33433,     0.33534,\n",
              "           0.33634,     0.33734,     0.33834,     0.33934,     0.34034,     0.34134,     0.34234,     0.34334,     0.34434,     0.34535,     0.34635,     0.34735,     0.34835,     0.34935,     0.35035,     0.35135,     0.35235,     0.35335,     0.35435,     0.35536,     0.35636,     0.35736,     0.35836,     0.35936,\n",
              "           0.36036,     0.36136,     0.36236,     0.36336,     0.36436,     0.36537,     0.36637,     0.36737,     0.36837,     0.36937,     0.37037,     0.37137,     0.37237,     0.37337,     0.37437,     0.37538,     0.37638,     0.37738,     0.37838,     0.37938,     0.38038,     0.38138,     0.38238,     0.38338,\n",
              "           0.38438,     0.38539,     0.38639,     0.38739,     0.38839,     0.38939,     0.39039,     0.39139,     0.39239,     0.39339,     0.39439,      0.3954,      0.3964,      0.3974,      0.3984,      0.3994,      0.4004,      0.4014,      0.4024,      0.4034,      0.4044,     0.40541,     0.40641,     0.40741,\n",
              "           0.40841,     0.40941,     0.41041,     0.41141,     0.41241,     0.41341,     0.41441,     0.41542,     0.41642,     0.41742,     0.41842,     0.41942,     0.42042,     0.42142,     0.42242,     0.42342,     0.42442,     0.42543,     0.42643,     0.42743,     0.42843,     0.42943,     0.43043,     0.43143,\n",
              "           0.43243,     0.43343,     0.43443,     0.43544,     0.43644,     0.43744,     0.43844,     0.43944,     0.44044,     0.44144,     0.44244,     0.44344,     0.44444,     0.44545,     0.44645,     0.44745,     0.44845,     0.44945,     0.45045,     0.45145,     0.45245,     0.45345,     0.45445,     0.45546,\n",
              "           0.45646,     0.45746,     0.45846,     0.45946,     0.46046,     0.46146,     0.46246,     0.46346,     0.46446,     0.46547,     0.46647,     0.46747,     0.46847,     0.46947,     0.47047,     0.47147,     0.47247,     0.47347,     0.47447,     0.47548,     0.47648,     0.47748,     0.47848,     0.47948,\n",
              "           0.48048,     0.48148,     0.48248,     0.48348,     0.48448,     0.48549,     0.48649,     0.48749,     0.48849,     0.48949,     0.49049,     0.49149,     0.49249,     0.49349,     0.49449,      0.4955,      0.4965,      0.4975,      0.4985,      0.4995,      0.5005,      0.5015,      0.5025,      0.5035,\n",
              "            0.5045,     0.50551,     0.50651,     0.50751,     0.50851,     0.50951,     0.51051,     0.51151,     0.51251,     0.51351,     0.51451,     0.51552,     0.51652,     0.51752,     0.51852,     0.51952,     0.52052,     0.52152,     0.52252,     0.52352,     0.52452,     0.52553,     0.52653,     0.52753,\n",
              "           0.52853,     0.52953,     0.53053,     0.53153,     0.53253,     0.53353,     0.53453,     0.53554,     0.53654,     0.53754,     0.53854,     0.53954,     0.54054,     0.54154,     0.54254,     0.54354,     0.54454,     0.54555,     0.54655,     0.54755,     0.54855,     0.54955,     0.55055,     0.55155,\n",
              "           0.55255,     0.55355,     0.55455,     0.55556,     0.55656,     0.55756,     0.55856,     0.55956,     0.56056,     0.56156,     0.56256,     0.56356,     0.56456,     0.56557,     0.56657,     0.56757,     0.56857,     0.56957,     0.57057,     0.57157,     0.57257,     0.57357,     0.57457,     0.57558,\n",
              "           0.57658,     0.57758,     0.57858,     0.57958,     0.58058,     0.58158,     0.58258,     0.58358,     0.58458,     0.58559,     0.58659,     0.58759,     0.58859,     0.58959,     0.59059,     0.59159,     0.59259,     0.59359,     0.59459,      0.5956,      0.5966,      0.5976,      0.5986,      0.5996,\n",
              "            0.6006,      0.6016,      0.6026,      0.6036,      0.6046,     0.60561,     0.60661,     0.60761,     0.60861,     0.60961,     0.61061,     0.61161,     0.61261,     0.61361,     0.61461,     0.61562,     0.61662,     0.61762,     0.61862,     0.61962,     0.62062,     0.62162,     0.62262,     0.62362,\n",
              "           0.62462,     0.62563,     0.62663,     0.62763,     0.62863,     0.62963,     0.63063,     0.63163,     0.63263,     0.63363,     0.63463,     0.63564,     0.63664,     0.63764,     0.63864,     0.63964,     0.64064,     0.64164,     0.64264,     0.64364,     0.64464,     0.64565,     0.64665,     0.64765,\n",
              "           0.64865,     0.64965,     0.65065,     0.65165,     0.65265,     0.65365,     0.65465,     0.65566,     0.65666,     0.65766,     0.65866,     0.65966,     0.66066,     0.66166,     0.66266,     0.66366,     0.66466,     0.66567,     0.66667,     0.66767,     0.66867,     0.66967,     0.67067,     0.67167,\n",
              "           0.67267,     0.67367,     0.67467,     0.67568,     0.67668,     0.67768,     0.67868,     0.67968,     0.68068,     0.68168,     0.68268,     0.68368,     0.68468,     0.68569,     0.68669,     0.68769,     0.68869,     0.68969,     0.69069,     0.69169,     0.69269,     0.69369,     0.69469,      0.6957,\n",
              "            0.6967,      0.6977,      0.6987,      0.6997,      0.7007,      0.7017,      0.7027,      0.7037,      0.7047,     0.70571,     0.70671,     0.70771,     0.70871,     0.70971,     0.71071,     0.71171,     0.71271,     0.71371,     0.71471,     0.71572,     0.71672,     0.71772,     0.71872,     0.71972,\n",
              "           0.72072,     0.72172,     0.72272,     0.72372,     0.72472,     0.72573,     0.72673,     0.72773,     0.72873,     0.72973,     0.73073,     0.73173,     0.73273,     0.73373,     0.73473,     0.73574,     0.73674,     0.73774,     0.73874,     0.73974,     0.74074,     0.74174,     0.74274,     0.74374,\n",
              "           0.74474,     0.74575,     0.74675,     0.74775,     0.74875,     0.74975,     0.75075,     0.75175,     0.75275,     0.75375,     0.75475,     0.75576,     0.75676,     0.75776,     0.75876,     0.75976,     0.76076,     0.76176,     0.76276,     0.76376,     0.76476,     0.76577,     0.76677,     0.76777,\n",
              "           0.76877,     0.76977,     0.77077,     0.77177,     0.77277,     0.77377,     0.77477,     0.77578,     0.77678,     0.77778,     0.77878,     0.77978,     0.78078,     0.78178,     0.78278,     0.78378,     0.78478,     0.78579,     0.78679,     0.78779,     0.78879,     0.78979,     0.79079,     0.79179,\n",
              "           0.79279,     0.79379,     0.79479,      0.7958,      0.7968,      0.7978,      0.7988,      0.7998,      0.8008,      0.8018,      0.8028,      0.8038,      0.8048,     0.80581,     0.80681,     0.80781,     0.80881,     0.80981,     0.81081,     0.81181,     0.81281,     0.81381,     0.81481,     0.81582,\n",
              "           0.81682,     0.81782,     0.81882,     0.81982,     0.82082,     0.82182,     0.82282,     0.82382,     0.82482,     0.82583,     0.82683,     0.82783,     0.82883,     0.82983,     0.83083,     0.83183,     0.83283,     0.83383,     0.83483,     0.83584,     0.83684,     0.83784,     0.83884,     0.83984,\n",
              "           0.84084,     0.84184,     0.84284,     0.84384,     0.84484,     0.84585,     0.84685,     0.84785,     0.84885,     0.84985,     0.85085,     0.85185,     0.85285,     0.85385,     0.85485,     0.85586,     0.85686,     0.85786,     0.85886,     0.85986,     0.86086,     0.86186,     0.86286,     0.86386,\n",
              "           0.86486,     0.86587,     0.86687,     0.86787,     0.86887,     0.86987,     0.87087,     0.87187,     0.87287,     0.87387,     0.87487,     0.87588,     0.87688,     0.87788,     0.87888,     0.87988,     0.88088,     0.88188,     0.88288,     0.88388,     0.88488,     0.88589,     0.88689,     0.88789,\n",
              "           0.88889,     0.88989,     0.89089,     0.89189,     0.89289,     0.89389,     0.89489,      0.8959,      0.8969,      0.8979,      0.8989,      0.8999,      0.9009,      0.9019,      0.9029,      0.9039,      0.9049,     0.90591,     0.90691,     0.90791,     0.90891,     0.90991,     0.91091,     0.91191,\n",
              "           0.91291,     0.91391,     0.91491,     0.91592,     0.91692,     0.91792,     0.91892,     0.91992,     0.92092,     0.92192,     0.92292,     0.92392,     0.92492,     0.92593,     0.92693,     0.92793,     0.92893,     0.92993,     0.93093,     0.93193,     0.93293,     0.93393,     0.93493,     0.93594,\n",
              "           0.93694,     0.93794,     0.93894,     0.93994,     0.94094,     0.94194,     0.94294,     0.94394,     0.94494,     0.94595,     0.94695,     0.94795,     0.94895,     0.94995,     0.95095,     0.95195,     0.95295,     0.95395,     0.95495,     0.95596,     0.95696,     0.95796,     0.95896,     0.95996,\n",
              "           0.96096,     0.96196,     0.96296,     0.96396,     0.96496,     0.96597,     0.96697,     0.96797,     0.96897,     0.96997,     0.97097,     0.97197,     0.97297,     0.97397,     0.97497,     0.97598,     0.97698,     0.97798,     0.97898,     0.97998,     0.98098,     0.98198,     0.98298,     0.98398,\n",
              "           0.98498,     0.98599,     0.98699,     0.98799,     0.98899,     0.98999,     0.99099,     0.99199,     0.99299,     0.99399,     0.99499,       0.996,       0.997,       0.998,       0.999,           1]), array([[   0.097573,    0.097573,     0.13442,     0.15815,     0.17463,     0.19167,     0.20865,     0.22233,     0.23576,     0.24861,     0.25942,     0.27077,     0.27792,     0.28817,     0.29839,     0.30795,     0.31459,     0.32079,     0.32784,     0.33494,     0.33998,     0.34446,     0.34902,\n",
              "            0.35434,      0.3614,     0.36672,     0.36927,      0.3738,     0.38192,     0.38692,     0.38978,     0.39626,     0.40364,     0.40675,     0.40735,     0.40813,      0.4145,     0.41823,      0.4239,     0.42738,     0.42736,     0.42929,     0.43233,      0.4388,     0.44239,      0.4457,\n",
              "            0.44816,     0.44848,     0.45023,     0.45215,     0.45304,     0.45451,     0.45836,     0.45871,     0.45836,     0.45953,     0.46035,     0.46248,     0.46307,      0.4634,     0.46593,     0.47086,     0.47192,     0.47292,     0.47388,     0.47919,      0.4796,     0.48091,     0.47949,\n",
              "            0.48451,     0.48766,     0.48946,     0.49162,       0.493,     0.49558,     0.49598,     0.49866,     0.49981,     0.50313,     0.50527,     0.50784,     0.50983,     0.51182,     0.50954,     0.51009,     0.51193,     0.51088,     0.51486,     0.51659,     0.51534,     0.51857,     0.52005,\n",
              "            0.52223,     0.52336,     0.52236,     0.52287,     0.52343,     0.52583,      0.5267,      0.5291,     0.53045,      0.5325,     0.53665,     0.53934,     0.54122,     0.54158,     0.54195,     0.53958,     0.54164,     0.54273,     0.54374,     0.54442,     0.54618,       0.547,       0.548,\n",
              "            0.54646,      0.5469,     0.54734,     0.54907,        0.55,     0.54801,     0.54843,     0.54962,     0.55121,     0.54952,     0.55042,     0.55088,     0.55189,     0.55427,     0.55345,     0.55394,     0.55496,     0.56101,     0.56325,      0.5618,     0.56128,     0.56297,     0.56338,\n",
              "            0.56379,     0.56468,     0.56585,     0.57008,     0.57135,     0.57245,     0.57465,      0.5754,     0.57634,     0.57807,     0.57937,     0.57993,     0.58085,     0.58175,      0.5827,     0.58382,     0.58439,     0.58396,      0.5829,     0.58194,     0.58297,     0.58525,     0.58629,\n",
              "            0.58944,     0.59193,     0.59392,     0.59473,      0.5959,     0.59786,     0.59629,     0.59478,     0.59203,     0.59161,     0.59348,     0.59467,     0.59522,     0.59595,     0.59816,     0.59887,     0.60095,     0.60186,     0.60257,     0.60441,     0.60494,     0.60482,     0.60315,\n",
              "            0.60366,     0.60639,     0.60693,     0.60755,     0.60889,     0.60932,     0.60975,     0.61103,     0.61441,     0.61652,     0.61798,     0.61869,     0.62071,     0.62143,     0.61846,     0.61605,     0.61756,     0.62012,     0.62085,     0.62233,     0.62247,     0.62261,     0.62275,\n",
              "            0.62288,     0.62302,     0.62316,      0.6233,     0.62344,     0.62358,     0.62381,     0.62415,      0.6245,     0.62484,      0.6262,     0.62382,     0.62533,     0.62655,     0.62767,     0.62808,      0.6285,     0.63031,      0.6308,     0.63129,     0.63342,     0.63289,     0.63451,\n",
              "            0.63555,     0.63501,     0.63447,     0.63393,     0.63339,     0.63284,     0.63293,     0.63396,     0.63461,     0.63526,     0.63681,     0.63709,     0.63738,     0.63767,     0.63795,     0.63833,     0.63931,     0.63829,     0.63586,     0.63609,     0.63677,     0.63725,     0.63772,\n",
              "            0.63862,     0.64143,     0.64251,     0.64302,     0.64352,     0.64438,     0.64711,     0.64916,     0.64995,     0.65034,     0.65072,     0.65111,     0.64828,     0.65036,     0.65127,      0.6516,     0.65193,     0.65226,     0.64943,     0.64991,     0.65039,     0.65088,     0.65155,\n",
              "            0.65225,     0.65161,      0.6503,     0.64632,     0.64737,     0.64661,     0.64529,     0.64468,     0.64559,     0.64572,     0.64538,     0.64504,      0.6447,     0.64436,     0.64402,     0.64368,     0.64333,     0.64299,     0.64291,     0.64453,     0.64271,      0.6432,     0.64369,\n",
              "             0.6441,     0.64425,     0.64439,     0.64454,     0.64468,     0.64483,     0.64498,     0.64512,     0.64527,     0.64541,     0.64556,     0.64609,     0.64701,     0.64883,     0.64976,     0.65128,     0.64934,     0.64888,     0.64925,     0.64961,     0.64997,     0.65034,     0.65073,\n",
              "            0.65112,     0.65151,     0.65203,     0.65017,     0.65057,     0.65096,     0.65135,     0.65173,     0.64981,     0.64843,     0.64862,      0.6488,     0.64899,     0.64917,     0.64935,     0.64954,     0.64972,     0.64991,     0.65024,     0.65072,     0.65119,     0.65155,     0.65063,\n",
              "             0.6497,     0.64878,     0.64865,      0.6496,      0.6502,     0.65065,     0.65109,     0.65146,     0.65046,     0.64946,     0.64846,     0.64728,       0.646,     0.64472,     0.64297,     0.64123,     0.64219,     0.64293,     0.64315,     0.64338,      0.6436,     0.64383,     0.64405,\n",
              "            0.64427,      0.6445,      0.6425,     0.64115,      0.6416,     0.64205,      0.6425,     0.64046,     0.63957,     0.64019,      0.6408,     0.63736,     0.63992,     0.63841,     0.63719,     0.63596,     0.63539,     0.63601,     0.63664,     0.63619,      0.6352,     0.63422,     0.63325,\n",
              "            0.63342,      0.6336,     0.63378,     0.63395,     0.63413,     0.63431,     0.63448,     0.63466,     0.63483,     0.63607,     0.63788,     0.63733,     0.63677,     0.63622,     0.63567,     0.63512,      0.6364,      0.6366,      0.6368,       0.637,      0.6372,      0.6374,      0.6376,\n",
              "             0.6378,       0.638,     0.63782,     0.63744,     0.63705,     0.63667,     0.63628,      0.6359,     0.63551,     0.63513,     0.63474,     0.63416,     0.63227,     0.63083,     0.63142,       0.632,     0.63404,      0.6336,     0.63317,     0.63273,      0.6323,     0.63186,     0.63143,\n",
              "            0.63099,     0.63056,     0.63086,     0.63144,     0.63203,      0.6325,     0.63295,     0.63339,     0.63383,     0.63339,     0.63285,      0.6323,     0.63175,      0.6312,     0.63065,     0.62787,     0.62424,     0.62342,      0.6226,     0.62177,     0.62095,     0.61706,     0.61794,\n",
              "            0.61927,      0.6199,     0.61951,     0.61911,     0.61872,     0.61832,     0.61793,     0.61753,     0.61713,     0.61674,     0.61634,     0.61644,      0.6167,     0.61695,      0.6172,     0.61746,     0.61771,     0.61796,     0.61965,     0.61991,     0.62011,     0.62031,     0.62051,\n",
              "            0.62071,     0.62091,     0.62111,     0.62131,     0.61773,     0.61863,     0.61839,     0.61435,     0.61309,     0.61278,     0.61247,     0.61215,     0.61184,     0.61152,     0.61121,      0.6109,     0.61058,     0.61027,     0.60995,     0.60964,     0.60932,     0.60674,     0.60455,\n",
              "            0.60351,     0.60248,     0.60145,     0.60056,     0.59973,      0.5989,     0.59807,     0.59723,     0.59723,     0.59738,     0.59752,     0.59767,     0.59782,     0.59797,     0.59812,     0.59827,     0.59841,     0.59856,     0.59871,     0.59877,     0.59831,     0.59785,     0.59738,\n",
              "            0.59692,     0.59645,     0.59598,     0.59552,     0.59505,     0.59454,     0.59394,     0.59334,     0.59274,     0.59213,     0.59153,     0.59093,      0.5902,     0.58935,     0.58851,     0.58766,     0.58681,     0.58766,     0.58766,     0.58681,     0.58596,      0.5851,     0.58425,\n",
              "            0.58066,     0.57871,     0.57727,     0.57582,     0.57188,     0.57238,     0.57287,     0.57323,     0.57342,     0.57362,     0.57382,     0.57401,     0.57421,      0.5744,      0.5746,     0.57479,     0.57409,     0.57299,     0.57189,      0.5708,     0.56707,     0.56263,     0.55817,\n",
              "            0.55808,     0.55866,     0.55924,     0.55992,     0.55879,     0.55766,     0.55671,     0.55578,     0.54948,     0.54966,     0.54983,     0.55001,     0.55018,     0.55036,     0.55053,     0.55071,     0.55088,     0.55105,     0.54983,     0.54829,     0.54675,     0.54721,     0.54791,\n",
              "            0.54618,     0.54152,       0.538,     0.53565,     0.53198,     0.53264,     0.53238,     0.53078,     0.52919,     0.53051,     0.53139,      0.5319,     0.53126,     0.53061,     0.52997,     0.52932,     0.52868,     0.52803,     0.52738,     0.52034,     0.51788,     0.51724,     0.51666,\n",
              "            0.51608,      0.5155,     0.51492,     0.51434,     0.51376,     0.51318,     0.51132,     0.50883,     0.50774,     0.50719,     0.50663,     0.50608,     0.50552,     0.50497,     0.50441,     0.50386,      0.5033,     0.49395,     0.49451,     0.49504,     0.49469,     0.49434,     0.49399,\n",
              "            0.49364,     0.49329,     0.49293,     0.49258,     0.49223,     0.49188,     0.49152,     0.49117,     0.49082,     0.49047,     0.49011,     0.49039,     0.49076,     0.49113,      0.4915,      0.4918,     0.49203,     0.49225,     0.49248,      0.4927,     0.49292,     0.49315,     0.49317,\n",
              "            0.49214,      0.4911,     0.49007,     0.48904,     0.48263,     0.48054,     0.47844,     0.47366,     0.47195,     0.47077,     0.46959,     0.46841,     0.46723,     0.46604,     0.46486,     0.46367,     0.46162,     0.45675,     0.45576,     0.45478,     0.45379,     0.45281,     0.44948,\n",
              "            0.44556,       0.444,     0.44243,     0.44064,     0.43843,     0.43622,     0.42944,      0.4282,     0.42695,     0.42571,     0.42648,     0.42099,     0.41957,     0.41815,     0.41672,     0.40909,     0.40442,      0.4054,     0.39795,     0.39501,     0.38921,     0.38941,      0.3877,\n",
              "            0.38599,     0.38428,     0.38325,     0.38233,      0.3814,     0.38048,     0.37955,     0.37862,     0.37795,     0.37752,     0.37709,     0.37666,     0.37622,     0.37579,     0.37536,     0.37492,     0.37449,     0.37406,     0.37362,     0.37319,     0.37275,     0.37232,      0.3585,\n",
              "            0.35643,     0.35436,      0.3534,     0.35251,     0.35162,     0.35073,     0.34983,     0.34894,     0.34786,     0.34534,     0.34282,     0.34231,     0.34274,     0.34318,     0.34139,     0.33782,     0.33599,     0.33415,     0.33231,     0.32643,     0.30704,     0.29949,     0.29893,\n",
              "            0.29837,     0.29781,     0.29725,     0.29669,     0.29613,     0.29556,       0.295,     0.29444,     0.29388,     0.29336,     0.29298,     0.29261,     0.29223,     0.29185,     0.29148,      0.2911,     0.29073,     0.29035,     0.28997,      0.2896,     0.28922,     0.28884,     0.28846,\n",
              "            0.28809,     0.28771,     0.28733,     0.28695,     0.28504,     0.28231,     0.27957,     0.27682,     0.27406,     0.27165,     0.26934,     0.26702,     0.26498,     0.26298,     0.26098,     0.25781,      0.2531,     0.24526,     0.24447,     0.24367,     0.24288,     0.24208,     0.24129,\n",
              "            0.24049,     0.23969,     0.23767,     0.23096,     0.22611,     0.22368,     0.22205,     0.22042,     0.21879,     0.21763,     0.21731,     0.21699,     0.21666,     0.21634,     0.21602,      0.2157,     0.21538,     0.21506,     0.21474,     0.21442,      0.2141,     0.21377,     0.21345,\n",
              "            0.21313,     0.21281,     0.21249,     0.21216,     0.21184,     0.21152,      0.2112,     0.21087,     0.21055,     0.20219,     0.20103,     0.19988,     0.19872,     0.19756,      0.1964,     0.19152,     0.18668,     0.18362,     0.18084,     0.17944,     0.17804,     0.17664,     0.17524,\n",
              "            0.17383,     0.17278,     0.17181,     0.17084,     0.16987,      0.1689,     0.16793,     0.16695,     0.16598,      0.1653,     0.16462,     0.16394,     0.16326,     0.16258,      0.1619,     0.16122,     0.16053,     0.15985,     0.15917,     0.15849,     0.15786,     0.15726,     0.15665,\n",
              "            0.15605,     0.15544,     0.15483,     0.15422,     0.15362,     0.15301,      0.1524,     0.15179,     0.15118,     0.15048,     0.14889,      0.1473,     0.14571,     0.14411,      0.1417,     0.13635,     0.13096,     0.11438,     0.10963,     0.10779,     0.10594,     0.10409,     0.10128,\n",
              "           0.097094,    0.094051,    0.092365,    0.090676,    0.088983,    0.087288,    0.083274,    0.078056,    0.076341,    0.074623,    0.072902,    0.071178,    0.069637,    0.068676,    0.067715,    0.066752,    0.065789,    0.064824,    0.063859,    0.062892,    0.061925,    0.053327,    0.050414,\n",
              "           0.047893,    0.045365,    0.041765,    0.037308,    0.033377,    0.029783,    0.025259,    0.017777,    0.016948,    0.016119,    0.015289,    0.014458,    0.013627,    0.012794,    0.011961,    0.011128,    0.010294,   0.0094586,           0,           0,           0,           0,           0,\n",
              "                  0,           0,           0,           0,           0,           0,           0,           0,           0,           0,           0,           0,           0,           0,           0,           0,           0,           0,           0,           0,           0,           0,           0,\n",
              "                  0,           0,           0,           0,           0,           0,           0,           0,           0,           0,           0,           0,           0,           0,           0,           0,           0,           0,           0,           0,           0,           0,           0,\n",
              "                  0,           0,           0,           0,           0,           0,           0,           0,           0,           0,           0]]), 'Confidence', 'F1'], [array([          0,    0.001001,    0.002002,    0.003003,    0.004004,    0.005005,    0.006006,    0.007007,    0.008008,    0.009009,     0.01001,    0.011011,    0.012012,    0.013013,    0.014014,    0.015015,    0.016016,    0.017017,    0.018018,    0.019019,     0.02002,    0.021021,    0.022022,    0.023023,\n",
              "          0.024024,    0.025025,    0.026026,    0.027027,    0.028028,    0.029029,     0.03003,    0.031031,    0.032032,    0.033033,    0.034034,    0.035035,    0.036036,    0.037037,    0.038038,    0.039039,     0.04004,    0.041041,    0.042042,    0.043043,    0.044044,    0.045045,    0.046046,    0.047047,\n",
              "          0.048048,    0.049049,     0.05005,    0.051051,    0.052052,    0.053053,    0.054054,    0.055055,    0.056056,    0.057057,    0.058058,    0.059059,     0.06006,    0.061061,    0.062062,    0.063063,    0.064064,    0.065065,    0.066066,    0.067067,    0.068068,    0.069069,     0.07007,    0.071071,\n",
              "          0.072072,    0.073073,    0.074074,    0.075075,    0.076076,    0.077077,    0.078078,    0.079079,     0.08008,    0.081081,    0.082082,    0.083083,    0.084084,    0.085085,    0.086086,    0.087087,    0.088088,    0.089089,     0.09009,    0.091091,    0.092092,    0.093093,    0.094094,    0.095095,\n",
              "          0.096096,    0.097097,    0.098098,    0.099099,      0.1001,      0.1011,      0.1021,      0.1031,      0.1041,     0.10511,     0.10611,     0.10711,     0.10811,     0.10911,     0.11011,     0.11111,     0.11211,     0.11311,     0.11411,     0.11512,     0.11612,     0.11712,     0.11812,     0.11912,\n",
              "           0.12012,     0.12112,     0.12212,     0.12312,     0.12412,     0.12513,     0.12613,     0.12713,     0.12813,     0.12913,     0.13013,     0.13113,     0.13213,     0.13313,     0.13413,     0.13514,     0.13614,     0.13714,     0.13814,     0.13914,     0.14014,     0.14114,     0.14214,     0.14314,\n",
              "           0.14414,     0.14515,     0.14615,     0.14715,     0.14815,     0.14915,     0.15015,     0.15115,     0.15215,     0.15315,     0.15415,     0.15516,     0.15616,     0.15716,     0.15816,     0.15916,     0.16016,     0.16116,     0.16216,     0.16316,     0.16416,     0.16517,     0.16617,     0.16717,\n",
              "           0.16817,     0.16917,     0.17017,     0.17117,     0.17217,     0.17317,     0.17417,     0.17518,     0.17618,     0.17718,     0.17818,     0.17918,     0.18018,     0.18118,     0.18218,     0.18318,     0.18418,     0.18519,     0.18619,     0.18719,     0.18819,     0.18919,     0.19019,     0.19119,\n",
              "           0.19219,     0.19319,     0.19419,      0.1952,      0.1962,      0.1972,      0.1982,      0.1992,      0.2002,      0.2012,      0.2022,      0.2032,      0.2042,     0.20521,     0.20621,     0.20721,     0.20821,     0.20921,     0.21021,     0.21121,     0.21221,     0.21321,     0.21421,     0.21522,\n",
              "           0.21622,     0.21722,     0.21822,     0.21922,     0.22022,     0.22122,     0.22222,     0.22322,     0.22422,     0.22523,     0.22623,     0.22723,     0.22823,     0.22923,     0.23023,     0.23123,     0.23223,     0.23323,     0.23423,     0.23524,     0.23624,     0.23724,     0.23824,     0.23924,\n",
              "           0.24024,     0.24124,     0.24224,     0.24324,     0.24424,     0.24525,     0.24625,     0.24725,     0.24825,     0.24925,     0.25025,     0.25125,     0.25225,     0.25325,     0.25425,     0.25526,     0.25626,     0.25726,     0.25826,     0.25926,     0.26026,     0.26126,     0.26226,     0.26326,\n",
              "           0.26426,     0.26527,     0.26627,     0.26727,     0.26827,     0.26927,     0.27027,     0.27127,     0.27227,     0.27327,     0.27427,     0.27528,     0.27628,     0.27728,     0.27828,     0.27928,     0.28028,     0.28128,     0.28228,     0.28328,     0.28428,     0.28529,     0.28629,     0.28729,\n",
              "           0.28829,     0.28929,     0.29029,     0.29129,     0.29229,     0.29329,     0.29429,      0.2953,      0.2963,      0.2973,      0.2983,      0.2993,      0.3003,      0.3013,      0.3023,      0.3033,      0.3043,     0.30531,     0.30631,     0.30731,     0.30831,     0.30931,     0.31031,     0.31131,\n",
              "           0.31231,     0.31331,     0.31431,     0.31532,     0.31632,     0.31732,     0.31832,     0.31932,     0.32032,     0.32132,     0.32232,     0.32332,     0.32432,     0.32533,     0.32633,     0.32733,     0.32833,     0.32933,     0.33033,     0.33133,     0.33233,     0.33333,     0.33433,     0.33534,\n",
              "           0.33634,     0.33734,     0.33834,     0.33934,     0.34034,     0.34134,     0.34234,     0.34334,     0.34434,     0.34535,     0.34635,     0.34735,     0.34835,     0.34935,     0.35035,     0.35135,     0.35235,     0.35335,     0.35435,     0.35536,     0.35636,     0.35736,     0.35836,     0.35936,\n",
              "           0.36036,     0.36136,     0.36236,     0.36336,     0.36436,     0.36537,     0.36637,     0.36737,     0.36837,     0.36937,     0.37037,     0.37137,     0.37237,     0.37337,     0.37437,     0.37538,     0.37638,     0.37738,     0.37838,     0.37938,     0.38038,     0.38138,     0.38238,     0.38338,\n",
              "           0.38438,     0.38539,     0.38639,     0.38739,     0.38839,     0.38939,     0.39039,     0.39139,     0.39239,     0.39339,     0.39439,      0.3954,      0.3964,      0.3974,      0.3984,      0.3994,      0.4004,      0.4014,      0.4024,      0.4034,      0.4044,     0.40541,     0.40641,     0.40741,\n",
              "           0.40841,     0.40941,     0.41041,     0.41141,     0.41241,     0.41341,     0.41441,     0.41542,     0.41642,     0.41742,     0.41842,     0.41942,     0.42042,     0.42142,     0.42242,     0.42342,     0.42442,     0.42543,     0.42643,     0.42743,     0.42843,     0.42943,     0.43043,     0.43143,\n",
              "           0.43243,     0.43343,     0.43443,     0.43544,     0.43644,     0.43744,     0.43844,     0.43944,     0.44044,     0.44144,     0.44244,     0.44344,     0.44444,     0.44545,     0.44645,     0.44745,     0.44845,     0.44945,     0.45045,     0.45145,     0.45245,     0.45345,     0.45445,     0.45546,\n",
              "           0.45646,     0.45746,     0.45846,     0.45946,     0.46046,     0.46146,     0.46246,     0.46346,     0.46446,     0.46547,     0.46647,     0.46747,     0.46847,     0.46947,     0.47047,     0.47147,     0.47247,     0.47347,     0.47447,     0.47548,     0.47648,     0.47748,     0.47848,     0.47948,\n",
              "           0.48048,     0.48148,     0.48248,     0.48348,     0.48448,     0.48549,     0.48649,     0.48749,     0.48849,     0.48949,     0.49049,     0.49149,     0.49249,     0.49349,     0.49449,      0.4955,      0.4965,      0.4975,      0.4985,      0.4995,      0.5005,      0.5015,      0.5025,      0.5035,\n",
              "            0.5045,     0.50551,     0.50651,     0.50751,     0.50851,     0.50951,     0.51051,     0.51151,     0.51251,     0.51351,     0.51451,     0.51552,     0.51652,     0.51752,     0.51852,     0.51952,     0.52052,     0.52152,     0.52252,     0.52352,     0.52452,     0.52553,     0.52653,     0.52753,\n",
              "           0.52853,     0.52953,     0.53053,     0.53153,     0.53253,     0.53353,     0.53453,     0.53554,     0.53654,     0.53754,     0.53854,     0.53954,     0.54054,     0.54154,     0.54254,     0.54354,     0.54454,     0.54555,     0.54655,     0.54755,     0.54855,     0.54955,     0.55055,     0.55155,\n",
              "           0.55255,     0.55355,     0.55455,     0.55556,     0.55656,     0.55756,     0.55856,     0.55956,     0.56056,     0.56156,     0.56256,     0.56356,     0.56456,     0.56557,     0.56657,     0.56757,     0.56857,     0.56957,     0.57057,     0.57157,     0.57257,     0.57357,     0.57457,     0.57558,\n",
              "           0.57658,     0.57758,     0.57858,     0.57958,     0.58058,     0.58158,     0.58258,     0.58358,     0.58458,     0.58559,     0.58659,     0.58759,     0.58859,     0.58959,     0.59059,     0.59159,     0.59259,     0.59359,     0.59459,      0.5956,      0.5966,      0.5976,      0.5986,      0.5996,\n",
              "            0.6006,      0.6016,      0.6026,      0.6036,      0.6046,     0.60561,     0.60661,     0.60761,     0.60861,     0.60961,     0.61061,     0.61161,     0.61261,     0.61361,     0.61461,     0.61562,     0.61662,     0.61762,     0.61862,     0.61962,     0.62062,     0.62162,     0.62262,     0.62362,\n",
              "           0.62462,     0.62563,     0.62663,     0.62763,     0.62863,     0.62963,     0.63063,     0.63163,     0.63263,     0.63363,     0.63463,     0.63564,     0.63664,     0.63764,     0.63864,     0.63964,     0.64064,     0.64164,     0.64264,     0.64364,     0.64464,     0.64565,     0.64665,     0.64765,\n",
              "           0.64865,     0.64965,     0.65065,     0.65165,     0.65265,     0.65365,     0.65465,     0.65566,     0.65666,     0.65766,     0.65866,     0.65966,     0.66066,     0.66166,     0.66266,     0.66366,     0.66466,     0.66567,     0.66667,     0.66767,     0.66867,     0.66967,     0.67067,     0.67167,\n",
              "           0.67267,     0.67367,     0.67467,     0.67568,     0.67668,     0.67768,     0.67868,     0.67968,     0.68068,     0.68168,     0.68268,     0.68368,     0.68468,     0.68569,     0.68669,     0.68769,     0.68869,     0.68969,     0.69069,     0.69169,     0.69269,     0.69369,     0.69469,      0.6957,\n",
              "            0.6967,      0.6977,      0.6987,      0.6997,      0.7007,      0.7017,      0.7027,      0.7037,      0.7047,     0.70571,     0.70671,     0.70771,     0.70871,     0.70971,     0.71071,     0.71171,     0.71271,     0.71371,     0.71471,     0.71572,     0.71672,     0.71772,     0.71872,     0.71972,\n",
              "           0.72072,     0.72172,     0.72272,     0.72372,     0.72472,     0.72573,     0.72673,     0.72773,     0.72873,     0.72973,     0.73073,     0.73173,     0.73273,     0.73373,     0.73473,     0.73574,     0.73674,     0.73774,     0.73874,     0.73974,     0.74074,     0.74174,     0.74274,     0.74374,\n",
              "           0.74474,     0.74575,     0.74675,     0.74775,     0.74875,     0.74975,     0.75075,     0.75175,     0.75275,     0.75375,     0.75475,     0.75576,     0.75676,     0.75776,     0.75876,     0.75976,     0.76076,     0.76176,     0.76276,     0.76376,     0.76476,     0.76577,     0.76677,     0.76777,\n",
              "           0.76877,     0.76977,     0.77077,     0.77177,     0.77277,     0.77377,     0.77477,     0.77578,     0.77678,     0.77778,     0.77878,     0.77978,     0.78078,     0.78178,     0.78278,     0.78378,     0.78478,     0.78579,     0.78679,     0.78779,     0.78879,     0.78979,     0.79079,     0.79179,\n",
              "           0.79279,     0.79379,     0.79479,      0.7958,      0.7968,      0.7978,      0.7988,      0.7998,      0.8008,      0.8018,      0.8028,      0.8038,      0.8048,     0.80581,     0.80681,     0.80781,     0.80881,     0.80981,     0.81081,     0.81181,     0.81281,     0.81381,     0.81481,     0.81582,\n",
              "           0.81682,     0.81782,     0.81882,     0.81982,     0.82082,     0.82182,     0.82282,     0.82382,     0.82482,     0.82583,     0.82683,     0.82783,     0.82883,     0.82983,     0.83083,     0.83183,     0.83283,     0.83383,     0.83483,     0.83584,     0.83684,     0.83784,     0.83884,     0.83984,\n",
              "           0.84084,     0.84184,     0.84284,     0.84384,     0.84484,     0.84585,     0.84685,     0.84785,     0.84885,     0.84985,     0.85085,     0.85185,     0.85285,     0.85385,     0.85485,     0.85586,     0.85686,     0.85786,     0.85886,     0.85986,     0.86086,     0.86186,     0.86286,     0.86386,\n",
              "           0.86486,     0.86587,     0.86687,     0.86787,     0.86887,     0.86987,     0.87087,     0.87187,     0.87287,     0.87387,     0.87487,     0.87588,     0.87688,     0.87788,     0.87888,     0.87988,     0.88088,     0.88188,     0.88288,     0.88388,     0.88488,     0.88589,     0.88689,     0.88789,\n",
              "           0.88889,     0.88989,     0.89089,     0.89189,     0.89289,     0.89389,     0.89489,      0.8959,      0.8969,      0.8979,      0.8989,      0.8999,      0.9009,      0.9019,      0.9029,      0.9039,      0.9049,     0.90591,     0.90691,     0.90791,     0.90891,     0.90991,     0.91091,     0.91191,\n",
              "           0.91291,     0.91391,     0.91491,     0.91592,     0.91692,     0.91792,     0.91892,     0.91992,     0.92092,     0.92192,     0.92292,     0.92392,     0.92492,     0.92593,     0.92693,     0.92793,     0.92893,     0.92993,     0.93093,     0.93193,     0.93293,     0.93393,     0.93493,     0.93594,\n",
              "           0.93694,     0.93794,     0.93894,     0.93994,     0.94094,     0.94194,     0.94294,     0.94394,     0.94494,     0.94595,     0.94695,     0.94795,     0.94895,     0.94995,     0.95095,     0.95195,     0.95295,     0.95395,     0.95495,     0.95596,     0.95696,     0.95796,     0.95896,     0.95996,\n",
              "           0.96096,     0.96196,     0.96296,     0.96396,     0.96496,     0.96597,     0.96697,     0.96797,     0.96897,     0.96997,     0.97097,     0.97197,     0.97297,     0.97397,     0.97497,     0.97598,     0.97698,     0.97798,     0.97898,     0.97998,     0.98098,     0.98198,     0.98298,     0.98398,\n",
              "           0.98498,     0.98599,     0.98699,     0.98799,     0.98899,     0.98999,     0.99099,     0.99199,     0.99299,     0.99399,     0.99499,       0.996,       0.997,       0.998,       0.999,           1]), array([[   0.051705,    0.051705,    0.072942,    0.087133,    0.097304,     0.10815,     0.11908,     0.12808,     0.13708,     0.14585,     0.15334,     0.16151,     0.16698,     0.17443,      0.1822,     0.18939,     0.19468,     0.19945,     0.20523,     0.21112,     0.21515,     0.21942,     0.22313,\n",
              "            0.22749,     0.23335,      0.2378,     0.24036,     0.24421,     0.25119,     0.25554,     0.25804,     0.26375,     0.27033,     0.27312,      0.2742,     0.27546,      0.2813,     0.28474,     0.29002,      0.2933,     0.29455,     0.29639,      0.2993,     0.30553,     0.30902,     0.31226,\n",
              "            0.31468,     0.31574,     0.31748,     0.31939,     0.32106,     0.32254,     0.32643,      0.3268,     0.32711,     0.32884,     0.33014,     0.33233,     0.33294,     0.33328,     0.33591,     0.34105,      0.3431,     0.34415,     0.34613,     0.35182,     0.35326,     0.35572,     0.35521,\n",
              "            0.36074,     0.36425,     0.36739,     0.36983,     0.37139,     0.37432,     0.37478,     0.37786,     0.37918,       0.383,      0.3855,     0.38849,     0.39083,     0.39317,     0.39178,     0.39243,     0.39461,     0.39471,     0.39947,     0.40156,     0.40144,     0.40538,     0.40719,\n",
              "            0.40987,     0.41127,     0.41152,     0.41215,     0.41285,     0.41584,     0.41693,     0.41995,     0.42165,     0.42425,     0.42953,       0.433,     0.43542,     0.43589,     0.43636,     0.43499,     0.43766,     0.43909,     0.44042,      0.4413,     0.44362,     0.44471,      0.4467,\n",
              "            0.44579,     0.44637,     0.44695,     0.44926,     0.45051,     0.44969,     0.45025,     0.45187,     0.45402,     0.45325,     0.45486,     0.45548,     0.45686,     0.46013,     0.46099,     0.46166,     0.46309,     0.47157,     0.47498,     0.47408,     0.47408,     0.47651,     0.47709,\n",
              "            0.47768,     0.47895,     0.48064,     0.48678,     0.48863,     0.49025,     0.49347,     0.49458,     0.49597,     0.49854,     0.50048,     0.50132,     0.50269,     0.50404,     0.50546,     0.50716,     0.50803,     0.50797,     0.50732,     0.50679,     0.50835,     0.51183,     0.51342,\n",
              "            0.51827,     0.52214,     0.52524,     0.52651,     0.52835,     0.53159,      0.5317,     0.53094,      0.5293,     0.52984,     0.53285,     0.53477,     0.53565,     0.53685,     0.54043,     0.54159,     0.54501,     0.54651,     0.54769,     0.55073,     0.55162,     0.55195,     0.55096,\n",
              "            0.55256,     0.55716,     0.55807,     0.55912,     0.56139,     0.56213,     0.56286,     0.56505,     0.57085,     0.57451,     0.57705,     0.57829,     0.58183,     0.58309,     0.58157,     0.58019,     0.58329,     0.58788,     0.58918,     0.59186,     0.59211,     0.59236,     0.59261,\n",
              "            0.59286,     0.59312,     0.59337,     0.59362,     0.59387,     0.59412,     0.59454,     0.59517,     0.59579,     0.59642,      0.5989,     0.59833,     0.60111,     0.60337,     0.60544,     0.60622,     0.60699,     0.61038,      0.6113,     0.61223,     0.61751,     0.61934,     0.62244,\n",
              "            0.62445,     0.62416,     0.62387,     0.62357,     0.62328,     0.62298,     0.62362,     0.62562,     0.62688,     0.62814,     0.63118,     0.63175,     0.63231,     0.63287,     0.63344,     0.63418,     0.63612,     0.63816,     0.63686,     0.63871,      0.6401,     0.64106,     0.64202,\n",
              "            0.64384,     0.64958,      0.6518,     0.65284,     0.65388,     0.65565,     0.66134,     0.66564,     0.66729,     0.66811,     0.66892,     0.66974,     0.66884,     0.67327,     0.67523,     0.67594,     0.67665,     0.67736,      0.6765,     0.67755,     0.67861,     0.67966,     0.68112,\n",
              "            0.68266,     0.68274,     0.68209,     0.68053,     0.68286,     0.68292,     0.68226,     0.68247,      0.6845,     0.68518,     0.68501,     0.68484,     0.68467,      0.6845,     0.68433,     0.68416,     0.68399,     0.68382,     0.68418,     0.69011,     0.68957,      0.6907,     0.69183,\n",
              "            0.69278,     0.69312,     0.69346,      0.6938,     0.69414,     0.69447,     0.69481,     0.69515,     0.69549,     0.69583,     0.69616,      0.6974,     0.69955,     0.70383,     0.70602,     0.71091,        0.71,     0.71024,     0.71111,     0.71199,     0.71286,     0.71375,     0.71468,\n",
              "            0.71562,     0.71655,     0.71782,      0.7199,     0.72086,     0.72182,     0.72278,     0.72374,     0.72287,     0.72235,     0.72281,     0.72327,     0.72373,     0.72419,     0.72465,     0.72511,     0.72557,     0.72603,     0.72685,     0.72804,     0.72924,      0.7303,     0.72989,\n",
              "            0.72947,     0.72905,     0.72984,     0.73227,     0.73377,     0.73492,     0.73606,     0.73712,     0.73668,     0.73623,     0.73579,     0.73527,      0.7347,     0.73413,     0.73334,     0.73258,     0.73509,     0.73702,     0.73761,     0.73821,      0.7388,     0.73939,     0.73998,\n",
              "            0.74057,     0.74117,     0.74029,     0.73998,     0.74118,     0.74239,     0.74359,     0.74308,     0.74359,     0.74525,     0.74692,     0.74548,     0.75265,     0.75762,      0.7571,     0.75659,     0.75687,     0.75864,     0.76042,     0.76073,     0.76032,      0.7599,      0.7595,\n",
              "            0.76001,     0.76052,     0.76102,     0.76153,     0.76204,     0.76255,     0.76306,     0.76357,     0.76408,     0.76766,     0.77402,      0.7738,     0.77358,     0.77336,     0.77313,     0.77291,     0.77789,     0.77849,     0.77908,     0.77968,     0.78028,     0.78088,     0.78148,\n",
              "            0.78208,     0.78268,      0.7828,     0.78265,      0.7825,     0.78234,     0.78219,     0.78204,     0.78189,     0.78174,     0.78159,     0.78136,     0.78061,     0.78032,     0.78211,      0.7839,      0.7905,     0.79033,     0.79016,        0.79,     0.78983,     0.78966,      0.7895,\n",
              "            0.78933,     0.78916,     0.79044,     0.79229,     0.79414,     0.79563,     0.79704,     0.79844,     0.79984,     0.79982,     0.79962,     0.79941,     0.79921,     0.79901,      0.7988,     0.80273,     0.80139,     0.80109,     0.80078,     0.80047,     0.80017,      0.7999,     0.80286,\n",
              "            0.80735,     0.81014,        0.81,     0.80986,     0.80971,     0.80957,     0.80943,     0.80929,     0.80914,       0.809,     0.80886,      0.8095,     0.81037,     0.81125,     0.81213,     0.81301,     0.81388,     0.81476,     0.82066,     0.82157,     0.82228,     0.82298,     0.82368,\n",
              "            0.82438,     0.82509,     0.82579,     0.82649,     0.82635,     0.82958,     0.83175,     0.83043,     0.83591,     0.83581,     0.83571,      0.8356,      0.8355,      0.8354,      0.8353,      0.8352,     0.83509,     0.83499,     0.83489,     0.83479,     0.83469,     0.83384,     0.83312,\n",
              "            0.83278,     0.83244,      0.8321,      0.8318,     0.83152,     0.83124,     0.83097,     0.83069,     0.83113,     0.83171,     0.83228,     0.83286,     0.83344,     0.83402,     0.83459,     0.83517,     0.83575,     0.83632,      0.8369,     0.83738,     0.83723,     0.83707,     0.83692,\n",
              "            0.83677,     0.83662,     0.83647,     0.83632,     0.83616,       0.836,      0.8358,      0.8356,      0.8354,      0.8352,       0.835,      0.8348,     0.83456,     0.83428,       0.834,     0.83372,     0.83343,     0.83798,     0.84015,     0.83987,     0.83959,     0.83932,     0.83904,\n",
              "            0.83786,     0.83722,     0.83674,     0.83626,     0.83669,     0.83884,     0.84098,     0.84251,     0.84336,     0.84421,     0.84506,     0.84591,     0.84675,      0.8476,     0.84845,      0.8493,     0.84932,     0.84897,     0.84863,     0.84829,      0.8471,     0.84568,     0.84423,\n",
              "            0.84635,     0.84902,     0.85169,     0.85949,     0.85916,     0.85882,     0.85914,     0.86594,     0.86458,     0.86545,     0.86631,     0.86718,     0.86805,     0.86892,     0.86979,     0.87066,     0.87152,     0.87239,      0.8722,     0.87176,     0.87133,     0.87448,     0.87805,\n",
              "            0.87944,     0.87818,     0.87723,     0.87658,     0.87556,     0.88976,     0.89338,     0.89299,      0.8926,     0.90312,      0.9082,     0.91206,     0.91192,     0.91179,     0.91166,     0.91152,     0.91139,     0.91126,     0.91112,     0.90963,     0.90911,     0.90897,     0.90884,\n",
              "            0.90872,     0.90859,     0.90847,     0.90834,     0.90821,     0.90809,     0.90768,     0.90713,     0.90689,     0.90676,     0.90664,     0.90651,     0.90639,     0.90626,     0.90614,     0.90601,     0.90589,     0.90716,     0.91093,     0.91463,     0.91456,     0.91448,     0.91441,\n",
              "            0.91433,     0.91426,     0.91419,     0.91411,     0.91404,     0.91396,     0.91389,     0.91381,     0.91374,     0.91366,     0.91359,     0.91584,     0.91844,     0.92104,     0.92365,     0.92577,     0.92737,     0.92897,     0.93057,     0.93217,     0.93377,     0.93537,     0.93668,\n",
              "            0.93652,     0.93635,     0.93618,     0.93602,     0.93497,     0.93461,     0.93426,     0.93345,     0.93315,     0.93295,     0.93274,     0.93254,     0.93233,     0.93212,     0.93191,      0.9317,     0.93133,     0.93045,     0.93026,     0.93008,      0.9299,     0.92972,     0.92909,\n",
              "            0.92834,     0.92804,     0.92774,     0.92739,     0.92695,     0.92652,     0.92514,     0.92489,     0.92463,     0.92437,     0.93844,     0.93749,     0.93724,     0.93698,     0.93673,     0.93533,     0.93617,     0.94681,     0.94884,     0.94839,     0.95603,     0.96423,     0.96404,\n",
              "            0.96385,     0.96366,     0.96354,     0.96344,     0.96333,     0.96323,     0.96312,     0.96301,     0.96294,     0.96288,     0.96283,     0.96278,     0.96273,     0.96268,     0.96263,     0.96258,     0.96253,     0.96248,     0.96242,     0.96237,     0.96232,     0.96227,     0.96055,\n",
              "            0.96028,     0.96001,     0.95989,     0.95977,     0.95965,     0.95953,     0.95941,     0.95929,     0.95914,     0.95879,     0.95845,     0.96305,     0.97001,     0.97698,           1,           1,           1,           1,           1,           1,           1,           1,           1,\n",
              "                  1,           1,           1,           1,           1,           1,           1,           1,           1,           1,           1,           1,           1,           1,           1,           1,           1,           1,           1,           1,           1,           1,           1,\n",
              "                  1,           1,           1,           1,           1,           1,           1,           1,           1,           1,           1,           1,           1,           1,           1,           1,           1,           1,           1,           1,           1,           1,           1,\n",
              "                  1,           1,           1,           1,           1,           1,           1,           1,           1,           1,           1,           1,           1,           1,           1,           1,           1,           1,           1,           1,           1,           1,           1,\n",
              "                  1,           1,           1,           1,           1,           1,           1,           1,           1,           1,           1,           1,           1,           1,           1,           1,           1,           1,           1,           1,           1,           1,           1,\n",
              "                  1,           1,           1,           1,           1,           1,           1,           1,           1,           1,           1,           1,           1,           1,           1,           1,           1,           1,           1,           1,           1,           1,           1,\n",
              "                  1,           1,           1,           1,           1,           1,           1,           1,           1,           1,           1,           1,           1,           1,           1,           1,           1,           1,           1,           1,           1,           1,           1,\n",
              "                  1,           1,           1,           1,           1,           1,           1,           1,           1,           1,           1,           1,           1,           1,           1,           1,           1,           1,           1,           1,           1,           1,           1,\n",
              "                  1,           1,           1,           1,           1,           1,           1,           1,           1,           1,           1,           1,           1,           1,           1,           1,           1,           1,           1,           1,           1,           1,           1,\n",
              "                  1,           1,           1,           1,           1,           1,           1,           1,           1,           1,           1,           1,           1,           1,           1,           1,           1,           1,           1,           1,           1,           1,           1,\n",
              "                  1,           1,           1,           1,           1,           1,           1,           1,           1,           1,           1,           1,           1,           1,           1,           1,           1,           1,           1,           1,           1,           1,           1,\n",
              "                  1,           1,           1,           1,           1,           1,           1,           1,           1,           1,           1]]), 'Confidence', 'Precision'], [array([          0,    0.001001,    0.002002,    0.003003,    0.004004,    0.005005,    0.006006,    0.007007,    0.008008,    0.009009,     0.01001,    0.011011,    0.012012,    0.013013,    0.014014,    0.015015,    0.016016,    0.017017,    0.018018,    0.019019,     0.02002,    0.021021,    0.022022,    0.023023,\n",
              "          0.024024,    0.025025,    0.026026,    0.027027,    0.028028,    0.029029,     0.03003,    0.031031,    0.032032,    0.033033,    0.034034,    0.035035,    0.036036,    0.037037,    0.038038,    0.039039,     0.04004,    0.041041,    0.042042,    0.043043,    0.044044,    0.045045,    0.046046,    0.047047,\n",
              "          0.048048,    0.049049,     0.05005,    0.051051,    0.052052,    0.053053,    0.054054,    0.055055,    0.056056,    0.057057,    0.058058,    0.059059,     0.06006,    0.061061,    0.062062,    0.063063,    0.064064,    0.065065,    0.066066,    0.067067,    0.068068,    0.069069,     0.07007,    0.071071,\n",
              "          0.072072,    0.073073,    0.074074,    0.075075,    0.076076,    0.077077,    0.078078,    0.079079,     0.08008,    0.081081,    0.082082,    0.083083,    0.084084,    0.085085,    0.086086,    0.087087,    0.088088,    0.089089,     0.09009,    0.091091,    0.092092,    0.093093,    0.094094,    0.095095,\n",
              "          0.096096,    0.097097,    0.098098,    0.099099,      0.1001,      0.1011,      0.1021,      0.1031,      0.1041,     0.10511,     0.10611,     0.10711,     0.10811,     0.10911,     0.11011,     0.11111,     0.11211,     0.11311,     0.11411,     0.11512,     0.11612,     0.11712,     0.11812,     0.11912,\n",
              "           0.12012,     0.12112,     0.12212,     0.12312,     0.12412,     0.12513,     0.12613,     0.12713,     0.12813,     0.12913,     0.13013,     0.13113,     0.13213,     0.13313,     0.13413,     0.13514,     0.13614,     0.13714,     0.13814,     0.13914,     0.14014,     0.14114,     0.14214,     0.14314,\n",
              "           0.14414,     0.14515,     0.14615,     0.14715,     0.14815,     0.14915,     0.15015,     0.15115,     0.15215,     0.15315,     0.15415,     0.15516,     0.15616,     0.15716,     0.15816,     0.15916,     0.16016,     0.16116,     0.16216,     0.16316,     0.16416,     0.16517,     0.16617,     0.16717,\n",
              "           0.16817,     0.16917,     0.17017,     0.17117,     0.17217,     0.17317,     0.17417,     0.17518,     0.17618,     0.17718,     0.17818,     0.17918,     0.18018,     0.18118,     0.18218,     0.18318,     0.18418,     0.18519,     0.18619,     0.18719,     0.18819,     0.18919,     0.19019,     0.19119,\n",
              "           0.19219,     0.19319,     0.19419,      0.1952,      0.1962,      0.1972,      0.1982,      0.1992,      0.2002,      0.2012,      0.2022,      0.2032,      0.2042,     0.20521,     0.20621,     0.20721,     0.20821,     0.20921,     0.21021,     0.21121,     0.21221,     0.21321,     0.21421,     0.21522,\n",
              "           0.21622,     0.21722,     0.21822,     0.21922,     0.22022,     0.22122,     0.22222,     0.22322,     0.22422,     0.22523,     0.22623,     0.22723,     0.22823,     0.22923,     0.23023,     0.23123,     0.23223,     0.23323,     0.23423,     0.23524,     0.23624,     0.23724,     0.23824,     0.23924,\n",
              "           0.24024,     0.24124,     0.24224,     0.24324,     0.24424,     0.24525,     0.24625,     0.24725,     0.24825,     0.24925,     0.25025,     0.25125,     0.25225,     0.25325,     0.25425,     0.25526,     0.25626,     0.25726,     0.25826,     0.25926,     0.26026,     0.26126,     0.26226,     0.26326,\n",
              "           0.26426,     0.26527,     0.26627,     0.26727,     0.26827,     0.26927,     0.27027,     0.27127,     0.27227,     0.27327,     0.27427,     0.27528,     0.27628,     0.27728,     0.27828,     0.27928,     0.28028,     0.28128,     0.28228,     0.28328,     0.28428,     0.28529,     0.28629,     0.28729,\n",
              "           0.28829,     0.28929,     0.29029,     0.29129,     0.29229,     0.29329,     0.29429,      0.2953,      0.2963,      0.2973,      0.2983,      0.2993,      0.3003,      0.3013,      0.3023,      0.3033,      0.3043,     0.30531,     0.30631,     0.30731,     0.30831,     0.30931,     0.31031,     0.31131,\n",
              "           0.31231,     0.31331,     0.31431,     0.31532,     0.31632,     0.31732,     0.31832,     0.31932,     0.32032,     0.32132,     0.32232,     0.32332,     0.32432,     0.32533,     0.32633,     0.32733,     0.32833,     0.32933,     0.33033,     0.33133,     0.33233,     0.33333,     0.33433,     0.33534,\n",
              "           0.33634,     0.33734,     0.33834,     0.33934,     0.34034,     0.34134,     0.34234,     0.34334,     0.34434,     0.34535,     0.34635,     0.34735,     0.34835,     0.34935,     0.35035,     0.35135,     0.35235,     0.35335,     0.35435,     0.35536,     0.35636,     0.35736,     0.35836,     0.35936,\n",
              "           0.36036,     0.36136,     0.36236,     0.36336,     0.36436,     0.36537,     0.36637,     0.36737,     0.36837,     0.36937,     0.37037,     0.37137,     0.37237,     0.37337,     0.37437,     0.37538,     0.37638,     0.37738,     0.37838,     0.37938,     0.38038,     0.38138,     0.38238,     0.38338,\n",
              "           0.38438,     0.38539,     0.38639,     0.38739,     0.38839,     0.38939,     0.39039,     0.39139,     0.39239,     0.39339,     0.39439,      0.3954,      0.3964,      0.3974,      0.3984,      0.3994,      0.4004,      0.4014,      0.4024,      0.4034,      0.4044,     0.40541,     0.40641,     0.40741,\n",
              "           0.40841,     0.40941,     0.41041,     0.41141,     0.41241,     0.41341,     0.41441,     0.41542,     0.41642,     0.41742,     0.41842,     0.41942,     0.42042,     0.42142,     0.42242,     0.42342,     0.42442,     0.42543,     0.42643,     0.42743,     0.42843,     0.42943,     0.43043,     0.43143,\n",
              "           0.43243,     0.43343,     0.43443,     0.43544,     0.43644,     0.43744,     0.43844,     0.43944,     0.44044,     0.44144,     0.44244,     0.44344,     0.44444,     0.44545,     0.44645,     0.44745,     0.44845,     0.44945,     0.45045,     0.45145,     0.45245,     0.45345,     0.45445,     0.45546,\n",
              "           0.45646,     0.45746,     0.45846,     0.45946,     0.46046,     0.46146,     0.46246,     0.46346,     0.46446,     0.46547,     0.46647,     0.46747,     0.46847,     0.46947,     0.47047,     0.47147,     0.47247,     0.47347,     0.47447,     0.47548,     0.47648,     0.47748,     0.47848,     0.47948,\n",
              "           0.48048,     0.48148,     0.48248,     0.48348,     0.48448,     0.48549,     0.48649,     0.48749,     0.48849,     0.48949,     0.49049,     0.49149,     0.49249,     0.49349,     0.49449,      0.4955,      0.4965,      0.4975,      0.4985,      0.4995,      0.5005,      0.5015,      0.5025,      0.5035,\n",
              "            0.5045,     0.50551,     0.50651,     0.50751,     0.50851,     0.50951,     0.51051,     0.51151,     0.51251,     0.51351,     0.51451,     0.51552,     0.51652,     0.51752,     0.51852,     0.51952,     0.52052,     0.52152,     0.52252,     0.52352,     0.52452,     0.52553,     0.52653,     0.52753,\n",
              "           0.52853,     0.52953,     0.53053,     0.53153,     0.53253,     0.53353,     0.53453,     0.53554,     0.53654,     0.53754,     0.53854,     0.53954,     0.54054,     0.54154,     0.54254,     0.54354,     0.54454,     0.54555,     0.54655,     0.54755,     0.54855,     0.54955,     0.55055,     0.55155,\n",
              "           0.55255,     0.55355,     0.55455,     0.55556,     0.55656,     0.55756,     0.55856,     0.55956,     0.56056,     0.56156,     0.56256,     0.56356,     0.56456,     0.56557,     0.56657,     0.56757,     0.56857,     0.56957,     0.57057,     0.57157,     0.57257,     0.57357,     0.57457,     0.57558,\n",
              "           0.57658,     0.57758,     0.57858,     0.57958,     0.58058,     0.58158,     0.58258,     0.58358,     0.58458,     0.58559,     0.58659,     0.58759,     0.58859,     0.58959,     0.59059,     0.59159,     0.59259,     0.59359,     0.59459,      0.5956,      0.5966,      0.5976,      0.5986,      0.5996,\n",
              "            0.6006,      0.6016,      0.6026,      0.6036,      0.6046,     0.60561,     0.60661,     0.60761,     0.60861,     0.60961,     0.61061,     0.61161,     0.61261,     0.61361,     0.61461,     0.61562,     0.61662,     0.61762,     0.61862,     0.61962,     0.62062,     0.62162,     0.62262,     0.62362,\n",
              "           0.62462,     0.62563,     0.62663,     0.62763,     0.62863,     0.62963,     0.63063,     0.63163,     0.63263,     0.63363,     0.63463,     0.63564,     0.63664,     0.63764,     0.63864,     0.63964,     0.64064,     0.64164,     0.64264,     0.64364,     0.64464,     0.64565,     0.64665,     0.64765,\n",
              "           0.64865,     0.64965,     0.65065,     0.65165,     0.65265,     0.65365,     0.65465,     0.65566,     0.65666,     0.65766,     0.65866,     0.65966,     0.66066,     0.66166,     0.66266,     0.66366,     0.66466,     0.66567,     0.66667,     0.66767,     0.66867,     0.66967,     0.67067,     0.67167,\n",
              "           0.67267,     0.67367,     0.67467,     0.67568,     0.67668,     0.67768,     0.67868,     0.67968,     0.68068,     0.68168,     0.68268,     0.68368,     0.68468,     0.68569,     0.68669,     0.68769,     0.68869,     0.68969,     0.69069,     0.69169,     0.69269,     0.69369,     0.69469,      0.6957,\n",
              "            0.6967,      0.6977,      0.6987,      0.6997,      0.7007,      0.7017,      0.7027,      0.7037,      0.7047,     0.70571,     0.70671,     0.70771,     0.70871,     0.70971,     0.71071,     0.71171,     0.71271,     0.71371,     0.71471,     0.71572,     0.71672,     0.71772,     0.71872,     0.71972,\n",
              "           0.72072,     0.72172,     0.72272,     0.72372,     0.72472,     0.72573,     0.72673,     0.72773,     0.72873,     0.72973,     0.73073,     0.73173,     0.73273,     0.73373,     0.73473,     0.73574,     0.73674,     0.73774,     0.73874,     0.73974,     0.74074,     0.74174,     0.74274,     0.74374,\n",
              "           0.74474,     0.74575,     0.74675,     0.74775,     0.74875,     0.74975,     0.75075,     0.75175,     0.75275,     0.75375,     0.75475,     0.75576,     0.75676,     0.75776,     0.75876,     0.75976,     0.76076,     0.76176,     0.76276,     0.76376,     0.76476,     0.76577,     0.76677,     0.76777,\n",
              "           0.76877,     0.76977,     0.77077,     0.77177,     0.77277,     0.77377,     0.77477,     0.77578,     0.77678,     0.77778,     0.77878,     0.77978,     0.78078,     0.78178,     0.78278,     0.78378,     0.78478,     0.78579,     0.78679,     0.78779,     0.78879,     0.78979,     0.79079,     0.79179,\n",
              "           0.79279,     0.79379,     0.79479,      0.7958,      0.7968,      0.7978,      0.7988,      0.7998,      0.8008,      0.8018,      0.8028,      0.8038,      0.8048,     0.80581,     0.80681,     0.80781,     0.80881,     0.80981,     0.81081,     0.81181,     0.81281,     0.81381,     0.81481,     0.81582,\n",
              "           0.81682,     0.81782,     0.81882,     0.81982,     0.82082,     0.82182,     0.82282,     0.82382,     0.82482,     0.82583,     0.82683,     0.82783,     0.82883,     0.82983,     0.83083,     0.83183,     0.83283,     0.83383,     0.83483,     0.83584,     0.83684,     0.83784,     0.83884,     0.83984,\n",
              "           0.84084,     0.84184,     0.84284,     0.84384,     0.84484,     0.84585,     0.84685,     0.84785,     0.84885,     0.84985,     0.85085,     0.85185,     0.85285,     0.85385,     0.85485,     0.85586,     0.85686,     0.85786,     0.85886,     0.85986,     0.86086,     0.86186,     0.86286,     0.86386,\n",
              "           0.86486,     0.86587,     0.86687,     0.86787,     0.86887,     0.86987,     0.87087,     0.87187,     0.87287,     0.87387,     0.87487,     0.87588,     0.87688,     0.87788,     0.87888,     0.87988,     0.88088,     0.88188,     0.88288,     0.88388,     0.88488,     0.88589,     0.88689,     0.88789,\n",
              "           0.88889,     0.88989,     0.89089,     0.89189,     0.89289,     0.89389,     0.89489,      0.8959,      0.8969,      0.8979,      0.8989,      0.8999,      0.9009,      0.9019,      0.9029,      0.9039,      0.9049,     0.90591,     0.90691,     0.90791,     0.90891,     0.90991,     0.91091,     0.91191,\n",
              "           0.91291,     0.91391,     0.91491,     0.91592,     0.91692,     0.91792,     0.91892,     0.91992,     0.92092,     0.92192,     0.92292,     0.92392,     0.92492,     0.92593,     0.92693,     0.92793,     0.92893,     0.92993,     0.93093,     0.93193,     0.93293,     0.93393,     0.93493,     0.93594,\n",
              "           0.93694,     0.93794,     0.93894,     0.93994,     0.94094,     0.94194,     0.94294,     0.94394,     0.94494,     0.94595,     0.94695,     0.94795,     0.94895,     0.94995,     0.95095,     0.95195,     0.95295,     0.95395,     0.95495,     0.95596,     0.95696,     0.95796,     0.95896,     0.95996,\n",
              "           0.96096,     0.96196,     0.96296,     0.96396,     0.96496,     0.96597,     0.96697,     0.96797,     0.96897,     0.96997,     0.97097,     0.97197,     0.97297,     0.97397,     0.97497,     0.97598,     0.97698,     0.97798,     0.97898,     0.97998,     0.98098,     0.98198,     0.98298,     0.98398,\n",
              "           0.98498,     0.98599,     0.98699,     0.98799,     0.98899,     0.98999,     0.99099,     0.99199,     0.99299,     0.99399,     0.99499,       0.996,       0.997,       0.998,       0.999,           1]), array([[    0.86425,     0.86425,      0.8552,      0.8552,     0.85068,     0.84163,     0.84163,     0.84163,     0.84163,     0.84163,     0.84163,      0.8371,     0.82805,     0.82805,     0.82353,     0.82353,       0.819,       0.819,     0.81448,     0.80995,     0.80995,      0.8009,      0.8009,\n",
              "             0.8009,      0.8009,      0.8009,     0.79638,     0.79638,     0.79638,     0.79638,     0.79638,     0.79638,     0.79638,     0.79638,     0.79186,     0.78733,     0.78733,     0.78733,     0.78733,     0.78733,     0.77828,     0.77828,     0.77828,     0.77828,     0.77828,     0.77828,\n",
              "            0.77828,     0.77376,     0.77376,     0.77376,     0.76923,     0.76923,     0.76923,     0.76923,      0.7655,     0.76264,     0.76018,     0.76018,     0.76018,     0.76018,     0.76018,     0.76018,     0.75566,     0.75566,     0.75113,     0.75113,     0.74661,     0.74208,     0.73756,\n",
              "            0.73756,     0.73756,     0.73303,     0.73303,     0.73303,     0.73303,     0.73303,     0.73303,     0.73303,     0.73303,     0.73303,     0.73303,     0.73303,     0.73303,     0.72851,     0.72851,     0.72851,     0.72398,     0.72398,     0.72398,     0.71946,     0.71946,     0.71946,\n",
              "            0.71946,     0.71946,     0.71493,     0.71493,     0.71493,     0.71493,     0.71493,     0.71493,     0.71493,     0.71493,     0.71493,     0.71493,     0.71493,     0.71493,     0.71493,     0.71041,     0.71041,     0.71041,     0.71041,     0.71041,     0.71041,     0.71041,     0.70871,\n",
              "            0.70588,     0.70588,     0.70588,     0.70588,     0.70588,     0.70136,     0.70136,     0.70136,     0.70136,     0.69771,     0.69683,     0.69683,     0.69683,     0.69683,     0.69231,     0.69231,     0.69231,     0.69231,     0.69182,     0.68934,     0.68778,     0.68778,     0.68778,\n",
              "            0.68778,     0.68778,     0.68778,     0.68778,     0.68778,     0.68778,     0.68778,     0.68778,     0.68778,     0.68778,     0.68778,     0.68778,     0.68778,     0.68778,     0.68778,     0.68778,     0.68778,      0.6867,     0.68493,     0.68326,     0.68326,     0.68326,     0.68326,\n",
              "            0.68326,     0.68326,     0.68326,     0.68326,     0.68326,     0.68299,     0.67873,     0.67608,     0.67164,     0.66968,     0.66968,     0.66968,     0.66968,     0.66968,     0.66968,     0.66968,     0.66968,     0.66968,     0.66968,     0.66968,     0.66968,      0.6689,     0.66625,\n",
              "            0.66516,     0.66516,     0.66516,     0.66516,     0.66516,     0.66516,     0.66516,     0.66516,     0.66516,     0.66516,     0.66516,     0.66516,     0.66516,     0.66516,     0.66034,     0.65663,     0.65611,     0.65611,     0.65611,     0.65611,     0.65611,     0.65611,     0.65611,\n",
              "            0.65611,     0.65611,     0.65611,     0.65611,     0.65611,     0.65611,     0.65611,     0.65611,     0.65611,     0.65611,     0.65611,     0.65158,     0.65158,     0.65158,     0.65158,     0.65158,     0.65158,     0.65158,     0.65158,     0.65158,     0.65017,     0.64706,     0.64706,\n",
              "            0.64705,     0.64625,     0.64544,     0.64463,     0.64383,     0.64302,     0.64253,     0.64253,     0.64253,     0.64253,     0.64253,     0.64253,     0.64253,     0.64253,     0.64253,     0.64253,     0.64253,     0.63842,     0.63486,     0.63348,     0.63348,     0.63348,     0.63348,\n",
              "            0.63348,     0.63348,     0.63348,     0.63348,     0.63348,     0.63348,     0.63348,     0.63348,     0.63348,     0.63348,     0.63348,     0.63348,     0.62896,     0.62896,     0.62896,     0.62896,     0.62896,     0.62896,     0.62443,     0.62443,     0.62443,     0.62443,     0.62443,\n",
              "            0.62443,      0.6232,     0.62134,     0.61538,     0.61538,     0.61397,     0.61211,     0.61086,     0.61086,     0.61057,     0.61009,     0.60961,     0.60914,     0.60866,     0.60819,     0.60771,     0.60724,     0.60676,     0.60633,      0.6046,     0.60181,     0.60181,     0.60181,\n",
              "            0.60181,     0.60181,     0.60181,     0.60181,     0.60181,     0.60181,     0.60181,     0.60181,     0.60181,     0.60181,     0.60181,     0.60181,     0.60181,     0.60181,     0.60181,     0.60088,     0.59823,     0.59729,     0.59729,     0.59729,     0.59729,     0.59729,     0.59729,\n",
              "            0.59729,     0.59729,     0.59729,     0.59276,     0.59276,     0.59276,     0.59276,     0.59276,     0.59015,     0.58824,     0.58824,     0.58824,     0.58824,     0.58824,     0.58824,     0.58824,     0.58824,     0.58824,     0.58824,     0.58824,     0.58824,     0.58813,      0.5869,\n",
              "            0.58566,     0.58442,     0.58371,     0.58371,     0.58371,     0.58371,     0.58371,     0.58363,     0.58231,     0.58098,     0.57966,      0.5781,     0.57641,     0.57473,     0.57243,     0.57014,     0.57014,     0.57014,     0.57014,     0.57014,     0.57014,     0.57014,     0.57014,\n",
              "            0.57014,     0.57014,     0.56753,     0.56561,     0.56561,     0.56561,     0.56561,     0.56274,     0.56109,     0.56109,     0.56109,     0.55663,     0.55656,     0.55161,     0.55006,     0.54851,     0.54751,     0.54751,     0.54751,     0.54669,     0.54545,     0.54421,     0.54299,\n",
              "            0.54299,     0.54299,     0.54299,     0.54299,     0.54299,     0.54299,     0.54299,     0.54299,     0.54299,     0.54299,     0.54246,     0.54177,     0.54109,      0.5404,     0.53971,     0.53902,     0.53846,     0.53846,     0.53846,     0.53846,     0.53846,     0.53846,     0.53846,\n",
              "            0.53846,     0.53846,     0.53816,     0.53768,      0.5372,     0.53673,     0.53625,     0.53578,      0.5353,     0.53483,     0.53435,     0.53363,     0.53131,     0.52941,     0.52941,     0.52941,     0.52928,     0.52875,     0.52822,     0.52769,     0.52716,     0.52663,      0.5261,\n",
              "            0.52557,     0.52504,     0.52489,     0.52489,     0.52489,     0.52489,     0.52489,     0.52489,     0.52489,      0.5243,     0.52364,     0.52297,     0.52231,     0.52165,     0.52098,     0.51556,     0.51123,     0.51025,     0.50928,      0.5083,     0.50732,     0.50226,     0.50226,\n",
              "            0.50226,     0.50202,     0.50156,     0.50109,     0.50063,     0.50016,      0.4997,     0.49924,     0.49877,     0.49831,     0.49785,     0.49774,     0.49774,     0.49774,     0.49774,     0.49774,     0.49774,     0.49774,     0.49774,     0.49774,     0.49774,     0.49774,     0.49774,\n",
              "            0.49774,     0.49774,     0.49774,     0.49774,     0.49321,     0.49321,     0.49214,      0.4875,     0.48406,     0.48371,     0.48335,     0.48299,     0.48264,     0.48228,     0.48192,     0.48157,     0.48121,     0.48085,      0.4805,     0.48014,     0.47978,     0.47687,     0.47439,\n",
              "            0.47323,     0.47207,     0.47091,     0.46992,     0.46899,     0.46807,     0.46714,     0.46621,     0.46606,     0.46606,     0.46606,     0.46606,     0.46606,     0.46606,     0.46606,     0.46606,     0.46606,     0.46606,     0.46606,     0.46599,     0.46548,     0.46496,     0.46445,\n",
              "            0.46393,     0.46342,      0.4629,     0.46239,     0.46187,      0.4613,     0.46064,     0.45998,     0.45932,     0.45865,     0.45799,     0.45733,     0.45653,      0.4556,     0.45467,     0.45374,     0.45282,     0.45249,     0.45187,     0.45094,     0.45001,     0.44908,     0.44815,\n",
              "            0.44428,     0.44217,     0.44063,     0.43908,     0.43439,     0.43439,     0.43439,     0.43439,     0.43439,     0.43439,     0.43439,     0.43439,     0.43439,     0.43439,     0.43439,     0.43439,     0.43358,     0.43242,     0.43126,      0.4301,     0.42618,     0.42154,      0.4169,\n",
              "            0.41629,     0.41629,     0.41629,      0.4152,     0.41404,     0.41288,     0.41176,     0.40921,     0.40271,     0.40271,     0.40271,     0.40271,     0.40271,     0.40271,     0.40271,     0.40271,     0.40271,     0.40271,     0.40145,      0.3999,     0.39836,     0.39819,     0.39819,\n",
              "            0.39609,     0.39145,     0.38798,     0.38566,     0.38206,     0.38009,     0.37916,     0.37762,     0.37607,     0.37557,     0.37557,     0.37542,      0.3748,     0.37418,     0.37357,     0.37295,     0.37233,     0.37171,     0.37109,     0.36439,     0.36207,     0.36146,     0.36092,\n",
              "            0.36037,     0.35983,     0.35928,     0.35874,     0.35819,     0.35764,      0.3559,     0.35358,     0.35257,     0.35205,     0.35154,     0.35102,     0.35051,     0.34999,     0.34948,     0.34896,     0.34845,     0.33937,     0.33937,     0.33936,     0.33904,     0.33872,      0.3384,\n",
              "            0.33808,     0.33776,     0.33744,     0.33712,      0.3368,     0.33648,     0.33616,     0.33584,     0.33552,      0.3352,     0.33488,     0.33484,     0.33484,     0.33484,     0.33484,     0.33484,     0.33484,     0.33484,     0.33484,     0.33484,     0.33484,     0.33484,     0.33469,\n",
              "            0.33376,     0.33284,     0.33191,     0.33098,     0.32526,     0.32341,     0.32155,     0.31734,     0.31585,     0.31481,     0.31378,     0.31275,     0.31172,     0.31069,     0.30966,     0.30863,     0.30686,     0.30266,     0.30182,     0.30097,     0.30013,     0.29929,     0.29645,\n",
              "            0.29313,      0.2918,     0.29048,     0.28897,     0.28712,     0.28526,     0.27962,     0.27859,     0.27756,     0.27653,     0.27594,     0.27145,     0.27029,     0.26913,     0.26797,      0.2618,     0.25792,     0.25792,     0.25177,     0.24945,     0.24434,     0.24397,     0.24264,\n",
              "            0.24132,     0.23999,      0.2392,     0.23848,     0.23777,     0.23706,     0.23634,     0.23563,     0.23512,     0.23479,     0.23446,     0.23412,     0.23379,     0.23346,     0.23313,      0.2328,     0.23247,     0.23214,     0.23181,     0.23147,     0.23114,     0.23081,     0.22037,\n",
              "            0.21883,     0.21728,     0.21657,     0.21591,     0.21524,     0.21458,     0.21392,     0.21326,     0.21245,      0.2106,     0.20874,     0.20814,     0.20814,     0.20814,     0.20583,     0.20324,     0.20191,     0.20059,     0.19926,     0.19505,     0.18136,     0.17611,     0.17573,\n",
              "            0.17534,     0.17496,     0.17457,     0.17418,      0.1738,     0.17341,     0.17302,     0.17264,     0.17225,     0.17189,     0.17163,     0.17138,     0.17112,     0.17086,      0.1706,     0.17034,     0.17009,     0.16983,     0.16957,     0.16931,     0.16906,      0.1688,     0.16854,\n",
              "            0.16828,     0.16803,     0.16777,     0.16751,     0.16621,     0.16435,      0.1625,     0.16064,     0.15879,     0.15717,     0.15563,     0.15408,     0.15272,      0.1514,     0.15007,     0.14798,     0.14489,     0.13977,     0.13926,     0.13874,     0.13823,     0.13771,     0.13719,\n",
              "            0.13668,     0.13616,     0.13486,     0.13056,     0.12747,     0.12592,     0.12489,     0.12386,     0.12283,      0.1221,      0.1219,      0.1217,     0.12149,     0.12129,     0.12109,     0.12089,     0.12069,     0.12049,     0.12028,     0.12008,     0.11988,     0.11968,     0.11948,\n",
              "            0.11928,     0.11907,     0.11887,     0.11867,     0.11847,     0.11827,     0.11807,     0.11786,     0.11766,     0.11246,     0.11175,     0.11104,     0.11032,     0.10961,      0.1089,      0.1059,     0.10295,     0.10109,    0.099407,    0.098563,     0.09772,    0.096877,    0.096034,\n",
              "            0.09519,    0.094558,    0.093978,    0.093399,    0.092819,    0.092239,    0.091659,    0.091079,      0.0905,    0.090096,    0.089692,    0.089289,    0.088886,    0.088483,    0.088079,    0.087676,    0.087273,    0.086869,    0.086466,    0.086063,    0.085696,    0.085339,    0.084982,\n",
              "           0.084625,    0.084268,    0.083912,    0.083555,    0.083198,    0.082841,    0.082485,    0.082128,    0.081771,     0.08136,    0.080432,    0.079505,    0.078577,     0.07765,    0.076253,    0.073161,    0.070069,    0.060658,    0.057997,    0.056966,    0.055935,    0.054905,    0.053343,\n",
              "           0.051024,    0.049346,    0.048419,    0.047491,    0.046563,    0.045636,    0.043446,    0.040613,    0.039685,    0.038758,     0.03783,    0.036903,    0.036075,    0.035559,    0.035044,    0.034528,    0.034013,    0.033498,    0.032982,    0.032467,    0.031952,    0.027394,    0.025859,\n",
              "           0.024534,    0.023209,    0.021328,    0.019009,    0.016972,    0.015116,    0.012791,   0.0089682,   0.0085466,   0.0081249,   0.0077033,   0.0072817,     0.00686,   0.0064384,   0.0060167,   0.0055951,   0.0051734,   0.0047518,           0,           0,           0,           0,           0,\n",
              "                  0,           0,           0,           0,           0,           0,           0,           0,           0,           0,           0,           0,           0,           0,           0,           0,           0,           0,           0,           0,           0,           0,           0,\n",
              "                  0,           0,           0,           0,           0,           0,           0,           0,           0,           0,           0,           0,           0,           0,           0,           0,           0,           0,           0,           0,           0,           0,           0,\n",
              "                  0,           0,           0,           0,           0,           0,           0,           0,           0,           0,           0]]), 'Confidence', 'Recall']]\n",
              "fitness: 0.8800200995230505\n",
              "keys: ['metrics/precision(B)', 'metrics/recall(B)', 'metrics/mAP50(B)', 'metrics/mAP50-95(B)', 'metrics/precision(M)', 'metrics/recall(M)', 'metrics/mAP50(M)', 'metrics/mAP50-95(M)']\n",
              "maps: array([    0.83158])\n",
              "names: {0: 'cow'}\n",
              "plot: True\n",
              "results_dict: {'metrics/precision(B)': 0.7418395980641653, 'metrics/recall(B)': 0.6018099547511312, 'metrics/mAP50(B)': 0.6599743327160976, 'metrics/mAP50-95(B)': 0.4422378107588269, 'metrics/precision(M)': 0.6958265784277455, 'metrics/recall(M)': 0.6018099547511312, 'metrics/mAP50(M)': 0.6559864448687172, 'metrics/mAP50-95(M)': 0.3893444356462497, 'fitness': 0.8800200995230505}\n",
              "save_dir: PosixPath('runs/segment/train8')\n",
              "seg: ultralytics.utils.metrics.Metric object\n",
              "speed: {'preprocess': 0.44918060302734375, 'inference': 42.77326583862305, 'loss': 0.002040863037109375, 'postprocess': 3.5126686096191406}\n",
              "task: 'segment'"
            ]
          },
          "metadata": {},
          "execution_count": 20
        }
      ]
    },
    {
      "cell_type": "code",
      "source": [
        "import shutil\n",
        "\n",
        "# Nome do arquivo ZIP a ser criado\n",
        "output_filename = 'train_weights.zip'\n",
        "\n",
        "# Nome da pasta que você deseja compactar\n",
        "source_dir = 'runs'\n",
        "\n",
        "# Criar o arquivo ZIP\n",
        "shutil.make_archive(output_filename.replace('.zip', ''), 'zip', source_dir)\n",
        "\n",
        "print(f\"Pasta {source_dir} compactada com sucesso em {output_filename}\")\n"
      ],
      "metadata": {
        "colab": {
          "base_uri": "https://localhost:8080/"
        },
        "id": "KcMOzV93-j6C",
        "outputId": "5e3c2180-8c86-466a-d9b6-b8f1c2166c11"
      },
      "execution_count": null,
      "outputs": [
        {
          "output_type": "stream",
          "name": "stdout",
          "text": [
            "Pasta runs compactada com sucesso em train_weights.zip\n"
          ]
        }
      ]
    }
  ]
}