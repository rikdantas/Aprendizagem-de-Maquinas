{
  "nbformat": 4,
  "nbformat_minor": 0,
  "metadata": {
    "colab": {
      "provenance": [],
      "toc_visible": true,
      "authorship_tag": "ABX9TyOI6AI1Mu4xQci0LRxJ7UVX",
      "include_colab_link": true
    },
    "kernelspec": {
      "name": "python3",
      "display_name": "Python 3"
    },
    "language_info": {
      "name": "python"
    }
  },
  "cells": [
    {
      "cell_type": "markdown",
      "metadata": {
        "id": "view-in-github",
        "colab_type": "text"
      },
      "source": [
        "<a href=\"https://colab.research.google.com/github/rikdantas/Aprendizagem-de-Maquinas/blob/main/ECT3695/Exercicio_2/Exercicio_2_DL.ipynb\" target=\"_parent\"><img src=\"https://colab.research.google.com/assets/colab-badge.svg\" alt=\"Open In Colab\"/></a>"
      ]
    },
    {
      "cell_type": "markdown",
      "source": [
        "# Exercício 2 - Análise e Visualização de Dados\n",
        "Nesse notebook será desenvolvido o exercício 2 sobre análise e visualização de dados da disciplina de Aprendizado Profundo.\n",
        "\n",
        "Aluno: Paulo Ricardo Dantas."
      ],
      "metadata": {
        "id": "IiYvRu6QOvWa"
      }
    },
    {
      "cell_type": "markdown",
      "source": [
        "## Sobre o dataset\n",
        "Este dataset contém dados detalhados sobre lutas do UFC desde 2013, incluindo características dos lutadores, como idade, altura, peso, técnicas usadas e o método de vitória. Cada linha do dataset representa uma luta, onde o lutador posicionado no corner azul (Blue) e o lutador no corner vermelho (Red) competem. As colunas que começam com “B_” referem-se ao lutador do corner azul, e as colunas que começam com “R_” referem-se ao lutador do corner vermelho. Sua tarefa é realizar uma análise completa do dataset, criando visualizações que ajudem a interpretar os dados e, por fim, definir um ranking dos lutadores."
      ],
      "metadata": {
        "id": "9ZslKmyEPqiv"
      }
    },
    {
      "cell_type": "markdown",
      "source": [
        "## Importando o dataset"
      ],
      "metadata": {
        "id": "RhC9hXtYPtKE"
      }
    },
    {
      "cell_type": "code",
      "source": [
        "# Importando as bibliotecas\n",
        "import pandas as pd\n",
        "import numpy as np\n",
        "import matplotlib.pyplot as plt\n",
        "import seaborn as sns\n",
        "from sklearn.preprocessing import MinMaxScaler"
      ],
      "metadata": {
        "id": "a_DaUFpFPxTF"
      },
      "execution_count": 18,
      "outputs": []
    },
    {
      "cell_type": "code",
      "source": [
        "# Baixando o dataset\n",
        "!wget https://heltonmaia.com/DL/_downloads/cd70a7fdb5672f07f8ca922133e6578d/ufc.csv\n",
        "\n",
        "# Importando o CSV\n",
        "ufc = pd.read_csv('ufc.csv',encoding='utf-8')"
      ],
      "metadata": {
        "colab": {
          "base_uri": "https://localhost:8080/"
        },
        "id": "zBRYl22FRmXt",
        "outputId": "957134d8-c5c3-4780-df21-13dcbdc6ddd1"
      },
      "execution_count": 19,
      "outputs": [
        {
          "output_type": "stream",
          "name": "stdout",
          "text": [
            "--2024-10-24 14:30:38--  https://heltonmaia.com/DL/_downloads/cd70a7fdb5672f07f8ca922133e6578d/ufc.csv\n",
            "Resolving heltonmaia.com (heltonmaia.com)... 199.36.158.100\n",
            "Connecting to heltonmaia.com (heltonmaia.com)|199.36.158.100|:443... connected.\n",
            "HTTP request sent, awaiting response... 200 OK\n",
            "Length: 2496234 (2.4M) [text/csv]\n",
            "Saving to: ‘ufc.csv.1’\n",
            "\n",
            "\rufc.csv.1             0%[                    ]       0  --.-KB/s               \rufc.csv.1           100%[===================>]   2.38M  --.-KB/s    in 0.01s   \n",
            "\n",
            "2024-10-24 14:30:38 (162 MB/s) - ‘ufc.csv.1’ saved [2496234/2496234]\n",
            "\n"
          ]
        }
      ]
    },
    {
      "cell_type": "markdown",
      "source": [
        "## Parte 1: Análise Exploratória e Visualizações\n",
        "Construa as visualizações solicitadas e escreva uma análise para cada situação descrita a seguir:"
      ],
      "metadata": {
        "id": "uMgW3cAKSNUi"
      }
    },
    {
      "cell_type": "markdown",
      "source": [
        "### Tratamento de Valores Faltantes"
      ],
      "metadata": {
        "id": "y0J0F8tWSR73"
      }
    },
    {
      "cell_type": "markdown",
      "source": [
        "#### Identifique as colunas com valores faltantes, como idade, altura e peso."
      ],
      "metadata": {
        "id": "_bf5BjchSYL3"
      }
    },
    {
      "cell_type": "code",
      "source": [
        "# Mostrando uma vista geral do dataset\n",
        "ufc.info()"
      ],
      "metadata": {
        "colab": {
          "base_uri": "https://localhost:8080/"
        },
        "id": "KEKSqawoSZhL",
        "outputId": "1e7c6219-5330-4075-d381-411496bb3720"
      },
      "execution_count": 20,
      "outputs": [
        {
          "output_type": "stream",
          "name": "stdout",
          "text": [
            "<class 'pandas.core.frame.DataFrame'>\n",
            "RangeIndex: 1477 entries, 0 to 1476\n",
            "Columns: 895 entries, BPrev to winner\n",
            "dtypes: float64(873), int64(13), object(9)\n",
            "memory usage: 10.1+ MB\n"
          ]
        }
      ]
    },
    {
      "cell_type": "code",
      "source": [
        "# Mostrando quais colunas e quantos dados faltantes possuem nelas\n",
        "missing_data = ufc.isnull().sum()\n",
        "missing_columns = missing_data[missing_data > 0]\n",
        "print(missing_columns)"
      ],
      "metadata": {
        "colab": {
          "base_uri": "https://localhost:8080/"
        },
        "id": "CcmRIFR1ULOC",
        "outputId": "ceb00bde-9a8c-42ed-8dbb-70db7d54ce56"
      },
      "execution_count": 21,
      "outputs": [
        {
          "output_type": "stream",
          "name": "stdout",
          "text": [
            "B_Age                                      3\n",
            "B_Height                                   1\n",
            "B_HomeTown                                 6\n",
            "B_Location                                 7\n",
            "B__Round1_Grappling_Reversals_Landed     499\n",
            "                                        ... \n",
            "R__Round5_TIP_Mount Control Time        1333\n",
            "R__Round5_TIP_Neutral Time              1333\n",
            "R__Round5_TIP_Side Control Time         1333\n",
            "R__Round5_TIP_Standing Time             1333\n",
            "winby                                     16\n",
            "Length: 877, dtype: int64\n"
          ]
        }
      ]
    },
    {
      "cell_type": "markdown",
      "source": [
        "#### Substitua os valores faltantes pela média dessas colunas.\n",
        "Imprima a quantidade de valores faltantes antes da substituição e depois, garantindo que foram devidamente corrigidos."
      ],
      "metadata": {
        "id": "0kRPmORsYgGA"
      }
    },
    {
      "cell_type": "code",
      "source": [
        "# Identifica as colunas que não são do tipo 'object' (numéricas)\n",
        "numeric_columns = ufc.select_dtypes(exclude=['object']).columns\n",
        "\n",
        "# Substitui os valores nulos pela média das respectivas colunas\n",
        "ufc[numeric_columns] = ufc[numeric_columns].apply(lambda col: col.fillna(col.mean()))\n",
        "\n",
        "# Verifique se os dados faltantes foram substituídos\n",
        "missing_data = ufc.isnull().sum()\n",
        "missing_columns = missing_data[missing_data > 0]\n",
        "print(missing_columns)"
      ],
      "metadata": {
        "colab": {
          "base_uri": "https://localhost:8080/"
        },
        "id": "HBwKlNz6Ybjb",
        "outputId": "03380482-55f4-4570-bf6b-ffadac8de240"
      },
      "execution_count": 22,
      "outputs": [
        {
          "output_type": "stream",
          "name": "stdout",
          "text": [
            "B_HomeTown     6\n",
            "B_Location     7\n",
            "R_Location     1\n",
            "winby         16\n",
            "dtype: int64\n"
          ]
        }
      ]
    },
    {
      "cell_type": "code",
      "source": [
        "# Mostrando uma prévia do dataset\n",
        "ufc.head()"
      ],
      "metadata": {
        "colab": {
          "base_uri": "https://localhost:8080/",
          "height": 394
        },
        "id": "PQ8yRUnSZGXc",
        "outputId": "c0b0aa15-b5d6-4f11-d82e-fa1e35e6a509"
      },
      "execution_count": 23,
      "outputs": [
        {
          "output_type": "execute_result",
          "data": {
            "text/plain": [
              "   BPrev  BStreak  B_Age  B_Height                          B_HomeTown  B_ID  \\\n",
              "0      1        1   23.0     182.0                        Trento Italy  2783   \n",
              "1      0        0   32.0     175.0  Careiro da Várzea, Amazonas Brazil  2208   \n",
              "2      2        0   38.0     172.0                      Kanagawa Japan   721   \n",
              "3      0        0   23.0     170.0                      Tijuana Mexico  2825   \n",
              "4      3        1   30.0     167.0                     Spokane, WA USA  2260   \n",
              "\n",
              "          B_Location                 B_Name  B_Weight  \\\n",
              "0  Mezzocorona Italy         Marvin Vettori        84   \n",
              "1   Pharr, Texas USA  Carlos Diego Ferreira        70   \n",
              "2        Tokyo Japan          Takanori Gomi        70   \n",
              "3     Tijuana Mexico         Brandon Moreno        56   \n",
              "4    Spokane, WA USA     Elizabeth Phillips        61   \n",
              "\n",
              "   B__Round1_Grappling_Reversals_Landed  ...  R__Round5_TIP_Ground Time  \\\n",
              "0                               0.00000  ...                  66.604167   \n",
              "1                               0.03681  ...                  66.604167   \n",
              "2                               0.00000  ...                  66.604167   \n",
              "3                               0.03681  ...                  66.604167   \n",
              "4                               0.00000  ...                  66.604167   \n",
              "\n",
              "   R__Round5_TIP_Guard Control Time  R__Round5_TIP_Half Guard Control Time  \\\n",
              "0                          5.527778                               4.319444   \n",
              "1                          5.527778                               4.319444   \n",
              "2                          5.527778                               4.319444   \n",
              "3                          5.527778                               4.319444   \n",
              "4                          5.527778                               4.319444   \n",
              "\n",
              "   R__Round5_TIP_Misc. Ground Control Time  R__Round5_TIP_Mount Control Time  \\\n",
              "0                                 5.138889                         12.097222   \n",
              "1                                 5.138889                         12.097222   \n",
              "2                                 5.138889                         12.097222   \n",
              "3                                 5.138889                         12.097222   \n",
              "4                                 5.138889                         12.097222   \n",
              "\n",
              "   R__Round5_TIP_Neutral Time  R__Round5_TIP_Side Control Time  \\\n",
              "0                  224.965278                           4.5625   \n",
              "1                  224.965278                           4.5625   \n",
              "2                  224.965278                           4.5625   \n",
              "3                  224.965278                           4.5625   \n",
              "4                  224.965278                           4.5625   \n",
              "\n",
              "   R__Round5_TIP_Standing Time   winby  winner  \n",
              "0                   263.069444     DEC     red  \n",
              "1                   263.069444     SUB    blue  \n",
              "2                   263.069444  KO/TKO     red  \n",
              "3                   263.069444     SUB    blue  \n",
              "4                   263.069444     DEC     red  \n",
              "\n",
              "[5 rows x 895 columns]"
            ],
            "text/html": [
              "\n",
              "  <div id=\"df-b870936e-eae2-4f4e-b222-4cbd5cb6e209\" class=\"colab-df-container\">\n",
              "    <div>\n",
              "<style scoped>\n",
              "    .dataframe tbody tr th:only-of-type {\n",
              "        vertical-align: middle;\n",
              "    }\n",
              "\n",
              "    .dataframe tbody tr th {\n",
              "        vertical-align: top;\n",
              "    }\n",
              "\n",
              "    .dataframe thead th {\n",
              "        text-align: right;\n",
              "    }\n",
              "</style>\n",
              "<table border=\"1\" class=\"dataframe\">\n",
              "  <thead>\n",
              "    <tr style=\"text-align: right;\">\n",
              "      <th></th>\n",
              "      <th>BPrev</th>\n",
              "      <th>BStreak</th>\n",
              "      <th>B_Age</th>\n",
              "      <th>B_Height</th>\n",
              "      <th>B_HomeTown</th>\n",
              "      <th>B_ID</th>\n",
              "      <th>B_Location</th>\n",
              "      <th>B_Name</th>\n",
              "      <th>B_Weight</th>\n",
              "      <th>B__Round1_Grappling_Reversals_Landed</th>\n",
              "      <th>...</th>\n",
              "      <th>R__Round5_TIP_Ground Time</th>\n",
              "      <th>R__Round5_TIP_Guard Control Time</th>\n",
              "      <th>R__Round5_TIP_Half Guard Control Time</th>\n",
              "      <th>R__Round5_TIP_Misc. Ground Control Time</th>\n",
              "      <th>R__Round5_TIP_Mount Control Time</th>\n",
              "      <th>R__Round5_TIP_Neutral Time</th>\n",
              "      <th>R__Round5_TIP_Side Control Time</th>\n",
              "      <th>R__Round5_TIP_Standing Time</th>\n",
              "      <th>winby</th>\n",
              "      <th>winner</th>\n",
              "    </tr>\n",
              "  </thead>\n",
              "  <tbody>\n",
              "    <tr>\n",
              "      <th>0</th>\n",
              "      <td>1</td>\n",
              "      <td>1</td>\n",
              "      <td>23.0</td>\n",
              "      <td>182.0</td>\n",
              "      <td>Trento Italy</td>\n",
              "      <td>2783</td>\n",
              "      <td>Mezzocorona Italy</td>\n",
              "      <td>Marvin Vettori</td>\n",
              "      <td>84</td>\n",
              "      <td>0.00000</td>\n",
              "      <td>...</td>\n",
              "      <td>66.604167</td>\n",
              "      <td>5.527778</td>\n",
              "      <td>4.319444</td>\n",
              "      <td>5.138889</td>\n",
              "      <td>12.097222</td>\n",
              "      <td>224.965278</td>\n",
              "      <td>4.5625</td>\n",
              "      <td>263.069444</td>\n",
              "      <td>DEC</td>\n",
              "      <td>red</td>\n",
              "    </tr>\n",
              "    <tr>\n",
              "      <th>1</th>\n",
              "      <td>0</td>\n",
              "      <td>0</td>\n",
              "      <td>32.0</td>\n",
              "      <td>175.0</td>\n",
              "      <td>Careiro da Várzea, Amazonas Brazil</td>\n",
              "      <td>2208</td>\n",
              "      <td>Pharr, Texas USA</td>\n",
              "      <td>Carlos Diego Ferreira</td>\n",
              "      <td>70</td>\n",
              "      <td>0.03681</td>\n",
              "      <td>...</td>\n",
              "      <td>66.604167</td>\n",
              "      <td>5.527778</td>\n",
              "      <td>4.319444</td>\n",
              "      <td>5.138889</td>\n",
              "      <td>12.097222</td>\n",
              "      <td>224.965278</td>\n",
              "      <td>4.5625</td>\n",
              "      <td>263.069444</td>\n",
              "      <td>SUB</td>\n",
              "      <td>blue</td>\n",
              "    </tr>\n",
              "    <tr>\n",
              "      <th>2</th>\n",
              "      <td>2</td>\n",
              "      <td>0</td>\n",
              "      <td>38.0</td>\n",
              "      <td>172.0</td>\n",
              "      <td>Kanagawa Japan</td>\n",
              "      <td>721</td>\n",
              "      <td>Tokyo Japan</td>\n",
              "      <td>Takanori Gomi</td>\n",
              "      <td>70</td>\n",
              "      <td>0.00000</td>\n",
              "      <td>...</td>\n",
              "      <td>66.604167</td>\n",
              "      <td>5.527778</td>\n",
              "      <td>4.319444</td>\n",
              "      <td>5.138889</td>\n",
              "      <td>12.097222</td>\n",
              "      <td>224.965278</td>\n",
              "      <td>4.5625</td>\n",
              "      <td>263.069444</td>\n",
              "      <td>KO/TKO</td>\n",
              "      <td>red</td>\n",
              "    </tr>\n",
              "    <tr>\n",
              "      <th>3</th>\n",
              "      <td>0</td>\n",
              "      <td>0</td>\n",
              "      <td>23.0</td>\n",
              "      <td>170.0</td>\n",
              "      <td>Tijuana Mexico</td>\n",
              "      <td>2825</td>\n",
              "      <td>Tijuana Mexico</td>\n",
              "      <td>Brandon Moreno</td>\n",
              "      <td>56</td>\n",
              "      <td>0.03681</td>\n",
              "      <td>...</td>\n",
              "      <td>66.604167</td>\n",
              "      <td>5.527778</td>\n",
              "      <td>4.319444</td>\n",
              "      <td>5.138889</td>\n",
              "      <td>12.097222</td>\n",
              "      <td>224.965278</td>\n",
              "      <td>4.5625</td>\n",
              "      <td>263.069444</td>\n",
              "      <td>SUB</td>\n",
              "      <td>blue</td>\n",
              "    </tr>\n",
              "    <tr>\n",
              "      <th>4</th>\n",
              "      <td>3</td>\n",
              "      <td>1</td>\n",
              "      <td>30.0</td>\n",
              "      <td>167.0</td>\n",
              "      <td>Spokane, WA USA</td>\n",
              "      <td>2260</td>\n",
              "      <td>Spokane, WA USA</td>\n",
              "      <td>Elizabeth Phillips</td>\n",
              "      <td>61</td>\n",
              "      <td>0.00000</td>\n",
              "      <td>...</td>\n",
              "      <td>66.604167</td>\n",
              "      <td>5.527778</td>\n",
              "      <td>4.319444</td>\n",
              "      <td>5.138889</td>\n",
              "      <td>12.097222</td>\n",
              "      <td>224.965278</td>\n",
              "      <td>4.5625</td>\n",
              "      <td>263.069444</td>\n",
              "      <td>DEC</td>\n",
              "      <td>red</td>\n",
              "    </tr>\n",
              "  </tbody>\n",
              "</table>\n",
              "<p>5 rows × 895 columns</p>\n",
              "</div>\n",
              "    <div class=\"colab-df-buttons\">\n",
              "\n",
              "  <div class=\"colab-df-container\">\n",
              "    <button class=\"colab-df-convert\" onclick=\"convertToInteractive('df-b870936e-eae2-4f4e-b222-4cbd5cb6e209')\"\n",
              "            title=\"Convert this dataframe to an interactive table.\"\n",
              "            style=\"display:none;\">\n",
              "\n",
              "  <svg xmlns=\"http://www.w3.org/2000/svg\" height=\"24px\" viewBox=\"0 -960 960 960\">\n",
              "    <path d=\"M120-120v-720h720v720H120Zm60-500h600v-160H180v160Zm220 220h160v-160H400v160Zm0 220h160v-160H400v160ZM180-400h160v-160H180v160Zm440 0h160v-160H620v160ZM180-180h160v-160H180v160Zm440 0h160v-160H620v160Z\"/>\n",
              "  </svg>\n",
              "    </button>\n",
              "\n",
              "  <style>\n",
              "    .colab-df-container {\n",
              "      display:flex;\n",
              "      gap: 12px;\n",
              "    }\n",
              "\n",
              "    .colab-df-convert {\n",
              "      background-color: #E8F0FE;\n",
              "      border: none;\n",
              "      border-radius: 50%;\n",
              "      cursor: pointer;\n",
              "      display: none;\n",
              "      fill: #1967D2;\n",
              "      height: 32px;\n",
              "      padding: 0 0 0 0;\n",
              "      width: 32px;\n",
              "    }\n",
              "\n",
              "    .colab-df-convert:hover {\n",
              "      background-color: #E2EBFA;\n",
              "      box-shadow: 0px 1px 2px rgba(60, 64, 67, 0.3), 0px 1px 3px 1px rgba(60, 64, 67, 0.15);\n",
              "      fill: #174EA6;\n",
              "    }\n",
              "\n",
              "    .colab-df-buttons div {\n",
              "      margin-bottom: 4px;\n",
              "    }\n",
              "\n",
              "    [theme=dark] .colab-df-convert {\n",
              "      background-color: #3B4455;\n",
              "      fill: #D2E3FC;\n",
              "    }\n",
              "\n",
              "    [theme=dark] .colab-df-convert:hover {\n",
              "      background-color: #434B5C;\n",
              "      box-shadow: 0px 1px 3px 1px rgba(0, 0, 0, 0.15);\n",
              "      filter: drop-shadow(0px 1px 2px rgba(0, 0, 0, 0.3));\n",
              "      fill: #FFFFFF;\n",
              "    }\n",
              "  </style>\n",
              "\n",
              "    <script>\n",
              "      const buttonEl =\n",
              "        document.querySelector('#df-b870936e-eae2-4f4e-b222-4cbd5cb6e209 button.colab-df-convert');\n",
              "      buttonEl.style.display =\n",
              "        google.colab.kernel.accessAllowed ? 'block' : 'none';\n",
              "\n",
              "      async function convertToInteractive(key) {\n",
              "        const element = document.querySelector('#df-b870936e-eae2-4f4e-b222-4cbd5cb6e209');\n",
              "        const dataTable =\n",
              "          await google.colab.kernel.invokeFunction('convertToInteractive',\n",
              "                                                    [key], {});\n",
              "        if (!dataTable) return;\n",
              "\n",
              "        const docLinkHtml = 'Like what you see? Visit the ' +\n",
              "          '<a target=\"_blank\" href=https://colab.research.google.com/notebooks/data_table.ipynb>data table notebook</a>'\n",
              "          + ' to learn more about interactive tables.';\n",
              "        element.innerHTML = '';\n",
              "        dataTable['output_type'] = 'display_data';\n",
              "        await google.colab.output.renderOutput(dataTable, element);\n",
              "        const docLink = document.createElement('div');\n",
              "        docLink.innerHTML = docLinkHtml;\n",
              "        element.appendChild(docLink);\n",
              "      }\n",
              "    </script>\n",
              "  </div>\n",
              "\n",
              "\n",
              "<div id=\"df-b297c73f-6b8e-4005-b28b-e591149d573f\">\n",
              "  <button class=\"colab-df-quickchart\" onclick=\"quickchart('df-b297c73f-6b8e-4005-b28b-e591149d573f')\"\n",
              "            title=\"Suggest charts\"\n",
              "            style=\"display:none;\">\n",
              "\n",
              "<svg xmlns=\"http://www.w3.org/2000/svg\" height=\"24px\"viewBox=\"0 0 24 24\"\n",
              "     width=\"24px\">\n",
              "    <g>\n",
              "        <path d=\"M19 3H5c-1.1 0-2 .9-2 2v14c0 1.1.9 2 2 2h14c1.1 0 2-.9 2-2V5c0-1.1-.9-2-2-2zM9 17H7v-7h2v7zm4 0h-2V7h2v10zm4 0h-2v-4h2v4z\"/>\n",
              "    </g>\n",
              "</svg>\n",
              "  </button>\n",
              "\n",
              "<style>\n",
              "  .colab-df-quickchart {\n",
              "      --bg-color: #E8F0FE;\n",
              "      --fill-color: #1967D2;\n",
              "      --hover-bg-color: #E2EBFA;\n",
              "      --hover-fill-color: #174EA6;\n",
              "      --disabled-fill-color: #AAA;\n",
              "      --disabled-bg-color: #DDD;\n",
              "  }\n",
              "\n",
              "  [theme=dark] .colab-df-quickchart {\n",
              "      --bg-color: #3B4455;\n",
              "      --fill-color: #D2E3FC;\n",
              "      --hover-bg-color: #434B5C;\n",
              "      --hover-fill-color: #FFFFFF;\n",
              "      --disabled-bg-color: #3B4455;\n",
              "      --disabled-fill-color: #666;\n",
              "  }\n",
              "\n",
              "  .colab-df-quickchart {\n",
              "    background-color: var(--bg-color);\n",
              "    border: none;\n",
              "    border-radius: 50%;\n",
              "    cursor: pointer;\n",
              "    display: none;\n",
              "    fill: var(--fill-color);\n",
              "    height: 32px;\n",
              "    padding: 0;\n",
              "    width: 32px;\n",
              "  }\n",
              "\n",
              "  .colab-df-quickchart:hover {\n",
              "    background-color: var(--hover-bg-color);\n",
              "    box-shadow: 0 1px 2px rgba(60, 64, 67, 0.3), 0 1px 3px 1px rgba(60, 64, 67, 0.15);\n",
              "    fill: var(--button-hover-fill-color);\n",
              "  }\n",
              "\n",
              "  .colab-df-quickchart-complete:disabled,\n",
              "  .colab-df-quickchart-complete:disabled:hover {\n",
              "    background-color: var(--disabled-bg-color);\n",
              "    fill: var(--disabled-fill-color);\n",
              "    box-shadow: none;\n",
              "  }\n",
              "\n",
              "  .colab-df-spinner {\n",
              "    border: 2px solid var(--fill-color);\n",
              "    border-color: transparent;\n",
              "    border-bottom-color: var(--fill-color);\n",
              "    animation:\n",
              "      spin 1s steps(1) infinite;\n",
              "  }\n",
              "\n",
              "  @keyframes spin {\n",
              "    0% {\n",
              "      border-color: transparent;\n",
              "      border-bottom-color: var(--fill-color);\n",
              "      border-left-color: var(--fill-color);\n",
              "    }\n",
              "    20% {\n",
              "      border-color: transparent;\n",
              "      border-left-color: var(--fill-color);\n",
              "      border-top-color: var(--fill-color);\n",
              "    }\n",
              "    30% {\n",
              "      border-color: transparent;\n",
              "      border-left-color: var(--fill-color);\n",
              "      border-top-color: var(--fill-color);\n",
              "      border-right-color: var(--fill-color);\n",
              "    }\n",
              "    40% {\n",
              "      border-color: transparent;\n",
              "      border-right-color: var(--fill-color);\n",
              "      border-top-color: var(--fill-color);\n",
              "    }\n",
              "    60% {\n",
              "      border-color: transparent;\n",
              "      border-right-color: var(--fill-color);\n",
              "    }\n",
              "    80% {\n",
              "      border-color: transparent;\n",
              "      border-right-color: var(--fill-color);\n",
              "      border-bottom-color: var(--fill-color);\n",
              "    }\n",
              "    90% {\n",
              "      border-color: transparent;\n",
              "      border-bottom-color: var(--fill-color);\n",
              "    }\n",
              "  }\n",
              "</style>\n",
              "\n",
              "  <script>\n",
              "    async function quickchart(key) {\n",
              "      const quickchartButtonEl =\n",
              "        document.querySelector('#' + key + ' button');\n",
              "      quickchartButtonEl.disabled = true;  // To prevent multiple clicks.\n",
              "      quickchartButtonEl.classList.add('colab-df-spinner');\n",
              "      try {\n",
              "        const charts = await google.colab.kernel.invokeFunction(\n",
              "            'suggestCharts', [key], {});\n",
              "      } catch (error) {\n",
              "        console.error('Error during call to suggestCharts:', error);\n",
              "      }\n",
              "      quickchartButtonEl.classList.remove('colab-df-spinner');\n",
              "      quickchartButtonEl.classList.add('colab-df-quickchart-complete');\n",
              "    }\n",
              "    (() => {\n",
              "      let quickchartButtonEl =\n",
              "        document.querySelector('#df-b297c73f-6b8e-4005-b28b-e591149d573f button');\n",
              "      quickchartButtonEl.style.display =\n",
              "        google.colab.kernel.accessAllowed ? 'block' : 'none';\n",
              "    })();\n",
              "  </script>\n",
              "</div>\n",
              "\n",
              "    </div>\n",
              "  </div>\n"
            ],
            "application/vnd.google.colaboratory.intrinsic+json": {
              "type": "dataframe",
              "variable_name": "ufc"
            }
          },
          "metadata": {},
          "execution_count": 23
        }
      ]
    },
    {
      "cell_type": "markdown",
      "source": [
        "### Distribuição de Idades dos Lutadores\n",
        "Crie um histograma que mostre a distribuição das idades dos lutadores nos corners vermelho e azul, e comente as tendências observadas."
      ],
      "metadata": {
        "id": "9WR8hYWFfTGL"
      }
    },
    {
      "cell_type": "code",
      "source": [
        "# Define o tamanho da figura\n",
        "plt.figure(figsize=(10, 6))\n",
        "\n",
        "# Cria os histogramas\n",
        "plt.hist(ufc['R_Age'], bins=20, alpha=0.7, label='Corner Vermelho (R_Age)', color='red')\n",
        "plt.hist(ufc['B_Age'], bins=20, alpha=0.7, label='Corner Azul (B_Age)', color='blue')\n",
        "\n",
        "# Adiciona o título e os rótulos dos eixos\n",
        "plt.title('Distribuição das Idades dos Lutadores nos Corners Vermelho e Azul')\n",
        "plt.xlabel('Idade')\n",
        "plt.ylabel('Frequência')\n",
        "\n",
        "# Adiciona a legenda\n",
        "plt.legend()\n",
        "\n",
        "# Exibe o gráfico\n",
        "plt.show()"
      ],
      "metadata": {
        "colab": {
          "base_uri": "https://localhost:8080/",
          "height": 564
        },
        "id": "Ti0TbYltfRbc",
        "outputId": "f569e8cb-8fa6-4f6e-ad55-4a6e5bbc2659"
      },
      "execution_count": 24,
      "outputs": [
        {
          "output_type": "display_data",
          "data": {
            "text/plain": [
              "<Figure size 1000x600 with 1 Axes>"
            ],
            "image/png": "[encoded data removed]"
          },
          "metadata": {}
        }
      ]
    },
    {
      "cell_type": "markdown",
      "source": [
        "Algumas informações que foram possíveis observar são: Os lutadores que possuem 32 anos possuem uma tendência maior a lutar no corner vermelho. Acima dos 35 anos, quase sempre os lutadores tendem a ficar no corner vermelho."
      ],
      "metadata": {
        "id": "Oz4SWZDohVHY"
      }
    },
    {
      "cell_type": "markdown",
      "source": [
        "### Relação entre Altura e Peso\n",
        "Construa um gráfico de dispersão para visualizar a relação entre altura e peso dos lutadores nos corners vermelho e azul."
      ],
      "metadata": {
        "id": "Sr4uJMD2iLwo"
      }
    },
    {
      "cell_type": "code",
      "source": [
        "import matplotlib.pyplot as plt\n",
        "\n",
        "# Define o tamanho da figura\n",
        "plt.figure(figsize=(10, 6))\n",
        "\n",
        "# Gráfico de dispersão para o corner azul\n",
        "plt.scatter(ufc['B_Height'], ufc['B_Weight'], color='blue', label='Corner Azul')\n",
        "\n",
        "# Gráfico de dispersão para o corner vermelho\n",
        "plt.scatter(ufc['R_Height'], ufc['R_Weight'], color='red', label='Corner Vermelho')\n",
        "\n",
        "# Adiciona o título e os rótulos dos eixos\n",
        "plt.title('Relação entre Altura e Peso dos Lutadores')\n",
        "plt.xlabel('Altura (cm)')\n",
        "plt.ylabel('Peso (kg)')\n",
        "\n",
        "# Adiciona a legenda\n",
        "plt.legend()\n",
        "\n",
        "# Exibe o gráfico\n",
        "plt.show()"
      ],
      "metadata": {
        "colab": {
          "base_uri": "https://localhost:8080/",
          "height": 564
        },
        "id": "mI1PYN6Dj0El",
        "outputId": "b472cc27-0f34-4bb8-e598-6216d1868639"
      },
      "execution_count": 25,
      "outputs": [
        {
          "output_type": "display_data",
          "data": {
            "text/plain": [
              "<Figure size 1000x600 with 1 Axes>"
            ],
            "image/png": "[encoded data removed]"
          },
          "metadata": {}
        }
      ]
    },
    {
      "cell_type": "markdown",
      "source": [
        "Esse gráfico não permite nenhuma conclusão significativa, pois como se tratam de lutas onde os lutadores podem se repetir, muitas vezes os pontos estão sobrepostos."
      ],
      "metadata": {
        "id": "80I14JhCk0mJ"
      }
    },
    {
      "cell_type": "markdown",
      "source": [
        "### Métodos de Vitória\n",
        "Crie um gráfico de barras para mostrar os métodos mais comuns de vitória, tais como: decisão (DEC), nocaute (KO/TKO) e submissão (SUB). Comente sobre os métodos de vitória mais frequentes e o que isso pode indicar sobre o estilo dos lutadores."
      ],
      "metadata": {
        "id": "ziCq5lQZld9t"
      }
    },
    {
      "cell_type": "code",
      "source": [
        "# Conta a frequência de cada método de vitória\n",
        "winby_counts = ufc['winby'].value_counts()\n",
        "\n",
        "# Cria o gráfico de barras\n",
        "plt.figure(figsize=(8, 6))\n",
        "winby_counts.plot(kind='bar', color=['blue', 'green', 'red'])\n",
        "\n",
        "# Adiciona título e rótulos\n",
        "plt.title('Métodos Mais Comuns de Vitória')\n",
        "plt.xlabel('Método de Vitória')\n",
        "plt.ylabel('Número de Vitórias')\n",
        "\n",
        "# Exibe o gráfico\n",
        "plt.show()\n"
      ],
      "metadata": {
        "colab": {
          "base_uri": "https://localhost:8080/",
          "height": 601
        },
        "id": "HJDBouonl0b8",
        "outputId": "ccdd72b7-e7df-43fb-ca91-7012ec248d25"
      },
      "execution_count": 26,
      "outputs": [
        {
          "output_type": "display_data",
          "data": {
            "text/plain": [
              "<Figure size 800x600 with 1 Axes>"
            ],
            "image/png": "[encoded data removed]"
          },
          "metadata": {}
        }
      ]
    },
    {
      "cell_type": "markdown",
      "source": [
        "Pôde se observar um número elevado de vitórias por decisão, isso indica que os lutadores tendem a levar as lutas até o final, possivelmente por possuírem estilos mais técnicos ou equilibrados, evitando riscos.\n"
      ],
      "metadata": {
        "id": "ePTE6xLoxkk1"
      }
    },
    {
      "cell_type": "markdown",
      "source": [
        "### Vitórias por Corner\n",
        "Crie um gráfico de pizza para mostrar a quantidade de vitórias de lutadores no corner vermelho e no corner azul."
      ],
      "metadata": {
        "id": "cbL9ClwSyK4U"
      }
    },
    {
      "cell_type": "code",
      "source": [
        "# Filtra apenas as vitórias dos corners vermelho e azul para excluir a \"no contest\"\n",
        "filtered_wins = ufc[ufc['winner'].isin(['red', 'blue'])]\n",
        "\n",
        "# Conta o número de vitórias por corner\n",
        "victories = filtered_wins['winner'].value_counts()\n",
        "\n",
        "# Define novos rótulos para a legenda\n",
        "labels = ['Corner Vermelho', 'Corner Azul']\n",
        "\n",
        "# Cria o gráfico de pizza com os novos rótulos\n",
        "plt.figure(figsize=(6, 6))\n",
        "plt.pie(victories, labels=labels, autopct='%1.1f%%', colors=['red', 'blue'], startangle=90)\n",
        "\n",
        "# Adiciona o título\n",
        "plt.title('Distribuição de Vitórias por Corner')\n",
        "\n",
        "# Exibe o gráfico\n",
        "plt.show()"
      ],
      "metadata": {
        "colab": {
          "base_uri": "https://localhost:8080/",
          "height": 521
        },
        "id": "Byf61z_C0oLO",
        "outputId": "618c8702-8f62-4e80-f658-331ee65e08ad"
      },
      "execution_count": 27,
      "outputs": [
        {
          "output_type": "display_data",
          "data": {
            "text/plain": [
              "<Figure size 600x600 with 1 Axes>"
            ],
            "image/png": "[encoded data removed]"
          },
          "metadata": {}
        }
      ]
    },
    {
      "cell_type": "markdown",
      "source": [
        "## Parte 2: Criando um Ranking dos Lutadores\n",
        "Agora, você deve criar um ranking dos lutadores utilizando a fórmula a seguir, ajustada para usar valores normalizados (entre 0 e 1), garantindo que todas as variáveis contribuam proporcionalmente ao cálculo do ranking:\n",
        "\n",
        "![Captura de tela 2024-10-23 192409.png](data:image/png;base64,iVBORw0KGgoAAAANSUhEUgAAAwkAAADgCAYAAABIOCpbAAAAAXNSR0IArs4c6QAAAARnQU1BAACxjwv8YQUAAAAJcEhZcwAADsMAAA7DAcdvqGQAAFoMSURBVHhe7d0JXBXl+gfwn/sSaIIaWmkpuGRmWXS9ZkUqGWXlza5lWWb/Fr2VmZe6aZZLJi1kSiWapWkaSmKmGJFaVmYWpZmRG5pLIqZoCu7b/33emTnMnAUOCAT4+9b5yJlzzpw578yB55n3ed+pFBQUdBpERERERESmyua/REREREREGpMEIiIiIiJyYJJAREREREQOTBKIiIiIiMiBSQIRERERETkwSSAiIiIiIgcmCURERERE5MAkgYiIiIiIHJgkEBERERGRA5MEIiIiIiJyYJJAREREREQOTBKIiIiIiMiBSQIRERERETkwSSAiIiIiIgcmCURERERE5MAkgYiIiIiIHJgkEBERERGRA5MEIiIiIiJyqBQUFHTa/JmIyolnnhuOa66LQI0aNVG1alUcPXoUx48fR+VKlVCtWjVkZe3E7JnT8dnC+eYrSs6ll12OIS+MQnD9BnpbTp06hdycHMycPgXNQ8PQ6bobUKt2bVRS2ybb+ce2rRg+9GlEdInEvX3/D7Vq1cLp06exf/9fmDzhTaR+usBcc/GSNnPflp2Zf+DF54dg65bf0fj8CzDq5Vg0vaiZflzac83PqzAkeiBOnjxprqV8kza4NqKLbnMhbbApYwOmv/cOnnpmKIKC6+vjR/bhoUOHMDcxAcmfzMVLr72h9mULVK5cudTb5ebbeqDfQwMQEBiot+3EiRNqu49g/W+/6W1oenEzjHjpVb3/hHym9F9WV6j9Zvfa+Am45NLL1He/hr5/+PBhrPrxByxf9jX+79HHEFinjv4eSjsd2L8f7016G9u2bsFzI0bjvJBGrmN/6ZLP8dqYUXodJaVWrdp49LEn9Xe9UuVKqFKlqvrO7cC6335Fm7bt8OroEVi3Nt18NhGVNUwSiMqpVq3bYMSYV1Gnbl1MU0GeJAXihq434vGnntaB4Lvxb2HuR7P08pL29uRpaNn6EqxYvgzDnnnKXApcdXUHDBsVowO8SW+Nw/yP55iPANdcez0GPT0U85JmY9aMaSUe1F1xZTheePFlnSjMeP9ddXvPfMRwwYVNMCZ2vA5k3nh1DLJ2ZpqPVBy3/etOPPr4IBVEHseYEcPw/Xffmo8Ao2Ji0VHtk7Xpv2LQfx5y7I+Y1+NQr14Qxox6HttUUlXarOPrOxUMj3juGde2ValSBc8+PwpXhv8DC+bNUcfRdBU4H9KPVVQPD3gCve65D3/u2qW+a4Pw++ZN5iNA/JQPENaiFb7+cglGPf+sudQI2MdPfA97/tyFV8eMxF/79pmPlIxz69XD6FfewPkXXIip707EQpVsNmh4Hp5XvwtkP/726y946rFHKmQiR1RRsNyIqJySM6jnBATi2NFj+H1ThrkU+HLx5yp4yEL16jUQoRKG0pK9Z7f+N7h+ff2vRZIY6eFQ/6Na9ermUkO3m29F5o7tmJs4q1SChb3Ze3Do0EF9prVO3XPNpXnu6NVbJzMzp00p8wmCBGF3/Ptu/W9hZO74Q/cGyOeUAM4iwbYkT6K62376Z6fr0KTpxfh0wby/JUG4uFlz9TmD9DGy5ffNrmNFB6KvvoEWLVupgPh/mDp5YrlKEKQX7qZbbjPv+U++a8ePH1Pf/wDdg2eR9pDvvahu9jRYorrfhgD1/KTEhBJPEMQ99z+Ii5uH4uM5szF/7kd6n8l3asnnKTh27Ci2btnCBIGojGOSQFROSeBUs2ZNZKvAd8P6teZSoOF5IfqsoXb6tA7+SlPlSpVd7yn/3trjTtQ+5xyoNMGxLdLj0TysBebM/rDUArs/tm/TpVAiJKSR/tdyefsr0VEFw0s+/wy//LzSXFp2hYa1RM+77kXLVpeYSwqvUuW8PwE3RnXXvVNCllvBpuyz2+/4NzZnbMDC+R/rZaVNEpSAwAAcOXJYl6roZRddrHs3atasheeHROPnlT/p5eWJ9KT96867ivwdlcTb/lpZl5X42ZdL8iAJufTy/ZT2vbm05NSpUxdXXnW17q1a71ZOtOOP7cg5kIO16WvMJURUVjFJICqnmjUP0/XFu3Zmqj+6B8ylcnayHYKCgnH82DEVFHxbamfrZByEsAeYElw2atxYjzeQXoT6DRrq5RLA3PqvO/GbChSWf/OVXlYapC2khltI4mKR7bm7zwPYs3u3SlpmmksrJjkLfTA315G0SVB3y23/wu7df+r755wTgJBGRhIlyYMEnvOSEv+2M78tWrVG7drn4K+9e7EpYyP+8c9rEBMbh8w//sDQ6Cf/lt6Nv5ME2tIbJKRXTDRVSdP1nSOx+89d+r78DrD2ryQP8rxP1D4sDfWCglCzVi19skLGTtkTlgPqd1XyJ0lY+eMP5hIiKquYJBCVQ9Jb0DAkRA/4lUGJVvAmZ1fvuud+HZB/sTgVH5fSeARx8sQJ/a8VYIY0aqwDTzlzeejgQf2YRZKH+vUbYMHHSaUeeB5QCYsIDKxjC6LuxkXNmmPuR6VTivF3kkHJwGlH0tbzrt66LEx6UOSYsljJg5yl/3nlj+bS0ieldZIQ/6kCYBl8PmT4aN2zIHX3FX38gTfynZHdJCVjIY3P18ukvOfgwVxssY1PEFby8JVqKxmgXxrkfXZl7dQD3W++tQcWLPpKj5V44KFH9fZ9MPXdCjneh6iiYZJAVA5JqZGcrZOA7up/XoO33nkfk6fPwoR3p+sahJdHvaBnLvEVQEmpz6x5n2LeZ1/6dZPnymvyIzPO2AN+qe+XbUn88APk5uaV+FjJw48/rHCU9fR7uD8S5iZj8bI0/a/MxCOujeis73/+9fd4b0aiLps4E3IWVgSoJKFJ04t0EHXrv3oibcV3+OqLxfqxikx6Uqyz0EI+f0SXG3XALWfk7bXuVvJg1ZTbyeDZ6bM/du0vKf2RdQ2KHoLPln6H+alLMfbtd3QvwJmQhFgGlAsZlyADdoUko+3Dr9Y/n22OHDmCE2o/WWTMiIxvSF24QJfUCZkNStrNSh7mf/yRXm4nSbJ872bOWYBJU2diTvLnmDLzIz0hwpmKj3sDmzZu0Emp9CzKYOo+DzyE19+aqMufiKjsY5JAVA61bnOprsWW0oKRzz2Dxx95AAs+nqOnPQwICNSDU/Mjg5vv7nEzetx0g183ea68Jj8y3eLJkyd0gNm6TVt06NgJiz/71HH2srIKSiR5OKECTkke7GTQqUx/KsHor2tW49WXRurlUo4kgf03S7/AI317+5wiVYJRCVILIuUOEiTXrFUTgXXq6iBKzlJ7C4QrIhnUbiWPkrT1vOseHUTKVKcW1Rw6SZAz0ItTU7BxwzrzkTyT49/Eb7+u0cfc5ynJGPLfgXpqzcYXXIhVP6XhkQfuweDHHsGGdXnjZez83V8XXdwM555rBJUyBmfsqy8h7fvl+r7MVmUlEGeTnAP7dVtL8N2gQUPdM7fl901YpL5veSrpaUYvubStPra99ZBJote9R0/M/nA6Hu13r/5OSlK29ffN5jOcpHxIkhF/gnw5ZmSdff59O+LffAPrfkvXCYPszy43RpnPIqKyjEkCUTkk4xHkLKAkA9aZQ5laVOb9Py8kBJ0ju+llfwcJMOXM9N7sbF3HLrL37NH/BgUH6+RhUcpCr+UGVqLRoMF55hLgrnv7ol5QcL5TpMrZ5fET3kXcpCm4/oau5lLvDubm6GBFarQlyLwy/GqkLPjEayBcVox5bZxH787zL8agfoMGeG7ESx6PyfP9IcHe5e2vwmfJ8/X+sGrdZbxCl8ibfJ6BFnL8SY/WkcOHdSIoU5COfnWsOh636ilw8ysnKcz+ah7WEjVUciAJ8SsvDseKb7/Bqh/T9Nl0mVJTrvtQ1knSPC0hyWM/SYAupVRzP13sWD534WLc3aev+er8yetlzIhc00KSvz17duvZg6QUKar77bq8RxI9d1JKFv6PfyJXJc0/mNPgbs7YqGcAW7f2N33f3QujX8a4CZPxetxE/XpvpOTx/gcf0T2GQpLSpNkf6rEj27duUdtVXSc2RFT28ToJROWM/HF+4+139B/jeXNm4+3xr+vlclZW5viXM4HyR3niW/4FisXFuh5C7dq19cDYiW+9gdRPk/Vj1vz7In3Najw7eKDXUihrHTK49ukn/4Pg4PoYMvxFfYY04YOp5rM8SQnSf54crALWI3j1pRH5zuBivYeclZYAd8P6dRg+JNq1PRL8PvvCKFx51T90CVVOTo6epUUSl3cnvqV7MuQ5/R8fhKs7dNRB2QUXNkViwgc66GrRsjVOnT6F/X/9hbrnnqsSok9x2eVX4IImTfQya3yGBOiZmTv0WI7G51+oA/Qh/33C794M+RxPPfMc4l5/2XGtA39Y+0MGt6/5ZbXr81ttI1NlHj50SPcW2K9rYSdnlEe89Irumfli0We4/Y5e+noXMn1sQQqzv4aPfkWXnNnn1ZfvwGtx8fpifSvTfsAzTz1mPtsgbTts5BiEtWyl29warC69bK+NGaHHWMj35/Eno1FXPfe0SholqJ4c/xbu6/eQ3leybbk5B3Rv03cqMZG2kXEQu7Ky1GOHdIIiSe1RFZAfVQlLM7UtnyR9hOlT3tHv5Q+50Fj7q67Gfx66v9C9WNb1ECQhWPJ5Ksa9NkavQ6bFfWjA47qX4a99exEz6gWv7Wu1ofzekBmIPlWJckFjPP73/Eh07tpN9yBJ0O/tuTLuQPbvS8Of0z2CFvnOSDnk+Rc2wQT1O0um05VexX/ffa/uoZAxDNIrdV6jRvh++TLXhd5693kA3W65VScv51/QBF99uViXCZbW94zobMaeBKJyRqYNlSvjSrmB/SJKrS65VM/9LzXlMkuN/OGVKS3lj7O7wo5JmD0vBV273Wy+On8yWPHXX352nL2Uq/cKOTMtwYGvQMSqtZYAPjAwEPf0fVAHB3IhpvxI4H57txtwV4+oAqd4tGb3Ma5KexyzZ05zbI+cEZerC2dlZeoZkFLU9k6ZNEEP9JWeByEJwo03d8f8eUl4ZtBjOhi7+96+aHT+Bbp3R8qX5IJkckXs0BYt9OeRmXnk+gNTJ8fj+xXf6t4RCdJfeDYamzauR7PmzfUZ59Ik7S0XILM+v73Wfe1v6W7lK05yQSxpH0lKe9x5lw7GZFpWf/i7vySQlYBQ2OfVP3Bgvz77LfdDW7TUAbydBLJ1z62n21zK8qZMehupC+fr8RXScyLb+szQ4Wp/nY9YFYzKPqnfsCEe6v+4Pi7kdRJ8b9++Ve+zNpe2xa5dxuxdUurzgkqq5Dt2YdOm+PH77/DWG6/phFMC/tK2b+8+R6ncQRUcnzx5So9X+u7bZT4HnEsbfpQwQ/fyyXH39NAX8MFH89DhmmvNZ3iSnpxu16vk9LGHfX6HL2lzmb5Gg5QW2snYKUmspGdj+bKv9O8luRLz9q2qjWtU1z2iA/s/qHuMpExKjisphbv7vr5IW7Ecgx9/VPf2Rd1yGy5sclG5+p4RlVdMEojKGUkGZHpBCVakPMCXe+7vp8+Ie6vZLuyYBAnmFqf6DhiFXH9AzrDuUcHTR7NmOs7U7dubrYOWn3/60Wvpg8Wqta6hgozrbuiiL5IlJUsS0BQXCaIkkZKzltIO7kGqXHNiQtxYPeVmVmYmvv3mK4S1bK2Dmt83Z+izt52uv0EHV99+vVQPoJXAUsqs3p88UZ/VlNe98/Z43Bp5nT4j+uEH7+uxGpLUyVn/885rhGPqcy5dssh1UTNZn5RmlIZ9KqmR/bFMbb99Clqr/WXKWikz8hUICmmHypWr4KcfVuD1l0fr17RWwbR1rYXiYCXEErBLGZNdmgrOZUC8BP7S02Ann0vK06TNN2Vs0G0uZTlyNllmA5NpXZuFhuoz4hJ4SiIhZH3SAyfJtlygcMTQZ9AjqrO+QrFcn6Fq1Wr4QQWscpZeEpisnTvxecpCXHRxc/Vegdi+bYteT2nI2X9AB7+ScNlL5SQJlu+elHvlN85Gfi/8+MN3uPfOW9Hr9pv0oP266nNfq47topJ1SuIl67lXJfhWyZEkHo8PelodT4cxY9p7rvERMrj5QM5+fUHIb79Zqo8puaq3XPFcki7ZT9Zjonq16rqeUcZflYfvGVF5xySBqJyQAbYff7oE9z/4sP6DJwNLXxn3lp5NRkgQ/92yr3Hi+An0vu8BdI68CXNUsF5a0x7uVYnAurXpSEme73Exsp0qYJFgfNbM6T6DFiHbKgmBnKG+vWcvPZf6sq++NB8tHhIgSOmKtJVcfdadBDBVKlfWs0dtU0GfPF/KGCRokcDr6n921EHkH9u26vsSyErJikzPKb0fErTKWVErsZHXy5nrmrVqI2PDep1sSC2/PC7bIb0TwQ0a6uDVPrd9SZJrDcjsUu5BpARxEnDKIGZpH1+szyBtIuUf8tyN69fp8jD3gL0oJKiUGZNGvfw6AuvU0UG5zIzz9rvTdNIgvVovvBijA3Uh02zK86UESri3uTxPkms5RqVE6LLL2+vnWRf6kt4ICUDlLLc8T86ES0JokcHXckE3SZrkZ2t2MesYuPzKq/RVxSWx8GcwdnGQ/SRlUO5jRuS4koRGLlJoTx7sZBvlStXWTGFyzMs1S6QnSZL8opIeOPHepAk6eX73g9l6lqtnhxlJ1pDogXpMiZDjbsO633DhhU2x/y/1/iphu+yK9nrWsc2bNuqTBA0bnqf35eaMDJ1wyHgr2X9QCXl5+J4RlXdMEojKiQ+nT8G/bu6CqBs6omuncNx43T90yca42Bj9uPzRHTNyGG7rFoE7u9+ozxDaZ6wpafJHWs68TntvkrkkjwSjzw5+wq+rrMoZUgkK9+3dq5OckiAzJ40c9j8d4HnTTAU7cpZcgg05uykzsmzb+rtO1OSssZQpSS26kNKtqlWq4rOFC/TAbDnbLEGOnZTMnDh+3NUTIWdB/9y1Swc5Mn2lJCXiif8+o0sySprsD5mNyD2ItPbh1Hfi803mpFwjuH59V3AnZPYp6YWQgelW8F5UEkj2vqO7PkMsx7rc5OfHHuqry88kIb7z1m6IvPZq/Zj8K8+XMjeLvc0lQJSAc4dq7wFPPKV7qqQkR4JiCSwlKdmxY7u+orQE0HKG3p5cy+dppILU7N27dU27HB+yn2XdUhYj65exKTLOw5qitaTJeJFRzz/rOitvkSRGvmv5XThNEiFJ6OSsvZDSxOtUcrcrK1Ml5cZZ+6KQhPG+Xiph+2CqnnGte9dr9e8j6Y158YUhHhe9s74LMmZAvovSjjIORM74SwIjV9g+eeqkDvTlpMe5KjFb+sXnuqyoPHzPiMo7JglEVKbI2V49dkEFbKXVC+KueViYHrgrZ5ZzVNCSm5ury1UkQJUB2Us+/wyXtm2H8fHv6oBZSlQk8JbeHampXrN6lbkmw8XNQ/GXCqhl3vhmat1ytlPOrEogLrXVMgBTpgSVgd6+Ehd31vvILFKlScZjPPXMUD2gV+r+H1X3JSCL6Bypy64uVIGa9HBZZ+v/LvY2379/nw44ZSDzRpX4yWB/SQDvvPtevPz6mzohHTPyeZ00SdIgPUhW8iOkNEl6iyTYlERKjg8Z1yLPkfIe2RfSwyE9EPPm+H9V4y2/b9Zn8Etba5UkSGAuZXMfJM7Dux/MUsH4Kbz+8ks+ex9KgvVdkO+ZkLE9tWrX1r0LM95/VydtMhOSXG/jxqhb9BStMj6oNL9nRGczzm5ERGWKnJmVs75rzT/uREREVPqYJBARERERkQPLjYiIiIiIyIFJAhEREREROTBJICIiIiIiByYJRERERETkwCSBiIiIiIgcmCQQEREREZEDkwQiIiIiInJgkkBERERERA5MEoiIiIiIyIFJAhEREREROTBJICIiIiIiByYJRERERETkwCSBiIiIiIgcmCQQEREREZEDkwQiIiIiInJgkkBERERERA5MEoiIiIiIyIFJAhEREREROTBJICIiIiIiByYJRERERETkwCSBiIiIiIgcmCQQEREREZEDkwQiIiIiInJgkkBERERERA5MEoiIiIiIyIFJAhEREREROTBJICIiIiIihzKaJEQiJiUN82IjzftERERERFRaipYkDJyBxcvSHDcG9EREREREFUMhkwTjDP/iXkBSp3B0dd0SkNVhDBanjEeE+UwiIiIiIiqfCpUkRMQOQXjgepUg9EG8ucwwFv07DUUaOmIQexSIiIiIiMq1QiQJg3F3h0BkJLonCJZFGJKyHgEd+mKAucQoS5qBAV3GY56tNGniQPNxi9vj82Lbmg84DZia95zFy75ATBfzAbVtE/XrmKAQEREREZ0p/5OELk0RghzsSzfve5OejVw0RhNX8C5aomc0MM4sTRq9IgehvVTiYD6qE4SRHZGVmFe+lBrcG+GB5uMmSRB6IsH1nK6JmQgfaU8UiIiIiIioOBRyTEImti0xf/RmyVZkmT/myUFa7JNYat5bGp2MDJU4tDN7Ewb06YiAjQnoH2fcF/H9hiItx7wjVCLRLWw9kvqNNRcocdPUcwLROkp6D6TcKRw9ohcZjxERERERUZEVMklw7yVwo3sb3OWXWESiiXpBxipb8O9Nm2AESI+Eq9RIbmM8ehuIiIiIiOjM+Z8k6F6CQNRrY973RgfzBfQ2FFXOcoy2So1sN/YeEBEREREVr0L0JIzFLBlPEOVrmtNIxES1RO6KaT4GNvsWesVg8ydLW9Sz9xLIWIfAtujG8QdERERERCWuUOVGS6Nj9DSnw2TGInOZQWYXGoNwLMe4Qp3ZN2ZEQlhvx4xHA6b2Rqj5s7YkGWtzAhEe7UxQBky1toOzGxERERERFZdCjklQQX2UzFDU2G18QG9AZieKyhug7Le4PuiauB6hvfLW126V28Bl/b7GdRiG2d63W3bhey2IiIiIiCh/lYKCgk6bPxMRERERERW2J4GIiIiIiCo6JglEREREROTAJIGIiIiIiByYJBARERERkQOTBCIiIiIicmCSQEREREREDkwSiIiIiIjIgUkCERERERE5MEkgIiIiIiIHJglEREREROTAJIGIiIiIiByYJBARERERkQOTBCIiIiIicmCSQEREREREDkwSiIiIiIjIgUkCERERERE5MEkgIiIiIiIHJglEREREROTAJIGIiIiIiByYJBARERERkQOTBCIiIiIicmCSQEREREREDkwSiIiIiIjIgUkCERERERE5MEkgIiIiIiIHJglEREREROTAJIGIiIiIiByYJBARERERkQOTBCIiIiIicmCSQEREREREDkwSiIiIiIjIoVJQUNBp8+cy7dLLLseQF0YhKLg+qlWrhlOnTuHw4UNY8HES3p34ln7O/Q8+jN59HkC16tVx+vRp7N//FyZPeBOpny7QjxMRERERUcHKTU/Cr7/8jHvvvA0rvv1G39++bSv63n2HK0EQ06dMxtw5s5Bz4ADeHPsq7ux+IxMEbTAmLkvDvNhI8355F4mYlJL9PAOmpmFxynhEmPf9oV8zdbB5rwADZ2Dxsi8Q08W8T97pdpqBAebdouyXwin5Y4uIiKg8KHflRlk7M/W/NWvWQr16QfpnS1iLVojoHIllXy/Fwvkfm0srBh0cqUB/4kBzgYORBHh/DIiI7Y7QjQnoEb3IXELFTgWzPUOWY3S/seaCv19E7BeOAJtKRsknLkRERKWv3CUJe/bsxrFjR3FOQACC6zcwlxruvPteHD16FHNmzcDJkyfNpRVLaK9CBn1dxmNQh0wklaHgtTyI7xeOrlFPYql53/2MtlMkYqIaIy3W9vyCxPVB106dMWSJeb+46f0OpA3vg3hzUUXgsV/KgPh+Q5GGjhjE3gciIqpAyl2SkJuToxKAU6hcqRLq1K1rLgVu6HojrrgyXPcgbN3yu7m0gtm4HGk5LdHT35IWLRnjOlWsQLEsSo0twYC/CCKi2iJgY3KZ2qaKaxGGpKxHQIe+7LUhIqIKo8SThKCgYPxv2AgkfvKZvsnPsqyosvfs1r0EVatVRT1zPefWq4d/9+6DjRvW4dP58/SyimkrhsQuR25Yb5+lRQYpPzLr3Zcscp11ddbMW7XXg/W/UsqUV85klC85l9k5H3eWWniuN+/1xmOu1zkey0eX8Zhne8282LbmA3b5bZMbH70CujzHfJ29rfTPvVqqn1SCptdvf6287xgMG2m+r8c4Ax/t4WUbrJIy6+ZsG/e2y288QyS6tQlExipb75H1fm5tWeC+Lezn0f+arzXb0ih7ci7L4/5+nvvFznEM29/LfrO9R/5tqvh1bLl9Brm5J+pxK5Ghjo92Hu1JRERUPpV4kjBg4GBE3nQLgoKD9U1+lmVFtfvPXTiYm4Pq1WvgvJBGetnd9/bFuefWw+yZ0/WMR2WTZ4Bsv/k9UHLJkxi3IqfwZUc+BHToDsSGo2uncIzW65Xt6Y59w+3L7O8lQV1vINF4XG5JWR0xzC34s6+3f5wsMYLp8KwE1+u6Dl+OEPV++X52CeJGdkSW7f1Sg3sjPNB8XPNvm1y8BnSDcXcHFVineJay6BKXxPXqp/VI0us3e2Z0gNkbISuGut63a2ImwlXC4B6MeraHG7Wudtn29axX7Z4XoA+Y6my70SuMsTledemO1oHrsdrjfVSSEw2Mc63Dbd+e8edR679ipfnaBGQEqn2gju1hwcmOZfaynIjY9q5jTW5JG9U6fO03d7pkK++1rn1klSMV0Kb+HVtGojFMSvas9XQairSQ3m4JzxrsywFCmrDkiIiIKoYSTxLCO3Q0f8rjbZm/9u3diyOHD+uf6wUF4fL2VyKiSyS+/Xopfvl5pV5eNi3CkKi8YMT9VphBxUujY4pQduRd7ooYV0nK0uhkFTx7W5YXUFuDoO2BbvyM5cgNbItu9jPObqUu+nU5bgN7zYQnoE13n0HhgD4dEeD+flIDrgIyi9/b5DIWqzcCoVfY2m9ge4SqANMzsPbN2jbHvlOBa5L7ukVBpT+qLfo71iOJTCDqtZE7kWgSovZL9hr9kFga3cf3+toEIyAnG2vNu3lyHOMm3PftmX8eFaC79u9YzFL71tsy+/52/xzxq1SgHxiM1uZ9v0nA36slMhJtpXX5tql/x5ast1uYajfH2A71XZYePcfxtQjbslTyFOy9J4KIiKi8KXdjEg4c2I8jR47onwMCAnF3nwewb99eJCUm6GVnBzNIKbDsqGiytvlOWFoHBwLqfR09ISNVsGU+brEHtEJel5ue7HGWfmnKGhVs+QoKjeDYUTbjhb/bZKeTiLD2rrPoA65oqZKjaYUYu+F723SgG9LUkfi4t4dX+ky+9Rl6q6TFYtW8j1HLz6QHKRPbfCYqJfB5hNdkxclRyqPLugorEjHRngG/5rNN/Tu2jIRrDVLd221JMtbm5CUcYm22PbsgIiIq30o8SUhbsdz8KY+3ZYUh4xLEJZe2RWiLlpg3Z7ZratSyq5jKjSzFXHZUGLn2chTX7e8duFvobdJBnnUWfTDaheVgbYrv5Kik6dr5kW2x1lV6k6B7dVzM0prRKxp7GRdRXhnjEYa1WYPR1j7TJUOFExE7BOHwnH62wDYlIiIin0o8SYiPG4tFny3E3uxsfZOfZdmZyMraqf+tXfscrPpJBQKpKfq+RQYyx8bF45PULzF99seY9P6H+jZzzgJdniSaXHQxXn3jbb184pQZeO+D2bj/wUf0c+R1Mz76BNNmzdWPy9Sq1vJ3piUgbuJ7SJibjElTZyJu0hS8Nn4CkhYu0q/3rfjKjSx5ZUdNdT20k/Msp3Xm9EzJ2dL8yoN88fU6PQtPAWebPUpd0Bb1bHXjRdumRUhNV0mWrFtKjbydLc6XUV7iuW1GrwSytnr0mvgmSQqQkVhworU0urM6XiTYLe5BssX5efxklni5xhAURRdzqleP6Wf9a9OCji2kZ3svW9PjPnKwL928r+geLSIiogqixJOEvXuz8croEeh1+036Jj/LsjNx6GCunuFIeg8SZ37gcU2Ezl27oe659fDX3r36omtTJr2N1IXz9ZSpl7e/SicRzwwdjkbnn4/YMaMwdXI86jdsiO6334Edf2zX69i+dQtOnDiBypUr45prr8euXUZiknNgP14YEo3du//EhU2b4sfvv8Nbb7ymx0m0v+pq/ZzSY5UddXQbbGnW3EflDazUZ1uLIYYxyoPc54QfjIkFjI/Q9e8ykNX+PB3geR8sbDDKbKSUyF5WNWCqvWzkDLcprD0mqiDY9zaYJFhEYzSxBYtGyVJvZy/QwBnoKTXsMwqTCHsOenV+xkjETPVzMK/QgW3h6/qL7/P4yaNN1T4rVLmRev7IjoBtDE2egtrUv2NLeuxSNwYifKS958Yqb7KPyzCScL/LsIiIiMq4cjcmQWzK2Ij0NasxZ/aHetpTd3LF5VkzpukLrm3K2IDvv/sWTS9uhpMq6N+mgv8bo7qjWWgofvt1jX69JBIic8cf2Lh+LapWrYY0Ffz/X59eePj+uxH/5htY99uvevkPK5brmZXq1KmrkpSd+DxlIS66uLl6r0Bs37ZFr6dUmWVH7uL75c0uI+VMgxCjB6CeMfV+PYYvB3R9vLFuPRtSgUHkWPSXM+D2sQNmKYhHHbmdlNnoWWms90pDu1Vug0vPYJtWb2yJ0DA/Biy7gkVZtxkwenvfXkBSoUuvjGTPvp52q9xKY0Ly9qXU1stMTj7bbclWZBWlp6HYPo+f1PuNWwGzTeXWHqsLUW5kBfTGWA1rHeqmZx3yo039ObYUmd1Kz7pkPmfxsjFonT4UXR3lTUYPRH7jeYiIiMqTSkFBQafNnyuUnnfdg34PD8DHH83CRwkz8FpcPKpVq4YJ419HjzvvQvurwvFu/FuYqx7/v0cfw53q+amfJqPx+Rfg4uaheGnEUPy88idzbcDoV99Aq0va4KXhz6kkoTqGjhiN1epx6VV4MvpZdIm8Ce+/OxE/pX1fcS/mRuWG1OP3RIJbIEslRq7ZoBMqXriQiIgqhnLZk+CPJk0vwonjx/H75gx9JeaGDc/Dju3bMOCJp1CjRg191WaZJUlKjzpccy127NiO75Z9jYYhIdibvQeZO3aYa4LuNWjUqDGyd+/W5UjNQlvoXgVZd8PzQvT69+zZjY7XXo9e99xnvoro72OUDnXP54JrVHwiERNV2NmxiIiIyrYKmyRIb8Bff+3Dpo0bsH//PpUQHEZYy1bYuGE93h7/OjLUvzIg+eXX39TXXhgz8nnk5B5AJfXadWvT8eeuLGNFipQm1VXJxB8qyZDlzcPCcDA3V5cryUxLcoG3oOD6qK6Sj3lzEs1XEf2NXKU8FWEWpLJNX+gOyzGuCJMPEBERlVUVttyIiIiIiIiKpsL2JBARERERUdEwSSAiIiIiIgcmCURERERE5MAkgYiIiIiIHJgkEBERERGRA5MEIiIiIiJyYJJAREREREQOTBKIiIiIiMiBSQIRERERETkwSSAiIiIiIgcmCURERERE5MAkgYiIiIiIHJgkEBERERGRQ6WgoKDT5s/lxpAXXkSHazqhVq3aqFy5Mo4ePYpj6vbxnNmYPuUd3NGrNx585D+oWbMmTp8+jUOHDiJpdoJ+jIiIiIiI8lcuexJiRj2PEUOfwcHcXBw7dhRT34nHv27u4koCfvxhBf7clYWtv2/G6BeG4vZuN5y9CUKX8Zi3LA0TB5r3/aFf8wViupj38xWJmJQ0LJ462LxP9DdyP3aLcvwX1sAZWLxsBgaYd4mIiCqCcltu1Cw0DDVq1sChQ4ewKWODuRS4MvwfGPPaOOzYvg3/HdgfX3252HykAiko8NFBi79BvjsV9Ed3RFZiZwxZYi6is0NpBNTEdiYionKh3CYJTZpehOrVa2BvdjbW/Zaul3W7+VY889wIfPvNVxgz8nn8tW+fXl7hLEnG2hwg9ArvZ+8HXNES2JhsBPlLnkSPTuHoH2c8BgzGxHwTjL4Iz0qwPb8gizAkKhxd+40171PpMXpx5sVGmvfPhJEcYsXQQuz7csDj+C8DZJsS1yO0F3sfiIio7Cq3SUJomAqEla1bNuPw4UN4+D9P4KH+jyMx4QPEx43VyyquRUhNV1lCWHsvQcZgtAsDMlYVLWiPSJ/GgP9s1KU7WgeuR2r0InMBlai4aUjLaYluxZLgERERFb8SH7gcFBSsA/grwzvo+z+lrcDkCW9i795sfb8oLm7WHKNfHYeg4GDMnjkNFza5CNdcF6FLjJ567BEcOLDffGZFJj0CvYFEt7OkUmrUC0jq1Afxcl9KG0a2xdrhnTGkjTxmJFeWDNvrI2K/wLAOgcYdsTHBkTAMmJqGnkhAEnqjp0pEclcMRY9oICZlDFqny89GgOm+HuN5tuBTb6NtO9zeJ4+cKTfWPQ5DbOtcn/f5XIz2CDXvATlIk8/sKpmy1pWAtW16I1ytyv7ZXVztlYx6I/PW5/EZlILaS3P/rDnLMTrqSSxVP+bbTvK6qGzXcw22fZ4u29kRAeYjwv5693V7/aw2+vnByXnbX4zt4PW4SelurD9xDVr3sj6HuV8dbea5r/NtN/vxLvvecd/9GLHkHSv5rtukP4/6HAa1fYlAT/t3TuSz3y36vdqs8VhORERUFpR4T8KAgYMRedMtOqCXm/wsy85Ei1aXoE7dujhx4gSuvb4z2rS9DKdPnUL9hg1xxZXh5rPKA6NcZPEy77f8y0jGYvVGz5Ijo9RopVsAbYrrg66dEpChfpSgsautDEMCn2EdMlWgYyzv2mko0kJ6Y3HKeEQYTzGE9Ua7VcZz3IMnw2DcLcGmtZ7hy4EOY/LKmyRo69VYBWXW+xjbk58A9fpBiHGtM2ljS/S0DxSVdargL0QFdK73TcxE+EjPsqqADt2BWOM5voPmQPXa9ljtWtd69bohjjEe/rSXBIGLHZ9VPSfLfLCgdiqILqNR68sxAllZhyNBkODTtu6QXvnVwEeiW5tAL71PxdMOmtfjRq0/ChhnvS5H9qs69iU5si9zDIo/k3Ybi/7W6/TN+i5YyWTB69YJQogK+F3PyUY3t8Tbc7+rYzarI4a5DW5eui1TNUEwWpv3iYiIypISTxLCO3Q0f8rjbVlhSE+CTG9ao0YNPYvRyGHP6n/POScA13fuaj6rPDDr+a2Aw+3mPQjPE79qvVvJkZQa5SBthrez8vlQQXY3ed1w+xlbtW2xy5Eb2Bbd7AOgc5ZjVj5npHUgZj+bbo6fCGliJjxtghGATGxzneF3e743GxMcbRHfT4K7lmhnBm8D+nREgNtzJCFK8pJEucZqFCAj0dYWujQkEK2jzM/gV3upgLODCrwdA8DVc/pZZ40LaKcik/cF0mJtZ6dVQpHqrS1c2qJeYA72GUN7HM68HUxejxv1Wtd2qtelqOPZ2zLHMV5c7SYJem+EquMmL1ksYN3W53VrWxlfkMfbfvc8ZrX0bOSiMZrY24mIiKiMKJdjEpo1D0OlSpXwU9r3GPX8EKxNX4MNG9bpxy65tC1atW6jf67w4lY6A4+B7RGaswapfgTBDhK4e3udDpICUc/enFlb8wIkn4zB0UaPyBhd2uNi1mLLGWN/B9zmZq8xf7KswT5X8BaJJiEqmPUyBkMnUSFNHWe0PdfljfeA2cWf9urSFCFYj9X5JlT5tFNR6feVHgBrvcYtrzymMIqhHSx+HTfCnkD6cubtFhE7RL1uPZI8EtR81u3r89r53O9Gz58jmVmyFa6OJSIiojKmxJOEtBXLzZ/yeFvmrwsubIJG55+PkydPImPDetcA5WVLv8TBg7moe249XHHV1XpZ2Xcm5UbCWXIkpUa56cl+BmMlQ5damHXzRo+IURKTZ5HZe5KArA5j/PycFU/B7XQmpI7fWq/tVlCPTTlQLO3WZTwGSW+LowekpPcJERFR+VLiSYLMNLTos4V6qlK5yc+yrKiah7bQ4xGOHjmC3zfnVbMv+/pLffG0atWqoWOn61ClShXzEUOn62/AtIQkfJL6Jd6ZloC3J09DwtxkvDpuguu5co2FuElT8Pa70zBl5kcYN+Fd/OvOuzBzzgL9uhkffYJps+Zi0vsfov8TT2H2vBTMS/kCk6bORNzE9zAn+XP9Gnn92Lcm4aP5qXpaVt+sgNn7raByIxE/YzlydTmGUWq0NqXg13iQsgf38hChZ7wp4Gyyg1HbLjXy+Q2SNYzV9eGjV+QgoE13Z/16QcztMj7rImzL8l5Ko8dn+H0GuxD8aS99ltitvMTFz3Zyr1fXZ6kLkO/7FrNiO278VZjjyxeVmOupXmPcys783SeenzeiSWPzJ8Vn+xuzjmVts30//dmfREREf5MSTxJkFqNXRo9Ar9tv0jf5+UxmNmrRqjVq1z5H9xpk/vGHuRS6Z2HVyh9x6tQpNLnoInS67gbzEUPXblHINt83NzcHzz0zCBvXr0Oz5s3Ruk1bhLVohUFPD0HlSpXx3NODsHD+xwhr2Qp39OqNHX9s16/bvnWLHixdtUpVXPWPDkZSUr06tm3bgldfGomDOTm46OJmSJ43Fx9On6ofK/GB1Lq0QwUlU9sj1K96e3upjknXrEuJin1gpRFMBfhZw28wAvaA4LbmfTk7K2Ud5h0xcIb/g3NNMnA57zXmdtnKPoxEqbezR0K9T0+pHy/s+Ax/+NVeYzFLJUChvewXtVPPmSoDev1oJ7OULG+KTHP95j2D53pcvUtuc/BHxM7I5+J6cky4lQf5o9iOG3/50W4FGDB1DMKxHOM8EnB/9okxJiM82jYoW/dK2J/kbb/L+/ZGqPu4DI/xOURERGVHuRmT0P/xQZj32Zc6aJfxCMH1G+CVcW9hUPQQ/fh/nx2GO++6F5UrV9YDmIcMfxGxcXnFBBK0r/vtV1StWg3fL1+GUydP4fwLLkT2nj160PPNt/VA/QYN9RStchE2uVCbrCt9zS8qmVirX5f2/Xf4vz698MgDvfF6zGgcyNmP48eO4btlX+PcekE4JyAAv2/ehM9TklWC0Vr3UNh7O0qGcc0EuW6Ef9dGMAaDSuAtpT5W8B3fz5o1yCp3MqYeLWyJih6gqQJ2q2RqEJI9SjZCe+WVVPkzBWTuigTsi8rbLgnyHK+RwaPmTDTWeo1pYDuXQKBq8Ke9lkZ3xugVsI0PUM/JNsrBCm6nseivZxOyPpM6zmON2XjsrARJnmMlSZ7bpto5eGU+bWEEyL4HNvtWXMeNv/w5vnzSiaP6N1BmGsprG+vq5AWvW3r+hiINttdHA+McA5e97XdjCtiu7lOgSg9ETjbWmveJiIjKkhK/TkJZMvrVN9DqkjZ4afhzqFOnLp7633N6fETS7A/xxOBn0Kjx+XgtZpQO+p8b+RKuufZ6vP/uJFwV3gEXNw/FSyOG4ueVP+l1SQIw4d3pepal/w1+Ql+nod/DA/DpgnmYMP51xLwepwP3t8a9hrXpv+pEhAor0nWdBH9Kr+gM6Hn93eb6pxLEY5uIiMq2cjm7UVFIUtCoUWNk796ty4cuv/Iq4LSRHz3x32dw5MgRnFb/HczN1TMkXdq2nQ7uV/74AxqGhGBv9h5k7tihny+kPKnuueciM3MHsnZmoknTi/S1Gn7flIFLL7tcPd4SOzP/QO8+DyDyppvNVxGVUbwCcOka2BcyuxKvcE1ERGXVWZMkNAsNRd169fDH9m36rP6+vXtRqXIlPcYh9dNkfDh9ih5Y/Z+Bg/Hf/w1D+q+/4LUxo1C9enVUUq9ftzbd0RvQLCwMNWvVxpbNm/R96WnIVonEb+p1e3b/iX379qHxBReqf/fq8Q1EZdsifX2DQl3QjYqmi1xQsKXzGhRERERlzFlVbkTlDUsyiIiIiP4OTBKIiIiIiMjhrCk3IiIiIiIi/zBJICIiIiIiByYJRERERETkwCSBiIiIiIgcmCQQEREREZEDkwQiIiIiInJgkkBERERERA5MEoiIiIiIyIFJAhEREREROTBJICIiIiIiByYJRERERETkwCSBiIiIiIgcmCQQEREREZFDpaCgoNPmz+VKrVq18ehjTyKiSyQqVa6EKlWqYmfmDqz77Ve0adsOr44egXVr081nExERERGRv8plT8K59erhtfETcH3nrpgyOR533NwVD913F44dPYqo7rcjN+cANm5YZz77LDNwBhYv+wIxXcz7foiI/QKLU8Yjwryfry7jMW9ZGiYONO+f7XR7z8AA826xKsK+pCLQx7StnUuh3QdMTcPiqYPNe0RERGVPuUwS7rn/QVzcPBQfz5mN+XM/wsmTJ5G1MxNLPk/BsWNHsXXLFr2swiggaNFBflEDVRUgDeqQiaSoJ7HUXEQVTSRiUlRQah1DEhQXV4DKpLF0sJ2JiKiUlbskoU6durjyqqtx4sRxrHcrJ9rxx3bkHMjB2vQ15pIKIm4lMhCI1lGR5gK7SHRrE4jcFdMQL3fj+qBrp84YskQ/WOCZ7gF9OiIrsY/xWn8seRI9OoWjf5x5n0qO+74sqoF90Tp9qFpXMuqNVMnCyLZYO2Os+eCZUMlHdEdgxdCKdTwUV7sXJ/neJa5HaK8S6rUiIiJyU+6ShHpBQahZq5Yek3DNdRGoUqWK+Qhw4MABJH+ShJU//mAuqSjGYvVGIKBNd8+SoC7d0TpQJUYpi8wFhRGpgkUG/BWeCnp7RMvxMRb9VYJXbAGwPvbWI1Wvm0pc3DSk5bREt1hvJwuIiIiKV4kPXA4KCsbD/3kCV4Z30Pd/SluByRPexN692fp+UYx9axIuu7y9/tkoL/od3y9fhtkzP8Dhw4f08gpHyg3kDPBwZ4AnpUbD2qzBaKtcSHoOegFJnfoAU9PQM0w/zbReLzd6DaQEZQzCA/UdLSPRnjAYj7dOT8DaNr318/Tj6Z7bIfXV9vdxrqfgx11cnzEGiLZt28YEdO3nduZbf86W5h0lZ3leGwhrXYlr0LpXRwQ4PrudezvkIE1/NmN5vRTntvpu75Vot6w3QvWzgNwVQ83AXPHYFmFuj+NzuG2jbV9632fWtqof9XtY61bs7ZHfY5aC2tML3RbByXn7xrX/pMfCR1toBR175jGDBCShtz529DpSuhetHZV8j0HXdptt6Wj3wZho26958tpet0OHvA/j+Xnd1qGOZ/251OdzHNd+7AOP44+IiKiElHhPwoCBgxF50y0ICg7WN/lZlp2J+Lg3sGnjBpw6dQrVq9dAWItW6PPAQ3j9rYl6UHOZJcHIMqkN93YrYKDkkmSszXEvOTJLjdKTvQYM8f3C0TVxvfpJgiY5g2wFThK0qCAtSwUperm6DV+OkF5pmOd2ljKgQ3cg1niOr8C+XbaUspjr0SUReZ9FgpqeISrYsT2ev0CEjxzies+unRKQEdbbMchT1rm4V2MVpFnPCUdSVkcM8yirUuuKAsbp5ziDRsuAqc52GL0i03ykMFqi57L2WG2uQ9oSHca4taV9W4bqM8I9Zb9HZZttYy7LZ6yA721V+1MlAVkq8DUeU+vKMh9SBvQJRqr5Gv0YVFsVqT3tjGMvY5V72ZLsP1tbqP0d0GGI7dj2/9iD2u/tVhnPyQu6i9COBRyj+bN6X6ybOh7V0oxEK0kejLslUbIeN/d93tgBI0EIUYmD9ZzR2d3dknf/98HSbWqfBwajtXmfiIiopJR4khDeoaP5Ux5vywpDZi56tN+96PPv2xH/5htY91u6ThguurgZutyoIoiyyqznt4IA580KOnxZhNT0HGfJURHLPSJiuyNUzlLaz2KqbRu3wm39YmNy/tulXtff/v7m+Il6bYy7rYMDgayteUlMXB/vyYZNXgAmVJAmiUVYezNYUkFZBxWcOp4jCZEEby3Rzm1gZ0ZKfmdcI9EkBMjNzhvDsjS6TwH7wRs5q2xLQry2pXpOrLUtizAkRZIlL8tcn9NdPtvapSlC1Lr2uYboqHX1y/vc8f3sCZJxHCGkqblthWvPPG1RL9D+nnky7GNcdIlMXnJbqGNPPW+Wx7FShHYs4Bj1n/SA9EboxgTbMayOT8dnkWReNW8T5+cdZ3v/pdGdkbTRvKMVYh+kZyMXjdHErwSHiIio6MrVmIQmF12M+x98BCGNGuv7f+7KQtLsDzE0+kls37oF1apVR4MGDfVjFdHSlDXIDWyLbtZZ+qi2CNi40usZ8vxI4O6t98FYv/MspT0o9cnRQ+IszYifsRy50hPg95SSXgJPe2CkA+L1WO0RPBrjNqzgzOA9iM1jBJQBHcao7TuTAaGZ2OaWWPh3xtfzdb7ls60qCE7dKGfwVfv76InQU26a+8heGlO49vRH/m1emGPPkVzmy492zOcY9VdE7BCEq6Q8yZ4UaNJbYK3bWUbl6/M6FGYfLNkKWycRERFRiSnxJCFtxXLzpzzelvmjc9cbEdX9NtSv38BcYjh4MBcnTpzA0aNHsU0lC+KOXr2RMDcZ81K+wKSpM/H25GmYk/w5nh76gn5c9O7zAN5PSNJjHGbPS0H/J57SSYj8/Enql5g++2N8mLQAr42bgJfHvom5Cxfrdb4zLQFxk6ZgzoJUvP7mRLzx9mS8NyMRk97/0JXAeHUm5UbCUXLkq9yjdOngU9dzWz0iRjmGiwpgde9JYqYRxPqdLJQSPZONlO40NspWzihZKGH5bKsuLZNSmxBJyNRjVrJgHnO6/l3vH3l9jvHYWaLAY9Qfqh0HdVC/u+w9RoouE1JJB+ylXmdX8xIRUQVV4klCfNxYLPpsIfZmZ+ub/CzLiuKSNpeheo0aqGyb0Uhc/c9r0KDhediyeROWL/tKz3gkV2LevnWren51/LF9Gwb2fxC7/9ylr8bc8LwQ9LzrHtx9X1+dsAx+/FFdwnTTzbeic2Q3bM7YgKpVq2Ft+q/6Ss4yo1Lj8y9AVlYmatU+B8mfzMVnyfNRs1ZtBAQEYtxrY/DDd9/q57S74kpzq7ywAmavN2epgXfm2WQpyzBLjTzPPhZsbbaX0g5F90zkZGOteb9gg9EuzL08yAcd4EoA5WsqV9+M7VqDVHkPfSbVWxmMsS1Z2wpXemWREhAjeHSu2/1Mui6f8sOAK1oCRejl8YevbdXHR5Q6lmzlWUbbuZX32JVQe/pSfMeevwpxjPoUaU71GuO2Dmv64fyngPX8vEbpmEth9oHudSAiIip5JZ4kyCxGr4wegV6336Rv8nNRZja64MImaHT++ahb91zc2/dB1xn7Dtdci8cHPY3Dhw9jxrT38Ne+fXq5DG4+kLMfx44ew7ffLNWDm+vVC8LOzB04op57Y1R312OierXqqFK1KhI+eB9HjhzBUXVb+sUi3NUjCtFPDkDc2FdRWyUIu3ZmYsW336hE4zxUqVwZK5Z/o2dXah7aQl/p+ffNhT5HWThSTx3YFnf3aauCFvPaCPnxUsO8NDpZrcM5eNU4UxpYQA2/uzXYZ6u/FgOmOks5Bkwt7Jl5KZuxvcbcrrySjbGYtSLHY+Cpfl+vNez5UcHfVF9XmjbHgHTom7ctA2d4DDg1tERP+xWrzecVby9PPtuq2miij2kxPcqezPbMU9T2lH1f+Lr+4jv2/FXwMVoQPWAcznEFhkXYlqWSgGD1XTQZJUnmHUWX26nPO8i2f9yfU6h90CYYAYUqUyMiIiqacjMmQYJw8d6kCTjnnAC8+8FszE9dimeHjcS6337FkOiBOngXcrXlDet+w4UXNsX+v/bht1/X4LIr2iMgsA42b9qI627ogoYNz9NjGjZnZOiE47yQEBzYv18va9L0IvylXvf7JiPgl8RDEgLpUdi2bYt+TqhKOiQxWbf2N52AXNi0KXZlZemeB7mGQ8mROuVAhKog1K9rI9jr1V3lKTJjS4Ixa5AuW8krxyhoULHTIgyJNWZzsdbTbpV7KYc5+4y+yZSq7tNDustBWmI2ulmvGWlcrMv+GjmTPnoFzM9k3HQ5TVGmhQyRGWSs9RhlI1YbLI2OMWbKsR6/YqWPUp31SEoJzltPr5bwOc3rmchnW0Ns+8AxbWpcHyRttH2GaCDV7TMUrT2NADn0Cu9jIHwrrmPPX/4co/mwEkNJbKzt1TcjoNeDi22fZRCSneVG0ntozniU95wYt4HL/u+DiCaN1VekJHpciIiInEr8Ogl/l1at22DEmFfx++ZNGPLfgYh5PQ4XN2uugvp0BAc3QP0GDbB7958Y+OiDuOf+B3HXvffpMqLvln2DES+9go0b1uvXWXrf1089rx9mvP8uUhZ8gjfefgeVVOIgg6ZvuuVW3HXP/Vj29VI0U9H76y+/qBMTKqQu453z1VPZ5rieAJU84/oSBSfaREREZ65czW5UGM3CwvSYARmnIP7atxe1atfWvQsS6C+c/7GeCWmsCvZvjLoFiR9+gCmTJuhehePHj+OXVSv16yzN1foOHzqk19csNBR169XTPQ1ZOzOxMzNT9ypcelk73ZvBBIHOCrwCcOka2FfPrsQrXBMRUWmosD0JVA6xJ6H80fvMuJBbyZQLkcZ2JiKiUsYkgcoOJglEREREZQKTBCIiIiIicqiwYxKIiIiIiKhomCQQEREREZEDkwQiIiIiInJgkkBERERERA5MEoiIiIiIyIFJAhEREREROTBJICIiIiIiByYJRERERETkwCSBiIiIiIgcmCQQEREREZEDkwQiIiIiInJgkkBERERERA6VgoKCTps/l2mXXnY5hrwwCsH1G6Bq1ao4deoUcnNyMHP6FDQPDUOn625Ardq1UalSJRw9ehR/bNuK4UOfRkSXSNzb9/9Qq1YtnD59Gvv3/4XJE95E6qcLzDWXT//45zWoXqMGln/zFU6ePIkqVaqg47XX45j67N9/9635LN+eeW44ro3oottFSJttytiA6e+9g6eeGYqg4PqoVq2abudDhw5hbmICkj+Zi5dee0O1dwtUrlwZx48fx5qfV2FI9EC9DWc7tikRERFVFOUmSbC8PXkaWra+BCuWL8OwZ54ylwJXXd0Bw0bF6CBs0lvjMP/jOeYjwDUqeB709FDMS5qNWTOmlangq3Wbthgw8Ck0bHie2q5TKlCshFkzp+OTpETzGd6NionVSYEEohJYSpIgCdIHUydjtnq9P27715149PFBOHHiOMaMGOZILqz1r03/FYP+85CjzWJej0O9ekEYM+p5bNvyu7m07Chqmza56GI8pY6T0LAWOqGUY+nnVT9hfOzLyNqZaT4rfxWpTYvajtdGdMYD//co6jdsiBo1auq2k+/dZwvnm8+gsmbA1DT0RAK69htrLikHuozHvJEdkZUYjv5x5rLybOAMLO7VGGnDO2PIEnNZOaSPpbD1SOrUB/HmsmJRUu2j14vi394zVDa/k5GISRmD8Cxv2zUYE5f1RsiKoegRvchcdqaM92udXpzrLAP07662WOvrWC5Dv9vKXblR9p7d+t/g+vX1v5Y6deuisgqS1f+oVr26udTQ7eZbkbljO+YmznIEZn+3pioo1b0jwQ0wctizuP+uHsjYsB6PPjYQd/z7bvNZvskZ6erqs9aoUQNbf9+M114a6XeCIDJ3/KETDAmGz7/gQnMpdMIhvTJC1m/3z07XoUnTi/HpgnllMkEoapvWqVMX/3tuBOoFBeHpJ/+Df93cBat/Xonwf/wTz6vkUx73R0Vp06K2o/Rw9X/8KSz+/DPccXNXvDJ6OALr1MHA/z6DO++613xWMZNfqMvSsNhx+wIxXczHiah0qO9it5DlSFrRGN1iI82FdDaIiO2O0I0JFSuYp/I7JqFypco68BLy76097kTtc86BShNcy8UNXW9E87AWmDP7Qxw+fMhcWjZ07XYzzgtphE0b12Nt+hqdwKR9/x1On5bt7ub4HN78vikDN0X8E1E3dMTjjzyAr75cbD5SeJUq5x0KN0Z1R6vWbfTPsrx69Rr6Z9me2+/4NzZnbMDC+R/rZWVNUdu0RavWOP/CJrhA3XrefY9+nbSvkOXyeGGV5zYtajvKY+eFhKDTdRE455wAfLn4c6T/slp/3sibbi7wmC66HKQND0fXTsZt9AogfCQThZIjZ/jSMO/vDASXPIkeal9XiF4EEddHHbvloRdBzhinYeJA867NgD5tsTb2ScRHx2BtmyHF+/0rN+1TkS3CkCj1O9a9F0Elh4M6ZCKpPPVElmVl6HdbuUsSsrJ26n/tgZYEWY0aN9bjDaQXoX6Dhnq5BCS3/utO/KaCHKndL2vatrtCb6P1mYR1JrrxBRegTdt25tKSIb0yB3NzHYmVnDG/5bZ/YffuP/V9CfRCGjXSP0ugK2fH5yUllqkeGbuitumqn9Lw1ReL8MvqVfj6S+OvkCSdQtpo/19/6Z8LUlHatKjteOrUSV2qJb0mVvvt+GO7/jcgsA6aNL1I/1zSlqogJS0nEK2jeDaTqHREYu0MK4iXYJIB/VlDB7Vlq1yLikeJJwlBQcH437ARSPzkM32Tn2VZUZ08cUL/awVaIY0a6wDsp7TvcejgQf2YRZKH+vUbYMHHSWUuqJXAMTAw0LznqVrVairZaWDe865GzZqIHvoC3nrnfQx/6VU9LqMwpFwJOO1IrHre1VuXbv3y80od7FmsQPfnlT+p24/m0rLlTNpUjo83Xh2DwY89gm+WfoGwFq1Ue/5TB8XffrMUGzesM5+Zv4rQpmfSjq+/PBpP/edhjHzuGdc4jnrm9z3nwH61LC/pKFmLsC1LJSbBbc37Ro2vz3Ik95KllPGIMB8SEbFf2F6rblMHm49YjDPrec8pqBfDOBtrX5/ePtd65XHPdTifY8j3c3nl+d7euH9m15lj3VZjEK4OkYAOY/Rj9h6FfLdH6r+XzcAA/a96XLez1Ssx2NGGxvs5t9Vx9lpvh239rvvO17j3drh/Lsfj1joG2o8Htb3ymLXN9mX5KeCY8mC1jXnXo61s63B8Brf1uo4Rx/Z6Oy7cjgOP53jul4lTZJ29EaoeDe1lLnMdF90xaKRtfY7tyut5chwf3trEsd2257i3j+I81tyODx+cr/G+H30e+/nI73dEwdvpx3eyMMeTl7YSehtdr3Pf/27Pt9Zh7Q/9Os8eRN/fJ8/nGoz3zWsDt+3I73N5YR3vzu3wsl99HVc+eTn+zW32/ZkVP38POVnPNbfbtQ79YCHW6daWql2s9imqEk8SBgwcjMibbkFQcLC+yc+yrKiOHj3iCPjv6NUbMhAh8cMPkJubo5eFhOQlDz/+sEIHZ8VlUPQQzPvsS79vb787Tc9q405q32uas+B4U7VaVVdw5YsEoXuz92DU88/qOvcRY15TAek95qMFO3z4sA6CLVKHHtHlRn0mXWrjjx8/hnMCAvSMUlagO3/uR8WecJWlNpVBt3ET38Mrb7ylxxVMnhCnB8L76+9s07LQjvI5fl2zGlvNsRXy+du2uxwnVHIv30WfJX/ufwAdN28BTkEi0SQEyM1eo+/JL0o9CNAsR+qamGkrR1K/WM1BYsbjQ5GmEgyLvHaYdKVbr5XHQ3o7/sgMmGoO5jOfM3pFfgPd5Re5McDP9fzs7ugZZj5cCPl/Lm/8e2/5IziszRqMttY7fDlCVFCo/0jqs4aqDdSv21xzPVYdsn/b0xI9r1hpPB71JJaaSwM6dAdijdeNXpFjBqHdsc8sIzOWefnj7xCo3q89Vrvef71ar73sZTDuDk42HpOb+lxQiY4zaFPriALG6efI51TbK8dhVLbZHuayAv7wDugTjFTrfeQ16Ihhhf5jbWurTgnICFTrUNsyzPUZjGWD3IOFMHV8ul4nbedWfqe/b87jwNhXngGsfb/0f1BKftR7quUZ5vfFKonw5/NKUtlulfUcz23XwZcenGxbj+276KA+Q7ts+/avV8dH/r8r9PEZstx2XGejW6+W5qOGfI99Hzx/RxhtpBW4nf59Jwt1PMWtVO/fEu0c26yO/Q6ByEgxvnMRse1d3y25JW1Ux5pH4Oz9u5onv+/TIqSm5yCgTXfHOvXYhZzlmKWPG+Ozw/W7V21HlvpchUwU5HgfhBhzHZ7fT8/jynwfb8mEG8fxb26zX79D8v09ZCfJiEq8N8rvzfx6Ywr+3VZcf1fsSjxJCO/Q0fwpj7dl/jqwf78KRE7oQEtmX+nQsRMWf/apKygRlatU0cnDCRWwSPJg1+/h/kiYm6yDD/lXpq0UEhzK/c+//h7vzUjUg529GRcbgx433eD37bGH+upAvrh9+81XeOft8ZgyaQL+3JWlg1A5Sy29J1JX7w95nRW0SWIlCcbBg7l6Wk6LDASXgPb6zpFYnJri9Yy6tJ30ZqR88S0+Sf0Sb06aqtvv+s5dMXfhYny29DtMmfkRblPb5k1ZaVMhvQgD+/8fnnvmKZ2Q9nt4gJ5C11/F1aaiWWiYblc5HmfOmY9ps+Zi+uyP9UBnb8pSO1oeUO0nyez3y5dh5rQp5lIvzBpM65eb81b4sgUdtAeuR6oEr+qPdDeZbcVeLxs3La8cqUtThCAH+9LNx6RUop/5B1G/VsY72H95q8djlyM3sC266V/QzoRELI3u43ObrT+S42wD/JZGd1Z/pM07/iroc3nh33tLMAGkxdqCArV/UtVzQq/IJ8j1e3tUe87wrF3OXRHjarOl0ck6yPJc5h74eMpItO0rj/cfi/727VuSjLUq2Qlp4rZ9rs+u9nXKeu/LwtrnG2DE93MeMxIwIaRp4YIf2NtzLGapRMnbMvdADGofj7Z9TvfyuwF9OiLAfZBpXB99HHjs443Jfn3//Pq86j3z6qzdt90MYhPt33fbd9GdOib7O7ZfAuNA1DOGfnmyvstux3UPFWzlKcKx7/V3hO04K2A7/f19ULjjaSxWu2/zwPYIVcfOarP93X9Hxa9S7RAYDOfoO+/f1Tz5f5+Wpqyx/Z4UkejWJhC56cm6ffVndxwTajtm2H+3+snRfu7fT2/HlbSnJHIF/z7xPP79+R1S0O8hiyQI6m8VnN9XX/JbZ7H9XXFT7sYkWCTQkjO0e7OzdT23yN5jBDzSYyHJw6KUhR5TV06dPFFfI8E64/nqSyP1chmzILXTEiQ+0rd3iV9HYd/evThy+LB5z9OJ4yfUc7LNe55k+2SaV+sMtNTCy89yZviyy9vrZYVxbr16uLz9Vfgseb5uM2kLOSMutfVdIm/Sge78jz8yn+0kbbZgXpJOyjZnZOjpPRenforWl1yKvXv34KURz+HBe/+tz5iXpDNtUzsZrLvk8xR9LQo543/9DV3NR/x3Jm0qZ+CHj35FJyr/feJRDHjwPhw5ckSfkbcGVJeU4mpHSZDaXxWu2/HlF4f77kUoFnKWJa/3wThbaP5CbROMADkjZj5m3IxyGU0HAebr3c/MyWtz1iDVPUjSfxisP/TGHyWj9KbgM1Otg/P+SJ6Rgj6XF369t06anO0ptwLPSPm9PZnY5t6ePmRtswVXfrEne77IGbf8ts8b/7fZTs4wW20xTAUqxSInG2vNH33K2uq2j+3ld0ZSm7HKMyjRgaJb4GlPfgtS0OfNd136uMsLYv2iAvS8HkijDMonX99lu6Ic+36t1/d2Fub3QWGOJx1s2xLZAVe0VEn3NFuiIYGlrWzGrUfF4M9xn8/3yfzd6gqOu3RHa+vkjSKfXfd6uV6vbiNVAqsfLQSP493G53FlJFLuwb0778dsQb9D/Pk9pD5/tHqtJAhee2nc5b/OYvu74qbEk4S0FcvNn/J4W+avbVu34Nix46hVqzbCWrRESvI8V/BxygyYW7RsrYMYX7PFWL0RDRqcZy4B7rq3ry6hKK3rKBw4sB85OXJWyLtjx4/pYM0bmWZyTvLn+iY/28lc9tZUm/7YvWuX/ldq8KVefNFnn+r70gZSPi+DT1u3uRSpCxfgr3379GPeyAxSUvL0x/atespLKX1q0foSjHp+iE4iSsOZtunYt9/BCy++rIN74eq1OicAbS7zfxB5cbRpx2sj0KBhQ53IynPks+1SiYZcJNA98S1uZ9KOFunJu++Bh/Rnl3EKFzVrjt59HtDjHbxy/BF1v+VfQmCQM3m23gf3X7pyZtXRO2HcrDOp8f3k/lCjjEjes7BlIXrmFSnraGwGyQUnC8WigM9VdOttpRO2W0Fnu0pse4qHERTZyxukNMF8sDiZx7O99ErKpSqsv+Hz6oBZzzVv7Utbic8ZKeKx70OxbGdR2lefyLDOlA9Gu7AcrE2xvodGkOsoq3L0qPjHn++TJJ5Wb1FEVFsEbFzpSFSskkXnrfC9x6Wl+H6HSGahXujRe1O2lHiSEB83VgUKC/UZf7nJz7LsTMnVaX/95WddrmGRq9gKOUMrc877OnNpJRoSzMqZdwnmunaLyrf0w1LYuu/4KR+g4Xkh5qud1qxepQNHKUuxyOwv1atX0zPJrPvNSBslIZLpM63Zcs6tF6QvUnX6lDFAVkggK70r0gabMwrfvyRnqRfMm+NqM33WWgWDYq3aDivQ9UUSM7na887MTLweN1FfFfu56EF+zftfFtr0pltuw2XtrkCHazqhc9duepk1ham0xR/bt+mfC+NM2lSSE+lxuLl7Dzz+1NP6GH1hSLS++fJ3tKO8Xno97DpdfwPuuud+LP48RX/XZT0yJWpE1xsd4zUcpNvf4w+FdTvDPxjp2X52Xy8ypveTP5bWGThfr9VnxDzP7Ej3rhEE5N+N7VEeYp7ddXIvnXB7jt+fy6nA916iElF/uuHdFXF7So9Z6qCCkpKeWlAHQ5IwFTGwLH4SJFq9B0avgrfyGTnbnO9ZWR+K5fMW6rgzP49bCUmBvByfEU0amz8pRTn28z3u/dvOgr6TRWtfoyRJ72cpNbL3dpilR0l+ncH2xc/vk5RX6fYxnm/vwVqb7aVUrrj53KfGvilcb2Vx/g5RSVuslANJ72vxnFTy7+9K4ZR4krB3bzZeGT0CvW6/Sd/kZ1lWVLk5OTiigq49u//ER7Nm6gDEIr0HUpf/808/OpIHd1awVrNmTT2Lyz19H9S12QttdeO+FLbuW8pEpE7dGynJ2ZW1E2EtW7kC1iuuDMcpFfx/9cViHVzKmddx8e/ircnvIybWOCq//24ZMv/YjrTvl+O7ZV/rgPfGm7vrxEHGJhgDteVMQcFnYPft26vbbNnXSx3TxMpMNHI1Z5lWVkpifCVc4uJmzdGg4Xk6Ybmj191ofMGFelyE+wXvfCkLbfrDiuU6uVy9aiVSU5J1m14X0VkFxTWwZfMm1a5yDYrSa9PP1Tas+O5b3SvUo2cvTHhvOkaMedV81LvSbkcpwZo8PQETp85E7/v66ddJMvPoY0+q51fWrxsf/54eV9FFJeEH1Oc+duyofl6pMkuDwqOdg+EGTDV/MXcZj4m+Zp5wlSLZf4lHIiZaarqtWlV1f6r/A+2Mmlv3AZtD3LqszZriqLz1ejynoM/lRaHe222QcETsDNux7zl7VFG2p3R5brPnZy8eS7dlOs8QqmNsUHGVG/kjrLdj5pMBU6XEJa/kwihFcT5HZn/pKbX1+dagizXYl+Ms0yiez2uMUXAO6vX13fLcBuMz5sOs4XYcnx7b6c+x78br7wj1t0L3Rha8nf58J4vavnocT1h7TFTJnzVgWZPEBo3RxPWZ1PZ6LTfKj7/fJ9mvQOs+fdX2WwOWDcaYBfeB91bbFRdvx5W5H1TiZd+eghX/7xDpxS6ORMG/3+0SwxQ005JTuRuTIAnGurXpSEme7zFr0c6dmXoq1FkzpzuSB3dWsCZXKr7uhi5ooQIhGdcgZRalSQZbx4x6Qc+fP/q1N/B+QpIerJrwwVTMmzNbP0cC14O5OfrzSPApwZqUn7w0chgaNb4A81K+QOInKfpM/uyZ0zB5wpvGZ3c/c+DDpoyNetYZ9xl2ZJYe6VWRAbeSiOSnRatL9Cw9coZZas83rl+rB6teG+Hrt2rJKWqbpiR/gvi4N1Sbnm9M1zv/M10iIyVrw/73lFEWVEptKglKvXpBehrR7l2v1WM6pLznkjaX4ZJLbUFZCfKnHffv36cS9iM68JfvlLjn/n66DaW3q9UlbVw3mYr4r7/2Odqj9EgPwVBjNhD1C9IqY+qWnVefG6LHE5iP9QKSbLNM5P0St147Bq3ThzrLD0Ls6za6on2eaZJeE3NGDOs9ZWYOz4GKCa7ZbLw/p+DP5cHv93b/zGkYFrzScTbUCjTlMeOPThG2p5TpNrXVQA9CcsmUG+lBwLb2iwZSS7PcaGMCUoPz9nFPGVBunznFy3FgHPf+nJm3j8ExZ/0pps8rPXHGTEzmeuS7lu2tzlptQ6xz+9utKqiMx8vxqbZznFuZjT/HvjvP16jfAWavTYHb6c93ssjtK0lPS4Sq/e+oyVfvOc7Rzu2xugjlRv5+nyQZQJhKQtxr5r0dhzKjWYGJauF4Hldm6VYRelJK4ndIfD8pWTL2b36zaOXLz9/thVUpKCgob+L2s4iUWkiZhJTnSMAmddMVidTNyQFSGrXA/3nyv3pWJTn7Le3Y65770O+h/ti8KQOPPdzXfFb5V1pt2v/xQXrAs5QWyZl+SWImvDtd99QMjX6yxMck0N9Dapf1H64yU6JC5RGPIyKynOnvg3LXk1BccvYf0KUkcoZ2zqyZ5tKKo3UwbIOUSpb0Ykit+dr0X/V9KXmS4PbCJk31NKgVRWm1aatLLtXjZWqZ1yqQ631IOdd3337NBIGIiIj8YB+LVDRnbZIgZUt6gPP8jx3XWKgo4vv50218ZiQBiJs0Bc1Dw1ClcmXcfGsPXHPt9bjtjjtxblCQnsXnsSejdc9CRVAabSp1/DJOJjt7D15/cyLe+2A27rr3fiz4JElfE4OIiIjIoct4zHOM5TAv0lbocRdOZ225kczK0rDheVj7269/U500EVEelolQceBxRHQ2kkHJboP3ZUasM5rB6ixOEoiIiIiIyLuzttyIiIiIiIi8Y5JAREREREQOTBKIiIiIiMiBSQIRERERETkwSSAiIiIiIgcmCURERERE5MAkgYiIiIiIHJgkEBERERGRDfD/ZTArbL9lSZgAAAAASUVORK5CYII=)"
      ],
      "metadata": {
        "id": "lS8XM9d-dX8Y"
      }
    },
    {
      "cell_type": "markdown",
      "source": [
        "### Separando as informações necessárias\n",
        "Note que no nosso dataset não possui a quantidade de vitórias de cada lutador, então é necessário fazer com que um código que percorra todas as linhas do dataframe e conte as vitórias dos lutadores."
      ],
      "metadata": {
        "id": "MTfk0yUWfAL_"
      }
    },
    {
      "cell_type": "code",
      "source": [
        "# Primeiro vamos separar apenas os nomes dos vencedores e o tipo de nocaute\n",
        "\n",
        "# Lista para armazenar os resultados\n",
        "data = []\n",
        "\n",
        "# Itera sobre as linhas do DataFrame\n",
        "for index, row in ufc.iterrows():\n",
        "    if row['winner'] == 'red':\n",
        "        data.append({'Name': row['R_Name'], 'winby': row['winby']})\n",
        "    elif row['winner'] == 'blue':\n",
        "        data.append({'Name': row['B_Name'], 'winby': row['winby']})\n",
        "\n",
        "# Cria um novo DataFrame com os dados coletados\n",
        "ufc_reduced = pd.DataFrame(data)\n",
        "\n",
        "# Exibe o novo DataFrame\n",
        "print(ufc_reduced)"
      ],
      "metadata": {
        "colab": {
          "base_uri": "https://localhost:8080/"
        },
        "id": "R0c860JasrhJ",
        "outputId": "f8f036f3-3798-4757-b408-f09febc18621"
      },
      "execution_count": 28,
      "outputs": [
        {
          "output_type": "stream",
          "name": "stdout",
          "text": [
            "                       Name   winby\n",
            "0     Antonio Carlos Junior     DEC\n",
            "1     Carlos Diego Ferreira     SUB\n",
            "2                Joe Lauzon  KO/TKO\n",
            "3            Brandon Moreno     SUB\n",
            "4         Raquel Pennington     DEC\n",
            "...                     ...     ...\n",
            "1446        Alejandro Perez     DEC\n",
            "1447         Ali Bagautinov     DEC\n",
            "1448        Patrick Cummins     DEC\n",
            "1449      Joanne Calderwood  KO/TKO\n",
            "1450           Jacare Souza     SUB\n",
            "\n",
            "[1451 rows x 2 columns]\n"
          ]
        }
      ]
    },
    {
      "cell_type": "markdown",
      "source": [
        "### Separando uma cópia em ordem alfabética"
      ],
      "metadata": {
        "id": "0-gHQTCRxmSB"
      }
    },
    {
      "cell_type": "code",
      "source": [
        "# Para conferir o resultado, iremos ordenar o dataset em ordem alfabética\n",
        "\n",
        "# Ordena o DataFrame resultante pela coluna 'Name' em ordem alfabética\n",
        "ufc_reduced_sorted = ufc_reduced.sort_values(by='Name', ascending=True)\n",
        "\n",
        "# Exibe o DataFrame ordenado\n",
        "ufc_reduced_sorted.head(10)"
      ],
      "metadata": {
        "colab": {
          "base_uri": "https://localhost:8080/",
          "height": 363
        },
        "id": "U5zkLb91w7ec",
        "outputId": "4cf20dc9-1e20-4cb1-c5e6-864a4e243dea"
      },
      "execution_count": 29,
      "outputs": [
        {
          "output_type": "execute_result",
          "data": {
            "text/plain": [
              "                      Name   winby\n",
              "1119  Abdul Razak Alhassan  KO/TKO\n",
              "965          Abel Trujillo     SUB\n",
              "213          Abel Trujillo     DEC\n",
              "1026         Abel Trujillo     SUB\n",
              "995          Abel Trujillo  KO/TKO\n",
              "1259         Adam Milstead  KO/TKO\n",
              "791        Adriano Martins     DEC\n",
              "769        Adriano Martins  KO/TKO\n",
              "459        Adriano Martins  KO/TKO\n",
              "1303        Aiemann Zahabi     DEC"
            ],
            "text/html": [
              "\n",
              "  <div id=\"df-bc88fc96-3e4d-465f-adfe-d4e267c6bd96\" class=\"colab-df-container\">\n",
              "    <div>\n",
              "<style scoped>\n",
              "    .dataframe tbody tr th:only-of-type {\n",
              "        vertical-align: middle;\n",
              "    }\n",
              "\n",
              "    .dataframe tbody tr th {\n",
              "        vertical-align: top;\n",
              "    }\n",
              "\n",
              "    .dataframe thead th {\n",
              "        text-align: right;\n",
              "    }\n",
              "</style>\n",
              "<table border=\"1\" class=\"dataframe\">\n",
              "  <thead>\n",
              "    <tr style=\"text-align: right;\">\n",
              "      <th></th>\n",
              "      <th>Name</th>\n",
              "      <th>winby</th>\n",
              "    </tr>\n",
              "  </thead>\n",
              "  <tbody>\n",
              "    <tr>\n",
              "      <th>1119</th>\n",
              "      <td>Abdul Razak Alhassan</td>\n",
              "      <td>KO/TKO</td>\n",
              "    </tr>\n",
              "    <tr>\n",
              "      <th>965</th>\n",
              "      <td>Abel Trujillo</td>\n",
              "      <td>SUB</td>\n",
              "    </tr>\n",
              "    <tr>\n",
              "      <th>213</th>\n",
              "      <td>Abel Trujillo</td>\n",
              "      <td>DEC</td>\n",
              "    </tr>\n",
              "    <tr>\n",
              "      <th>1026</th>\n",
              "      <td>Abel Trujillo</td>\n",
              "      <td>SUB</td>\n",
              "    </tr>\n",
              "    <tr>\n",
              "      <th>995</th>\n",
              "      <td>Abel Trujillo</td>\n",
              "      <td>KO/TKO</td>\n",
              "    </tr>\n",
              "    <tr>\n",
              "      <th>1259</th>\n",
              "      <td>Adam Milstead</td>\n",
              "      <td>KO/TKO</td>\n",
              "    </tr>\n",
              "    <tr>\n",
              "      <th>791</th>\n",
              "      <td>Adriano Martins</td>\n",
              "      <td>DEC</td>\n",
              "    </tr>\n",
              "    <tr>\n",
              "      <th>769</th>\n",
              "      <td>Adriano Martins</td>\n",
              "      <td>KO/TKO</td>\n",
              "    </tr>\n",
              "    <tr>\n",
              "      <th>459</th>\n",
              "      <td>Adriano Martins</td>\n",
              "      <td>KO/TKO</td>\n",
              "    </tr>\n",
              "    <tr>\n",
              "      <th>1303</th>\n",
              "      <td>Aiemann Zahabi</td>\n",
              "      <td>DEC</td>\n",
              "    </tr>\n",
              "  </tbody>\n",
              "</table>\n",
              "</div>\n",
              "    <div class=\"colab-df-buttons\">\n",
              "\n",
              "  <div class=\"colab-df-container\">\n",
              "    <button class=\"colab-df-convert\" onclick=\"convertToInteractive('df-bc88fc96-3e4d-465f-adfe-d4e267c6bd96')\"\n",
              "            title=\"Convert this dataframe to an interactive table.\"\n",
              "            style=\"display:none;\">\n",
              "\n",
              "  <svg xmlns=\"http://www.w3.org/2000/svg\" height=\"24px\" viewBox=\"0 -960 960 960\">\n",
              "    <path d=\"M120-120v-720h720v720H120Zm60-500h600v-160H180v160Zm220 220h160v-160H400v160Zm0 220h160v-160H400v160ZM180-400h160v-160H180v160Zm440 0h160v-160H620v160ZM180-180h160v-160H180v160Zm440 0h160v-160H620v160Z\"/>\n",
              "  </svg>\n",
              "    </button>\n",
              "\n",
              "  <style>\n",
              "    .colab-df-container {\n",
              "      display:flex;\n",
              "      gap: 12px;\n",
              "    }\n",
              "\n",
              "    .colab-df-convert {\n",
              "      background-color: #E8F0FE;\n",
              "      border: none;\n",
              "      border-radius: 50%;\n",
              "      cursor: pointer;\n",
              "      display: none;\n",
              "      fill: #1967D2;\n",
              "      height: 32px;\n",
              "      padding: 0 0 0 0;\n",
              "      width: 32px;\n",
              "    }\n",
              "\n",
              "    .colab-df-convert:hover {\n",
              "      background-color: #E2EBFA;\n",
              "      box-shadow: 0px 1px 2px rgba(60, 64, 67, 0.3), 0px 1px 3px 1px rgba(60, 64, 67, 0.15);\n",
              "      fill: #174EA6;\n",
              "    }\n",
              "\n",
              "    .colab-df-buttons div {\n",
              "      margin-bottom: 4px;\n",
              "    }\n",
              "\n",
              "    [theme=dark] .colab-df-convert {\n",
              "      background-color: #3B4455;\n",
              "      fill: #D2E3FC;\n",
              "    }\n",
              "\n",
              "    [theme=dark] .colab-df-convert:hover {\n",
              "      background-color: #434B5C;\n",
              "      box-shadow: 0px 1px 3px 1px rgba(0, 0, 0, 0.15);\n",
              "      filter: drop-shadow(0px 1px 2px rgba(0, 0, 0, 0.3));\n",
              "      fill: #FFFFFF;\n",
              "    }\n",
              "  </style>\n",
              "\n",
              "    <script>\n",
              "      const buttonEl =\n",
              "        document.querySelector('#df-bc88fc96-3e4d-465f-adfe-d4e267c6bd96 button.colab-df-convert');\n",
              "      buttonEl.style.display =\n",
              "        google.colab.kernel.accessAllowed ? 'block' : 'none';\n",
              "\n",
              "      async function convertToInteractive(key) {\n",
              "        const element = document.querySelector('#df-bc88fc96-3e4d-465f-adfe-d4e267c6bd96');\n",
              "        const dataTable =\n",
              "          await google.colab.kernel.invokeFunction('convertToInteractive',\n",
              "                                                    [key], {});\n",
              "        if (!dataTable) return;\n",
              "\n",
              "        const docLinkHtml = 'Like what you see? Visit the ' +\n",
              "          '<a target=\"_blank\" href=https://colab.research.google.com/notebooks/data_table.ipynb>data table notebook</a>'\n",
              "          + ' to learn more about interactive tables.';\n",
              "        element.innerHTML = '';\n",
              "        dataTable['output_type'] = 'display_data';\n",
              "        await google.colab.output.renderOutput(dataTable, element);\n",
              "        const docLink = document.createElement('div');\n",
              "        docLink.innerHTML = docLinkHtml;\n",
              "        element.appendChild(docLink);\n",
              "      }\n",
              "    </script>\n",
              "  </div>\n",
              "\n",
              "\n",
              "<div id=\"df-c3111d35-a6e1-4637-998a-4a438fa1fc16\">\n",
              "  <button class=\"colab-df-quickchart\" onclick=\"quickchart('df-c3111d35-a6e1-4637-998a-4a438fa1fc16')\"\n",
              "            title=\"Suggest charts\"\n",
              "            style=\"display:none;\">\n",
              "\n",
              "<svg xmlns=\"http://www.w3.org/2000/svg\" height=\"24px\"viewBox=\"0 0 24 24\"\n",
              "     width=\"24px\">\n",
              "    <g>\n",
              "        <path d=\"M19 3H5c-1.1 0-2 .9-2 2v14c0 1.1.9 2 2 2h14c1.1 0 2-.9 2-2V5c0-1.1-.9-2-2-2zM9 17H7v-7h2v7zm4 0h-2V7h2v10zm4 0h-2v-4h2v4z\"/>\n",
              "    </g>\n",
              "</svg>\n",
              "  </button>\n",
              "\n",
              "<style>\n",
              "  .colab-df-quickchart {\n",
              "      --bg-color: #E8F0FE;\n",
              "      --fill-color: #1967D2;\n",
              "      --hover-bg-color: #E2EBFA;\n",
              "      --hover-fill-color: #174EA6;\n",
              "      --disabled-fill-color: #AAA;\n",
              "      --disabled-bg-color: #DDD;\n",
              "  }\n",
              "\n",
              "  [theme=dark] .colab-df-quickchart {\n",
              "      --bg-color: #3B4455;\n",
              "      --fill-color: #D2E3FC;\n",
              "      --hover-bg-color: #434B5C;\n",
              "      --hover-fill-color: #FFFFFF;\n",
              "      --disabled-bg-color: #3B4455;\n",
              "      --disabled-fill-color: #666;\n",
              "  }\n",
              "\n",
              "  .colab-df-quickchart {\n",
              "    background-color: var(--bg-color);\n",
              "    border: none;\n",
              "    border-radius: 50%;\n",
              "    cursor: pointer;\n",
              "    display: none;\n",
              "    fill: var(--fill-color);\n",
              "    height: 32px;\n",
              "    padding: 0;\n",
              "    width: 32px;\n",
              "  }\n",
              "\n",
              "  .colab-df-quickchart:hover {\n",
              "    background-color: var(--hover-bg-color);\n",
              "    box-shadow: 0 1px 2px rgba(60, 64, 67, 0.3), 0 1px 3px 1px rgba(60, 64, 67, 0.15);\n",
              "    fill: var(--button-hover-fill-color);\n",
              "  }\n",
              "\n",
              "  .colab-df-quickchart-complete:disabled,\n",
              "  .colab-df-quickchart-complete:disabled:hover {\n",
              "    background-color: var(--disabled-bg-color);\n",
              "    fill: var(--disabled-fill-color);\n",
              "    box-shadow: none;\n",
              "  }\n",
              "\n",
              "  .colab-df-spinner {\n",
              "    border: 2px solid var(--fill-color);\n",
              "    border-color: transparent;\n",
              "    border-bottom-color: var(--fill-color);\n",
              "    animation:\n",
              "      spin 1s steps(1) infinite;\n",
              "  }\n",
              "\n",
              "  @keyframes spin {\n",
              "    0% {\n",
              "      border-color: transparent;\n",
              "      border-bottom-color: var(--fill-color);\n",
              "      border-left-color: var(--fill-color);\n",
              "    }\n",
              "    20% {\n",
              "      border-color: transparent;\n",
              "      border-left-color: var(--fill-color);\n",
              "      border-top-color: var(--fill-color);\n",
              "    }\n",
              "    30% {\n",
              "      border-color: transparent;\n",
              "      border-left-color: var(--fill-color);\n",
              "      border-top-color: var(--fill-color);\n",
              "      border-right-color: var(--fill-color);\n",
              "    }\n",
              "    40% {\n",
              "      border-color: transparent;\n",
              "      border-right-color: var(--fill-color);\n",
              "      border-top-color: var(--fill-color);\n",
              "    }\n",
              "    60% {\n",
              "      border-color: transparent;\n",
              "      border-right-color: var(--fill-color);\n",
              "    }\n",
              "    80% {\n",
              "      border-color: transparent;\n",
              "      border-right-color: var(--fill-color);\n",
              "      border-bottom-color: var(--fill-color);\n",
              "    }\n",
              "    90% {\n",
              "      border-color: transparent;\n",
              "      border-bottom-color: var(--fill-color);\n",
              "    }\n",
              "  }\n",
              "</style>\n",
              "\n",
              "  <script>\n",
              "    async function quickchart(key) {\n",
              "      const quickchartButtonEl =\n",
              "        document.querySelector('#' + key + ' button');\n",
              "      quickchartButtonEl.disabled = true;  // To prevent multiple clicks.\n",
              "      quickchartButtonEl.classList.add('colab-df-spinner');\n",
              "      try {\n",
              "        const charts = await google.colab.kernel.invokeFunction(\n",
              "            'suggestCharts', [key], {});\n",
              "      } catch (error) {\n",
              "        console.error('Error during call to suggestCharts:', error);\n",
              "      }\n",
              "      quickchartButtonEl.classList.remove('colab-df-spinner');\n",
              "      quickchartButtonEl.classList.add('colab-df-quickchart-complete');\n",
              "    }\n",
              "    (() => {\n",
              "      let quickchartButtonEl =\n",
              "        document.querySelector('#df-c3111d35-a6e1-4637-998a-4a438fa1fc16 button');\n",
              "      quickchartButtonEl.style.display =\n",
              "        google.colab.kernel.accessAllowed ? 'block' : 'none';\n",
              "    })();\n",
              "  </script>\n",
              "</div>\n",
              "\n",
              "    </div>\n",
              "  </div>\n"
            ],
            "application/vnd.google.colaboratory.intrinsic+json": {
              "type": "dataframe",
              "variable_name": "ufc_reduced_sorted",
              "summary": "{\n  \"name\": \"ufc_reduced_sorted\",\n  \"rows\": 1451,\n  \"fields\": [\n    {\n      \"column\": \"Name\",\n      \"properties\": {\n        \"dtype\": \"category\",\n        \"num_unique_values\": 604,\n        \"samples\": [\n          \"Cody Garbrandt\",\n          \"Phil Davis\",\n          \"Tyron Woodley\"\n        ],\n        \"semantic_type\": \"\",\n        \"description\": \"\"\n      }\n    },\n    {\n      \"column\": \"winby\",\n      \"properties\": {\n        \"dtype\": \"category\",\n        \"num_unique_values\": 3,\n        \"samples\": [\n          \"KO/TKO\",\n          \"SUB\",\n          \"DEC\"\n        ],\n        \"semantic_type\": \"\",\n        \"description\": \"\"\n      }\n    }\n  ]\n}"
            }
          },
          "metadata": {},
          "execution_count": 29
        }
      ]
    },
    {
      "cell_type": "markdown",
      "source": [
        "### Contando as vitórias e separando em colunas diferentes\n",
        "Nessa etapa, serão contadas as vitórias, as vitórias por nocaute e as vitórias por submissão."
      ],
      "metadata": {
        "id": "i0uK3j8O0fij"
      }
    },
    {
      "cell_type": "code",
      "source": [
        "# Conta o número total de vitórias por lutador\n",
        "wins_df = ufc_reduced.groupby('Name').size().reset_index(name='Wins')\n",
        "\n",
        "# Conta o número de vitórias por KO/TKO (nocaute)\n",
        "wins_by_ko_df = ufc_reduced[ufc_reduced['winby'] == 'KO/TKO'].groupby('Name').size().reset_index(name='Wins_By_KO')\n",
        "\n",
        "# Conta o número de vitórias por SUB (submissão)\n",
        "wins_by_sub_df = ufc_reduced[ufc_reduced['winby'] == 'SUB'].groupby('Name').size().reset_index(name='Wins_By_Sub')\n",
        "\n",
        "# Mescla os resultados no DataFrame final\n",
        "ufc_part2 = wins_df.merge(wins_by_ko_df, on='Name', how='left').merge(wins_by_sub_df, on='Name', how='left')\n",
        "\n",
        "# Preenche valores NaN com 0 (para lutadores sem vitórias por KO ou SUB)\n",
        "ufc_part2['Wins_By_KO'] = ufc_part2['Wins_By_KO'].fillna(0)\n",
        "ufc_part2['Wins_By_Sub'] = ufc_part2['Wins_By_Sub'].fillna(0)\n",
        "\n",
        "# Exibe o DataFrame final\n",
        "print(ufc_part2)"
      ],
      "metadata": {
        "colab": {
          "base_uri": "https://localhost:8080/"
        },
        "id": "M-fQFHPMzuAu",
        "outputId": "5146ce2d-072e-4082-e9be-1a7798e69b6d"
      },
      "execution_count": 30,
      "outputs": [
        {
          "output_type": "stream",
          "name": "stdout",
          "text": [
            "                     Name  Wins  Wins_By_KO  Wins_By_Sub\n",
            "0    Abdul Razak Alhassan     1         1.0          0.0\n",
            "1           Abel Trujillo     4         1.0          2.0\n",
            "2           Adam Milstead     1         1.0          0.0\n",
            "3         Adriano Martins     3         2.0          0.0\n",
            "4          Aiemann Zahabi     1         0.0          0.0\n",
            "..                    ...   ...         ...          ...\n",
            "599           Yuta Sasaki     1         0.0          1.0\n",
            "600          Yves Jabouin     1         0.0          0.0\n",
            "601          Zak Cummings     5         1.0          2.0\n",
            "602             Zak Ottow     1         0.0          0.0\n",
            "603      Zubaira Tukhugov     3         1.0          0.0\n",
            "\n",
            "[604 rows x 4 columns]\n"
          ]
        }
      ]
    },
    {
      "cell_type": "markdown",
      "source": [
        "### Normalizando as colunas\n",
        "Agora, iremos normalizar as colunas Wins, Wins_By_KO e Wins_By_Sub para deixá-las com valores entre 0 e 1. Porém antes de normalizar, iremos adicionar uma linha nula, para que cada coluna contribua para o score que vamos calcular depois."
      ],
      "metadata": {
        "id": "bhVrbmnu5NvV"
      }
    },
    {
      "cell_type": "code",
      "source": [
        "# Cria uma nova linha com Name como \"Nulo\" e as outras colunas com 0\n",
        "new_row = pd.DataFrame({'Name': ['Nulo'], 'Wins': [0], 'Wins_By_KO': [0], 'Wins_By_Sub': [0]})\n",
        "\n",
        "# Adiciona a nova linha ao DataFrame\n",
        "ufc_part2 = pd.concat([ufc_part2, new_row], ignore_index=True)\n",
        "\n",
        "# Exibe o DataFrame atualizado\n",
        "print(ufc_part2)"
      ],
      "metadata": {
        "id": "zuYYnzGl7UdC",
        "outputId": "95bff32c-15d7-42fd-db56-797ea97722cd",
        "colab": {
          "base_uri": "https://localhost:8080/"
        }
      },
      "execution_count": 31,
      "outputs": [
        {
          "output_type": "stream",
          "name": "stdout",
          "text": [
            "                     Name  Wins  Wins_By_KO  Wins_By_Sub\n",
            "0    Abdul Razak Alhassan     1         1.0          0.0\n",
            "1           Abel Trujillo     4         1.0          2.0\n",
            "2           Adam Milstead     1         1.0          0.0\n",
            "3         Adriano Martins     3         2.0          0.0\n",
            "4          Aiemann Zahabi     1         0.0          0.0\n",
            "..                    ...   ...         ...          ...\n",
            "600          Yves Jabouin     1         0.0          0.0\n",
            "601          Zak Cummings     5         1.0          2.0\n",
            "602             Zak Ottow     1         0.0          0.0\n",
            "603      Zubaira Tukhugov     3         1.0          0.0\n",
            "604                  Nulo     0         0.0          0.0\n",
            "\n",
            "[605 rows x 4 columns]\n"
          ]
        }
      ]
    },
    {
      "cell_type": "code",
      "source": [
        "# Colunas para normalizar\n",
        "columns_to_normalize = ['Wins', 'Wins_By_KO', 'Wins_By_Sub']\n",
        "\n",
        "# Cria uma instância do MinMaxScaler\n",
        "scaler = MinMaxScaler()\n",
        "\n",
        "# Aplica a normalização nas colunas selecionadas\n",
        "ufc_part2[columns_to_normalize] = scaler.fit_transform(ufc_part2[columns_to_normalize])\n",
        "\n",
        "# Exibe o DataFrame normalizado\n",
        "print(ufc_part2)"
      ],
      "metadata": {
        "id": "0-XUE2sx5Xih",
        "outputId": "13089979-eceb-4006-ecae-f13551fee0a0",
        "colab": {
          "base_uri": "https://localhost:8080/"
        }
      },
      "execution_count": 32,
      "outputs": [
        {
          "output_type": "stream",
          "name": "stdout",
          "text": [
            "                     Name      Wins  Wins_By_KO  Wins_By_Sub\n",
            "0    Abdul Razak Alhassan  0.090909    0.142857          0.0\n",
            "1           Abel Trujillo  0.363636    0.142857          0.5\n",
            "2           Adam Milstead  0.090909    0.142857          0.0\n",
            "3         Adriano Martins  0.272727    0.285714          0.0\n",
            "4          Aiemann Zahabi  0.090909    0.000000          0.0\n",
            "..                    ...       ...         ...          ...\n",
            "600          Yves Jabouin  0.090909    0.000000          0.0\n",
            "601          Zak Cummings  0.454545    0.142857          0.5\n",
            "602             Zak Ottow  0.090909    0.000000          0.0\n",
            "603      Zubaira Tukhugov  0.272727    0.142857          0.0\n",
            "604                  Nulo  0.000000    0.000000          0.0\n",
            "\n",
            "[605 rows x 4 columns]\n"
          ]
        }
      ]
    },
    {
      "cell_type": "markdown",
      "source": [
        "### Calculando o score com base na fórmula fornecida no exercício.\n"
      ],
      "metadata": {
        "id": "5J-K4Tt9842g"
      }
    },
    {
      "cell_type": "code",
      "source": [
        "# Calcula a coluna 'Score' com base na fórmula fornecida\n",
        "ufc_part2['Score'] = (0.5 * ufc_part2['Wins']) + (0.3 * ufc_part2['Wins_By_KO']) + (0.2 * ufc_part2['Wins_By_Sub'])\n",
        "\n",
        "# Exibe o DataFrame com a nova coluna 'Score'\n",
        "print(ufc_part2)"
      ],
      "metadata": {
        "id": "dFXiwd4f9E8u",
        "outputId": "3adc5c3c-a3e4-48b6-de19-a34247ee1a43",
        "colab": {
          "base_uri": "https://localhost:8080/"
        }
      },
      "execution_count": 33,
      "outputs": [
        {
          "output_type": "stream",
          "name": "stdout",
          "text": [
            "                     Name      Wins  Wins_By_KO  Wins_By_Sub     Score\n",
            "0    Abdul Razak Alhassan  0.090909    0.142857          0.0  0.088312\n",
            "1           Abel Trujillo  0.363636    0.142857          0.5  0.324675\n",
            "2           Adam Milstead  0.090909    0.142857          0.0  0.088312\n",
            "3         Adriano Martins  0.272727    0.285714          0.0  0.222078\n",
            "4          Aiemann Zahabi  0.090909    0.000000          0.0  0.045455\n",
            "..                    ...       ...         ...          ...       ...\n",
            "600          Yves Jabouin  0.090909    0.000000          0.0  0.045455\n",
            "601          Zak Cummings  0.454545    0.142857          0.5  0.370130\n",
            "602             Zak Ottow  0.090909    0.000000          0.0  0.045455\n",
            "603      Zubaira Tukhugov  0.272727    0.142857          0.0  0.179221\n",
            "604                  Nulo  0.000000    0.000000          0.0  0.000000\n",
            "\n",
            "[605 rows x 5 columns]\n"
          ]
        }
      ]
    },
    {
      "cell_type": "markdown",
      "source": [
        "### Listando os 10 melhores lutadores com base no score"
      ],
      "metadata": {
        "id": "8DHp2Izq9OmW"
      }
    },
    {
      "cell_type": "code",
      "source": [
        "# Ordena o DataFrame pela coluna 'Score' em ordem decresente\n",
        "ufc_part2_sorted = ufc_part2.sort_values(by='Score', ascending=False)\n",
        "\n",
        "# Exibe o DataFrame ordenado\n",
        "ufc_part2_sorted.head(10)"
      ],
      "metadata": {
        "id": "gaYEOO4z9SSk",
        "outputId": "29432e78-7e07-4d98-c406-fc03c2910faa",
        "colab": {
          "base_uri": "https://localhost:8080/",
          "height": 363
        }
      },
      "execution_count": 34,
      "outputs": [
        {
          "output_type": "execute_result",
          "data": {
            "text/plain": [
              "                   Name      Wins  Wins_By_KO  Wins_By_Sub     Score\n",
              "157      Donald Cerrone  1.000000    0.857143         0.50  0.857143\n",
              "393        Max Holloway  0.909091    0.714286         0.50  0.768831\n",
              "148       Derrick Lewis  0.727273    1.000000         0.00  0.663636\n",
              "421          Neil Magny  0.909091    0.428571         0.25  0.633117\n",
              "206      Gegard Mousasi  0.727273    0.714286         0.25  0.627922\n",
              "563       Tony Ferguson  0.727273    0.142857         1.00  0.606494\n",
              "115      Conor McGregor  0.636364    0.857143         0.00  0.575325\n",
              "62       Beneil Dariush  0.727273    0.142857         0.75  0.556494\n",
              "92          Chas Skelly  0.545455    0.142857         1.00  0.515584\n",
              "143  Demetrious Johnson  0.636364    0.142857         0.75  0.511039"
            ],
            "text/html": [
              "\n",
              "  <div id=\"df-ea40b1bd-8664-4467-a8bc-4feb60483f98\" class=\"colab-df-container\">\n",
              "    <div>\n",
              "<style scoped>\n",
              "    .dataframe tbody tr th:only-of-type {\n",
              "        vertical-align: middle;\n",
              "    }\n",
              "\n",
              "    .dataframe tbody tr th {\n",
              "        vertical-align: top;\n",
              "    }\n",
              "\n",
              "    .dataframe thead th {\n",
              "        text-align: right;\n",
              "    }\n",
              "</style>\n",
              "<table border=\"1\" class=\"dataframe\">\n",
              "  <thead>\n",
              "    <tr style=\"text-align: right;\">\n",
              "      <th></th>\n",
              "      <th>Name</th>\n",
              "      <th>Wins</th>\n",
              "      <th>Wins_By_KO</th>\n",
              "      <th>Wins_By_Sub</th>\n",
              "      <th>Score</th>\n",
              "    </tr>\n",
              "  </thead>\n",
              "  <tbody>\n",
              "    <tr>\n",
              "      <th>157</th>\n",
              "      <td>Donald Cerrone</td>\n",
              "      <td>1.000000</td>\n",
              "      <td>0.857143</td>\n",
              "      <td>0.50</td>\n",
              "      <td>0.857143</td>\n",
              "    </tr>\n",
              "    <tr>\n",
              "      <th>393</th>\n",
              "      <td>Max Holloway</td>\n",
              "      <td>0.909091</td>\n",
              "      <td>0.714286</td>\n",
              "      <td>0.50</td>\n",
              "      <td>0.768831</td>\n",
              "    </tr>\n",
              "    <tr>\n",
              "      <th>148</th>\n",
              "      <td>Derrick Lewis</td>\n",
              "      <td>0.727273</td>\n",
              "      <td>1.000000</td>\n",
              "      <td>0.00</td>\n",
              "      <td>0.663636</td>\n",
              "    </tr>\n",
              "    <tr>\n",
              "      <th>421</th>\n",
              "      <td>Neil Magny</td>\n",
              "      <td>0.909091</td>\n",
              "      <td>0.428571</td>\n",
              "      <td>0.25</td>\n",
              "      <td>0.633117</td>\n",
              "    </tr>\n",
              "    <tr>\n",
              "      <th>206</th>\n",
              "      <td>Gegard Mousasi</td>\n",
              "      <td>0.727273</td>\n",
              "      <td>0.714286</td>\n",
              "      <td>0.25</td>\n",
              "      <td>0.627922</td>\n",
              "    </tr>\n",
              "    <tr>\n",
              "      <th>563</th>\n",
              "      <td>Tony Ferguson</td>\n",
              "      <td>0.727273</td>\n",
              "      <td>0.142857</td>\n",
              "      <td>1.00</td>\n",
              "      <td>0.606494</td>\n",
              "    </tr>\n",
              "    <tr>\n",
              "      <th>115</th>\n",
              "      <td>Conor McGregor</td>\n",
              "      <td>0.636364</td>\n",
              "      <td>0.857143</td>\n",
              "      <td>0.00</td>\n",
              "      <td>0.575325</td>\n",
              "    </tr>\n",
              "    <tr>\n",
              "      <th>62</th>\n",
              "      <td>Beneil Dariush</td>\n",
              "      <td>0.727273</td>\n",
              "      <td>0.142857</td>\n",
              "      <td>0.75</td>\n",
              "      <td>0.556494</td>\n",
              "    </tr>\n",
              "    <tr>\n",
              "      <th>92</th>\n",
              "      <td>Chas Skelly</td>\n",
              "      <td>0.545455</td>\n",
              "      <td>0.142857</td>\n",
              "      <td>1.00</td>\n",
              "      <td>0.515584</td>\n",
              "    </tr>\n",
              "    <tr>\n",
              "      <th>143</th>\n",
              "      <td>Demetrious Johnson</td>\n",
              "      <td>0.636364</td>\n",
              "      <td>0.142857</td>\n",
              "      <td>0.75</td>\n",
              "      <td>0.511039</td>\n",
              "    </tr>\n",
              "  </tbody>\n",
              "</table>\n",
              "</div>\n",
              "    <div class=\"colab-df-buttons\">\n",
              "\n",
              "  <div class=\"colab-df-container\">\n",
              "    <button class=\"colab-df-convert\" onclick=\"convertToInteractive('df-ea40b1bd-8664-4467-a8bc-4feb60483f98')\"\n",
              "            title=\"Convert this dataframe to an interactive table.\"\n",
              "            style=\"display:none;\">\n",
              "\n",
              "  <svg xmlns=\"http://www.w3.org/2000/svg\" height=\"24px\" viewBox=\"0 -960 960 960\">\n",
              "    <path d=\"M120-120v-720h720v720H120Zm60-500h600v-160H180v160Zm220 220h160v-160H400v160Zm0 220h160v-160H400v160ZM180-400h160v-160H180v160Zm440 0h160v-160H620v160ZM180-180h160v-160H180v160Zm440 0h160v-160H620v160Z\"/>\n",
              "  </svg>\n",
              "    </button>\n",
              "\n",
              "  <style>\n",
              "    .colab-df-container {\n",
              "      display:flex;\n",
              "      gap: 12px;\n",
              "    }\n",
              "\n",
              "    .colab-df-convert {\n",
              "      background-color: #E8F0FE;\n",
              "      border: none;\n",
              "      border-radius: 50%;\n",
              "      cursor: pointer;\n",
              "      display: none;\n",
              "      fill: #1967D2;\n",
              "      height: 32px;\n",
              "      padding: 0 0 0 0;\n",
              "      width: 32px;\n",
              "    }\n",
              "\n",
              "    .colab-df-convert:hover {\n",
              "      background-color: #E2EBFA;\n",
              "      box-shadow: 0px 1px 2px rgba(60, 64, 67, 0.3), 0px 1px 3px 1px rgba(60, 64, 67, 0.15);\n",
              "      fill: #174EA6;\n",
              "    }\n",
              "\n",
              "    .colab-df-buttons div {\n",
              "      margin-bottom: 4px;\n",
              "    }\n",
              "\n",
              "    [theme=dark] .colab-df-convert {\n",
              "      background-color: #3B4455;\n",
              "      fill: #D2E3FC;\n",
              "    }\n",
              "\n",
              "    [theme=dark] .colab-df-convert:hover {\n",
              "      background-color: #434B5C;\n",
              "      box-shadow: 0px 1px 3px 1px rgba(0, 0, 0, 0.15);\n",
              "      filter: drop-shadow(0px 1px 2px rgba(0, 0, 0, 0.3));\n",
              "      fill: #FFFFFF;\n",
              "    }\n",
              "  </style>\n",
              "\n",
              "    <script>\n",
              "      const buttonEl =\n",
              "        document.querySelector('#df-ea40b1bd-8664-4467-a8bc-4feb60483f98 button.colab-df-convert');\n",
              "      buttonEl.style.display =\n",
              "        google.colab.kernel.accessAllowed ? 'block' : 'none';\n",
              "\n",
              "      async function convertToInteractive(key) {\n",
              "        const element = document.querySelector('#df-ea40b1bd-8664-4467-a8bc-4feb60483f98');\n",
              "        const dataTable =\n",
              "          await google.colab.kernel.invokeFunction('convertToInteractive',\n",
              "                                                    [key], {});\n",
              "        if (!dataTable) return;\n",
              "\n",
              "        const docLinkHtml = 'Like what you see? Visit the ' +\n",
              "          '<a target=\"_blank\" href=https://colab.research.google.com/notebooks/data_table.ipynb>data table notebook</a>'\n",
              "          + ' to learn more about interactive tables.';\n",
              "        element.innerHTML = '';\n",
              "        dataTable['output_type'] = 'display_data';\n",
              "        await google.colab.output.renderOutput(dataTable, element);\n",
              "        const docLink = document.createElement('div');\n",
              "        docLink.innerHTML = docLinkHtml;\n",
              "        element.appendChild(docLink);\n",
              "      }\n",
              "    </script>\n",
              "  </div>\n",
              "\n",
              "\n",
              "<div id=\"df-0e8790db-8771-4833-b0c6-b3c712901c7f\">\n",
              "  <button class=\"colab-df-quickchart\" onclick=\"quickchart('df-0e8790db-8771-4833-b0c6-b3c712901c7f')\"\n",
              "            title=\"Suggest charts\"\n",
              "            style=\"display:none;\">\n",
              "\n",
              "<svg xmlns=\"http://www.w3.org/2000/svg\" height=\"24px\"viewBox=\"0 0 24 24\"\n",
              "     width=\"24px\">\n",
              "    <g>\n",
              "        <path d=\"M19 3H5c-1.1 0-2 .9-2 2v14c0 1.1.9 2 2 2h14c1.1 0 2-.9 2-2V5c0-1.1-.9-2-2-2zM9 17H7v-7h2v7zm4 0h-2V7h2v10zm4 0h-2v-4h2v4z\"/>\n",
              "    </g>\n",
              "</svg>\n",
              "  </button>\n",
              "\n",
              "<style>\n",
              "  .colab-df-quickchart {\n",
              "      --bg-color: #E8F0FE;\n",
              "      --fill-color: #1967D2;\n",
              "      --hover-bg-color: #E2EBFA;\n",
              "      --hover-fill-color: #174EA6;\n",
              "      --disabled-fill-color: #AAA;\n",
              "      --disabled-bg-color: #DDD;\n",
              "  }\n",
              "\n",
              "  [theme=dark] .colab-df-quickchart {\n",
              "      --bg-color: #3B4455;\n",
              "      --fill-color: #D2E3FC;\n",
              "      --hover-bg-color: #434B5C;\n",
              "      --hover-fill-color: #FFFFFF;\n",
              "      --disabled-bg-color: #3B4455;\n",
              "      --disabled-fill-color: #666;\n",
              "  }\n",
              "\n",
              "  .colab-df-quickchart {\n",
              "    background-color: var(--bg-color);\n",
              "    border: none;\n",
              "    border-radius: 50%;\n",
              "    cursor: pointer;\n",
              "    display: none;\n",
              "    fill: var(--fill-color);\n",
              "    height: 32px;\n",
              "    padding: 0;\n",
              "    width: 32px;\n",
              "  }\n",
              "\n",
              "  .colab-df-quickchart:hover {\n",
              "    background-color: var(--hover-bg-color);\n",
              "    box-shadow: 0 1px 2px rgba(60, 64, 67, 0.3), 0 1px 3px 1px rgba(60, 64, 67, 0.15);\n",
              "    fill: var(--button-hover-fill-color);\n",
              "  }\n",
              "\n",
              "  .colab-df-quickchart-complete:disabled,\n",
              "  .colab-df-quickchart-complete:disabled:hover {\n",
              "    background-color: var(--disabled-bg-color);\n",
              "    fill: var(--disabled-fill-color);\n",
              "    box-shadow: none;\n",
              "  }\n",
              "\n",
              "  .colab-df-spinner {\n",
              "    border: 2px solid var(--fill-color);\n",
              "    border-color: transparent;\n",
              "    border-bottom-color: var(--fill-color);\n",
              "    animation:\n",
              "      spin 1s steps(1) infinite;\n",
              "  }\n",
              "\n",
              "  @keyframes spin {\n",
              "    0% {\n",
              "      border-color: transparent;\n",
              "      border-bottom-color: var(--fill-color);\n",
              "      border-left-color: var(--fill-color);\n",
              "    }\n",
              "    20% {\n",
              "      border-color: transparent;\n",
              "      border-left-color: var(--fill-color);\n",
              "      border-top-color: var(--fill-color);\n",
              "    }\n",
              "    30% {\n",
              "      border-color: transparent;\n",
              "      border-left-color: var(--fill-color);\n",
              "      border-top-color: var(--fill-color);\n",
              "      border-right-color: var(--fill-color);\n",
              "    }\n",
              "    40% {\n",
              "      border-color: transparent;\n",
              "      border-right-color: var(--fill-color);\n",
              "      border-top-color: var(--fill-color);\n",
              "    }\n",
              "    60% {\n",
              "      border-color: transparent;\n",
              "      border-right-color: var(--fill-color);\n",
              "    }\n",
              "    80% {\n",
              "      border-color: transparent;\n",
              "      border-right-color: var(--fill-color);\n",
              "      border-bottom-color: var(--fill-color);\n",
              "    }\n",
              "    90% {\n",
              "      border-color: transparent;\n",
              "      border-bottom-color: var(--fill-color);\n",
              "    }\n",
              "  }\n",
              "</style>\n",
              "\n",
              "  <script>\n",
              "    async function quickchart(key) {\n",
              "      const quickchartButtonEl =\n",
              "        document.querySelector('#' + key + ' button');\n",
              "      quickchartButtonEl.disabled = true;  // To prevent multiple clicks.\n",
              "      quickchartButtonEl.classList.add('colab-df-spinner');\n",
              "      try {\n",
              "        const charts = await google.colab.kernel.invokeFunction(\n",
              "            'suggestCharts', [key], {});\n",
              "      } catch (error) {\n",
              "        console.error('Error during call to suggestCharts:', error);\n",
              "      }\n",
              "      quickchartButtonEl.classList.remove('colab-df-spinner');\n",
              "      quickchartButtonEl.classList.add('colab-df-quickchart-complete');\n",
              "    }\n",
              "    (() => {\n",
              "      let quickchartButtonEl =\n",
              "        document.querySelector('#df-0e8790db-8771-4833-b0c6-b3c712901c7f button');\n",
              "      quickchartButtonEl.style.display =\n",
              "        google.colab.kernel.accessAllowed ? 'block' : 'none';\n",
              "    })();\n",
              "  </script>\n",
              "</div>\n",
              "\n",
              "    </div>\n",
              "  </div>\n"
            ],
            "application/vnd.google.colaboratory.intrinsic+json": {
              "type": "dataframe",
              "variable_name": "ufc_part2_sorted",
              "summary": "{\n  \"name\": \"ufc_part2_sorted\",\n  \"rows\": 605,\n  \"fields\": [\n    {\n      \"column\": \"Name\",\n      \"properties\": {\n        \"dtype\": \"string\",\n        \"num_unique_values\": 605,\n        \"samples\": [\n          \"Alexandra Albu\",\n          \"Belal Muhammad\",\n          \"Ryan Bader\"\n        ],\n        \"semantic_type\": \"\",\n        \"description\": \"\"\n      }\n    },\n    {\n      \"column\": \"Wins\",\n      \"properties\": {\n        \"dtype\": \"number\",\n        \"std\": 0.1509370122028409,\n        \"min\": 0.0,\n        \"max\": 1.0,\n        \"num_unique_values\": 11,\n        \"samples\": [\n          0.4545454545454546,\n          1.0,\n          0.09090909090909091\n        ],\n        \"semantic_type\": \"\",\n        \"description\": \"\"\n      }\n    },\n    {\n      \"column\": \"Wins_By_KO\",\n      \"properties\": {\n        \"dtype\": \"number\",\n        \"std\": 0.14743291449124227,\n        \"min\": 0.0,\n        \"max\": 1.0,\n        \"num_unique_values\": 8,\n        \"samples\": [\n          0.7142857142857142,\n          0.5714285714285714,\n          0.8571428571428571\n        ],\n        \"semantic_type\": \"\",\n        \"description\": \"\"\n      }\n    },\n    {\n      \"column\": \"Wins_By_Sub\",\n      \"properties\": {\n        \"dtype\": \"number\",\n        \"std\": 0.19992182123708768,\n        \"min\": 0.0,\n        \"max\": 1.0,\n        \"num_unique_values\": 5,\n        \"samples\": [\n          0.0,\n          0.75,\n          0.25\n        ],\n        \"semantic_type\": \"\",\n        \"description\": \"\"\n      }\n    },\n    {\n      \"column\": \"Score\",\n      \"properties\": {\n        \"dtype\": \"number\",\n        \"std\": 0.1241948812565819,\n        \"min\": 0.0,\n        \"max\": 0.8571428571428571,\n        \"num_unique_values\": 75,\n        \"samples\": [\n          0.627922077922078,\n          0.18376623376623374,\n          0.4967532467532467\n        ],\n        \"semantic_type\": \"\",\n        \"description\": \"\"\n      }\n    }\n  ]\n}"
            }
          },
          "metadata": {},
          "execution_count": 34
        }
      ]
    }
  ]
}