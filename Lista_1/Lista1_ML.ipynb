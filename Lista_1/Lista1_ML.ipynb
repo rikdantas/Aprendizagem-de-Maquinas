{
  "nbformat": 4,
  "nbformat_minor": 0,
  "metadata": {
    "colab": {
      "provenance": [],
      "toc_visible": true,
      "collapsed_sections": [
        "EtO6yGVpyJoK",
        "yFdhDwS99rtl"
      ],
      "authorship_tag": "ABX9TyOIcIsp05v9pYugAWxq5NI4",
      "include_colab_link": true
    },
    "kernelspec": {
      "name": "python3",
      "display_name": "Python 3"
    },
    "language_info": {
      "name": "python"
    }
  },
  "cells": [
    {
      "cell_type": "markdown",
      "metadata": {
        "id": "view-in-github",
        "colab_type": "text"
      },
      "source": [
        "<a href=\"https://colab.research.google.com/github/rikdantas/Aprendizagem-de-Maquinas/blob/main/Lista_1/Lista1_ML.ipynb\" target=\"_parent\"><img src=\"https://colab.research.google.com/assets/colab-badge.svg\" alt=\"Open In Colab\"/></a>"
      ]
    },
    {
      "cell_type": "markdown",
      "source": [
        "Esse notebook foi criado para a resolução lista 1 da disciplina: DCA0133 - APRENDIZAGEM DE MÁQUINA E MINERAÇÃO DE DADOS\n",
        "\n",
        "**Aluno: Paulo Ricardo Dantas**"
      ],
      "metadata": {
        "id": "Ckv_Go5HbeNc"
      }
    },
    {
      "cell_type": "markdown",
      "source": [
        "# Questões\n"
      ],
      "metadata": {
        "id": "Bsk-qgM7bF7S"
      }
    },
    {
      "cell_type": "markdown",
      "source": [
        "## Questão 2\n",
        " Um determinado banco deve decidir se um cliente deve ou não receber um empréstimo bancário em função da sua condição de bom ou mau pagador. Considerando os dados de treinamento abaixo, aplique o classificador, no caso uma árvore de decisão, para atribuir a classe (rótulo) para o registro 12\n",
        "\n",
        " ![image.png](data:image/png;base64,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)\n"
      ],
      "metadata": {
        "id": "1MJ-s8XhbQQr"
      }
    },
    {
      "cell_type": "code",
      "source": [
        "# Importando bibliotecas\n",
        "import gdown\n",
        "import pandas as pd\n",
        "from sklearn.tree import DecisionTreeClassifier\n",
        "from sklearn.preprocessing import LabelEncoder\n",
        "from sklearn.tree import export_graphviz\n",
        "import graphviz"
      ],
      "metadata": {
        "id": "KmTtzrM-d-1X"
      },
      "execution_count": 3,
      "outputs": []
    },
    {
      "cell_type": "markdown",
      "source": [
        "### Importando o dataset\n"
      ],
      "metadata": {
        "id": "5YPcB3qLfN1v"
      }
    },
    {
      "cell_type": "code",
      "source": [
        "url = \"https://drive.google.com/uc?id=1o3EYzi39Ng6iBNTS-CPK978oEcjI6am7\"\n",
        "output = \"Questao2_L1.csv\"\n",
        "gdown.download(url, output)"
      ],
      "metadata": {
        "id": "qO1fdKVyfSIC"
      },
      "execution_count": null,
      "outputs": []
    },
    {
      "cell_type": "code",
      "source": [
        "# Lendo o dataset e mostrando um preview\n",
        "dados_questao2 = pd.read_csv(\"Questao2_L1.csv\")\n",
        "dados_questao2.head()"
      ],
      "metadata": {
        "colab": {
          "base_uri": "https://localhost:8080/",
          "height": 206
        },
        "id": "bAamEmlBfLOo",
        "outputId": "77cbc1aa-9b82-41b4-f410-7c92dc4db050"
      },
      "execution_count": 24,
      "outputs": [
        {
          "output_type": "execute_result",
          "data": {
            "text/plain": [
              "   Registro Tem casa\\nprópria Estado Civil Rendimentos Bom Pagador\n",
              "0         1               Sim     Solteiro        Alto         Não\n",
              "1         2               Não       Casado       Médio         Não\n",
              "2         3               Não     Solteiro       Baixo         Não\n",
              "3         4               Sim       Casado        Alto         Não\n",
              "4         5               Não   Divorciado       Médio         Sim"
            ],
            "text/html": [
              "\n",
              "  <div id=\"df-606dc646-6cbd-4d34-b895-0c35871ea506\" class=\"colab-df-container\">\n",
              "    <div>\n",
              "<style scoped>\n",
              "    .dataframe tbody tr th:only-of-type {\n",
              "        vertical-align: middle;\n",
              "    }\n",
              "\n",
              "    .dataframe tbody tr th {\n",
              "        vertical-align: top;\n",
              "    }\n",
              "\n",
              "    .dataframe thead th {\n",
              "        text-align: right;\n",
              "    }\n",
              "</style>\n",
              "<table border=\"1\" class=\"dataframe\">\n",
              "  <thead>\n",
              "    <tr style=\"text-align: right;\">\n",
              "      <th></th>\n",
              "      <th>Registro</th>\n",
              "      <th>Tem casa\\nprópria</th>\n",
              "      <th>Estado Civil</th>\n",
              "      <th>Rendimentos</th>\n",
              "      <th>Bom Pagador</th>\n",
              "    </tr>\n",
              "  </thead>\n",
              "  <tbody>\n",
              "    <tr>\n",
              "      <th>0</th>\n",
              "      <td>1</td>\n",
              "      <td>Sim</td>\n",
              "      <td>Solteiro</td>\n",
              "      <td>Alto</td>\n",
              "      <td>Não</td>\n",
              "    </tr>\n",
              "    <tr>\n",
              "      <th>1</th>\n",
              "      <td>2</td>\n",
              "      <td>Não</td>\n",
              "      <td>Casado</td>\n",
              "      <td>Médio</td>\n",
              "      <td>Não</td>\n",
              "    </tr>\n",
              "    <tr>\n",
              "      <th>2</th>\n",
              "      <td>3</td>\n",
              "      <td>Não</td>\n",
              "      <td>Solteiro</td>\n",
              "      <td>Baixo</td>\n",
              "      <td>Não</td>\n",
              "    </tr>\n",
              "    <tr>\n",
              "      <th>3</th>\n",
              "      <td>4</td>\n",
              "      <td>Sim</td>\n",
              "      <td>Casado</td>\n",
              "      <td>Alto</td>\n",
              "      <td>Não</td>\n",
              "    </tr>\n",
              "    <tr>\n",
              "      <th>4</th>\n",
              "      <td>5</td>\n",
              "      <td>Não</td>\n",
              "      <td>Divorciado</td>\n",
              "      <td>Médio</td>\n",
              "      <td>Sim</td>\n",
              "    </tr>\n",
              "  </tbody>\n",
              "</table>\n",
              "</div>\n",
              "    <div class=\"colab-df-buttons\">\n",
              "\n",
              "  <div class=\"colab-df-container\">\n",
              "    <button class=\"colab-df-convert\" onclick=\"convertToInteractive('df-606dc646-6cbd-4d34-b895-0c35871ea506')\"\n",
              "            title=\"Convert this dataframe to an interactive table.\"\n",
              "            style=\"display:none;\">\n",
              "\n",
              "  <svg xmlns=\"http://www.w3.org/2000/svg\" height=\"24px\" viewBox=\"0 -960 960 960\">\n",
              "    <path d=\"M120-120v-720h720v720H120Zm60-500h600v-160H180v160Zm220 220h160v-160H400v160Zm0 220h160v-160H400v160ZM180-400h160v-160H180v160Zm440 0h160v-160H620v160ZM180-180h160v-160H180v160Zm440 0h160v-160H620v160Z\"/>\n",
              "  </svg>\n",
              "    </button>\n",
              "\n",
              "  <style>\n",
              "    .colab-df-container {\n",
              "      display:flex;\n",
              "      gap: 12px;\n",
              "    }\n",
              "\n",
              "    .colab-df-convert {\n",
              "      background-color: #E8F0FE;\n",
              "      border: none;\n",
              "      border-radius: 50%;\n",
              "      cursor: pointer;\n",
              "      display: none;\n",
              "      fill: #1967D2;\n",
              "      height: 32px;\n",
              "      padding: 0 0 0 0;\n",
              "      width: 32px;\n",
              "    }\n",
              "\n",
              "    .colab-df-convert:hover {\n",
              "      background-color: #E2EBFA;\n",
              "      box-shadow: 0px 1px 2px rgba(60, 64, 67, 0.3), 0px 1px 3px 1px rgba(60, 64, 67, 0.15);\n",
              "      fill: #174EA6;\n",
              "    }\n",
              "\n",
              "    .colab-df-buttons div {\n",
              "      margin-bottom: 4px;\n",
              "    }\n",
              "\n",
              "    [theme=dark] .colab-df-convert {\n",
              "      background-color: #3B4455;\n",
              "      fill: #D2E3FC;\n",
              "    }\n",
              "\n",
              "    [theme=dark] .colab-df-convert:hover {\n",
              "      background-color: #434B5C;\n",
              "      box-shadow: 0px 1px 3px 1px rgba(0, 0, 0, 0.15);\n",
              "      filter: drop-shadow(0px 1px 2px rgba(0, 0, 0, 0.3));\n",
              "      fill: #FFFFFF;\n",
              "    }\n",
              "  </style>\n",
              "\n",
              "    <script>\n",
              "      const buttonEl =\n",
              "        document.querySelector('#df-606dc646-6cbd-4d34-b895-0c35871ea506 button.colab-df-convert');\n",
              "      buttonEl.style.display =\n",
              "        google.colab.kernel.accessAllowed ? 'block' : 'none';\n",
              "\n",
              "      async function convertToInteractive(key) {\n",
              "        const element = document.querySelector('#df-606dc646-6cbd-4d34-b895-0c35871ea506');\n",
              "        const dataTable =\n",
              "          await google.colab.kernel.invokeFunction('convertToInteractive',\n",
              "                                                    [key], {});\n",
              "        if (!dataTable) return;\n",
              "\n",
              "        const docLinkHtml = 'Like what you see? Visit the ' +\n",
              "          '<a target=\"_blank\" href=https://colab.research.google.com/notebooks/data_table.ipynb>data table notebook</a>'\n",
              "          + ' to learn more about interactive tables.';\n",
              "        element.innerHTML = '';\n",
              "        dataTable['output_type'] = 'display_data';\n",
              "        await google.colab.output.renderOutput(dataTable, element);\n",
              "        const docLink = document.createElement('div');\n",
              "        docLink.innerHTML = docLinkHtml;\n",
              "        element.appendChild(docLink);\n",
              "      }\n",
              "    </script>\n",
              "  </div>\n",
              "\n",
              "\n",
              "<div id=\"df-014aafdd-af79-4088-9421-cb17d75561c3\">\n",
              "  <button class=\"colab-df-quickchart\" onclick=\"quickchart('df-014aafdd-af79-4088-9421-cb17d75561c3')\"\n",
              "            title=\"Suggest charts\"\n",
              "            style=\"display:none;\">\n",
              "\n",
              "<svg xmlns=\"http://www.w3.org/2000/svg\" height=\"24px\"viewBox=\"0 0 24 24\"\n",
              "     width=\"24px\">\n",
              "    <g>\n",
              "        <path d=\"M19 3H5c-1.1 0-2 .9-2 2v14c0 1.1.9 2 2 2h14c1.1 0 2-.9 2-2V5c0-1.1-.9-2-2-2zM9 17H7v-7h2v7zm4 0h-2V7h2v10zm4 0h-2v-4h2v4z\"/>\n",
              "    </g>\n",
              "</svg>\n",
              "  </button>\n",
              "\n",
              "<style>\n",
              "  .colab-df-quickchart {\n",
              "      --bg-color: #E8F0FE;\n",
              "      --fill-color: #1967D2;\n",
              "      --hover-bg-color: #E2EBFA;\n",
              "      --hover-fill-color: #174EA6;\n",
              "      --disabled-fill-color: #AAA;\n",
              "      --disabled-bg-color: #DDD;\n",
              "  }\n",
              "\n",
              "  [theme=dark] .colab-df-quickchart {\n",
              "      --bg-color: #3B4455;\n",
              "      --fill-color: #D2E3FC;\n",
              "      --hover-bg-color: #434B5C;\n",
              "      --hover-fill-color: #FFFFFF;\n",
              "      --disabled-bg-color: #3B4455;\n",
              "      --disabled-fill-color: #666;\n",
              "  }\n",
              "\n",
              "  .colab-df-quickchart {\n",
              "    background-color: var(--bg-color);\n",
              "    border: none;\n",
              "    border-radius: 50%;\n",
              "    cursor: pointer;\n",
              "    display: none;\n",
              "    fill: var(--fill-color);\n",
              "    height: 32px;\n",
              "    padding: 0;\n",
              "    width: 32px;\n",
              "  }\n",
              "\n",
              "  .colab-df-quickchart:hover {\n",
              "    background-color: var(--hover-bg-color);\n",
              "    box-shadow: 0 1px 2px rgba(60, 64, 67, 0.3), 0 1px 3px 1px rgba(60, 64, 67, 0.15);\n",
              "    fill: var(--button-hover-fill-color);\n",
              "  }\n",
              "\n",
              "  .colab-df-quickchart-complete:disabled,\n",
              "  .colab-df-quickchart-complete:disabled:hover {\n",
              "    background-color: var(--disabled-bg-color);\n",
              "    fill: var(--disabled-fill-color);\n",
              "    box-shadow: none;\n",
              "  }\n",
              "\n",
              "  .colab-df-spinner {\n",
              "    border: 2px solid var(--fill-color);\n",
              "    border-color: transparent;\n",
              "    border-bottom-color: var(--fill-color);\n",
              "    animation:\n",
              "      spin 1s steps(1) infinite;\n",
              "  }\n",
              "\n",
              "  @keyframes spin {\n",
              "    0% {\n",
              "      border-color: transparent;\n",
              "      border-bottom-color: var(--fill-color);\n",
              "      border-left-color: var(--fill-color);\n",
              "    }\n",
              "    20% {\n",
              "      border-color: transparent;\n",
              "      border-left-color: var(--fill-color);\n",
              "      border-top-color: var(--fill-color);\n",
              "    }\n",
              "    30% {\n",
              "      border-color: transparent;\n",
              "      border-left-color: var(--fill-color);\n",
              "      border-top-color: var(--fill-color);\n",
              "      border-right-color: var(--fill-color);\n",
              "    }\n",
              "    40% {\n",
              "      border-color: transparent;\n",
              "      border-right-color: var(--fill-color);\n",
              "      border-top-color: var(--fill-color);\n",
              "    }\n",
              "    60% {\n",
              "      border-color: transparent;\n",
              "      border-right-color: var(--fill-color);\n",
              "    }\n",
              "    80% {\n",
              "      border-color: transparent;\n",
              "      border-right-color: var(--fill-color);\n",
              "      border-bottom-color: var(--fill-color);\n",
              "    }\n",
              "    90% {\n",
              "      border-color: transparent;\n",
              "      border-bottom-color: var(--fill-color);\n",
              "    }\n",
              "  }\n",
              "</style>\n",
              "\n",
              "  <script>\n",
              "    async function quickchart(key) {\n",
              "      const quickchartButtonEl =\n",
              "        document.querySelector('#' + key + ' button');\n",
              "      quickchartButtonEl.disabled = true;  // To prevent multiple clicks.\n",
              "      quickchartButtonEl.classList.add('colab-df-spinner');\n",
              "      try {\n",
              "        const charts = await google.colab.kernel.invokeFunction(\n",
              "            'suggestCharts', [key], {});\n",
              "      } catch (error) {\n",
              "        console.error('Error during call to suggestCharts:', error);\n",
              "      }\n",
              "      quickchartButtonEl.classList.remove('colab-df-spinner');\n",
              "      quickchartButtonEl.classList.add('colab-df-quickchart-complete');\n",
              "    }\n",
              "    (() => {\n",
              "      let quickchartButtonEl =\n",
              "        document.querySelector('#df-014aafdd-af79-4088-9421-cb17d75561c3 button');\n",
              "      quickchartButtonEl.style.display =\n",
              "        google.colab.kernel.accessAllowed ? 'block' : 'none';\n",
              "    })();\n",
              "  </script>\n",
              "</div>\n",
              "    </div>\n",
              "  </div>\n"
            ],
            "application/vnd.google.colaboratory.intrinsic+json": {
              "type": "dataframe",
              "variable_name": "dados_questao2",
              "summary": "{\n  \"name\": \"dados_questao2\",\n  \"rows\": 11,\n  \"fields\": [\n    {\n      \"column\": \"Registro\",\n      \"properties\": {\n        \"dtype\": \"number\",\n        \"std\": 3,\n        \"min\": 1,\n        \"max\": 11,\n        \"num_unique_values\": 11,\n        \"samples\": [\n          6,\n          1,\n          10\n        ],\n        \"semantic_type\": \"\",\n        \"description\": \"\"\n      }\n    },\n    {\n      \"column\": \"Tem casa\\npr\\u00f3pria\",\n      \"properties\": {\n        \"dtype\": \"category\",\n        \"num_unique_values\": 2,\n        \"samples\": [\n          \"N\\u00e3o\",\n          \"Sim\"\n        ],\n        \"semantic_type\": \"\",\n        \"description\": \"\"\n      }\n    },\n    {\n      \"column\": \"Estado Civil\",\n      \"properties\": {\n        \"dtype\": \"category\",\n        \"num_unique_values\": 3,\n        \"samples\": [\n          \"Solteiro\",\n          \"Casado\"\n        ],\n        \"semantic_type\": \"\",\n        \"description\": \"\"\n      }\n    },\n    {\n      \"column\": \"Rendimentos\",\n      \"properties\": {\n        \"dtype\": \"category\",\n        \"num_unique_values\": 3,\n        \"samples\": [\n          \"Alto\",\n          \"M\\u00e9dio\"\n        ],\n        \"semantic_type\": \"\",\n        \"description\": \"\"\n      }\n    },\n    {\n      \"column\": \"Bom Pagador\",\n      \"properties\": {\n        \"dtype\": \"category\",\n        \"num_unique_values\": 2,\n        \"samples\": [\n          \"Sim\",\n          \"N\\u00e3o\"\n        ],\n        \"semantic_type\": \"\",\n        \"description\": \"\"\n      }\n    }\n  ]\n}"
            }
          },
          "metadata": {},
          "execution_count": 24
        }
      ]
    },
    {
      "cell_type": "markdown",
      "source": [
        "### Pré-processamento dos dados"
      ],
      "metadata": {
        "id": "5TsZML-IgSV-"
      }
    },
    {
      "cell_type": "code",
      "source": [
        "# Transformando dados categóricos em dados numéricos\n",
        "mapeamento_tem_casa_propria = {'Não': 0, 'Sim': 1}\n",
        "mapeamento_estado_civil = {'Solteiro': 0, 'Casado': 1, 'Divorciado': 2}\n",
        "mapeamento_rendimentos = {'Baixo': 0, 'Médio': 1, 'Alto': 2}\n",
        "mapeamento_bom_pagador = {'Não': 0, 'Sim': 1}\n",
        "\n",
        "# Aplicando os mapeamentos para as colunas correspondentes\n",
        "dados_questao2['Tem casa\\nprópria'] = dados_questao2['Tem casa\\nprópria'].map(mapeamento_tem_casa_propria)\n",
        "dados_questao2['Estado Civil'] = dados_questao2['Estado Civil'].map(mapeamento_estado_civil)\n",
        "dados_questao2['Rendimentos'] = dados_questao2['Rendimentos'].map(mapeamento_rendimentos)\n",
        "dados_questao2['Bom Pagador'] = dados_questao2['Bom Pagador'].map(mapeamento_bom_pagador)\n",
        "\n",
        "dados_questao2.head()"
      ],
      "metadata": {
        "colab": {
          "base_uri": "https://localhost:8080/",
          "height": 206
        },
        "id": "whrxUPPhgYri",
        "outputId": "0194133f-d4f9-44e6-d932-9072bc251216"
      },
      "execution_count": 25,
      "outputs": [
        {
          "output_type": "execute_result",
          "data": {
            "text/plain": [
              "   Registro  Tem casa\\nprópria  Estado Civil  Rendimentos  Bom Pagador\n",
              "0         1                  1             0            2            0\n",
              "1         2                  0             1            1            0\n",
              "2         3                  0             0            0            0\n",
              "3         4                  1             1            2            0\n",
              "4         5                  0             2            1            1"
            ],
            "text/html": [
              "\n",
              "  <div id=\"df-14f2885e-3bab-473f-b93b-97441964d273\" class=\"colab-df-container\">\n",
              "    <div>\n",
              "<style scoped>\n",
              "    .dataframe tbody tr th:only-of-type {\n",
              "        vertical-align: middle;\n",
              "    }\n",
              "\n",
              "    .dataframe tbody tr th {\n",
              "        vertical-align: top;\n",
              "    }\n",
              "\n",
              "    .dataframe thead th {\n",
              "        text-align: right;\n",
              "    }\n",
              "</style>\n",
              "<table border=\"1\" class=\"dataframe\">\n",
              "  <thead>\n",
              "    <tr style=\"text-align: right;\">\n",
              "      <th></th>\n",
              "      <th>Registro</th>\n",
              "      <th>Tem casa\\nprópria</th>\n",
              "      <th>Estado Civil</th>\n",
              "      <th>Rendimentos</th>\n",
              "      <th>Bom Pagador</th>\n",
              "    </tr>\n",
              "  </thead>\n",
              "  <tbody>\n",
              "    <tr>\n",
              "      <th>0</th>\n",
              "      <td>1</td>\n",
              "      <td>1</td>\n",
              "      <td>0</td>\n",
              "      <td>2</td>\n",
              "      <td>0</td>\n",
              "    </tr>\n",
              "    <tr>\n",
              "      <th>1</th>\n",
              "      <td>2</td>\n",
              "      <td>0</td>\n",
              "      <td>1</td>\n",
              "      <td>1</td>\n",
              "      <td>0</td>\n",
              "    </tr>\n",
              "    <tr>\n",
              "      <th>2</th>\n",
              "      <td>3</td>\n",
              "      <td>0</td>\n",
              "      <td>0</td>\n",
              "      <td>0</td>\n",
              "      <td>0</td>\n",
              "    </tr>\n",
              "    <tr>\n",
              "      <th>3</th>\n",
              "      <td>4</td>\n",
              "      <td>1</td>\n",
              "      <td>1</td>\n",
              "      <td>2</td>\n",
              "      <td>0</td>\n",
              "    </tr>\n",
              "    <tr>\n",
              "      <th>4</th>\n",
              "      <td>5</td>\n",
              "      <td>0</td>\n",
              "      <td>2</td>\n",
              "      <td>1</td>\n",
              "      <td>1</td>\n",
              "    </tr>\n",
              "  </tbody>\n",
              "</table>\n",
              "</div>\n",
              "    <div class=\"colab-df-buttons\">\n",
              "\n",
              "  <div class=\"colab-df-container\">\n",
              "    <button class=\"colab-df-convert\" onclick=\"convertToInteractive('df-14f2885e-3bab-473f-b93b-97441964d273')\"\n",
              "            title=\"Convert this dataframe to an interactive table.\"\n",
              "            style=\"display:none;\">\n",
              "\n",
              "  <svg xmlns=\"http://www.w3.org/2000/svg\" height=\"24px\" viewBox=\"0 -960 960 960\">\n",
              "    <path d=\"M120-120v-720h720v720H120Zm60-500h600v-160H180v160Zm220 220h160v-160H400v160Zm0 220h160v-160H400v160ZM180-400h160v-160H180v160Zm440 0h160v-160H620v160ZM180-180h160v-160H180v160Zm440 0h160v-160H620v160Z\"/>\n",
              "  </svg>\n",
              "    </button>\n",
              "\n",
              "  <style>\n",
              "    .colab-df-container {\n",
              "      display:flex;\n",
              "      gap: 12px;\n",
              "    }\n",
              "\n",
              "    .colab-df-convert {\n",
              "      background-color: #E8F0FE;\n",
              "      border: none;\n",
              "      border-radius: 50%;\n",
              "      cursor: pointer;\n",
              "      display: none;\n",
              "      fill: #1967D2;\n",
              "      height: 32px;\n",
              "      padding: 0 0 0 0;\n",
              "      width: 32px;\n",
              "    }\n",
              "\n",
              "    .colab-df-convert:hover {\n",
              "      background-color: #E2EBFA;\n",
              "      box-shadow: 0px 1px 2px rgba(60, 64, 67, 0.3), 0px 1px 3px 1px rgba(60, 64, 67, 0.15);\n",
              "      fill: #174EA6;\n",
              "    }\n",
              "\n",
              "    .colab-df-buttons div {\n",
              "      margin-bottom: 4px;\n",
              "    }\n",
              "\n",
              "    [theme=dark] .colab-df-convert {\n",
              "      background-color: #3B4455;\n",
              "      fill: #D2E3FC;\n",
              "    }\n",
              "\n",
              "    [theme=dark] .colab-df-convert:hover {\n",
              "      background-color: #434B5C;\n",
              "      box-shadow: 0px 1px 3px 1px rgba(0, 0, 0, 0.15);\n",
              "      filter: drop-shadow(0px 1px 2px rgba(0, 0, 0, 0.3));\n",
              "      fill: #FFFFFF;\n",
              "    }\n",
              "  </style>\n",
              "\n",
              "    <script>\n",
              "      const buttonEl =\n",
              "        document.querySelector('#df-14f2885e-3bab-473f-b93b-97441964d273 button.colab-df-convert');\n",
              "      buttonEl.style.display =\n",
              "        google.colab.kernel.accessAllowed ? 'block' : 'none';\n",
              "\n",
              "      async function convertToInteractive(key) {\n",
              "        const element = document.querySelector('#df-14f2885e-3bab-473f-b93b-97441964d273');\n",
              "        const dataTable =\n",
              "          await google.colab.kernel.invokeFunction('convertToInteractive',\n",
              "                                                    [key], {});\n",
              "        if (!dataTable) return;\n",
              "\n",
              "        const docLinkHtml = 'Like what you see? Visit the ' +\n",
              "          '<a target=\"_blank\" href=https://colab.research.google.com/notebooks/data_table.ipynb>data table notebook</a>'\n",
              "          + ' to learn more about interactive tables.';\n",
              "        element.innerHTML = '';\n",
              "        dataTable['output_type'] = 'display_data';\n",
              "        await google.colab.output.renderOutput(dataTable, element);\n",
              "        const docLink = document.createElement('div');\n",
              "        docLink.innerHTML = docLinkHtml;\n",
              "        element.appendChild(docLink);\n",
              "      }\n",
              "    </script>\n",
              "  </div>\n",
              "\n",
              "\n",
              "<div id=\"df-11724fe7-29e9-4de9-bb9c-3bccbdfafe7d\">\n",
              "  <button class=\"colab-df-quickchart\" onclick=\"quickchart('df-11724fe7-29e9-4de9-bb9c-3bccbdfafe7d')\"\n",
              "            title=\"Suggest charts\"\n",
              "            style=\"display:none;\">\n",
              "\n",
              "<svg xmlns=\"http://www.w3.org/2000/svg\" height=\"24px\"viewBox=\"0 0 24 24\"\n",
              "     width=\"24px\">\n",
              "    <g>\n",
              "        <path d=\"M19 3H5c-1.1 0-2 .9-2 2v14c0 1.1.9 2 2 2h14c1.1 0 2-.9 2-2V5c0-1.1-.9-2-2-2zM9 17H7v-7h2v7zm4 0h-2V7h2v10zm4 0h-2v-4h2v4z\"/>\n",
              "    </g>\n",
              "</svg>\n",
              "  </button>\n",
              "\n",
              "<style>\n",
              "  .colab-df-quickchart {\n",
              "      --bg-color: #E8F0FE;\n",
              "      --fill-color: #1967D2;\n",
              "      --hover-bg-color: #E2EBFA;\n",
              "      --hover-fill-color: #174EA6;\n",
              "      --disabled-fill-color: #AAA;\n",
              "      --disabled-bg-color: #DDD;\n",
              "  }\n",
              "\n",
              "  [theme=dark] .colab-df-quickchart {\n",
              "      --bg-color: #3B4455;\n",
              "      --fill-color: #D2E3FC;\n",
              "      --hover-bg-color: #434B5C;\n",
              "      --hover-fill-color: #FFFFFF;\n",
              "      --disabled-bg-color: #3B4455;\n",
              "      --disabled-fill-color: #666;\n",
              "  }\n",
              "\n",
              "  .colab-df-quickchart {\n",
              "    background-color: var(--bg-color);\n",
              "    border: none;\n",
              "    border-radius: 50%;\n",
              "    cursor: pointer;\n",
              "    display: none;\n",
              "    fill: var(--fill-color);\n",
              "    height: 32px;\n",
              "    padding: 0;\n",
              "    width: 32px;\n",
              "  }\n",
              "\n",
              "  .colab-df-quickchart:hover {\n",
              "    background-color: var(--hover-bg-color);\n",
              "    box-shadow: 0 1px 2px rgba(60, 64, 67, 0.3), 0 1px 3px 1px rgba(60, 64, 67, 0.15);\n",
              "    fill: var(--button-hover-fill-color);\n",
              "  }\n",
              "\n",
              "  .colab-df-quickchart-complete:disabled,\n",
              "  .colab-df-quickchart-complete:disabled:hover {\n",
              "    background-color: var(--disabled-bg-color);\n",
              "    fill: var(--disabled-fill-color);\n",
              "    box-shadow: none;\n",
              "  }\n",
              "\n",
              "  .colab-df-spinner {\n",
              "    border: 2px solid var(--fill-color);\n",
              "    border-color: transparent;\n",
              "    border-bottom-color: var(--fill-color);\n",
              "    animation:\n",
              "      spin 1s steps(1) infinite;\n",
              "  }\n",
              "\n",
              "  @keyframes spin {\n",
              "    0% {\n",
              "      border-color: transparent;\n",
              "      border-bottom-color: var(--fill-color);\n",
              "      border-left-color: var(--fill-color);\n",
              "    }\n",
              "    20% {\n",
              "      border-color: transparent;\n",
              "      border-left-color: var(--fill-color);\n",
              "      border-top-color: var(--fill-color);\n",
              "    }\n",
              "    30% {\n",
              "      border-color: transparent;\n",
              "      border-left-color: var(--fill-color);\n",
              "      border-top-color: var(--fill-color);\n",
              "      border-right-color: var(--fill-color);\n",
              "    }\n",
              "    40% {\n",
              "      border-color: transparent;\n",
              "      border-right-color: var(--fill-color);\n",
              "      border-top-color: var(--fill-color);\n",
              "    }\n",
              "    60% {\n",
              "      border-color: transparent;\n",
              "      border-right-color: var(--fill-color);\n",
              "    }\n",
              "    80% {\n",
              "      border-color: transparent;\n",
              "      border-right-color: var(--fill-color);\n",
              "      border-bottom-color: var(--fill-color);\n",
              "    }\n",
              "    90% {\n",
              "      border-color: transparent;\n",
              "      border-bottom-color: var(--fill-color);\n",
              "    }\n",
              "  }\n",
              "</style>\n",
              "\n",
              "  <script>\n",
              "    async function quickchart(key) {\n",
              "      const quickchartButtonEl =\n",
              "        document.querySelector('#' + key + ' button');\n",
              "      quickchartButtonEl.disabled = true;  // To prevent multiple clicks.\n",
              "      quickchartButtonEl.classList.add('colab-df-spinner');\n",
              "      try {\n",
              "        const charts = await google.colab.kernel.invokeFunction(\n",
              "            'suggestCharts', [key], {});\n",
              "      } catch (error) {\n",
              "        console.error('Error during call to suggestCharts:', error);\n",
              "      }\n",
              "      quickchartButtonEl.classList.remove('colab-df-spinner');\n",
              "      quickchartButtonEl.classList.add('colab-df-quickchart-complete');\n",
              "    }\n",
              "    (() => {\n",
              "      let quickchartButtonEl =\n",
              "        document.querySelector('#df-11724fe7-29e9-4de9-bb9c-3bccbdfafe7d button');\n",
              "      quickchartButtonEl.style.display =\n",
              "        google.colab.kernel.accessAllowed ? 'block' : 'none';\n",
              "    })();\n",
              "  </script>\n",
              "</div>\n",
              "    </div>\n",
              "  </div>\n"
            ],
            "application/vnd.google.colaboratory.intrinsic+json": {
              "type": "dataframe",
              "variable_name": "dados_questao2",
              "summary": "{\n  \"name\": \"dados_questao2\",\n  \"rows\": 11,\n  \"fields\": [\n    {\n      \"column\": \"Registro\",\n      \"properties\": {\n        \"dtype\": \"number\",\n        \"std\": 3,\n        \"min\": 1,\n        \"max\": 11,\n        \"num_unique_values\": 11,\n        \"samples\": [\n          6,\n          1,\n          10\n        ],\n        \"semantic_type\": \"\",\n        \"description\": \"\"\n      }\n    },\n    {\n      \"column\": \"Tem casa\\npr\\u00f3pria\",\n      \"properties\": {\n        \"dtype\": \"number\",\n        \"std\": 0,\n        \"min\": 0,\n        \"max\": 1,\n        \"num_unique_values\": 2,\n        \"samples\": [\n          0,\n          1\n        ],\n        \"semantic_type\": \"\",\n        \"description\": \"\"\n      }\n    },\n    {\n      \"column\": \"Estado Civil\",\n      \"properties\": {\n        \"dtype\": \"number\",\n        \"std\": 0,\n        \"min\": 0,\n        \"max\": 2,\n        \"num_unique_values\": 3,\n        \"samples\": [\n          0,\n          1\n        ],\n        \"semantic_type\": \"\",\n        \"description\": \"\"\n      }\n    },\n    {\n      \"column\": \"Rendimentos\",\n      \"properties\": {\n        \"dtype\": \"number\",\n        \"std\": 0,\n        \"min\": 0,\n        \"max\": 2,\n        \"num_unique_values\": 3,\n        \"samples\": [\n          2,\n          1\n        ],\n        \"semantic_type\": \"\",\n        \"description\": \"\"\n      }\n    },\n    {\n      \"column\": \"Bom Pagador\",\n      \"properties\": {\n        \"dtype\": \"number\",\n        \"std\": 0,\n        \"min\": 0,\n        \"max\": 1,\n        \"num_unique_values\": 2,\n        \"samples\": [\n          1,\n          0\n        ],\n        \"semantic_type\": \"\",\n        \"description\": \"\"\n      }\n    }\n  ]\n}"
            }
          },
          "metadata": {},
          "execution_count": 25
        }
      ]
    },
    {
      "cell_type": "code",
      "source": [
        "# Separando os dados em features (X) e target (y)\n",
        "X = dados_questao2.drop(columns=['Bom Pagador', 'Registro'])\n",
        "y = dados_questao2['Bom Pagador']"
      ],
      "metadata": {
        "id": "-7w99dsUjREx"
      },
      "execution_count": 28,
      "outputs": []
    },
    {
      "cell_type": "markdown",
      "source": [
        "### Criando o modelo"
      ],
      "metadata": {
        "id": "LDxOKf08jf3S"
      }
    },
    {
      "cell_type": "code",
      "source": [
        "classificador = DecisionTreeClassifier()\n",
        "classificador.fit(X, y)"
      ],
      "metadata": {
        "id": "qkD_H6tHje4x"
      },
      "execution_count": null,
      "outputs": []
    },
    {
      "cell_type": "markdown",
      "source": [
        "### Usando o modelo\n"
      ],
      "metadata": {
        "id": "3O6H62TpjzDx"
      }
    },
    {
      "cell_type": "code",
      "source": [
        "registro_12 = [[0, 2, 2]]  # Não tem casa própria, é divorciado e tem rendimento alto\n",
        "previsao = classificador.predict(registro_12)"
      ],
      "metadata": {
        "id": "3zHk5Fmqj2md"
      },
      "execution_count": null,
      "outputs": []
    },
    {
      "cell_type": "code",
      "source": [
        "if(previsao[0]):\n",
        "  print(\"Se a pessoa não tem casa própria, é divorciado, tem rendimento alto, então é bom pagador\")\n",
        "else:\n",
        "  print(\"Se a pessoa não tem casa própria, é divorciado, tem rendimento alto, então não é bom pagador\")"
      ],
      "metadata": {
        "colab": {
          "base_uri": "https://localhost:8080/"
        },
        "id": "WzBIVISKkeTI",
        "outputId": "dd72283c-331e-48fc-dbfe-d31abacb1b17"
      },
      "execution_count": 37,
      "outputs": [
        {
          "output_type": "stream",
          "name": "stdout",
          "text": [
            "Se a pessoa não tem casa própria, é divorciado, tem rendimento alto, então é bom pagador\n"
          ]
        }
      ]
    },
    {
      "cell_type": "markdown",
      "source": [
        "### Visualizando a árvore de decisão\n"
      ],
      "metadata": {
        "id": "qAVbQ8Hmlbfe"
      }
    },
    {
      "cell_type": "code",
      "source": [
        "# Exportar a árvore de decisão para um arquivo .dot\n",
        "export_graphviz(classificador, out_file='arvore_decisional.dot',\n",
        "                feature_names=X.columns, class_names=['Não', 'Sim'],\n",
        "                filled=True, rounded=True)\n",
        "\n",
        "# Converter o arquivo .dot em um arquivo .png\n",
        "!dot -Tpng arvore_decisional.dot -o arvore_decisional.png\n",
        "\n",
        "# Exibir a árvore de decisão\n",
        "graphviz.Source.from_file('arvore_decisional.dot')"
      ],
      "metadata": {
        "colab": {
          "base_uri": "https://localhost:8080/",
          "height": 777
        },
        "id": "_0WATzISlei4",
        "outputId": "6bde45c6-ebba-4ecb-a0de-cfa695c27229"
      },
      "execution_count": 38,
      "outputs": [
        {
          "output_type": "execute_result",
          "data": {
            "image/svg+xml": "<?xml version=\"1.0\" encoding=\"UTF-8\" standalone=\"no\"?>\n<!DOCTYPE svg PUBLIC \"-//W3C//DTD SVG 1.1//EN\"\n \"http://www.w3.org/Graphics/SVG/1.1/DTD/svg11.dtd\">\n<!-- Generated by graphviz version 2.43.0 (0)\n -->\n<!-- Title: Tree Pages: 1 -->\n<svg width=\"551pt\" height=\"567pt\"\n viewBox=\"0.00 0.00 551.00 567.00\" xmlns=\"http://www.w3.org/2000/svg\" xmlns:xlink=\"http://www.w3.org/1999/xlink\">\n<g id=\"graph0\" class=\"graph\" transform=\"scale(1 1) rotate(0) translate(4 563)\">\n<title>Tree</title>\n<polygon fill=\"white\" stroke=\"transparent\" points=\"-4,4 -4,-563 547,-563 547,4 -4,4\"/>\n<!-- 0 -->\n<g id=\"node1\" class=\"node\">\n<title>0</title>\n<path fill=\"#f4c9aa\" stroke=\"black\" d=\"M247.5,-559C247.5,-559 131.5,-559 131.5,-559 125.5,-559 119.5,-553 119.5,-547 119.5,-547 119.5,-488 119.5,-488 119.5,-482 125.5,-476 131.5,-476 131.5,-476 247.5,-476 247.5,-476 253.5,-476 259.5,-482 259.5,-488 259.5,-488 259.5,-547 259.5,-547 259.5,-553 253.5,-559 247.5,-559\"/>\n<text text-anchor=\"middle\" x=\"189.5\" y=\"-543.8\" font-family=\"Helvetica,sans-Serif\" font-size=\"14.00\">Rendimentos &lt;= 0.5</text>\n<text text-anchor=\"middle\" x=\"189.5\" y=\"-528.8\" font-family=\"Helvetica,sans-Serif\" font-size=\"14.00\">gini = 0.463</text>\n<text text-anchor=\"middle\" x=\"189.5\" y=\"-513.8\" font-family=\"Helvetica,sans-Serif\" font-size=\"14.00\">samples = 11</text>\n<text text-anchor=\"middle\" x=\"189.5\" y=\"-498.8\" font-family=\"Helvetica,sans-Serif\" font-size=\"14.00\">value = [7, 4]</text>\n<text text-anchor=\"middle\" x=\"189.5\" y=\"-483.8\" font-family=\"Helvetica,sans-Serif\" font-size=\"14.00\">class = Não</text>\n</g>\n<!-- 1 -->\n<g id=\"node2\" class=\"node\">\n<title>1</title>\n<path fill=\"#e58139\" stroke=\"black\" d=\"M167,-425C167,-425 96,-425 96,-425 90,-425 84,-419 84,-413 84,-413 84,-369 84,-369 84,-363 90,-357 96,-357 96,-357 167,-357 167,-357 173,-357 179,-363 179,-369 179,-369 179,-413 179,-413 179,-419 173,-425 167,-425\"/>\n<text text-anchor=\"middle\" x=\"131.5\" y=\"-409.8\" font-family=\"Helvetica,sans-Serif\" font-size=\"14.00\">gini = 0.0</text>\n<text text-anchor=\"middle\" x=\"131.5\" y=\"-394.8\" font-family=\"Helvetica,sans-Serif\" font-size=\"14.00\">samples = 3</text>\n<text text-anchor=\"middle\" x=\"131.5\" y=\"-379.8\" font-family=\"Helvetica,sans-Serif\" font-size=\"14.00\">value = [3, 0]</text>\n<text text-anchor=\"middle\" x=\"131.5\" y=\"-364.8\" font-family=\"Helvetica,sans-Serif\" font-size=\"14.00\">class = Não</text>\n</g>\n<!-- 0&#45;&gt;1 -->\n<g id=\"edge1\" class=\"edge\">\n<title>0&#45;&gt;1</title>\n<path fill=\"none\" stroke=\"black\" d=\"M170.51,-475.73C164.39,-462.61 157.6,-448.03 151.42,-434.77\"/>\n<polygon fill=\"black\" stroke=\"black\" points=\"154.45,-432.97 147.05,-425.38 148.1,-435.92 154.45,-432.97\"/>\n<text text-anchor=\"middle\" x=\"138.49\" y=\"-445.17\" font-family=\"Helvetica,sans-Serif\" font-size=\"14.00\">True</text>\n</g>\n<!-- 2 -->\n<g id=\"node3\" class=\"node\">\n<title>2</title>\n<path fill=\"#ffffff\" stroke=\"black\" d=\"M286,-440C286,-440 209,-440 209,-440 203,-440 197,-434 197,-428 197,-428 197,-354 197,-354 197,-348 203,-342 209,-342 209,-342 286,-342 286,-342 292,-342 298,-348 298,-354 298,-354 298,-428 298,-428 298,-434 292,-440 286,-440\"/>\n<text text-anchor=\"middle\" x=\"247.5\" y=\"-424.8\" font-family=\"Helvetica,sans-Serif\" font-size=\"14.00\">Tem casa</text>\n<text text-anchor=\"middle\" x=\"247.5\" y=\"-409.8\" font-family=\"Helvetica,sans-Serif\" font-size=\"14.00\">própria &lt;= 0.5</text>\n<text text-anchor=\"middle\" x=\"247.5\" y=\"-394.8\" font-family=\"Helvetica,sans-Serif\" font-size=\"14.00\">gini = 0.5</text>\n<text text-anchor=\"middle\" x=\"247.5\" y=\"-379.8\" font-family=\"Helvetica,sans-Serif\" font-size=\"14.00\">samples = 8</text>\n<text text-anchor=\"middle\" x=\"247.5\" y=\"-364.8\" font-family=\"Helvetica,sans-Serif\" font-size=\"14.00\">value = [4, 4]</text>\n<text text-anchor=\"middle\" x=\"247.5\" y=\"-349.8\" font-family=\"Helvetica,sans-Serif\" font-size=\"14.00\">class = Não</text>\n</g>\n<!-- 0&#45;&gt;2 -->\n<g id=\"edge2\" class=\"edge\">\n<title>0&#45;&gt;2</title>\n<path fill=\"none\" stroke=\"black\" d=\"M208.49,-475.73C212.41,-467.31 216.62,-458.29 220.76,-449.41\"/>\n<polygon fill=\"black\" stroke=\"black\" points=\"223.98,-450.77 225.03,-440.22 217.64,-447.81 223.98,-450.77\"/>\n<text text-anchor=\"middle\" x=\"233.59\" y=\"-460.01\" font-family=\"Helvetica,sans-Serif\" font-size=\"14.00\">False</text>\n</g>\n<!-- 3 -->\n<g id=\"node4\" class=\"node\">\n<title>3</title>\n<path fill=\"#7bbeee\" stroke=\"black\" d=\"M227,-306C227,-306 120,-306 120,-306 114,-306 108,-300 108,-294 108,-294 108,-235 108,-235 108,-229 114,-223 120,-223 120,-223 227,-223 227,-223 233,-223 239,-229 239,-235 239,-235 239,-294 239,-294 239,-300 233,-306 227,-306\"/>\n<text text-anchor=\"middle\" x=\"173.5\" y=\"-290.8\" font-family=\"Helvetica,sans-Serif\" font-size=\"14.00\">Estado Civil &lt;= 0.5</text>\n<text text-anchor=\"middle\" x=\"173.5\" y=\"-275.8\" font-family=\"Helvetica,sans-Serif\" font-size=\"14.00\">gini = 0.375</text>\n<text text-anchor=\"middle\" x=\"173.5\" y=\"-260.8\" font-family=\"Helvetica,sans-Serif\" font-size=\"14.00\">samples = 4</text>\n<text text-anchor=\"middle\" x=\"173.5\" y=\"-245.8\" font-family=\"Helvetica,sans-Serif\" font-size=\"14.00\">value = [1, 3]</text>\n<text text-anchor=\"middle\" x=\"173.5\" y=\"-230.8\" font-family=\"Helvetica,sans-Serif\" font-size=\"14.00\">class = Sim</text>\n</g>\n<!-- 2&#45;&gt;3 -->\n<g id=\"edge3\" class=\"edge\">\n<title>2&#45;&gt;3</title>\n<path fill=\"none\" stroke=\"black\" d=\"M218.89,-341.87C213.64,-333.04 208.16,-323.81 202.89,-314.95\"/>\n<polygon fill=\"black\" stroke=\"black\" points=\"205.83,-313.04 197.71,-306.23 199.81,-316.62 205.83,-313.04\"/>\n</g>\n<!-- 8 -->\n<g id=\"node9\" class=\"node\">\n<title>8</title>\n<path fill=\"#eeab7b\" stroke=\"black\" d=\"M376,-306C376,-306 269,-306 269,-306 263,-306 257,-300 257,-294 257,-294 257,-235 257,-235 257,-229 263,-223 269,-223 269,-223 376,-223 376,-223 382,-223 388,-229 388,-235 388,-235 388,-294 388,-294 388,-300 382,-306 376,-306\"/>\n<text text-anchor=\"middle\" x=\"322.5\" y=\"-290.8\" font-family=\"Helvetica,sans-Serif\" font-size=\"14.00\">Estado Civil &lt;= 1.5</text>\n<text text-anchor=\"middle\" x=\"322.5\" y=\"-275.8\" font-family=\"Helvetica,sans-Serif\" font-size=\"14.00\">gini = 0.375</text>\n<text text-anchor=\"middle\" x=\"322.5\" y=\"-260.8\" font-family=\"Helvetica,sans-Serif\" font-size=\"14.00\">samples = 4</text>\n<text text-anchor=\"middle\" x=\"322.5\" y=\"-245.8\" font-family=\"Helvetica,sans-Serif\" font-size=\"14.00\">value = [3, 1]</text>\n<text text-anchor=\"middle\" x=\"322.5\" y=\"-230.8\" font-family=\"Helvetica,sans-Serif\" font-size=\"14.00\">class = Não</text>\n</g>\n<!-- 2&#45;&gt;8 -->\n<g id=\"edge8\" class=\"edge\">\n<title>2&#45;&gt;8</title>\n<path fill=\"none\" stroke=\"black\" d=\"M276.5,-341.87C281.81,-333.04 287.37,-323.81 292.71,-314.95\"/>\n<polygon fill=\"black\" stroke=\"black\" points=\"295.8,-316.6 297.96,-306.23 289.81,-312.99 295.8,-316.6\"/>\n</g>\n<!-- 4 -->\n<g id=\"node5\" class=\"node\">\n<title>4</title>\n<path fill=\"#399de5\" stroke=\"black\" d=\"M83,-179.5C83,-179.5 12,-179.5 12,-179.5 6,-179.5 0,-173.5 0,-167.5 0,-167.5 0,-123.5 0,-123.5 0,-117.5 6,-111.5 12,-111.5 12,-111.5 83,-111.5 83,-111.5 89,-111.5 95,-117.5 95,-123.5 95,-123.5 95,-167.5 95,-167.5 95,-173.5 89,-179.5 83,-179.5\"/>\n<text text-anchor=\"middle\" x=\"47.5\" y=\"-164.3\" font-family=\"Helvetica,sans-Serif\" font-size=\"14.00\">gini = 0.0</text>\n<text text-anchor=\"middle\" x=\"47.5\" y=\"-149.3\" font-family=\"Helvetica,sans-Serif\" font-size=\"14.00\">samples = 2</text>\n<text text-anchor=\"middle\" x=\"47.5\" y=\"-134.3\" font-family=\"Helvetica,sans-Serif\" font-size=\"14.00\">value = [0, 2]</text>\n<text text-anchor=\"middle\" x=\"47.5\" y=\"-119.3\" font-family=\"Helvetica,sans-Serif\" font-size=\"14.00\">class = Sim</text>\n</g>\n<!-- 3&#45;&gt;4 -->\n<g id=\"edge4\" class=\"edge\">\n<title>3&#45;&gt;4</title>\n<path fill=\"none\" stroke=\"black\" d=\"M129.78,-222.91C117.19,-211.21 103.45,-198.46 90.88,-186.78\"/>\n<polygon fill=\"black\" stroke=\"black\" points=\"92.93,-183.91 83.22,-179.67 88.16,-189.04 92.93,-183.91\"/>\n</g>\n<!-- 5 -->\n<g id=\"node6\" class=\"node\">\n<title>5</title>\n<path fill=\"#ffffff\" stroke=\"black\" d=\"M232,-187C232,-187 125,-187 125,-187 119,-187 113,-181 113,-175 113,-175 113,-116 113,-116 113,-110 119,-104 125,-104 125,-104 232,-104 232,-104 238,-104 244,-110 244,-116 244,-116 244,-175 244,-175 244,-181 238,-187 232,-187\"/>\n<text text-anchor=\"middle\" x=\"178.5\" y=\"-171.8\" font-family=\"Helvetica,sans-Serif\" font-size=\"14.00\">Estado Civil &lt;= 1.5</text>\n<text text-anchor=\"middle\" x=\"178.5\" y=\"-156.8\" font-family=\"Helvetica,sans-Serif\" font-size=\"14.00\">gini = 0.5</text>\n<text text-anchor=\"middle\" x=\"178.5\" y=\"-141.8\" font-family=\"Helvetica,sans-Serif\" font-size=\"14.00\">samples = 2</text>\n<text text-anchor=\"middle\" x=\"178.5\" y=\"-126.8\" font-family=\"Helvetica,sans-Serif\" font-size=\"14.00\">value = [1, 1]</text>\n<text text-anchor=\"middle\" x=\"178.5\" y=\"-111.8\" font-family=\"Helvetica,sans-Serif\" font-size=\"14.00\">class = Não</text>\n</g>\n<!-- 3&#45;&gt;5 -->\n<g id=\"edge5\" class=\"edge\">\n<title>3&#45;&gt;5</title>\n<path fill=\"none\" stroke=\"black\" d=\"M175.23,-222.91C175.59,-214.56 175.97,-205.67 176.34,-197.02\"/>\n<polygon fill=\"black\" stroke=\"black\" points=\"179.84,-197.16 176.77,-187.02 172.84,-196.86 179.84,-197.16\"/>\n</g>\n<!-- 6 -->\n<g id=\"node7\" class=\"node\">\n<title>6</title>\n<path fill=\"#e58139\" stroke=\"black\" d=\"M172,-68C172,-68 101,-68 101,-68 95,-68 89,-62 89,-56 89,-56 89,-12 89,-12 89,-6 95,0 101,0 101,0 172,0 172,0 178,0 184,-6 184,-12 184,-12 184,-56 184,-56 184,-62 178,-68 172,-68\"/>\n<text text-anchor=\"middle\" x=\"136.5\" y=\"-52.8\" font-family=\"Helvetica,sans-Serif\" font-size=\"14.00\">gini = 0.0</text>\n<text text-anchor=\"middle\" x=\"136.5\" y=\"-37.8\" font-family=\"Helvetica,sans-Serif\" font-size=\"14.00\">samples = 1</text>\n<text text-anchor=\"middle\" x=\"136.5\" y=\"-22.8\" font-family=\"Helvetica,sans-Serif\" font-size=\"14.00\">value = [1, 0]</text>\n<text text-anchor=\"middle\" x=\"136.5\" y=\"-7.8\" font-family=\"Helvetica,sans-Serif\" font-size=\"14.00\">class = Não</text>\n</g>\n<!-- 5&#45;&gt;6 -->\n<g id=\"edge6\" class=\"edge\">\n<title>5&#45;&gt;6</title>\n<path fill=\"none\" stroke=\"black\" d=\"M162.86,-103.73C159.61,-95.24 156.17,-86.28 152.89,-77.73\"/>\n<polygon fill=\"black\" stroke=\"black\" points=\"156.12,-76.38 149.27,-68.3 149.59,-78.89 156.12,-76.38\"/>\n</g>\n<!-- 7 -->\n<g id=\"node8\" class=\"node\">\n<title>7</title>\n<path fill=\"#399de5\" stroke=\"black\" d=\"M285,-68C285,-68 214,-68 214,-68 208,-68 202,-62 202,-56 202,-56 202,-12 202,-12 202,-6 208,0 214,0 214,0 285,0 285,0 291,0 297,-6 297,-12 297,-12 297,-56 297,-56 297,-62 291,-68 285,-68\"/>\n<text text-anchor=\"middle\" x=\"249.5\" y=\"-52.8\" font-family=\"Helvetica,sans-Serif\" font-size=\"14.00\">gini = 0.0</text>\n<text text-anchor=\"middle\" x=\"249.5\" y=\"-37.8\" font-family=\"Helvetica,sans-Serif\" font-size=\"14.00\">samples = 1</text>\n<text text-anchor=\"middle\" x=\"249.5\" y=\"-22.8\" font-family=\"Helvetica,sans-Serif\" font-size=\"14.00\">value = [0, 1]</text>\n<text text-anchor=\"middle\" x=\"249.5\" y=\"-7.8\" font-family=\"Helvetica,sans-Serif\" font-size=\"14.00\">class = Sim</text>\n</g>\n<!-- 5&#45;&gt;7 -->\n<g id=\"edge7\" class=\"edge\">\n<title>5&#45;&gt;7</title>\n<path fill=\"none\" stroke=\"black\" d=\"M204.94,-103.73C210.62,-94.97 216.62,-85.7 222.33,-76.91\"/>\n<polygon fill=\"black\" stroke=\"black\" points=\"225.4,-78.59 227.91,-68.3 219.53,-74.79 225.4,-78.59\"/>\n</g>\n<!-- 9 -->\n<g id=\"node10\" class=\"node\">\n<title>9</title>\n<path fill=\"#e58139\" stroke=\"black\" d=\"M354,-179.5C354,-179.5 283,-179.5 283,-179.5 277,-179.5 271,-173.5 271,-167.5 271,-167.5 271,-123.5 271,-123.5 271,-117.5 277,-111.5 283,-111.5 283,-111.5 354,-111.5 354,-111.5 360,-111.5 366,-117.5 366,-123.5 366,-123.5 366,-167.5 366,-167.5 366,-173.5 360,-179.5 354,-179.5\"/>\n<text text-anchor=\"middle\" x=\"318.5\" y=\"-164.3\" font-family=\"Helvetica,sans-Serif\" font-size=\"14.00\">gini = 0.0</text>\n<text text-anchor=\"middle\" x=\"318.5\" y=\"-149.3\" font-family=\"Helvetica,sans-Serif\" font-size=\"14.00\">samples = 2</text>\n<text text-anchor=\"middle\" x=\"318.5\" y=\"-134.3\" font-family=\"Helvetica,sans-Serif\" font-size=\"14.00\">value = [2, 0]</text>\n<text text-anchor=\"middle\" x=\"318.5\" y=\"-119.3\" font-family=\"Helvetica,sans-Serif\" font-size=\"14.00\">class = Não</text>\n</g>\n<!-- 8&#45;&gt;9 -->\n<g id=\"edge9\" class=\"edge\">\n<title>8&#45;&gt;9</title>\n<path fill=\"none\" stroke=\"black\" d=\"M321.11,-222.91C320.75,-212.2 320.35,-200.62 319.98,-189.78\"/>\n<polygon fill=\"black\" stroke=\"black\" points=\"323.47,-189.54 319.63,-179.67 316.48,-189.78 323.47,-189.54\"/>\n</g>\n<!-- 10 -->\n<g id=\"node11\" class=\"node\">\n<title>10</title>\n<path fill=\"#ffffff\" stroke=\"black\" d=\"M512.5,-187C512.5,-187 396.5,-187 396.5,-187 390.5,-187 384.5,-181 384.5,-175 384.5,-175 384.5,-116 384.5,-116 384.5,-110 390.5,-104 396.5,-104 396.5,-104 512.5,-104 512.5,-104 518.5,-104 524.5,-110 524.5,-116 524.5,-116 524.5,-175 524.5,-175 524.5,-181 518.5,-187 512.5,-187\"/>\n<text text-anchor=\"middle\" x=\"454.5\" y=\"-171.8\" font-family=\"Helvetica,sans-Serif\" font-size=\"14.00\">Rendimentos &lt;= 1.5</text>\n<text text-anchor=\"middle\" x=\"454.5\" y=\"-156.8\" font-family=\"Helvetica,sans-Serif\" font-size=\"14.00\">gini = 0.5</text>\n<text text-anchor=\"middle\" x=\"454.5\" y=\"-141.8\" font-family=\"Helvetica,sans-Serif\" font-size=\"14.00\">samples = 2</text>\n<text text-anchor=\"middle\" x=\"454.5\" y=\"-126.8\" font-family=\"Helvetica,sans-Serif\" font-size=\"14.00\">value = [1, 1]</text>\n<text text-anchor=\"middle\" x=\"454.5\" y=\"-111.8\" font-family=\"Helvetica,sans-Serif\" font-size=\"14.00\">class = Não</text>\n</g>\n<!-- 8&#45;&gt;10 -->\n<g id=\"edge10\" class=\"edge\">\n<title>8&#45;&gt;10</title>\n<path fill=\"none\" stroke=\"black\" d=\"M368.3,-222.91C378.84,-213.56 390.15,-203.54 400.99,-193.93\"/>\n<polygon fill=\"black\" stroke=\"black\" points=\"403.62,-196.27 408.78,-187.02 398.98,-191.03 403.62,-196.27\"/>\n</g>\n<!-- 11 -->\n<g id=\"node12\" class=\"node\">\n<title>11</title>\n<path fill=\"#e58139\" stroke=\"black\" d=\"M418,-68C418,-68 347,-68 347,-68 341,-68 335,-62 335,-56 335,-56 335,-12 335,-12 335,-6 341,0 347,0 347,0 418,0 418,0 424,0 430,-6 430,-12 430,-12 430,-56 430,-56 430,-62 424,-68 418,-68\"/>\n<text text-anchor=\"middle\" x=\"382.5\" y=\"-52.8\" font-family=\"Helvetica,sans-Serif\" font-size=\"14.00\">gini = 0.0</text>\n<text text-anchor=\"middle\" x=\"382.5\" y=\"-37.8\" font-family=\"Helvetica,sans-Serif\" font-size=\"14.00\">samples = 1</text>\n<text text-anchor=\"middle\" x=\"382.5\" y=\"-22.8\" font-family=\"Helvetica,sans-Serif\" font-size=\"14.00\">value = [1, 0]</text>\n<text text-anchor=\"middle\" x=\"382.5\" y=\"-7.8\" font-family=\"Helvetica,sans-Serif\" font-size=\"14.00\">class = Não</text>\n</g>\n<!-- 10&#45;&gt;11 -->\n<g id=\"edge11\" class=\"edge\">\n<title>10&#45;&gt;11</title>\n<path fill=\"none\" stroke=\"black\" d=\"M427.69,-103.73C421.93,-94.97 415.84,-85.7 410.05,-76.91\"/>\n<polygon fill=\"black\" stroke=\"black\" points=\"412.81,-74.73 404.4,-68.3 406.97,-78.58 412.81,-74.73\"/>\n</g>\n<!-- 12 -->\n<g id=\"node13\" class=\"node\">\n<title>12</title>\n<path fill=\"#399de5\" stroke=\"black\" d=\"M531,-68C531,-68 460,-68 460,-68 454,-68 448,-62 448,-56 448,-56 448,-12 448,-12 448,-6 454,0 460,0 460,0 531,0 531,0 537,0 543,-6 543,-12 543,-12 543,-56 543,-56 543,-62 537,-68 531,-68\"/>\n<text text-anchor=\"middle\" x=\"495.5\" y=\"-52.8\" font-family=\"Helvetica,sans-Serif\" font-size=\"14.00\">gini = 0.0</text>\n<text text-anchor=\"middle\" x=\"495.5\" y=\"-37.8\" font-family=\"Helvetica,sans-Serif\" font-size=\"14.00\">samples = 1</text>\n<text text-anchor=\"middle\" x=\"495.5\" y=\"-22.8\" font-family=\"Helvetica,sans-Serif\" font-size=\"14.00\">value = [0, 1]</text>\n<text text-anchor=\"middle\" x=\"495.5\" y=\"-7.8\" font-family=\"Helvetica,sans-Serif\" font-size=\"14.00\">class = Sim</text>\n</g>\n<!-- 10&#45;&gt;12 -->\n<g id=\"edge12\" class=\"edge\">\n<title>10&#45;&gt;12</title>\n<path fill=\"none\" stroke=\"black\" d=\"M469.77,-103.73C472.94,-95.24 476.3,-86.28 479.5,-77.73\"/>\n<polygon fill=\"black\" stroke=\"black\" points=\"482.8,-78.89 483.03,-68.3 476.25,-76.44 482.8,-78.89\"/>\n</g>\n</g>\n</svg>\n",
            "text/plain": [
              "<graphviz.sources.Source at 0x7e217841f490>"
            ]
          },
          "metadata": {},
          "execution_count": 38
        }
      ]
    },
    {
      "cell_type": "markdown",
      "source": [
        "# Trabalhos\n"
      ],
      "metadata": {
        "id": "z0yvWYQVxhGo"
      }
    },
    {
      "cell_type": "markdown",
      "source": [
        "## Trabalho 1\n",
        "Pesquise e apresente um trabalho sobre o algoritmo Naïve-Bayes para a detecção\n",
        "(classificação) de Spam em mensagens de email\n",
        "\n",
        "- OBS: Para a realização desse trabalho foi utilizado um dataset de emails que está disponivel no link a seguir: <https://github.com/NStugard/Intro-to-Machine-Learning/blob/main/spam.csv>"
      ],
      "metadata": {
        "id": "EtO6yGVpyJoK"
      }
    },
    {
      "cell_type": "code",
      "source": [
        "# Importando bibliotecas\n",
        "import pandas as pd\n",
        "from sklearn.model_selection import train_test_split\n",
        "from sklearn.feature_extraction.text import CountVectorizer\n",
        "from sklearn.naive_bayes import MultinomialNB\n",
        "from sklearn.metrics import accuracy_score, confusion_matrix\n",
        "import matplotlib.pyplot as plt\n",
        "import seaborn as sns"
      ],
      "metadata": {
        "id": "RlJzzr4mzHu2"
      },
      "execution_count": null,
      "outputs": []
    },
    {
      "cell_type": "markdown",
      "source": [
        "### Importando o dataset\n"
      ],
      "metadata": {
        "id": "T3fOwj7x0UdH"
      }
    },
    {
      "cell_type": "code",
      "source": [
        "# Lendo o dataset e mostrando um preview\n",
        "df = pd.read_csv('https://raw.githubusercontent.com/NStugard/Intro-to-Machine-Learning/main/spam.csv')\n",
        "df.head()"
      ],
      "metadata": {
        "colab": {
          "base_uri": "https://localhost:8080/",
          "height": 206
        },
        "id": "TqwbTw0-0Yr0",
        "outputId": "e7635b99-ab4d-44f1-8630-dce8e6fa4262"
      },
      "execution_count": null,
      "outputs": [
        {
          "output_type": "execute_result",
          "data": {
            "text/plain": [
              "  Category                                            Message\n",
              "0      ham  Go until jurong point, crazy.. Available only ...\n",
              "1      ham                      Ok lar... Joking wif u oni...\n",
              "2     spam  Free entry in 2 a wkly comp to win FA Cup fina...\n",
              "3      ham  U dun say so early hor... U c already then say...\n",
              "4      ham  Nah I don't think he goes to usf, he lives aro..."
            ],
            "text/html": [
              "\n",
              "  <div id=\"df-2b2e38ca-fe93-495c-aae3-67085358e775\" class=\"colab-df-container\">\n",
              "    <div>\n",
              "<style scoped>\n",
              "    .dataframe tbody tr th:only-of-type {\n",
              "        vertical-align: middle;\n",
              "    }\n",
              "\n",
              "    .dataframe tbody tr th {\n",
              "        vertical-align: top;\n",
              "    }\n",
              "\n",
              "    .dataframe thead th {\n",
              "        text-align: right;\n",
              "    }\n",
              "</style>\n",
              "<table border=\"1\" class=\"dataframe\">\n",
              "  <thead>\n",
              "    <tr style=\"text-align: right;\">\n",
              "      <th></th>\n",
              "      <th>Category</th>\n",
              "      <th>Message</th>\n",
              "    </tr>\n",
              "  </thead>\n",
              "  <tbody>\n",
              "    <tr>\n",
              "      <th>0</th>\n",
              "      <td>ham</td>\n",
              "      <td>Go until jurong point, crazy.. Available only ...</td>\n",
              "    </tr>\n",
              "    <tr>\n",
              "      <th>1</th>\n",
              "      <td>ham</td>\n",
              "      <td>Ok lar... Joking wif u oni...</td>\n",
              "    </tr>\n",
              "    <tr>\n",
              "      <th>2</th>\n",
              "      <td>spam</td>\n",
              "      <td>Free entry in 2 a wkly comp to win FA Cup fina...</td>\n",
              "    </tr>\n",
              "    <tr>\n",
              "      <th>3</th>\n",
              "      <td>ham</td>\n",
              "      <td>U dun say so early hor... U c already then say...</td>\n",
              "    </tr>\n",
              "    <tr>\n",
              "      <th>4</th>\n",
              "      <td>ham</td>\n",
              "      <td>Nah I don't think he goes to usf, he lives aro...</td>\n",
              "    </tr>\n",
              "  </tbody>\n",
              "</table>\n",
              "</div>\n",
              "    <div class=\"colab-df-buttons\">\n",
              "\n",
              "  <div class=\"colab-df-container\">\n",
              "    <button class=\"colab-df-convert\" onclick=\"convertToInteractive('df-2b2e38ca-fe93-495c-aae3-67085358e775')\"\n",
              "            title=\"Convert this dataframe to an interactive table.\"\n",
              "            style=\"display:none;\">\n",
              "\n",
              "  <svg xmlns=\"http://www.w3.org/2000/svg\" height=\"24px\" viewBox=\"0 -960 960 960\">\n",
              "    <path d=\"M120-120v-720h720v720H120Zm60-500h600v-160H180v160Zm220 220h160v-160H400v160Zm0 220h160v-160H400v160ZM180-400h160v-160H180v160Zm440 0h160v-160H620v160ZM180-180h160v-160H180v160Zm440 0h160v-160H620v160Z\"/>\n",
              "  </svg>\n",
              "    </button>\n",
              "\n",
              "  <style>\n",
              "    .colab-df-container {\n",
              "      display:flex;\n",
              "      gap: 12px;\n",
              "    }\n",
              "\n",
              "    .colab-df-convert {\n",
              "      background-color: #E8F0FE;\n",
              "      border: none;\n",
              "      border-radius: 50%;\n",
              "      cursor: pointer;\n",
              "      display: none;\n",
              "      fill: #1967D2;\n",
              "      height: 32px;\n",
              "      padding: 0 0 0 0;\n",
              "      width: 32px;\n",
              "    }\n",
              "\n",
              "    .colab-df-convert:hover {\n",
              "      background-color: #E2EBFA;\n",
              "      box-shadow: 0px 1px 2px rgba(60, 64, 67, 0.3), 0px 1px 3px 1px rgba(60, 64, 67, 0.15);\n",
              "      fill: #174EA6;\n",
              "    }\n",
              "\n",
              "    .colab-df-buttons div {\n",
              "      margin-bottom: 4px;\n",
              "    }\n",
              "\n",
              "    [theme=dark] .colab-df-convert {\n",
              "      background-color: #3B4455;\n",
              "      fill: #D2E3FC;\n",
              "    }\n",
              "\n",
              "    [theme=dark] .colab-df-convert:hover {\n",
              "      background-color: #434B5C;\n",
              "      box-shadow: 0px 1px 3px 1px rgba(0, 0, 0, 0.15);\n",
              "      filter: drop-shadow(0px 1px 2px rgba(0, 0, 0, 0.3));\n",
              "      fill: #FFFFFF;\n",
              "    }\n",
              "  </style>\n",
              "\n",
              "    <script>\n",
              "      const buttonEl =\n",
              "        document.querySelector('#df-2b2e38ca-fe93-495c-aae3-67085358e775 button.colab-df-convert');\n",
              "      buttonEl.style.display =\n",
              "        google.colab.kernel.accessAllowed ? 'block' : 'none';\n",
              "\n",
              "      async function convertToInteractive(key) {\n",
              "        const element = document.querySelector('#df-2b2e38ca-fe93-495c-aae3-67085358e775');\n",
              "        const dataTable =\n",
              "          await google.colab.kernel.invokeFunction('convertToInteractive',\n",
              "                                                    [key], {});\n",
              "        if (!dataTable) return;\n",
              "\n",
              "        const docLinkHtml = 'Like what you see? Visit the ' +\n",
              "          '<a target=\"_blank\" href=https://colab.research.google.com/notebooks/data_table.ipynb>data table notebook</a>'\n",
              "          + ' to learn more about interactive tables.';\n",
              "        element.innerHTML = '';\n",
              "        dataTable['output_type'] = 'display_data';\n",
              "        await google.colab.output.renderOutput(dataTable, element);\n",
              "        const docLink = document.createElement('div');\n",
              "        docLink.innerHTML = docLinkHtml;\n",
              "        element.appendChild(docLink);\n",
              "      }\n",
              "    </script>\n",
              "  </div>\n",
              "\n",
              "\n",
              "<div id=\"df-f2c82e2a-26d8-424b-ab23-d6643a1957d5\">\n",
              "  <button class=\"colab-df-quickchart\" onclick=\"quickchart('df-f2c82e2a-26d8-424b-ab23-d6643a1957d5')\"\n",
              "            title=\"Suggest charts\"\n",
              "            style=\"display:none;\">\n",
              "\n",
              "<svg xmlns=\"http://www.w3.org/2000/svg\" height=\"24px\"viewBox=\"0 0 24 24\"\n",
              "     width=\"24px\">\n",
              "    <g>\n",
              "        <path d=\"M19 3H5c-1.1 0-2 .9-2 2v14c0 1.1.9 2 2 2h14c1.1 0 2-.9 2-2V5c0-1.1-.9-2-2-2zM9 17H7v-7h2v7zm4 0h-2V7h2v10zm4 0h-2v-4h2v4z\"/>\n",
              "    </g>\n",
              "</svg>\n",
              "  </button>\n",
              "\n",
              "<style>\n",
              "  .colab-df-quickchart {\n",
              "      --bg-color: #E8F0FE;\n",
              "      --fill-color: #1967D2;\n",
              "      --hover-bg-color: #E2EBFA;\n",
              "      --hover-fill-color: #174EA6;\n",
              "      --disabled-fill-color: #AAA;\n",
              "      --disabled-bg-color: #DDD;\n",
              "  }\n",
              "\n",
              "  [theme=dark] .colab-df-quickchart {\n",
              "      --bg-color: #3B4455;\n",
              "      --fill-color: #D2E3FC;\n",
              "      --hover-bg-color: #434B5C;\n",
              "      --hover-fill-color: #FFFFFF;\n",
              "      --disabled-bg-color: #3B4455;\n",
              "      --disabled-fill-color: #666;\n",
              "  }\n",
              "\n",
              "  .colab-df-quickchart {\n",
              "    background-color: var(--bg-color);\n",
              "    border: none;\n",
              "    border-radius: 50%;\n",
              "    cursor: pointer;\n",
              "    display: none;\n",
              "    fill: var(--fill-color);\n",
              "    height: 32px;\n",
              "    padding: 0;\n",
              "    width: 32px;\n",
              "  }\n",
              "\n",
              "  .colab-df-quickchart:hover {\n",
              "    background-color: var(--hover-bg-color);\n",
              "    box-shadow: 0 1px 2px rgba(60, 64, 67, 0.3), 0 1px 3px 1px rgba(60, 64, 67, 0.15);\n",
              "    fill: var(--button-hover-fill-color);\n",
              "  }\n",
              "\n",
              "  .colab-df-quickchart-complete:disabled,\n",
              "  .colab-df-quickchart-complete:disabled:hover {\n",
              "    background-color: var(--disabled-bg-color);\n",
              "    fill: var(--disabled-fill-color);\n",
              "    box-shadow: none;\n",
              "  }\n",
              "\n",
              "  .colab-df-spinner {\n",
              "    border: 2px solid var(--fill-color);\n",
              "    border-color: transparent;\n",
              "    border-bottom-color: var(--fill-color);\n",
              "    animation:\n",
              "      spin 1s steps(1) infinite;\n",
              "  }\n",
              "\n",
              "  @keyframes spin {\n",
              "    0% {\n",
              "      border-color: transparent;\n",
              "      border-bottom-color: var(--fill-color);\n",
              "      border-left-color: var(--fill-color);\n",
              "    }\n",
              "    20% {\n",
              "      border-color: transparent;\n",
              "      border-left-color: var(--fill-color);\n",
              "      border-top-color: var(--fill-color);\n",
              "    }\n",
              "    30% {\n",
              "      border-color: transparent;\n",
              "      border-left-color: var(--fill-color);\n",
              "      border-top-color: var(--fill-color);\n",
              "      border-right-color: var(--fill-color);\n",
              "    }\n",
              "    40% {\n",
              "      border-color: transparent;\n",
              "      border-right-color: var(--fill-color);\n",
              "      border-top-color: var(--fill-color);\n",
              "    }\n",
              "    60% {\n",
              "      border-color: transparent;\n",
              "      border-right-color: var(--fill-color);\n",
              "    }\n",
              "    80% {\n",
              "      border-color: transparent;\n",
              "      border-right-color: var(--fill-color);\n",
              "      border-bottom-color: var(--fill-color);\n",
              "    }\n",
              "    90% {\n",
              "      border-color: transparent;\n",
              "      border-bottom-color: var(--fill-color);\n",
              "    }\n",
              "  }\n",
              "</style>\n",
              "\n",
              "  <script>\n",
              "    async function quickchart(key) {\n",
              "      const quickchartButtonEl =\n",
              "        document.querySelector('#' + key + ' button');\n",
              "      quickchartButtonEl.disabled = true;  // To prevent multiple clicks.\n",
              "      quickchartButtonEl.classList.add('colab-df-spinner');\n",
              "      try {\n",
              "        const charts = await google.colab.kernel.invokeFunction(\n",
              "            'suggestCharts', [key], {});\n",
              "      } catch (error) {\n",
              "        console.error('Error during call to suggestCharts:', error);\n",
              "      }\n",
              "      quickchartButtonEl.classList.remove('colab-df-spinner');\n",
              "      quickchartButtonEl.classList.add('colab-df-quickchart-complete');\n",
              "    }\n",
              "    (() => {\n",
              "      let quickchartButtonEl =\n",
              "        document.querySelector('#df-f2c82e2a-26d8-424b-ab23-d6643a1957d5 button');\n",
              "      quickchartButtonEl.style.display =\n",
              "        google.colab.kernel.accessAllowed ? 'block' : 'none';\n",
              "    })();\n",
              "  </script>\n",
              "</div>\n",
              "    </div>\n",
              "  </div>\n"
            ],
            "application/vnd.google.colaboratory.intrinsic+json": {
              "type": "dataframe",
              "variable_name": "df",
              "summary": "{\n  \"name\": \"df\",\n  \"rows\": 5572,\n  \"fields\": [\n    {\n      \"column\": \"Category\",\n      \"properties\": {\n        \"dtype\": \"category\",\n        \"num_unique_values\": 2,\n        \"samples\": [\n          \"spam\",\n          \"ham\"\n        ],\n        \"semantic_type\": \"\",\n        \"description\": \"\"\n      }\n    },\n    {\n      \"column\": \"Message\",\n      \"properties\": {\n        \"dtype\": \"string\",\n        \"num_unique_values\": 5157,\n        \"samples\": [\n          \"Also sir, i sent you an email about how to log into the usc payment portal. I.ll send you another message that should explain how things are back home. Have a great weekend.\",\n          \"Are you free now?can i call now?\"\n        ],\n        \"semantic_type\": \"\",\n        \"description\": \"\"\n      }\n    }\n  ]\n}"
            }
          },
          "metadata": {},
          "execution_count": 19
        }
      ]
    },
    {
      "cell_type": "code",
      "source": [
        "# Mostrando o tamanho do dataset\n",
        "print(\"Quantidade de linhas do dataset:\", df.shape[0])"
      ],
      "metadata": {
        "colab": {
          "base_uri": "https://localhost:8080/"
        },
        "id": "4XNSrIh04SdP",
        "outputId": "ff556043-bbe7-4f98-84b5-fbd14b46285d"
      },
      "execution_count": null,
      "outputs": [
        {
          "output_type": "stream",
          "name": "stdout",
          "text": [
            "Quantidade de linhas do dataset: 5572\n"
          ]
        }
      ]
    },
    {
      "cell_type": "markdown",
      "source": [
        "### Dividindo os dados em dados para treinamento e dados para teste"
      ],
      "metadata": {
        "id": "CR8uKZEq29I3"
      }
    },
    {
      "cell_type": "code",
      "source": [
        "X = df['Message']  # Recursos\n",
        "Y = df['Category']    # Rótulos\n",
        "\n",
        "# Dividindo os dados em conjunto de treinamento e teste\n",
        "X_treino, X_teste, Y_treino, Y_teste = train_test_split(X, Y, test_size=0.2, random_state=42)"
      ],
      "metadata": {
        "id": "Qu8jY3-l3FYv"
      },
      "execution_count": null,
      "outputs": []
    },
    {
      "cell_type": "code",
      "source": [
        "# Contando o número de instâncias de cada classe nos conjuntos de treinamento e teste\n",
        "train_counts = Y_treino.value_counts()\n",
        "test_counts = Y_teste.value_counts()\n",
        "\n",
        "# Criando um gráfico de barras\n",
        "plt.figure(figsize=(10, 5))\n",
        "\n",
        "# Dados de treinamento\n",
        "plt.bar(train_counts.index, train_counts.values, alpha=0.5, label='Treinamento', color='blue')\n",
        "\n",
        "# Dados de teste\n",
        "plt.bar(test_counts.index, test_counts.values, alpha=0.5, label='Teste', color='orange')\n",
        "\n",
        "plt.xlabel('Classe')\n",
        "plt.ylabel('Número de Instâncias')\n",
        "plt.title('Distribuição de Classes nos Dados de Treinamento e Teste')\n",
        "plt.legend()\n",
        "plt.show()"
      ],
      "metadata": {
        "colab": {
          "base_uri": "https://localhost:8080/",
          "height": 487
        },
        "id": "ir_n6VRf3nV6",
        "outputId": "593fb454-76fa-47b0-d791-33e62ffa07c9"
      },
      "execution_count": null,
      "outputs": [
        {
          "output_type": "display_data",
          "data": {
            "text/plain": [
              "<Figure size 1000x500 with 1 Axes>"
            ],
            "image/png": "[encoded data removed]"
          },
          "metadata": {}
        }
      ]
    },
    {
      "cell_type": "markdown",
      "source": [
        "### Vetorização\n",
        "Como foi instruído no próprio trabalho, é necessário que se faça a vetorização das mensagens, pois o algoritmo de Naive-Bayes trabalha com dados numéricos. Ou seja, vetorizar seria transformar as mensagens em números."
      ],
      "metadata": {
        "id": "Rt5V-25E43qM"
      }
    },
    {
      "cell_type": "code",
      "source": [
        "# Vetorizando as mensagens de e-mail\n",
        "vetorizador = CountVectorizer()\n",
        "X_treino_vetorizado = vetorizador.fit_transform(X_treino)\n",
        "X_teste_vetorizado = vetorizador.transform(X_teste)"
      ],
      "metadata": {
        "id": "aHKJRX1N5Y2B"
      },
      "execution_count": null,
      "outputs": []
    },
    {
      "cell_type": "markdown",
      "source": [
        "### Criando modelo\n",
        "Para criar o modelo de Naive-Bayes vai ser utilizado o método também falado na lista, o MultinomialNB()."
      ],
      "metadata": {
        "id": "pW7orJp951Qn"
      }
    },
    {
      "cell_type": "code",
      "source": [
        "# Criando e treinando o modelo Naïve-Bayes\n",
        "modelo_NB = MultinomialNB()\n",
        "modelo_NB.fit(X_treino_vetorizado, Y_treino)"
      ],
      "metadata": {
        "id": "nnscI3E4533t",
        "colab": {
          "base_uri": "https://localhost:8080/",
          "height": 75
        },
        "outputId": "5bda89be-50ff-4642-97f5-4918a62c6c03"
      },
      "execution_count": null,
      "outputs": [
        {
          "output_type": "execute_result",
          "data": {
            "text/plain": [
              "MultinomialNB()"
            ],
            "text/html": [
              "<style>#sk-container-id-1 {color: black;background-color: white;}#sk-container-id-1 pre{padding: 0;}#sk-container-id-1 div.sk-toggleable {background-color: white;}#sk-container-id-1 label.sk-toggleable__label {cursor: pointer;display: block;width: 100%;margin-bottom: 0;padding: 0.3em;box-sizing: border-box;text-align: center;}#sk-container-id-1 label.sk-toggleable__label-arrow:before {content: \"▸\";float: left;margin-right: 0.25em;color: #696969;}#sk-container-id-1 label.sk-toggleable__label-arrow:hover:before {color: black;}#sk-container-id-1 div.sk-estimator:hover label.sk-toggleable__label-arrow:before {color: black;}#sk-container-id-1 div.sk-toggleable__content {max-height: 0;max-width: 0;overflow: hidden;text-align: left;background-color: #f0f8ff;}#sk-container-id-1 div.sk-toggleable__content pre {margin: 0.2em;color: black;border-radius: 0.25em;background-color: #f0f8ff;}#sk-container-id-1 input.sk-toggleable__control:checked~div.sk-toggleable__content {max-height: 200px;max-width: 100%;overflow: auto;}#sk-container-id-1 input.sk-toggleable__control:checked~label.sk-toggleable__label-arrow:before {content: \"▾\";}#sk-container-id-1 div.sk-estimator input.sk-toggleable__control:checked~label.sk-toggleable__label {background-color: #d4ebff;}#sk-container-id-1 div.sk-label input.sk-toggleable__control:checked~label.sk-toggleable__label {background-color: #d4ebff;}#sk-container-id-1 input.sk-hidden--visually {border: 0;clip: rect(1px 1px 1px 1px);clip: rect(1px, 1px, 1px, 1px);height: 1px;margin: -1px;overflow: hidden;padding: 0;position: absolute;width: 1px;}#sk-container-id-1 div.sk-estimator {font-family: monospace;background-color: #f0f8ff;border: 1px dotted black;border-radius: 0.25em;box-sizing: border-box;margin-bottom: 0.5em;}#sk-container-id-1 div.sk-estimator:hover {background-color: #d4ebff;}#sk-container-id-1 div.sk-parallel-item::after {content: \"\";width: 100%;border-bottom: 1px solid gray;flex-grow: 1;}#sk-container-id-1 div.sk-label:hover label.sk-toggleable__label {background-color: #d4ebff;}#sk-container-id-1 div.sk-serial::before {content: \"\";position: absolute;border-left: 1px solid gray;box-sizing: border-box;top: 0;bottom: 0;left: 50%;z-index: 0;}#sk-container-id-1 div.sk-serial {display: flex;flex-direction: column;align-items: center;background-color: white;padding-right: 0.2em;padding-left: 0.2em;position: relative;}#sk-container-id-1 div.sk-item {position: relative;z-index: 1;}#sk-container-id-1 div.sk-parallel {display: flex;align-items: stretch;justify-content: center;background-color: white;position: relative;}#sk-container-id-1 div.sk-item::before, #sk-container-id-1 div.sk-parallel-item::before {content: \"\";position: absolute;border-left: 1px solid gray;box-sizing: border-box;top: 0;bottom: 0;left: 50%;z-index: -1;}#sk-container-id-1 div.sk-parallel-item {display: flex;flex-direction: column;z-index: 1;position: relative;background-color: white;}#sk-container-id-1 div.sk-parallel-item:first-child::after {align-self: flex-end;width: 50%;}#sk-container-id-1 div.sk-parallel-item:last-child::after {align-self: flex-start;width: 50%;}#sk-container-id-1 div.sk-parallel-item:only-child::after {width: 0;}#sk-container-id-1 div.sk-dashed-wrapped {border: 1px dashed gray;margin: 0 0.4em 0.5em 0.4em;box-sizing: border-box;padding-bottom: 0.4em;background-color: white;}#sk-container-id-1 div.sk-label label {font-family: monospace;font-weight: bold;display: inline-block;line-height: 1.2em;}#sk-container-id-1 div.sk-label-container {text-align: center;}#sk-container-id-1 div.sk-container {/* jupyter's `normalize.less` sets `[hidden] { display: none; }` but bootstrap.min.css set `[hidden] { display: none !important; }` so we also need the `!important` here to be able to override the default hidden behavior on the sphinx rendered scikit-learn.org. See: https://github.com/scikit-learn/scikit-learn/issues/21755 */display: inline-block !important;position: relative;}#sk-container-id-1 div.sk-text-repr-fallback {display: none;}</style><div id=\"sk-container-id-1\" class=\"sk-top-container\"><div class=\"sk-text-repr-fallback\"><pre>MultinomialNB()</pre><b>In a Jupyter environment, please rerun this cell to show the HTML representation or trust the notebook. <br />On GitHub, the HTML representation is unable to render, please try loading this page with nbviewer.org.</b></div><div class=\"sk-container\" hidden><div class=\"sk-item\"><div class=\"sk-estimator sk-toggleable\"><input class=\"sk-toggleable__control sk-hidden--visually\" id=\"sk-estimator-id-1\" type=\"checkbox\" checked><label for=\"sk-estimator-id-1\" class=\"sk-toggleable__label sk-toggleable__label-arrow\">MultinomialNB</label><div class=\"sk-toggleable__content\"><pre>MultinomialNB()</pre></div></div></div></div></div>"
            ]
          },
          "metadata": {},
          "execution_count": 24
        }
      ]
    },
    {
      "cell_type": "markdown",
      "source": [
        "### Usando o modelo\n",
        "Agora que o modelo está criado usando os dados de teste, precisamos fazer previsões usando o modelo e testá-las."
      ],
      "metadata": {
        "id": "ug92q8NJ6QCC"
      }
    },
    {
      "cell_type": "code",
      "source": [
        "# Fazendo previsões com o modelo treinado\n",
        "previsoes = modelo_NB.predict(X_teste_vetorizado)"
      ],
      "metadata": {
        "id": "IKCiYWqR6LVU"
      },
      "execution_count": null,
      "outputs": []
    },
    {
      "cell_type": "markdown",
      "source": [
        "### Verificando eficácia do modelo\n",
        "Para verificar a eficácia do modelo iremos usar duas funções já implementadas da biblioteca sklearn que é a accuracy_score e a confusion_matrix."
      ],
      "metadata": {
        "id": "57fCJ46-6omt"
      }
    },
    {
      "cell_type": "code",
      "source": [
        "# Avaliando a precisão do modelo\n",
        "precisao = accuracy_score(Y_teste, previsoes)\n",
        "print(\"Precisão do modelo Naïve-Bayes:\", precisao)\n"
      ],
      "metadata": {
        "colab": {
          "base_uri": "https://localhost:8080/"
        },
        "id": "omE8o-a17fLP",
        "outputId": "b3070fbc-132c-4eea-c7a3-efb864d4777b"
      },
      "execution_count": null,
      "outputs": [
        {
          "output_type": "stream",
          "name": "stdout",
          "text": [
            "Precisão do modelo Naïve-Bayes: 0.9919282511210762\n"
          ]
        }
      ]
    },
    {
      "cell_type": "code",
      "source": [
        "# Matriz de confusão\n",
        "matriz_confusao = confusion_matrix(Y_teste, previsoes)\n",
        "print(\"\\nMatriz de Confusão:\")\n",
        "print(matriz_confusao)"
      ],
      "metadata": {
        "colab": {
          "base_uri": "https://localhost:8080/"
        },
        "id": "fENlY-QI73gg",
        "outputId": "ddb0090b-56a8-48ab-bc89-d0f216debe24"
      },
      "execution_count": null,
      "outputs": [
        {
          "output_type": "stream",
          "name": "stdout",
          "text": [
            "\n",
            "Matriz de Confusão:\n",
            "[[966   0]\n",
            " [  9 140]]\n"
          ]
        }
      ]
    },
    {
      "cell_type": "markdown",
      "source": [
        "Note que essa matriz de confusão não é tão bem explicativa, por isso iremos plotar um gráfico para ajudar em uma melhor visualização."
      ],
      "metadata": {
        "id": "FdajyxMQ78BW"
      }
    },
    {
      "cell_type": "code",
      "source": [
        "# Plotando a matriz de confusão como um mapa de calor\n",
        "plt.figure(figsize=(8, 6))\n",
        "sns.heatmap(matriz_confusao, annot=True, fmt='d', cmap='Greys', xticklabels=['ham', 'spam'], yticklabels=['ham', 'spam'])\n",
        "plt.xlabel('Rótulo Previsto')\n",
        "plt.ylabel('Rótulo Verdadeiro')\n",
        "plt.title('Matriz de Confusão')\n",
        "plt.show()"
      ],
      "metadata": {
        "colab": {
          "base_uri": "https://localhost:8080/",
          "height": 564
        },
        "id": "Vg2hg6sQ8IPv",
        "outputId": "0e7ed7e7-bb61-46be-e06c-747e8e8ba1dd"
      },
      "execution_count": null,
      "outputs": [
        {
          "output_type": "display_data",
          "data": {
            "text/plain": [
              "<Figure size 800x600 with 2 Axes>"
            ],
            "image/png": "[encoded data removed]"
          },
          "metadata": {}
        }
      ]
    },
    {
      "cell_type": "markdown",
      "source": [
        "## Trabalho 2\n",
        "Pesquise e apresente um trabalho sobre Random Forest para inferir o preço de uma casa (regressão) baseado em atributos como área do terreno, número de quartos, número de banheiros, etc.\n",
        "- OBS: Para a realização desse trabalho foi utilizado um dataset de preços de casa que está disponivel no link a seguir: <https://www.kaggle.com/datasets/ashydv/housing-dataset>\n"
      ],
      "metadata": {
        "id": "yFdhDwS99rtl"
      }
    },
    {
      "cell_type": "code",
      "source": [
        "# Importando bibliotecas\n",
        "import gdown\n",
        "import pandas as pd\n",
        "from sklearn.model_selection import train_test_split\n",
        "from sklearn.preprocessing import LabelEncoder\n",
        "from sklearn.ensemble import RandomForestRegressor\n",
        "from sklearn.metrics import mean_squared_error, r2_score"
      ],
      "metadata": {
        "id": "bon874nMJxi5"
      },
      "execution_count": null,
      "outputs": []
    },
    {
      "cell_type": "markdown",
      "source": [
        "### Importando o dataset"
      ],
      "metadata": {
        "id": "ykHmpaRTJ0QM"
      }
    },
    {
      "cell_type": "code",
      "source": [
        "url = \"https://drive.google.com/uc?id=1mUV9zSS1UZw_r9kKUsJlfuAKHO8fOOSR\"\n",
        "output = \"Housing.csv\"\n",
        "gdown.download(url, output)"
      ],
      "metadata": {
        "colab": {
          "base_uri": "https://localhost:8080/",
          "height": 105
        },
        "id": "ZJewHEamM6qY",
        "outputId": "ace1a9e8-dde6-4285-f677-71361d0b16f5"
      },
      "execution_count": null,
      "outputs": [
        {
          "output_type": "stream",
          "name": "stderr",
          "text": [
            "Downloading...\n",
            "From: https://drive.google.com/uc?id=1mUV9zSS1UZw_r9kKUsJlfuAKHO8fOOSR\n",
            "To: /content/Housing.csv\n",
            "100%|██████████| 30.0k/30.0k [00:00<00:00, 12.4MB/s]\n"
          ]
        },
        {
          "output_type": "execute_result",
          "data": {
            "text/plain": [
              "'Housing.csv'"
            ],
            "application/vnd.google.colaboratory.intrinsic+json": {
              "type": "string"
            }
          },
          "metadata": {},
          "execution_count": 12
        }
      ]
    },
    {
      "cell_type": "code",
      "source": [
        "# Lendo o dataset e mostrando um preview\n",
        "housing_data = pd.read_csv(\"Housing.csv\")\n",
        "housing_data.head()"
      ],
      "metadata": {
        "colab": {
          "base_uri": "https://localhost:8080/",
          "height": 206
        },
        "id": "-jnLb3MFMf4u",
        "outputId": "968b21f3-d6a2-4774-e36b-0afe87ea0784"
      },
      "execution_count": null,
      "outputs": [
        {
          "output_type": "execute_result",
          "data": {
            "text/plain": [
              "      price  area  bedrooms  bathrooms  stories mainroad guestroom basement  \\\n",
              "0  13300000  7420         4          2        3      yes        no       no   \n",
              "1  12250000  8960         4          4        4      yes        no       no   \n",
              "2  12250000  9960         3          2        2      yes        no      yes   \n",
              "3  12215000  7500         4          2        2      yes        no      yes   \n",
              "4  11410000  7420         4          1        2      yes       yes      yes   \n",
              "\n",
              "  hotwaterheating airconditioning  parking prefarea furnishingstatus  \n",
              "0              no             yes        2      yes        furnished  \n",
              "1              no             yes        3       no        furnished  \n",
              "2              no              no        2      yes   semi-furnished  \n",
              "3              no             yes        3      yes        furnished  \n",
              "4              no             yes        2       no        furnished  "
            ],
            "text/html": [
              "\n",
              "  <div id=\"df-ac1984dc-da87-4550-9f8f-651e3e203c81\" class=\"colab-df-container\">\n",
              "    <div>\n",
              "<style scoped>\n",
              "    .dataframe tbody tr th:only-of-type {\n",
              "        vertical-align: middle;\n",
              "    }\n",
              "\n",
              "    .dataframe tbody tr th {\n",
              "        vertical-align: top;\n",
              "    }\n",
              "\n",
              "    .dataframe thead th {\n",
              "        text-align: right;\n",
              "    }\n",
              "</style>\n",
              "<table border=\"1\" class=\"dataframe\">\n",
              "  <thead>\n",
              "    <tr style=\"text-align: right;\">\n",
              "      <th></th>\n",
              "      <th>price</th>\n",
              "      <th>area</th>\n",
              "      <th>bedrooms</th>\n",
              "      <th>bathrooms</th>\n",
              "      <th>stories</th>\n",
              "      <th>mainroad</th>\n",
              "      <th>guestroom</th>\n",
              "      <th>basement</th>\n",
              "      <th>hotwaterheating</th>\n",
              "      <th>airconditioning</th>\n",
              "      <th>parking</th>\n",
              "      <th>prefarea</th>\n",
              "      <th>furnishingstatus</th>\n",
              "    </tr>\n",
              "  </thead>\n",
              "  <tbody>\n",
              "    <tr>\n",
              "      <th>0</th>\n",
              "      <td>13300000</td>\n",
              "      <td>7420</td>\n",
              "      <td>4</td>\n",
              "      <td>2</td>\n",
              "      <td>3</td>\n",
              "      <td>yes</td>\n",
              "      <td>no</td>\n",
              "      <td>no</td>\n",
              "      <td>no</td>\n",
              "      <td>yes</td>\n",
              "      <td>2</td>\n",
              "      <td>yes</td>\n",
              "      <td>furnished</td>\n",
              "    </tr>\n",
              "    <tr>\n",
              "      <th>1</th>\n",
              "      <td>12250000</td>\n",
              "      <td>8960</td>\n",
              "      <td>4</td>\n",
              "      <td>4</td>\n",
              "      <td>4</td>\n",
              "      <td>yes</td>\n",
              "      <td>no</td>\n",
              "      <td>no</td>\n",
              "      <td>no</td>\n",
              "      <td>yes</td>\n",
              "      <td>3</td>\n",
              "      <td>no</td>\n",
              "      <td>furnished</td>\n",
              "    </tr>\n",
              "    <tr>\n",
              "      <th>2</th>\n",
              "      <td>12250000</td>\n",
              "      <td>9960</td>\n",
              "      <td>3</td>\n",
              "      <td>2</td>\n",
              "      <td>2</td>\n",
              "      <td>yes</td>\n",
              "      <td>no</td>\n",
              "      <td>yes</td>\n",
              "      <td>no</td>\n",
              "      <td>no</td>\n",
              "      <td>2</td>\n",
              "      <td>yes</td>\n",
              "      <td>semi-furnished</td>\n",
              "    </tr>\n",
              "    <tr>\n",
              "      <th>3</th>\n",
              "      <td>12215000</td>\n",
              "      <td>7500</td>\n",
              "      <td>4</td>\n",
              "      <td>2</td>\n",
              "      <td>2</td>\n",
              "      <td>yes</td>\n",
              "      <td>no</td>\n",
              "      <td>yes</td>\n",
              "      <td>no</td>\n",
              "      <td>yes</td>\n",
              "      <td>3</td>\n",
              "      <td>yes</td>\n",
              "      <td>furnished</td>\n",
              "    </tr>\n",
              "    <tr>\n",
              "      <th>4</th>\n",
              "      <td>11410000</td>\n",
              "      <td>7420</td>\n",
              "      <td>4</td>\n",
              "      <td>1</td>\n",
              "      <td>2</td>\n",
              "      <td>yes</td>\n",
              "      <td>yes</td>\n",
              "      <td>yes</td>\n",
              "      <td>no</td>\n",
              "      <td>yes</td>\n",
              "      <td>2</td>\n",
              "      <td>no</td>\n",
              "      <td>furnished</td>\n",
              "    </tr>\n",
              "  </tbody>\n",
              "</table>\n",
              "</div>\n",
              "    <div class=\"colab-df-buttons\">\n",
              "\n",
              "  <div class=\"colab-df-container\">\n",
              "    <button class=\"colab-df-convert\" onclick=\"convertToInteractive('df-ac1984dc-da87-4550-9f8f-651e3e203c81')\"\n",
              "            title=\"Convert this dataframe to an interactive table.\"\n",
              "            style=\"display:none;\">\n",
              "\n",
              "  <svg xmlns=\"http://www.w3.org/2000/svg\" height=\"24px\" viewBox=\"0 -960 960 960\">\n",
              "    <path d=\"M120-120v-720h720v720H120Zm60-500h600v-160H180v160Zm220 220h160v-160H400v160Zm0 220h160v-160H400v160ZM180-400h160v-160H180v160Zm440 0h160v-160H620v160ZM180-180h160v-160H180v160Zm440 0h160v-160H620v160Z\"/>\n",
              "  </svg>\n",
              "    </button>\n",
              "\n",
              "  <style>\n",
              "    .colab-df-container {\n",
              "      display:flex;\n",
              "      gap: 12px;\n",
              "    }\n",
              "\n",
              "    .colab-df-convert {\n",
              "      background-color: #E8F0FE;\n",
              "      border: none;\n",
              "      border-radius: 50%;\n",
              "      cursor: pointer;\n",
              "      display: none;\n",
              "      fill: #1967D2;\n",
              "      height: 32px;\n",
              "      padding: 0 0 0 0;\n",
              "      width: 32px;\n",
              "    }\n",
              "\n",
              "    .colab-df-convert:hover {\n",
              "      background-color: #E2EBFA;\n",
              "      box-shadow: 0px 1px 2px rgba(60, 64, 67, 0.3), 0px 1px 3px 1px rgba(60, 64, 67, 0.15);\n",
              "      fill: #174EA6;\n",
              "    }\n",
              "\n",
              "    .colab-df-buttons div {\n",
              "      margin-bottom: 4px;\n",
              "    }\n",
              "\n",
              "    [theme=dark] .colab-df-convert {\n",
              "      background-color: #3B4455;\n",
              "      fill: #D2E3FC;\n",
              "    }\n",
              "\n",
              "    [theme=dark] .colab-df-convert:hover {\n",
              "      background-color: #434B5C;\n",
              "      box-shadow: 0px 1px 3px 1px rgba(0, 0, 0, 0.15);\n",
              "      filter: drop-shadow(0px 1px 2px rgba(0, 0, 0, 0.3));\n",
              "      fill: #FFFFFF;\n",
              "    }\n",
              "  </style>\n",
              "\n",
              "    <script>\n",
              "      const buttonEl =\n",
              "        document.querySelector('#df-ac1984dc-da87-4550-9f8f-651e3e203c81 button.colab-df-convert');\n",
              "      buttonEl.style.display =\n",
              "        google.colab.kernel.accessAllowed ? 'block' : 'none';\n",
              "\n",
              "      async function convertToInteractive(key) {\n",
              "        const element = document.querySelector('#df-ac1984dc-da87-4550-9f8f-651e3e203c81');\n",
              "        const dataTable =\n",
              "          await google.colab.kernel.invokeFunction('convertToInteractive',\n",
              "                                                    [key], {});\n",
              "        if (!dataTable) return;\n",
              "\n",
              "        const docLinkHtml = 'Like what you see? Visit the ' +\n",
              "          '<a target=\"_blank\" href=https://colab.research.google.com/notebooks/data_table.ipynb>data table notebook</a>'\n",
              "          + ' to learn more about interactive tables.';\n",
              "        element.innerHTML = '';\n",
              "        dataTable['output_type'] = 'display_data';\n",
              "        await google.colab.output.renderOutput(dataTable, element);\n",
              "        const docLink = document.createElement('div');\n",
              "        docLink.innerHTML = docLinkHtml;\n",
              "        element.appendChild(docLink);\n",
              "      }\n",
              "    </script>\n",
              "  </div>\n",
              "\n",
              "\n",
              "<div id=\"df-3e35c5ed-bd05-40e3-a728-626cbd76e595\">\n",
              "  <button class=\"colab-df-quickchart\" onclick=\"quickchart('df-3e35c5ed-bd05-40e3-a728-626cbd76e595')\"\n",
              "            title=\"Suggest charts\"\n",
              "            style=\"display:none;\">\n",
              "\n",
              "<svg xmlns=\"http://www.w3.org/2000/svg\" height=\"24px\"viewBox=\"0 0 24 24\"\n",
              "     width=\"24px\">\n",
              "    <g>\n",
              "        <path d=\"M19 3H5c-1.1 0-2 .9-2 2v14c0 1.1.9 2 2 2h14c1.1 0 2-.9 2-2V5c0-1.1-.9-2-2-2zM9 17H7v-7h2v7zm4 0h-2V7h2v10zm4 0h-2v-4h2v4z\"/>\n",
              "    </g>\n",
              "</svg>\n",
              "  </button>\n",
              "\n",
              "<style>\n",
              "  .colab-df-quickchart {\n",
              "      --bg-color: #E8F0FE;\n",
              "      --fill-color: #1967D2;\n",
              "      --hover-bg-color: #E2EBFA;\n",
              "      --hover-fill-color: #174EA6;\n",
              "      --disabled-fill-color: #AAA;\n",
              "      --disabled-bg-color: #DDD;\n",
              "  }\n",
              "\n",
              "  [theme=dark] .colab-df-quickchart {\n",
              "      --bg-color: #3B4455;\n",
              "      --fill-color: #D2E3FC;\n",
              "      --hover-bg-color: #434B5C;\n",
              "      --hover-fill-color: #FFFFFF;\n",
              "      --disabled-bg-color: #3B4455;\n",
              "      --disabled-fill-color: #666;\n",
              "  }\n",
              "\n",
              "  .colab-df-quickchart {\n",
              "    background-color: var(--bg-color);\n",
              "    border: none;\n",
              "    border-radius: 50%;\n",
              "    cursor: pointer;\n",
              "    display: none;\n",
              "    fill: var(--fill-color);\n",
              "    height: 32px;\n",
              "    padding: 0;\n",
              "    width: 32px;\n",
              "  }\n",
              "\n",
              "  .colab-df-quickchart:hover {\n",
              "    background-color: var(--hover-bg-color);\n",
              "    box-shadow: 0 1px 2px rgba(60, 64, 67, 0.3), 0 1px 3px 1px rgba(60, 64, 67, 0.15);\n",
              "    fill: var(--button-hover-fill-color);\n",
              "  }\n",
              "\n",
              "  .colab-df-quickchart-complete:disabled,\n",
              "  .colab-df-quickchart-complete:disabled:hover {\n",
              "    background-color: var(--disabled-bg-color);\n",
              "    fill: var(--disabled-fill-color);\n",
              "    box-shadow: none;\n",
              "  }\n",
              "\n",
              "  .colab-df-spinner {\n",
              "    border: 2px solid var(--fill-color);\n",
              "    border-color: transparent;\n",
              "    border-bottom-color: var(--fill-color);\n",
              "    animation:\n",
              "      spin 1s steps(1) infinite;\n",
              "  }\n",
              "\n",
              "  @keyframes spin {\n",
              "    0% {\n",
              "      border-color: transparent;\n",
              "      border-bottom-color: var(--fill-color);\n",
              "      border-left-color: var(--fill-color);\n",
              "    }\n",
              "    20% {\n",
              "      border-color: transparent;\n",
              "      border-left-color: var(--fill-color);\n",
              "      border-top-color: var(--fill-color);\n",
              "    }\n",
              "    30% {\n",
              "      border-color: transparent;\n",
              "      border-left-color: var(--fill-color);\n",
              "      border-top-color: var(--fill-color);\n",
              "      border-right-color: var(--fill-color);\n",
              "    }\n",
              "    40% {\n",
              "      border-color: transparent;\n",
              "      border-right-color: var(--fill-color);\n",
              "      border-top-color: var(--fill-color);\n",
              "    }\n",
              "    60% {\n",
              "      border-color: transparent;\n",
              "      border-right-color: var(--fill-color);\n",
              "    }\n",
              "    80% {\n",
              "      border-color: transparent;\n",
              "      border-right-color: var(--fill-color);\n",
              "      border-bottom-color: var(--fill-color);\n",
              "    }\n",
              "    90% {\n",
              "      border-color: transparent;\n",
              "      border-bottom-color: var(--fill-color);\n",
              "    }\n",
              "  }\n",
              "</style>\n",
              "\n",
              "  <script>\n",
              "    async function quickchart(key) {\n",
              "      const quickchartButtonEl =\n",
              "        document.querySelector('#' + key + ' button');\n",
              "      quickchartButtonEl.disabled = true;  // To prevent multiple clicks.\n",
              "      quickchartButtonEl.classList.add('colab-df-spinner');\n",
              "      try {\n",
              "        const charts = await google.colab.kernel.invokeFunction(\n",
              "            'suggestCharts', [key], {});\n",
              "      } catch (error) {\n",
              "        console.error('Error during call to suggestCharts:', error);\n",
              "      }\n",
              "      quickchartButtonEl.classList.remove('colab-df-spinner');\n",
              "      quickchartButtonEl.classList.add('colab-df-quickchart-complete');\n",
              "    }\n",
              "    (() => {\n",
              "      let quickchartButtonEl =\n",
              "        document.querySelector('#df-3e35c5ed-bd05-40e3-a728-626cbd76e595 button');\n",
              "      quickchartButtonEl.style.display =\n",
              "        google.colab.kernel.accessAllowed ? 'block' : 'none';\n",
              "    })();\n",
              "  </script>\n",
              "</div>\n",
              "    </div>\n",
              "  </div>\n"
            ],
            "application/vnd.google.colaboratory.intrinsic+json": {
              "type": "dataframe",
              "variable_name": "housing_data",
              "summary": "{\n  \"name\": \"housing_data\",\n  \"rows\": 545,\n  \"fields\": [\n    {\n      \"column\": \"price\",\n      \"properties\": {\n        \"dtype\": \"number\",\n        \"std\": 1870439,\n        \"min\": 1750000,\n        \"max\": 13300000,\n        \"num_unique_values\": 219,\n        \"samples\": [\n          3773000,\n          5285000,\n          1820000\n        ],\n        \"semantic_type\": \"\",\n        \"description\": \"\"\n      }\n    },\n    {\n      \"column\": \"area\",\n      \"properties\": {\n        \"dtype\": \"number\",\n        \"std\": 2170,\n        \"min\": 1650,\n        \"max\": 16200,\n        \"num_unique_values\": 284,\n        \"samples\": [\n          6000,\n          2684,\n          5360\n        ],\n        \"semantic_type\": \"\",\n        \"description\": \"\"\n      }\n    },\n    {\n      \"column\": \"bedrooms\",\n      \"properties\": {\n        \"dtype\": \"number\",\n        \"std\": 0,\n        \"min\": 1,\n        \"max\": 6,\n        \"num_unique_values\": 6,\n        \"samples\": [\n          4,\n          3,\n          1\n        ],\n        \"semantic_type\": \"\",\n        \"description\": \"\"\n      }\n    },\n    {\n      \"column\": \"bathrooms\",\n      \"properties\": {\n        \"dtype\": \"number\",\n        \"std\": 0,\n        \"min\": 1,\n        \"max\": 4,\n        \"num_unique_values\": 4,\n        \"samples\": [\n          4,\n          3,\n          2\n        ],\n        \"semantic_type\": \"\",\n        \"description\": \"\"\n      }\n    },\n    {\n      \"column\": \"stories\",\n      \"properties\": {\n        \"dtype\": \"number\",\n        \"std\": 0,\n        \"min\": 1,\n        \"max\": 4,\n        \"num_unique_values\": 4,\n        \"samples\": [\n          4,\n          1,\n          3\n        ],\n        \"semantic_type\": \"\",\n        \"description\": \"\"\n      }\n    },\n    {\n      \"column\": \"mainroad\",\n      \"properties\": {\n        \"dtype\": \"category\",\n        \"num_unique_values\": 2,\n        \"samples\": [\n          \"no\",\n          \"yes\"\n        ],\n        \"semantic_type\": \"\",\n        \"description\": \"\"\n      }\n    },\n    {\n      \"column\": \"guestroom\",\n      \"properties\": {\n        \"dtype\": \"category\",\n        \"num_unique_values\": 2,\n        \"samples\": [\n          \"yes\",\n          \"no\"\n        ],\n        \"semantic_type\": \"\",\n        \"description\": \"\"\n      }\n    },\n    {\n      \"column\": \"basement\",\n      \"properties\": {\n        \"dtype\": \"category\",\n        \"num_unique_values\": 2,\n        \"samples\": [\n          \"yes\",\n          \"no\"\n        ],\n        \"semantic_type\": \"\",\n        \"description\": \"\"\n      }\n    },\n    {\n      \"column\": \"hotwaterheating\",\n      \"properties\": {\n        \"dtype\": \"category\",\n        \"num_unique_values\": 2,\n        \"samples\": [\n          \"yes\",\n          \"no\"\n        ],\n        \"semantic_type\": \"\",\n        \"description\": \"\"\n      }\n    },\n    {\n      \"column\": \"airconditioning\",\n      \"properties\": {\n        \"dtype\": \"category\",\n        \"num_unique_values\": 2,\n        \"samples\": [\n          \"no\",\n          \"yes\"\n        ],\n        \"semantic_type\": \"\",\n        \"description\": \"\"\n      }\n    },\n    {\n      \"column\": \"parking\",\n      \"properties\": {\n        \"dtype\": \"number\",\n        \"std\": 0,\n        \"min\": 0,\n        \"max\": 3,\n        \"num_unique_values\": 4,\n        \"samples\": [\n          3,\n          1\n        ],\n        \"semantic_type\": \"\",\n        \"description\": \"\"\n      }\n    },\n    {\n      \"column\": \"prefarea\",\n      \"properties\": {\n        \"dtype\": \"category\",\n        \"num_unique_values\": 2,\n        \"samples\": [\n          \"no\",\n          \"yes\"\n        ],\n        \"semantic_type\": \"\",\n        \"description\": \"\"\n      }\n    },\n    {\n      \"column\": \"furnishingstatus\",\n      \"properties\": {\n        \"dtype\": \"category\",\n        \"num_unique_values\": 3,\n        \"samples\": [\n          \"furnished\",\n          \"semi-furnished\"\n        ],\n        \"semantic_type\": \"\",\n        \"description\": \"\"\n      }\n    }\n  ]\n}"
            }
          },
          "metadata": {},
          "execution_count": 96
        }
      ]
    },
    {
      "cell_type": "code",
      "source": [
        "# Mostrando o tamanho do dataset\n",
        "print(\"Quantidade de linhas do dataset:\", housing_data.shape[0])"
      ],
      "metadata": {
        "colab": {
          "base_uri": "https://localhost:8080/"
        },
        "id": "gyElLtMUQeOU",
        "outputId": "d0abe5a2-d63d-4b58-ddbb-c5d16d067b39"
      },
      "execution_count": null,
      "outputs": [
        {
          "output_type": "stream",
          "name": "stdout",
          "text": [
            "Quantidade de linhas do dataset: 545\n"
          ]
        }
      ]
    },
    {
      "cell_type": "markdown",
      "source": [
        "### Pré-processamento dos dados\n",
        "Nessa etapa as variáveis categóricas vão ser codificadas usando a função LabelEncoder, mas antes disso iremos transformar a coluna furnishingstatus em 3 novas colunas, para captar todos os tipos de ocorrencia do dataset."
      ],
      "metadata": {
        "id": "A5nQcMERSQnv"
      }
    },
    {
      "cell_type": "code",
      "source": [
        "# Aplicar codificação one-hot à coluna 'furnishingstatus'\n",
        "housing_data = pd.get_dummies(housing_data, columns=['furnishingstatus'])"
      ],
      "metadata": {
        "id": "tlL5KC8FYByL"
      },
      "execution_count": null,
      "outputs": []
    },
    {
      "cell_type": "code",
      "source": [
        "label_encoder = LabelEncoder()\n",
        "housing_data['mainroad'] = label_encoder.fit_transform(housing_data['mainroad'])\n",
        "housing_data['guestroom'] = label_encoder.fit_transform(housing_data['guestroom'])\n",
        "housing_data['basement'] = label_encoder.fit_transform(housing_data['basement'])\n",
        "housing_data['hotwaterheating'] = label_encoder.fit_transform(housing_data['hotwaterheating'])\n",
        "housing_data['airconditioning'] = label_encoder.fit_transform(housing_data['airconditioning'])\n",
        "housing_data['prefarea'] = label_encoder.fit_transform(housing_data['prefarea'])\n",
        "housing_data['furnishingstatus_furnished'] = label_encoder.fit_transform(housing_data['furnishingstatus_furnished'])\n",
        "housing_data['furnishingstatus_semi-furnished'] = label_encoder.fit_transform(housing_data['furnishingstatus_semi-furnished'])\n",
        "housing_data['furnishingstatus_unfurnished'] = label_encoder.fit_transform(housing_data['furnishingstatus_unfurnished'])"
      ],
      "metadata": {
        "id": "HZC5UZOoSjxS"
      },
      "execution_count": null,
      "outputs": []
    },
    {
      "cell_type": "code",
      "source": [
        "# Mostrando como ficou o dataset\n",
        "housing_data.head()"
      ],
      "metadata": {
        "colab": {
          "base_uri": "https://localhost:8080/",
          "height": 244
        },
        "id": "NObAkZGbZEfU",
        "outputId": "5ed6caa7-61db-4f9e-bde7-c4199a198f5e"
      },
      "execution_count": null,
      "outputs": [
        {
          "output_type": "execute_result",
          "data": {
            "text/plain": [
              "      price  area  bedrooms  bathrooms  stories  mainroad  guestroom  \\\n",
              "0  13300000  7420         4          2        3         1          0   \n",
              "1  12250000  8960         4          4        4         1          0   \n",
              "2  12250000  9960         3          2        2         1          0   \n",
              "3  12215000  7500         4          2        2         1          0   \n",
              "4  11410000  7420         4          1        2         1          1   \n",
              "\n",
              "   basement  hotwaterheating  airconditioning  parking  prefarea  \\\n",
              "0         0                0                1        2         1   \n",
              "1         0                0                1        3         0   \n",
              "2         1                0                0        2         1   \n",
              "3         1                0                1        3         1   \n",
              "4         1                0                1        2         0   \n",
              "\n",
              "   furnishingstatus_furnished  furnishingstatus_semi-furnished  \\\n",
              "0                           1                                0   \n",
              "1                           1                                0   \n",
              "2                           0                                1   \n",
              "3                           1                                0   \n",
              "4                           1                                0   \n",
              "\n",
              "   furnishingstatus_unfurnished  \n",
              "0                             0  \n",
              "1                             0  \n",
              "2                             0  \n",
              "3                             0  \n",
              "4                             0  "
            ],
            "text/html": [
              "\n",
              "  <div id=\"df-33ec39eb-9b86-403a-8b2c-32320290d1c6\" class=\"colab-df-container\">\n",
              "    <div>\n",
              "<style scoped>\n",
              "    .dataframe tbody tr th:only-of-type {\n",
              "        vertical-align: middle;\n",
              "    }\n",
              "\n",
              "    .dataframe tbody tr th {\n",
              "        vertical-align: top;\n",
              "    }\n",
              "\n",
              "    .dataframe thead th {\n",
              "        text-align: right;\n",
              "    }\n",
              "</style>\n",
              "<table border=\"1\" class=\"dataframe\">\n",
              "  <thead>\n",
              "    <tr style=\"text-align: right;\">\n",
              "      <th></th>\n",
              "      <th>price</th>\n",
              "      <th>area</th>\n",
              "      <th>bedrooms</th>\n",
              "      <th>bathrooms</th>\n",
              "      <th>stories</th>\n",
              "      <th>mainroad</th>\n",
              "      <th>guestroom</th>\n",
              "      <th>basement</th>\n",
              "      <th>hotwaterheating</th>\n",
              "      <th>airconditioning</th>\n",
              "      <th>parking</th>\n",
              "      <th>prefarea</th>\n",
              "      <th>furnishingstatus_furnished</th>\n",
              "      <th>furnishingstatus_semi-furnished</th>\n",
              "      <th>furnishingstatus_unfurnished</th>\n",
              "    </tr>\n",
              "  </thead>\n",
              "  <tbody>\n",
              "    <tr>\n",
              "      <th>0</th>\n",
              "      <td>13300000</td>\n",
              "      <td>7420</td>\n",
              "      <td>4</td>\n",
              "      <td>2</td>\n",
              "      <td>3</td>\n",
              "      <td>1</td>\n",
              "      <td>0</td>\n",
              "      <td>0</td>\n",
              "      <td>0</td>\n",
              "      <td>1</td>\n",
              "      <td>2</td>\n",
              "      <td>1</td>\n",
              "      <td>1</td>\n",
              "      <td>0</td>\n",
              "      <td>0</td>\n",
              "    </tr>\n",
              "    <tr>\n",
              "      <th>1</th>\n",
              "      <td>12250000</td>\n",
              "      <td>8960</td>\n",
              "      <td>4</td>\n",
              "      <td>4</td>\n",
              "      <td>4</td>\n",
              "      <td>1</td>\n",
              "      <td>0</td>\n",
              "      <td>0</td>\n",
              "      <td>0</td>\n",
              "      <td>1</td>\n",
              "      <td>3</td>\n",
              "      <td>0</td>\n",
              "      <td>1</td>\n",
              "      <td>0</td>\n",
              "      <td>0</td>\n",
              "    </tr>\n",
              "    <tr>\n",
              "      <th>2</th>\n",
              "      <td>12250000</td>\n",
              "      <td>9960</td>\n",
              "      <td>3</td>\n",
              "      <td>2</td>\n",
              "      <td>2</td>\n",
              "      <td>1</td>\n",
              "      <td>0</td>\n",
              "      <td>1</td>\n",
              "      <td>0</td>\n",
              "      <td>0</td>\n",
              "      <td>2</td>\n",
              "      <td>1</td>\n",
              "      <td>0</td>\n",
              "      <td>1</td>\n",
              "      <td>0</td>\n",
              "    </tr>\n",
              "    <tr>\n",
              "      <th>3</th>\n",
              "      <td>12215000</td>\n",
              "      <td>7500</td>\n",
              "      <td>4</td>\n",
              "      <td>2</td>\n",
              "      <td>2</td>\n",
              "      <td>1</td>\n",
              "      <td>0</td>\n",
              "      <td>1</td>\n",
              "      <td>0</td>\n",
              "      <td>1</td>\n",
              "      <td>3</td>\n",
              "      <td>1</td>\n",
              "      <td>1</td>\n",
              "      <td>0</td>\n",
              "      <td>0</td>\n",
              "    </tr>\n",
              "    <tr>\n",
              "      <th>4</th>\n",
              "      <td>11410000</td>\n",
              "      <td>7420</td>\n",
              "      <td>4</td>\n",
              "      <td>1</td>\n",
              "      <td>2</td>\n",
              "      <td>1</td>\n",
              "      <td>1</td>\n",
              "      <td>1</td>\n",
              "      <td>0</td>\n",
              "      <td>1</td>\n",
              "      <td>2</td>\n",
              "      <td>0</td>\n",
              "      <td>1</td>\n",
              "      <td>0</td>\n",
              "      <td>0</td>\n",
              "    </tr>\n",
              "  </tbody>\n",
              "</table>\n",
              "</div>\n",
              "    <div class=\"colab-df-buttons\">\n",
              "\n",
              "  <div class=\"colab-df-container\">\n",
              "    <button class=\"colab-df-convert\" onclick=\"convertToInteractive('df-33ec39eb-9b86-403a-8b2c-32320290d1c6')\"\n",
              "            title=\"Convert this dataframe to an interactive table.\"\n",
              "            style=\"display:none;\">\n",
              "\n",
              "  <svg xmlns=\"http://www.w3.org/2000/svg\" height=\"24px\" viewBox=\"0 -960 960 960\">\n",
              "    <path d=\"M120-120v-720h720v720H120Zm60-500h600v-160H180v160Zm220 220h160v-160H400v160Zm0 220h160v-160H400v160ZM180-400h160v-160H180v160Zm440 0h160v-160H620v160ZM180-180h160v-160H180v160Zm440 0h160v-160H620v160Z\"/>\n",
              "  </svg>\n",
              "    </button>\n",
              "\n",
              "  <style>\n",
              "    .colab-df-container {\n",
              "      display:flex;\n",
              "      gap: 12px;\n",
              "    }\n",
              "\n",
              "    .colab-df-convert {\n",
              "      background-color: #E8F0FE;\n",
              "      border: none;\n",
              "      border-radius: 50%;\n",
              "      cursor: pointer;\n",
              "      display: none;\n",
              "      fill: #1967D2;\n",
              "      height: 32px;\n",
              "      padding: 0 0 0 0;\n",
              "      width: 32px;\n",
              "    }\n",
              "\n",
              "    .colab-df-convert:hover {\n",
              "      background-color: #E2EBFA;\n",
              "      box-shadow: 0px 1px 2px rgba(60, 64, 67, 0.3), 0px 1px 3px 1px rgba(60, 64, 67, 0.15);\n",
              "      fill: #174EA6;\n",
              "    }\n",
              "\n",
              "    .colab-df-buttons div {\n",
              "      margin-bottom: 4px;\n",
              "    }\n",
              "\n",
              "    [theme=dark] .colab-df-convert {\n",
              "      background-color: #3B4455;\n",
              "      fill: #D2E3FC;\n",
              "    }\n",
              "\n",
              "    [theme=dark] .colab-df-convert:hover {\n",
              "      background-color: #434B5C;\n",
              "      box-shadow: 0px 1px 3px 1px rgba(0, 0, 0, 0.15);\n",
              "      filter: drop-shadow(0px 1px 2px rgba(0, 0, 0, 0.3));\n",
              "      fill: #FFFFFF;\n",
              "    }\n",
              "  </style>\n",
              "\n",
              "    <script>\n",
              "      const buttonEl =\n",
              "        document.querySelector('#df-33ec39eb-9b86-403a-8b2c-32320290d1c6 button.colab-df-convert');\n",
              "      buttonEl.style.display =\n",
              "        google.colab.kernel.accessAllowed ? 'block' : 'none';\n",
              "\n",
              "      async function convertToInteractive(key) {\n",
              "        const element = document.querySelector('#df-33ec39eb-9b86-403a-8b2c-32320290d1c6');\n",
              "        const dataTable =\n",
              "          await google.colab.kernel.invokeFunction('convertToInteractive',\n",
              "                                                    [key], {});\n",
              "        if (!dataTable) return;\n",
              "\n",
              "        const docLinkHtml = 'Like what you see? Visit the ' +\n",
              "          '<a target=\"_blank\" href=https://colab.research.google.com/notebooks/data_table.ipynb>data table notebook</a>'\n",
              "          + ' to learn more about interactive tables.';\n",
              "        element.innerHTML = '';\n",
              "        dataTable['output_type'] = 'display_data';\n",
              "        await google.colab.output.renderOutput(dataTable, element);\n",
              "        const docLink = document.createElement('div');\n",
              "        docLink.innerHTML = docLinkHtml;\n",
              "        element.appendChild(docLink);\n",
              "      }\n",
              "    </script>\n",
              "  </div>\n",
              "\n",
              "\n",
              "<div id=\"df-5eea298c-6539-49eb-bd57-88589cde2048\">\n",
              "  <button class=\"colab-df-quickchart\" onclick=\"quickchart('df-5eea298c-6539-49eb-bd57-88589cde2048')\"\n",
              "            title=\"Suggest charts\"\n",
              "            style=\"display:none;\">\n",
              "\n",
              "<svg xmlns=\"http://www.w3.org/2000/svg\" height=\"24px\"viewBox=\"0 0 24 24\"\n",
              "     width=\"24px\">\n",
              "    <g>\n",
              "        <path d=\"M19 3H5c-1.1 0-2 .9-2 2v14c0 1.1.9 2 2 2h14c1.1 0 2-.9 2-2V5c0-1.1-.9-2-2-2zM9 17H7v-7h2v7zm4 0h-2V7h2v10zm4 0h-2v-4h2v4z\"/>\n",
              "    </g>\n",
              "</svg>\n",
              "  </button>\n",
              "\n",
              "<style>\n",
              "  .colab-df-quickchart {\n",
              "      --bg-color: #E8F0FE;\n",
              "      --fill-color: #1967D2;\n",
              "      --hover-bg-color: #E2EBFA;\n",
              "      --hover-fill-color: #174EA6;\n",
              "      --disabled-fill-color: #AAA;\n",
              "      --disabled-bg-color: #DDD;\n",
              "  }\n",
              "\n",
              "  [theme=dark] .colab-df-quickchart {\n",
              "      --bg-color: #3B4455;\n",
              "      --fill-color: #D2E3FC;\n",
              "      --hover-bg-color: #434B5C;\n",
              "      --hover-fill-color: #FFFFFF;\n",
              "      --disabled-bg-color: #3B4455;\n",
              "      --disabled-fill-color: #666;\n",
              "  }\n",
              "\n",
              "  .colab-df-quickchart {\n",
              "    background-color: var(--bg-color);\n",
              "    border: none;\n",
              "    border-radius: 50%;\n",
              "    cursor: pointer;\n",
              "    display: none;\n",
              "    fill: var(--fill-color);\n",
              "    height: 32px;\n",
              "    padding: 0;\n",
              "    width: 32px;\n",
              "  }\n",
              "\n",
              "  .colab-df-quickchart:hover {\n",
              "    background-color: var(--hover-bg-color);\n",
              "    box-shadow: 0 1px 2px rgba(60, 64, 67, 0.3), 0 1px 3px 1px rgba(60, 64, 67, 0.15);\n",
              "    fill: var(--button-hover-fill-color);\n",
              "  }\n",
              "\n",
              "  .colab-df-quickchart-complete:disabled,\n",
              "  .colab-df-quickchart-complete:disabled:hover {\n",
              "    background-color: var(--disabled-bg-color);\n",
              "    fill: var(--disabled-fill-color);\n",
              "    box-shadow: none;\n",
              "  }\n",
              "\n",
              "  .colab-df-spinner {\n",
              "    border: 2px solid var(--fill-color);\n",
              "    border-color: transparent;\n",
              "    border-bottom-color: var(--fill-color);\n",
              "    animation:\n",
              "      spin 1s steps(1) infinite;\n",
              "  }\n",
              "\n",
              "  @keyframes spin {\n",
              "    0% {\n",
              "      border-color: transparent;\n",
              "      border-bottom-color: var(--fill-color);\n",
              "      border-left-color: var(--fill-color);\n",
              "    }\n",
              "    20% {\n",
              "      border-color: transparent;\n",
              "      border-left-color: var(--fill-color);\n",
              "      border-top-color: var(--fill-color);\n",
              "    }\n",
              "    30% {\n",
              "      border-color: transparent;\n",
              "      border-left-color: var(--fill-color);\n",
              "      border-top-color: var(--fill-color);\n",
              "      border-right-color: var(--fill-color);\n",
              "    }\n",
              "    40% {\n",
              "      border-color: transparent;\n",
              "      border-right-color: var(--fill-color);\n",
              "      border-top-color: var(--fill-color);\n",
              "    }\n",
              "    60% {\n",
              "      border-color: transparent;\n",
              "      border-right-color: var(--fill-color);\n",
              "    }\n",
              "    80% {\n",
              "      border-color: transparent;\n",
              "      border-right-color: var(--fill-color);\n",
              "      border-bottom-color: var(--fill-color);\n",
              "    }\n",
              "    90% {\n",
              "      border-color: transparent;\n",
              "      border-bottom-color: var(--fill-color);\n",
              "    }\n",
              "  }\n",
              "</style>\n",
              "\n",
              "  <script>\n",
              "    async function quickchart(key) {\n",
              "      const quickchartButtonEl =\n",
              "        document.querySelector('#' + key + ' button');\n",
              "      quickchartButtonEl.disabled = true;  // To prevent multiple clicks.\n",
              "      quickchartButtonEl.classList.add('colab-df-spinner');\n",
              "      try {\n",
              "        const charts = await google.colab.kernel.invokeFunction(\n",
              "            'suggestCharts', [key], {});\n",
              "      } catch (error) {\n",
              "        console.error('Error during call to suggestCharts:', error);\n",
              "      }\n",
              "      quickchartButtonEl.classList.remove('colab-df-spinner');\n",
              "      quickchartButtonEl.classList.add('colab-df-quickchart-complete');\n",
              "    }\n",
              "    (() => {\n",
              "      let quickchartButtonEl =\n",
              "        document.querySelector('#df-5eea298c-6539-49eb-bd57-88589cde2048 button');\n",
              "      quickchartButtonEl.style.display =\n",
              "        google.colab.kernel.accessAllowed ? 'block' : 'none';\n",
              "    })();\n",
              "  </script>\n",
              "</div>\n",
              "    </div>\n",
              "  </div>\n"
            ],
            "application/vnd.google.colaboratory.intrinsic+json": {
              "type": "dataframe",
              "variable_name": "housing_data",
              "summary": "{\n  \"name\": \"housing_data\",\n  \"rows\": 545,\n  \"fields\": [\n    {\n      \"column\": \"price\",\n      \"properties\": {\n        \"dtype\": \"number\",\n        \"std\": 1870439,\n        \"min\": 1750000,\n        \"max\": 13300000,\n        \"num_unique_values\": 219,\n        \"samples\": [\n          3773000,\n          5285000,\n          1820000\n        ],\n        \"semantic_type\": \"\",\n        \"description\": \"\"\n      }\n    },\n    {\n      \"column\": \"area\",\n      \"properties\": {\n        \"dtype\": \"number\",\n        \"std\": 2170,\n        \"min\": 1650,\n        \"max\": 16200,\n        \"num_unique_values\": 284,\n        \"samples\": [\n          6000,\n          2684,\n          5360\n        ],\n        \"semantic_type\": \"\",\n        \"description\": \"\"\n      }\n    },\n    {\n      \"column\": \"bedrooms\",\n      \"properties\": {\n        \"dtype\": \"number\",\n        \"std\": 0,\n        \"min\": 1,\n        \"max\": 6,\n        \"num_unique_values\": 6,\n        \"samples\": [\n          4,\n          3,\n          1\n        ],\n        \"semantic_type\": \"\",\n        \"description\": \"\"\n      }\n    },\n    {\n      \"column\": \"bathrooms\",\n      \"properties\": {\n        \"dtype\": \"number\",\n        \"std\": 0,\n        \"min\": 1,\n        \"max\": 4,\n        \"num_unique_values\": 4,\n        \"samples\": [\n          4,\n          3,\n          2\n        ],\n        \"semantic_type\": \"\",\n        \"description\": \"\"\n      }\n    },\n    {\n      \"column\": \"stories\",\n      \"properties\": {\n        \"dtype\": \"number\",\n        \"std\": 0,\n        \"min\": 1,\n        \"max\": 4,\n        \"num_unique_values\": 4,\n        \"samples\": [\n          4,\n          1,\n          3\n        ],\n        \"semantic_type\": \"\",\n        \"description\": \"\"\n      }\n    },\n    {\n      \"column\": \"mainroad\",\n      \"properties\": {\n        \"dtype\": \"number\",\n        \"std\": 0,\n        \"min\": 0,\n        \"max\": 1,\n        \"num_unique_values\": 2,\n        \"samples\": [\n          0,\n          1\n        ],\n        \"semantic_type\": \"\",\n        \"description\": \"\"\n      }\n    },\n    {\n      \"column\": \"guestroom\",\n      \"properties\": {\n        \"dtype\": \"number\",\n        \"std\": 0,\n        \"min\": 0,\n        \"max\": 1,\n        \"num_unique_values\": 2,\n        \"samples\": [\n          1,\n          0\n        ],\n        \"semantic_type\": \"\",\n        \"description\": \"\"\n      }\n    },\n    {\n      \"column\": \"basement\",\n      \"properties\": {\n        \"dtype\": \"number\",\n        \"std\": 0,\n        \"min\": 0,\n        \"max\": 1,\n        \"num_unique_values\": 2,\n        \"samples\": [\n          1,\n          0\n        ],\n        \"semantic_type\": \"\",\n        \"description\": \"\"\n      }\n    },\n    {\n      \"column\": \"hotwaterheating\",\n      \"properties\": {\n        \"dtype\": \"number\",\n        \"std\": 0,\n        \"min\": 0,\n        \"max\": 1,\n        \"num_unique_values\": 2,\n        \"samples\": [\n          1,\n          0\n        ],\n        \"semantic_type\": \"\",\n        \"description\": \"\"\n      }\n    },\n    {\n      \"column\": \"airconditioning\",\n      \"properties\": {\n        \"dtype\": \"number\",\n        \"std\": 0,\n        \"min\": 0,\n        \"max\": 1,\n        \"num_unique_values\": 2,\n        \"samples\": [\n          0,\n          1\n        ],\n        \"semantic_type\": \"\",\n        \"description\": \"\"\n      }\n    },\n    {\n      \"column\": \"parking\",\n      \"properties\": {\n        \"dtype\": \"number\",\n        \"std\": 0,\n        \"min\": 0,\n        \"max\": 3,\n        \"num_unique_values\": 4,\n        \"samples\": [\n          3,\n          1\n        ],\n        \"semantic_type\": \"\",\n        \"description\": \"\"\n      }\n    },\n    {\n      \"column\": \"prefarea\",\n      \"properties\": {\n        \"dtype\": \"number\",\n        \"std\": 0,\n        \"min\": 0,\n        \"max\": 1,\n        \"num_unique_values\": 2,\n        \"samples\": [\n          0,\n          1\n        ],\n        \"semantic_type\": \"\",\n        \"description\": \"\"\n      }\n    },\n    {\n      \"column\": \"furnishingstatus_furnished\",\n      \"properties\": {\n        \"dtype\": \"number\",\n        \"std\": 0,\n        \"min\": 0,\n        \"max\": 1,\n        \"num_unique_values\": 2,\n        \"samples\": [\n          0,\n          1\n        ],\n        \"semantic_type\": \"\",\n        \"description\": \"\"\n      }\n    },\n    {\n      \"column\": \"furnishingstatus_semi-furnished\",\n      \"properties\": {\n        \"dtype\": \"number\",\n        \"std\": 0,\n        \"min\": 0,\n        \"max\": 1,\n        \"num_unique_values\": 2,\n        \"samples\": [\n          1,\n          0\n        ],\n        \"semantic_type\": \"\",\n        \"description\": \"\"\n      }\n    },\n    {\n      \"column\": \"furnishingstatus_unfurnished\",\n      \"properties\": {\n        \"dtype\": \"number\",\n        \"std\": 0,\n        \"min\": 0,\n        \"max\": 1,\n        \"num_unique_values\": 2,\n        \"samples\": [\n          1,\n          0\n        ],\n        \"semantic_type\": \"\",\n        \"description\": \"\"\n      }\n    }\n  ]\n}"
            }
          },
          "metadata": {},
          "execution_count": 100
        }
      ]
    },
    {
      "cell_type": "markdown",
      "source": [
        "### Dividindo os dados em dados para treinamento e dados para teste"
      ],
      "metadata": {
        "id": "aG4_aiotS2BU"
      }
    },
    {
      "cell_type": "code",
      "source": [
        "# Dividir os dados em conjunto de treinamento e teste\n",
        "X = housing_data.drop(columns=['price'])\n",
        "y = housing_data['price']\n",
        "X_train, X_test, y_train, y_test = train_test_split(X, y, test_size=0.2, random_state=10)\n",
        "\n",
        "# Verificando conjuntos de treinamento e teste\n",
        "print(\"Conjunto de Treinamento - X:\", X_train.shape, \" y:\", y_train.shape)\n",
        "print(\"Conjunto de Teste - X:\", X_test.shape, \" y:\", y_test.shape)"
      ],
      "metadata": {
        "colab": {
          "base_uri": "https://localhost:8080/"
        },
        "id": "wnPWMjM_SrkR",
        "outputId": "ab449e5e-1bfe-47f2-b49d-526c6d58bed7"
      },
      "execution_count": null,
      "outputs": [
        {
          "output_type": "stream",
          "name": "stdout",
          "text": [
            "Conjunto de Treinamento - X: (436, 14)  y: (436,)\n",
            "Conjunto de Teste - X: (109, 14)  y: (109,)\n"
          ]
        }
      ]
    },
    {
      "cell_type": "markdown",
      "source": [
        "### Criando modelo\n",
        "Para criar o modelo, iremos usar o n_estimators = 1000, que seria o número de árvores geradas."
      ],
      "metadata": {
        "id": "wWn5NEOqUW_z"
      }
    },
    {
      "cell_type": "code",
      "source": [
        "# Inicializar e treinar o modelo Random Forest\n",
        "random_forest = RandomForestRegressor(n_estimators=1000, random_state=10)\n",
        "random_forest.fit(X_train, y_train)\n",
        "\n",
        "# Fazer previsões no conjunto de teste\n",
        "y_pred = random_forest.predict(X_test)"
      ],
      "metadata": {
        "id": "tSkkc_dGUVKk"
      },
      "execution_count": null,
      "outputs": []
    },
    {
      "cell_type": "markdown",
      "source": [
        "### Verificando eficácia do modelo"
      ],
      "metadata": {
        "id": "6TweGNmvU4mU"
      }
    },
    {
      "cell_type": "code",
      "source": [
        "mse = mean_squared_error(y_test, y_pred)\n",
        "r2 = r2_score(y_test, y_pred)\n",
        "print(\"Erro Quadrático Médio (MSE):\", mse)\n",
        "print(\"Coeficiente de Determinação (R2 Score):\", r2)"
      ],
      "metadata": {
        "colab": {
          "base_uri": "https://localhost:8080/"
        },
        "id": "DdrfR2XPU8pu",
        "outputId": "ad6df7e8-93a4-4ac1-a7b7-6a4f670aecd6"
      },
      "execution_count": null,
      "outputs": [
        {
          "output_type": "stream",
          "name": "stdout",
          "text": [
            "Erro Quadrático Médio (MSE): 1015351148916.8893\n",
            "Coeficiente de Determinação (R2 Score): 0.6388809945945167\n"
          ]
        }
      ]
    },
    {
      "cell_type": "markdown",
      "source": [
        "### Caso teste"
      ],
      "metadata": {
        "id": "4g0jwZpyfoqM"
      }
    },
    {
      "cell_type": "code",
      "source": [
        "# Suponha que você tenha as características de um novo imóvel\n",
        "test_house = {\n",
        "    'area': 500,\n",
        "    'bedrooms': 2,\n",
        "    'bathrooms': 1,\n",
        "    'stories': 0,\n",
        "    'mainroad': 'no',\n",
        "    'guestroom': 'no',\n",
        "    'basement': 'no',\n",
        "    'hotwaterheating': 'no',\n",
        "    'airconditioning': 'yes',\n",
        "    'parking': 1,\n",
        "    'prefarea': 'no',\n",
        "    'furnishingstatus_furnished' : '1',\n",
        "    'furnishingstatus_semi-furnished' : '0',\n",
        "    'furnishingstatus_unfurnished' : '0'\n",
        "}\n",
        "\n",
        "# Codificar variáveis categóricas\n",
        "for feature in ['mainroad', 'guestroom', 'basement', 'hotwaterheating', 'airconditioning', 'prefarea', 'furnishingstatus_furnished','furnishingstatus_semi-furnished','furnishingstatus_unfurnished']:\n",
        "    if feature in test_house:\n",
        "        test_house[feature] = label_encoder.transform([test_house[feature]])[0]\n",
        "\n",
        "# Criar um DataFrame com os dados do novo imóvel\n",
        "test_house_df = pd.DataFrame([test_house])\n",
        "\n",
        "# Fazer a predição do preço do novo imóvel\n",
        "predicted_price = random_forest.predict(test_house_df)\n",
        "\n",
        "print(\"Preço previsto do novo imóvel:\", predicted_price[0])"
      ],
      "metadata": {
        "colab": {
          "base_uri": "https://localhost:8080/"
        },
        "id": "2yZyQKQxfrf6",
        "outputId": "e5bd45e6-fc54-4986-dd5b-a0a00ced56fa"
      },
      "execution_count": null,
      "outputs": [
        {
          "output_type": "stream",
          "name": "stdout",
          "text": [
            "Preço previsto do novo imóvel: 3873554.65\n"
          ]
        }
      ]
    }
  ]
}